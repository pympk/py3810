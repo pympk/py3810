{
 "cells": [
  {
   "cell_type": "code",
   "execution_count": 1,
   "metadata": {},
   "outputs": [],
   "source": [
    "import yfinance as yf\n",
    "from myUtils import read_symbols_file, yf_print_symbol_data, yf_candlestick, pickle_load\n",
    "path_dir = \"C:/Users/ping/Desktop/my_yfinance/\"\n",
    "path_data_dump = path_dir + \"VSCode_dump/\"\n",
    "path_symbols_file = path_dir + \"source/\""
   ]
  },
  {
   "cell_type": "code",
   "execution_count": null,
   "metadata": {},
   "outputs": [],
   "source": [
    "# # filename_symbols = path_symbols_file + \"test_symbols_no_XOM.txt\"  # symbols text file\n",
    "# filename_symbols = path_symbols_file + \"syms.txt\"  # symbols text file\n",
    "# symbols_in_file = read_symbols_file(filename_symbols)\n",
    "# symbols = symbols_in_file"
   ]
  },
  {
   "cell_type": "code",
   "execution_count": null,
   "metadata": {},
   "outputs": [],
   "source": [
    "# symbols"
   ]
  },
  {
   "cell_type": "code",
   "execution_count": null,
   "metadata": {},
   "outputs": [],
   "source": [
    "# https://superuser.com/questions/1434198/python-how-to-put-double-quotes-for-values-in-a-list\n",
    "input_str = '[INSW,STNG,TPL]'\n",
    "'['+','.join(['\"'+x+'\"' for x in input_str[1:-1].split(',')])+']'"
   ]
  },
  {
   "cell_type": "code",
   "execution_count": 2,
   "metadata": {},
   "outputs": [],
   "source": [
    "# # # use to over-ride symbols\n",
    "# symbols = [\"EQNR\",\"ARLP\",\"OXY\",\"VET\",\"NFE\",\"LNTH\",\"CF\",\"INSW\",\"STNG\",\"TPL\"]\n",
    "symbols = [\"ARLP\"]"
   ]
  },
  {
   "cell_type": "code",
   "execution_count": null,
   "metadata": {},
   "outputs": [],
   "source": [
    "# # symbols with highest revenueGrowth is LAST in list (for plotting)\n",
    "# symbols = pickle_load(path_data_dump, 'symbols_52wkHi')\n",
    "# symbols\n"
   ]
  },
  {
   "cell_type": "code",
   "execution_count": 16,
   "metadata": {},
   "outputs": [
    {
     "data": {
      "text/html": [
       "<div>\n",
       "<style scoped>\n",
       "    .dataframe tbody tr th:only-of-type {\n",
       "        vertical-align: middle;\n",
       "    }\n",
       "\n",
       "    .dataframe tbody tr th {\n",
       "        vertical-align: top;\n",
       "    }\n",
       "\n",
       "    .dataframe thead th {\n",
       "        text-align: right;\n",
       "    }\n",
       "</style>\n",
       "<table border=\"1\" class=\"dataframe\">\n",
       "  <thead>\n",
       "    <tr style=\"text-align: right;\">\n",
       "      <th></th>\n",
       "      <th>Open</th>\n",
       "      <th>High</th>\n",
       "      <th>Low</th>\n",
       "      <th>Close</th>\n",
       "      <th>Volume</th>\n",
       "      <th>Dividends</th>\n",
       "      <th>Stock Splits</th>\n",
       "    </tr>\n",
       "    <tr>\n",
       "      <th>Date</th>\n",
       "      <th></th>\n",
       "      <th></th>\n",
       "      <th></th>\n",
       "      <th></th>\n",
       "      <th></th>\n",
       "      <th></th>\n",
       "      <th></th>\n",
       "    </tr>\n",
       "  </thead>\n",
       "  <tbody>\n",
       "    <tr>\n",
       "      <th>2022-08-31</th>\n",
       "      <td>25.49</td>\n",
       "      <td>26.549999</td>\n",
       "      <td>25.010000</td>\n",
       "      <td>26.340000</td>\n",
       "      <td>609200</td>\n",
       "      <td>0</td>\n",
       "      <td>0</td>\n",
       "    </tr>\n",
       "    <tr>\n",
       "      <th>2022-09-01</th>\n",
       "      <td>26.01</td>\n",
       "      <td>26.270000</td>\n",
       "      <td>24.820000</td>\n",
       "      <td>24.990000</td>\n",
       "      <td>753200</td>\n",
       "      <td>0</td>\n",
       "      <td>0</td>\n",
       "    </tr>\n",
       "    <tr>\n",
       "      <th>2022-09-02</th>\n",
       "      <td>25.35</td>\n",
       "      <td>25.969999</td>\n",
       "      <td>24.809999</td>\n",
       "      <td>25.650000</td>\n",
       "      <td>665800</td>\n",
       "      <td>0</td>\n",
       "      <td>0</td>\n",
       "    </tr>\n",
       "    <tr>\n",
       "      <th>2022-09-06</th>\n",
       "      <td>26.17</td>\n",
       "      <td>26.879999</td>\n",
       "      <td>25.629999</td>\n",
       "      <td>26.000000</td>\n",
       "      <td>866200</td>\n",
       "      <td>0</td>\n",
       "      <td>0</td>\n",
       "    </tr>\n",
       "    <tr>\n",
       "      <th>2022-09-07</th>\n",
       "      <td>25.60</td>\n",
       "      <td>25.924299</td>\n",
       "      <td>24.870001</td>\n",
       "      <td>25.299999</td>\n",
       "      <td>459944</td>\n",
       "      <td>0</td>\n",
       "      <td>0</td>\n",
       "    </tr>\n",
       "  </tbody>\n",
       "</table>\n",
       "</div>"
      ],
      "text/plain": [
       "             Open       High        Low      Close  Volume  Dividends  \\\n",
       "Date                                                                    \n",
       "2022-08-31  25.49  26.549999  25.010000  26.340000  609200          0   \n",
       "2022-09-01  26.01  26.270000  24.820000  24.990000  753200          0   \n",
       "2022-09-02  25.35  25.969999  24.809999  25.650000  665800          0   \n",
       "2022-09-06  26.17  26.879999  25.629999  26.000000  866200          0   \n",
       "2022-09-07  25.60  25.924299  24.870001  25.299999  459944          0   \n",
       "\n",
       "            Stock Splits  \n",
       "Date                      \n",
       "2022-08-31             0  \n",
       "2022-09-01             0  \n",
       "2022-09-02             0  \n",
       "2022-09-06             0  \n",
       "2022-09-07             0  "
      ]
     },
     "execution_count": 16,
     "metadata": {},
     "output_type": "execute_result"
    }
   ],
   "source": [
    "df = yf.Ticker(\"ARLP\").history()\n",
    "df.tail()"
   ]
  },
  {
   "cell_type": "code",
   "execution_count": 3,
   "metadata": {},
   "outputs": [],
   "source": [
    "# plot symbols\n",
    "plot_days = '252d'\n",
    "for symbol in symbols:\n",
    "  # yf.Ticker OHLC are adjusted correctly\n",
    "  df = yf.Ticker(symbol).history(period=plot_days)\n",
    "  df.drop(['Dividends', 'Stock Splits'], axis=1, inplace=True)  # drop Div. and Stock Splits columns\n",
    "  df.columns = ['open', 'high', 'low', 'close', 'volume']  # rename columns Open ... Volume to open ... volume\n",
    "  cache_plot = yf_candlestick(symbol, df, plot_chart=True)"
   ]
  },
  {
   "cell_type": "code",
   "execution_count": 5,
   "metadata": {},
   "outputs": [],
   "source": [
    "df.to_csv('C:/Users/ping/Desktop/A_yf.csv')"
   ]
  },
  {
   "cell_type": "code",
   "execution_count": null,
   "metadata": {},
   "outputs": [],
   "source": [
    "# print symbols data\n",
    "cache_print = yf_print_symbol_data(symbols)\n",
    "# reversed_symbols = list(reversed(symbols))\n",
    "# cache_print = yf_print_symbol_data(reversed_symbols)  # symbols_52wkHi, highest revenueGrowth is FIRST"
   ]
  },
  {
   "cell_type": "code",
   "execution_count": null,
   "metadata": {},
   "outputs": [],
   "source": [
    "df"
   ]
  }
 ],
 "metadata": {
  "kernelspec": {
   "display_name": "Python 3.7.9 ('.venv': poetry)",
   "language": "python",
   "name": "python3"
  },
  "language_info": {
   "codemirror_mode": {
    "name": "ipython",
    "version": 3
   },
   "file_extension": ".py",
   "mimetype": "text/x-python",
   "name": "python",
   "nbconvert_exporter": "python",
   "pygments_lexer": "ipython3",
   "version": "3.7.9"
  },
  "orig_nbformat": 4,
  "vscode": {
   "interpreter": {
    "hash": "55a3812d65f91e7e7447da6b5cfc60716e82f91e6a92533fb27b46796ad1962a"
   }
  }
 },
 "nbformat": 4,
 "nbformat_minor": 2
}
