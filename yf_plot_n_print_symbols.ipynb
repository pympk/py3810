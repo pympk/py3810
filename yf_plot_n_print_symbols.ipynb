{
 "cells": [
  {
   "cell_type": "code",
   "execution_count": 8,
   "metadata": {},
   "outputs": [],
   "source": [
    "# https://dpguthrie-yahooquery-streamlit-app-eydpjo.streamlit.app/\n",
    "# https://pypi.org/project/yahooquery/2.3.1/\n",
    "# https://stackoverflow.com/questions/75528839/how-to-fetch-and-filter-data-retrieved-from-yahooquery\n",
    "# https://towardsdatascience.com/the-unofficial-yahoo-finance-api-32dcf5d53df\n",
    "\n",
    "# calculate Return on Invested Capital (ROIC)\n",
    "# https://www.investopedia.com/terms/r/returnoninvestmentcapital.asp"
   ]
  },
  {
   "cell_type": "code",
   "execution_count": 9,
   "metadata": {
    "execution": {
     "iopub.execute_input": "2023-04-04T04:37:07.619080Z",
     "iopub.status.busy": "2023-04-04T04:37:07.618080Z",
     "iopub.status.idle": "2023-04-04T04:37:07.656080Z",
     "shell.execute_reply": "2023-04-04T04:37:07.654081Z"
    }
   },
   "outputs": [],
   "source": [
    "import yfinance as yf\n",
    "import pandas as pd\n",
    "from yahooquery import Ticker as yqTicker\n",
    "from myUtils import pickle_load \n",
    "from myUtils import yf_print_symbol_data, yf_candlestick\n",
    "\n",
    "verbose = False  # True prints more output\n",
    "\n",
    "path_dir = \"C:/Users/ping/MyDrive/stocks/yfinance/\"\n",
    "path_data_dump = path_dir + \"VSCode_dump/\"\n",
    "\n",
    "filename_pickled_df_OHLCVA_downloaded = 'df_OHLCVA_downloaded '  # OHLCVA downloaded from Yahoo\n",
    "filename_pickled_df_adjOHLCV = 'df_adjOHLCV'  # adjusted OHLCV"
   ]
  },
  {
   "cell_type": "code",
   "execution_count": 16,
   "metadata": {},
   "outputs": [],
   "source": [
    "my_symbol = ['ELF', 'NVDA']\n",
    "yq_sym = yqTicker(my_symbol).all_modules"
   ]
  },
  {
   "cell_type": "code",
   "execution_count": 17,
   "metadata": {},
   "outputs": [
    {
     "data": {
      "text/plain": [
       "['ELF', 'NVDA']"
      ]
     },
     "execution_count": 17,
     "metadata": {},
     "output_type": "execute_result"
    }
   ],
   "source": [
    "list(yq_sym.keys())  # list of symbols"
   ]
  },
  {
   "cell_type": "code",
   "execution_count": 20,
   "metadata": {},
   "outputs": [
    {
     "data": {
      "text/plain": [
       "['assetProfile',\n",
       " 'recommendationTrend',\n",
       " 'cashflowStatementHistory',\n",
       " 'indexTrend',\n",
       " 'defaultKeyStatistics',\n",
       " 'industryTrend',\n",
       " 'quoteType',\n",
       " 'incomeStatementHistory',\n",
       " 'fundOwnership',\n",
       " 'summaryDetail',\n",
       " 'insiderHolders',\n",
       " 'calendarEvents',\n",
       " 'upgradeDowngradeHistory',\n",
       " 'price',\n",
       " 'balanceSheetHistory',\n",
       " 'earningsTrend',\n",
       " 'secFilings',\n",
       " 'institutionOwnership',\n",
       " 'majorHoldersBreakdown',\n",
       " 'balanceSheetHistoryQuarterly',\n",
       " 'earningsHistory',\n",
       " 'summaryProfile',\n",
       " 'netSharePurchaseActivity',\n",
       " 'insiderTransactions',\n",
       " 'sectorTrend',\n",
       " 'incomeStatementHistoryQuarterly',\n",
       " 'cashflowStatementHistoryQuarterly',\n",
       " 'earnings',\n",
       " 'pageViews',\n",
       " 'financialData']"
      ]
     },
     "execution_count": 20,
     "metadata": {},
     "output_type": "execute_result"
    }
   ],
   "source": [
    "# list of dicts of symbols' modules, dict of 1st symbol's modules is modules[0]  \n",
    "symbols_modules = list(yq_sym.values())  \n",
    "list(symbols_modules[0].keys())"
   ]
  },
  {
   "cell_type": "code",
   "execution_count": 22,
   "metadata": {},
   "outputs": [],
   "source": [
    "type(symbols_modules[0])\n",
    "\n",
    "sym_nested_dict = symbols_modules[0]"
   ]
  },
  {
   "cell_type": "code",
   "execution_count": 27,
   "metadata": {},
   "outputs": [],
   "source": [
    "# https://stackoverflow.com/questions/48621973/accessing-key-value-in-a-nested-dictionary\n",
    "def get_k_v_of_inner(nested_dict):\n",
    "    for k, v in nested_dict.items():\n",
    "        if isinstance(v, dict):\n",
    "            for k_nested, v_nested in v.items():\n",
    "                yield {k : {k_nested : v_nested}}\n",
    "        else:\n",
    "            # do_something, or simply ignore if not nested dict.\n",
    "            pass\n",
    "\n",
    "# gen = get_k_v_of_inner(sym_nested_dict)"
   ]
  },
  {
   "cell_type": "code",
   "execution_count": 75,
   "metadata": {},
   "outputs": [
    {
     "name": "stdout",
     "output_type": "stream",
     "text": [
      "0     assetProfile                     {'address1': '570 10th Street'}                             \n",
      "1                                      {'city': 'Oakland'}                                         \n",
      "2                                      {'state': 'CA'}                                             \n",
      "3                                      {'zip': '94607'}                                            \n",
      "4                                      {'country': 'United States'}                                \n",
      "5                                      {'phone': '510 778 7787'}                                   \n",
      "6                                      {'website': 'https://www.elfcosmetics.com'}                 \n",
      "7                                      {'industry': 'Household & Personal Products'}               \n",
      "8                                      {'sector': 'Consumer Defensive'}                            \n",
      "9                                      {'longBusinessSummary': 'e.l.f. Beauty, Inc., together with its subsidiarie..\n",
      "10                                     {'fullTimeEmployees': 303}                                  \n",
      "11                                     {'companyOfficers': [{'maxAge': 1, 'name': 'Mr. Tarang P. Amin', 'age': 57,..\n",
      "12                                     {'auditRisk': 5}                                            \n",
      "13                                     {'boardRisk': 7}                                            \n",
      "14                                     {'compensationRisk': 7}                                     \n",
      "15                                     {'shareHolderRightsRisk': 8}                                \n",
      "16                                     {'overallRisk': 7}                                          \n",
      "17                                     {'governanceEpochDate': '2023-03-31 17:00:00'}              \n",
      "18                                     {'compensationAsOfEpochDate': '2022-12-30 16:00:00'}        \n",
      "19                                     {'maxAge': 86400}                                           \n",
      "20    recommendationTrend              {'trend': [{'period': '0m', 'strongBuy': 4, 'buy': 3, 'hold': 5, 'sell': 0,..\n",
      "21                                     {'maxAge': 86400}                                           \n",
      "22    cashflowStatementHistory         {'cashflowStatements': [{'maxAge': 1, 'endDate': '2022-03-31', 'netIncome':..\n",
      "23                                     {'maxAge': 86400}                                           \n",
      "24    indexTrend                       {'maxAge': 1}                                               \n",
      "25                                     {'symbol': 'SP5'}                                           \n",
      "26                                     {'peRatio': 14.8766}                                        \n",
      "27                                     {'pegRatio': 2.14678}                                       \n",
      "28                                     {'estimates': [{'period': '0q', 'growth': 0.018}, {'period': '+1q', 'growth..\n",
      "29    defaultKeyStatistics             {'maxAge': 1}                                               \n",
      "30                                     {'priceHint': 2}                                            \n",
      "31                                     {'enterpriseValue': 5078286848}                             \n",
      "32                                     {'forwardPE': 58.95122}                                     \n",
      "33                                     {'profitMargins': 0.09432}                                  \n",
      "34                                     {'floatShares': 49868386}                                   \n",
      "35                                     {'sharesOutstanding': 53294700}                             \n",
      "36                                     {'sharesShort': 1694608}                                    \n",
      "37                                     {'sharesShortPriorMonth': 1677381}                          \n",
      "38                                     {'sharesShortPreviousMonthDate': '2023-02-27 16:00:00'}     \n",
      "39                                     {'dateShortInterest': '2023-03-30 17:00:00'}                \n",
      "40                                     {'sharesPercentSharesOut': 0.0318}                          \n",
      "41                                     {'heldPercentInsiders': 0.06819}                            \n",
      "42                                     {'heldPercentInstitutions': 0.97242}                        \n",
      "43                                     {'shortRatio': 1.66}                                        \n",
      "44                                     {'shortPercentOfFloat': 0.044499997}                        \n",
      "45                                     {'beta': 1.501038}                                          \n",
      "46                                     {'impliedSharesOutstanding': 0}                             \n",
      "47                                     {'category': None}                                          \n",
      "48                                     {'bookValue': 7.247}                                        \n",
      "49                                     {'priceToBook': 13.3406925}                                 \n",
      "50                                     {'fundFamily': None}                                        \n",
      "51                                     {'legalType': None}                                         \n",
      "52                                     {'lastFiscalYearEnd': '2022-03-30 17:00:00'}                \n",
      "53                                     {'nextFiscalYearEnd': '2023-03-30 17:00:00'}                \n",
      "54                                     {'mostRecentQuarter': '2022-12-30 16:00:00'}                \n",
      "55                                     {'earningsQuarterlyGrowth': 2.075}                          \n",
      "56                                     {'netIncomeToCommon': 46840000}                             \n",
      "57                                     {'trailingEps': 0.88}                                       \n",
      "58                                     {'forwardEps': 1.64}                                        \n",
      "59                                     {'pegRatio': 2.55}                                          \n",
      "60                                     {'lastSplitFactor': None}                                   \n",
      "61                                     {'enterpriseToRevenue': 10.226}                             \n",
      "62                                     {'enterpriseToEbitda': 63.775}                              \n",
      "63                                     {'52WeekChange': 2.9655454}                                 \n",
      "64                                     {'SandP52WeekChange': -0.037848115}                         \n",
      "65    industryTrend                    {'maxAge': 1}                                               \n",
      "66                                     {'symbol': None}                                            \n",
      "67                                     {'estimates': []}                                           \n",
      "68    quoteType                        {'exchange': 'NYQ'}                                         \n",
      "69                                     {'quoteType': 'EQUITY'}                                     \n",
      "70                                     {'symbol': 'ELF'}                                           \n",
      "71                                     {'underlyingSymbol': 'ELF'}                                 \n",
      "72                                     {'shortName': 'e.l.f. Beauty, Inc.'}                        \n",
      "73                                     {'longName': 'e.l.f. Beauty, Inc.'}                         \n",
      "74                                     {'firstTradeDateEpochUtc': '2016-09-22 06:30:00'}           \n",
      "75                                     {'timeZoneFullName': 'America/New_York'}                    \n",
      "76                                     {'timeZoneShortName': 'EDT'}                                \n",
      "77                                     {'uuid': 'b61b2d6c-6fa6-3903-b882-aaa53452c111'}            \n",
      "78                                     {'messageBoardId': 'finmb_104554559'}                       \n",
      "79                                     {'gmtOffSetMilliseconds': -14400000}                        \n",
      "80                                     {'maxAge': 1}                                               \n",
      "81    incomeStatementHistory           {'incomeStatementHistory': [{'maxAge': 1, 'endDate': '2022-03-31', 'totalRe..\n",
      "82                                     {'maxAge': 86400}                                           \n",
      "83    fundOwnership                    {'maxAge': 1}                                               \n",
      "84                                     {'ownershipList': [{'maxAge': 1, 'reportDate': '2022-12-31', 'organization'..\n",
      "85    summaryDetail                    {'maxAge': 1}                                               \n",
      "86                                     {'priceHint': 2}                                            \n",
      "87                                     {'previousClose': 95.33}                                    \n",
      "88                                     {'open': 95.68}                                             \n",
      "89                                     {'dayLow': 94.39}                                           \n",
      "90                                     {'dayHigh': 96.84}                                          \n",
      "91                                     {'regularMarketPreviousClose': 95.33}                       \n",
      "92                                     {'regularMarketOpen': 95.68}                                \n",
      "93                                     {'regularMarketDayLow': 94.39}                              \n",
      "94                                     {'regularMarketDayHigh': 96.84}                             \n",
      "95                                     {'payoutRatio': 0.0}                                        \n",
      "96                                     {'beta': 1.501038}                                          \n",
      "97                                     {'trailingPE': 109.86364}                                   \n",
      "98                                     {'forwardPE': 58.95122}                                     \n",
      "99                                     {'volume': 987625}                                          \n",
      "100                                    {'regularMarketVolume': 987625}                             \n",
      "101                                    {'averageVolume': 913482}                                   \n",
      "102                                    {'averageVolume10days': 943410}                             \n",
      "103                                    {'averageDailyVolume10Day': 943410}                         \n",
      "104                                    {'bid': 96.68}                                              \n",
      "105                                    {'ask': 97.0}                                               \n",
      "106                                    {'bidSize': 1000}                                           \n",
      "107                                    {'askSize': 900}                                            \n",
      "108                                    {'marketCap': 5152531456}                                   \n",
      "109                                    {'fiftyTwoWeekLow': 20.49}                                  \n",
      "110                                    {'fiftyTwoWeekHigh': 96.85}                                 \n",
      "111                                    {'priceToSalesTrailing12Months': 10.375157}                 \n",
      "112                                    {'fiftyDayAverage': 78.1168}                                \n",
      "113                                    {'twoHundredDayAverage': 53.53235}                          \n",
      "114                                    {'trailingAnnualDividendRate': 0.0}                         \n",
      "115                                    {'trailingAnnualDividendYield': 0.0}                        \n",
      "116                                    {'currency': 'USD'}                                         \n",
      "117                                    {'fromCurrency': None}                                      \n",
      "118                                    {'toCurrency': None}                                        \n",
      "119                                    {'lastMarket': None}                                        \n",
      "120                                    {'coinMarketCapLink': None}                                 \n",
      "121                                    {'algorithm': None}                                         \n",
      "122                                    {'tradeable': False}                                        \n",
      "123   insiderHolders                   {'holders': [{'maxAge': 1, 'name': 'AMIN TARANG P', 'relation': 'Chief Exec..\n",
      "124                                    {'maxAge': 1}                                               \n",
      "125   calendarEvents                   {'maxAge': 1}                                               \n",
      "126                                    {'earnings': {'earningsDate': ['2023-05-24 03:59:S'], 'earningsAverage': 0...\n",
      "127   upgradeDowngradeHistory          {'history': [{'epochGradeDate': '2023-04-20 04:41:39', 'firm': 'Raymond Jam..\n",
      "128                                    {'maxAge': 86400}                                           \n",
      "129   price                            {'maxAge': 1}                                               \n",
      "130                                    {'preMarketSource': 'FREE_REALTIME'}                        \n",
      "131                                    {'postMarketChangePercent': 0.0022755607}                   \n",
      "132                                    {'postMarketChange': 0.22000122}                            \n",
      "133                                    {'postMarketTime': '2023-04-21 16:57:27'}                   \n",
      "134                                    {'postMarketPrice': 96.9}                                   \n",
      "135                                    {'postMarketSource': 'DELAYED'}                             \n",
      "136                                    {'regularMarketChangePercent': 0.0141613}                   \n",
      "137                                    {'regularMarketChange': 1.35}                               \n",
      "138                                    {'regularMarketTime': '2023-04-21 13:00:01'}                \n",
      "139                                    {'priceHint': 2}                                            \n",
      "140                                    {'regularMarketPrice': 96.68}                               \n",
      "141                                    {'regularMarketDayHigh': 96.84}                             \n",
      "142                                    {'regularMarketDayLow': 94.39}                              \n",
      "143                                    {'regularMarketVolume': 987625}                             \n",
      "144                                    {'averageDailyVolume10Day': 943410}                         \n",
      "145                                    {'averageDailyVolume3Month': 913482}                        \n",
      "146                                    {'regularMarketPreviousClose': 95.33}                       \n",
      "147                                    {'regularMarketSource': 'FREE_REALTIME'}                    \n",
      "148                                    {'regularMarketOpen': 95.68}                                \n",
      "149                                    {'exchange': 'NYQ'}                                         \n",
      "150                                    {'exchangeName': 'NYSE'}                                    \n",
      "151                                    {'exchangeDataDelayedBy': 0}                                \n",
      "152                                    {'marketState': 'CLOSED'}                                   \n",
      "153                                    {'quoteType': 'EQUITY'}                                     \n",
      "154                                    {'symbol': 'ELF'}                                           \n",
      "155                                    {'underlyingSymbol': None}                                  \n",
      "156                                    {'shortName': 'e.l.f. Beauty, Inc.'}                        \n",
      "157                                    {'longName': 'e.l.f. Beauty, Inc.'}                         \n",
      "158                                    {'currency': 'USD'}                                         \n",
      "159                                    {'currencySymbol': '$'}                                     \n",
      "160                                    {'fromCurrency': None}                                      \n",
      "161                                    {'toCurrency': None}                                        \n",
      "162                                    {'lastMarket': None}                                        \n",
      "163                                    {'marketCap': 5152531456}                                   \n",
      "164   balanceSheetHistory              {'balanceSheetStatements': [{'maxAge': 1, 'endDate': '2022-03-31', 'cash': ..\n",
      "165                                    {'maxAge': 86400}                                           \n",
      "166   earningsTrend                    {'trend': [{'maxAge': 1, 'period': '0q', 'endDate': '2023-03-31', 'growth':..\n",
      "167                                    {'maxAge': 1}                                               \n",
      "168   secFilings                       {'filings': [{'date': '2023-02-02', 'epochDate': '2023-02-02 13:08:38', 'ty..\n",
      "169                                    {'maxAge': 86400}                                           \n",
      "170   institutionOwnership             {'maxAge': 1}                                               \n",
      "171                                    {'ownershipList': [{'maxAge': 1, 'reportDate': '2022-12-31', 'organization'..\n",
      "172   majorHoldersBreakdown            {'maxAge': 1}                                               \n",
      "173                                    {'insidersPercentHeld': 0.06819}                            \n",
      "174                                    {'institutionsPercentHeld': 0.97242}                        \n",
      "175                                    {'institutionsFloatPercentHeld': 1.04357}                   \n",
      "176                                    {'institutionsCount': 400}                                  \n",
      "177   balanceSheetHistoryQuarterly     {'balanceSheetStatements': [{'maxAge': 1, 'endDate': '2022-12-31', 'cash': ..\n",
      "178                                    {'maxAge': 86400}                                           \n",
      "179   earningsHistory                  {'history': [{'maxAge': 1, 'epsActual': 0.13, 'epsEstimate': 0.06, 'epsDiff..\n",
      "180                                    {'maxAge': 86400}                                           \n",
      "181   summaryProfile                   {'address1': '570 10th Street'}                             \n",
      "182                                    {'city': 'Oakland'}                                         \n",
      "183                                    {'state': 'CA'}                                             \n",
      "184                                    {'zip': '94607'}                                            \n",
      "185                                    {'country': 'United States'}                                \n",
      "186                                    {'phone': '510 778 7787'}                                   \n",
      "187                                    {'website': 'https://www.elfcosmetics.com'}                 \n",
      "188                                    {'industry': 'Household & Personal Products'}               \n",
      "189                                    {'sector': 'Consumer Defensive'}                            \n",
      "190                                    {'longBusinessSummary': 'e.l.f. Beauty, Inc., together with its subsidiarie..\n",
      "191                                    {'fullTimeEmployees': 303}                                  \n",
      "192                                    {'companyOfficers': []}                                     \n",
      "193                                    {'maxAge': 86400}                                           \n",
      "194   netSharePurchaseActivity         {'maxAge': 1}                                               \n",
      "195                                    {'period': '6m'}                                            \n",
      "196                                    {'buyInfoCount': 19}                                        \n",
      "197                                    {'buyInfoShares': 621913}                                   \n",
      "198                                    {'buyPercentInsiderShares': 0.16399999}                     \n",
      "199                                    {'sellInfoCount': 22}                                       \n",
      "200                                    {'sellInfoShares': 780915}                                  \n",
      "201                                    {'sellPercentInsiderShares': 0.206}                         \n",
      "202                                    {'netInfoCount': 41}                                        \n",
      "203                                    {'netInfoShares': -159002}                                  \n",
      "204                                    {'netPercentInsiderShares': -0.042}                         \n",
      "205                                    {'totalInsiderShares': 3634166}                             \n",
      "206   insiderTransactions              {'transactions': [{'maxAge': 1, 'shares': 56404, 'value': 4519162, 'filerUr..\n",
      "207                                    {'maxAge': 1}                                               \n",
      "208   sectorTrend                      {'maxAge': 1}                                               \n",
      "209                                    {'symbol': None}                                            \n",
      "210                                    {'estimates': []}                                           \n",
      "211   incomeStatementHistoryQuarterly  {'incomeStatementHistory': [{'maxAge': 1, 'endDate': '2022-12-31', 'totalRe..\n",
      "212                                    {'maxAge': 86400}                                           \n",
      "213   cashflowStatementHistoryQuarterly{'cashflowStatements': [{'maxAge': 1, 'endDate': '2022-12-31', 'netIncome':..\n",
      "214                                    {'maxAge': 86400}                                           \n",
      "215   earnings                         {'maxAge': 86400}                                           \n",
      "216                                    {'earningsChart': {'quarterly': [{'date': '1Q2022', 'actual': 0.13, 'estima..\n",
      "217                                    {'financialsChart': {'yearly': [{'date': 2019, 'revenue': 267656000, 'earni..\n",
      "218                                    {'financialCurrency': 'USD'}                                \n",
      "219   pageViews                        {'shortTermTrend': 'UP'}                                    \n",
      "220                                    {'midTermTrend': 'UP'}                                      \n",
      "221                                    {'longTermTrend': 'UP'}                                     \n",
      "222                                    {'maxAge': 1}                                               \n",
      "223   financialData                    {'maxAge': 86400}                                           \n",
      "224                                    {'currentPrice': 96.68}                                     \n",
      "225                                    {'targetHighPrice': 114.0}                                  \n",
      "226                                    {'targetLowPrice': 57.0}                                    \n",
      "227                                    {'targetMeanPrice': 93.3}                                   \n",
      "228                                    {'targetMedianPrice': 97.5}                                 \n",
      "229                                    {'recommendationMean': 2.1}                                 \n",
      "230                                    {'recommendationKey': 'buy'}                                \n",
      "231                                    {'numberOfAnalystOpinions': 10}                             \n",
      "232                                    {'totalCash': 87021000}                                     \n",
      "233                                    {'totalCashPerShare': 1.633}                                \n",
      "234                                    {'ebitda': 79628000}                                        \n",
      "235                                    {'totalDebt': 84724000}                                     \n",
      "236                                    {'quickRatio': 1.751}                                       \n",
      "237                                    {'currentRatio': 3.003}                                     \n",
      "238                                    {'totalRevenue': 496622016}                                 \n",
      "239                                    {'debtToEquity': 21.989}                                    \n",
      "240                                    {'revenuePerShare': 9.551}                                  \n",
      "241                                    {'returnOnAssets': 0.07435}                                 \n",
      "242                                    {'returnOnEquity': 0.13562}                                 \n",
      "243                                    {'grossProfits': 251732000}                                 \n",
      "244                                    {'freeCashflow': 87219752}                                  \n",
      "245                                    {'operatingCashflow': 80688000}                             \n",
      "246                                    {'earningsGrowth': 1.833}                                   \n",
      "247                                    {'revenueGrowth': 0.493}                                    \n",
      "248                                    {'grossMargins': 0.66200995}                                \n",
      "249                                    {'ebitdaMargins': 0.16034001}                               \n",
      "250                                    {'operatingMargins': 0.12538}                               \n",
      "251                                    {'profitMargins': 0.09432}                                  \n",
      "252                                    {'financialCurrency': 'USD'}                                \n"
     ]
    }
   ],
   "source": [
    "# https://stackoverflow.com/questions/18552001/accessing-dict-keys-element-by-index-in-python3\n",
    "\n",
    "gen = get_k_v_of_inner(sym_nested_dict)\n",
    "# type(gen)\n",
    "\n",
    "prev_key = ''\n",
    "blank = ' '\n",
    "\n",
    "for c, value in enumerate(gen):\n",
    "#   print(f'c: {c}, value: {value}, {list(value)[0]}, {list(value.values())[0]}')\n",
    "#   print(f'c: {c}, value: {type(value)}, {type(list(value)[0])}, {type(list(value.values())[0])}')  \n",
    "#   _d = value\n",
    "  d_key = list(value)[0]\n",
    "  d_val = str(list(value.values())[0])\n",
    "\n",
    "# info = (data[:75] + '..') if len(data) > 75 else data\n",
    "  d_val_trunc = (d_val[:75] + '..') if len(d_val) > 75 else d_val\n",
    "\n",
    "  if d_key != prev_key:\n",
    "    print(f'{c:<6}{d_key:<33}{d_val_trunc:<60}')\n",
    "  else:\n",
    "    print(f'{c:<6}{blank:<33}{d_val_trunc:<60}')\n",
    "\n",
    "  prev_key = d_key        \n",
    "\n",
    "\n",
    "\n",
    "# prev_key = ''\n",
    "\n",
    "# for c, value in enumerate(gen):\n",
    "#     # print(f'c: {c}, value: {value}')\n",
    "#     cur_key = value.keys()\n",
    "#     cur_val = value.values()\n",
    "#     if cur_key != prev_key:\n",
    "#         # print(c, value.keys(), type(value.keys()), type(value.values()), value.values())\n",
    "#         print(f'{c}  {cur_key}  {cur_val}')             \n",
    "#         # print(f'{c:<6}{cur_key:>20}{cur_val:>60}')        \n",
    "#     else:\n",
    "#         # print(f'{c:<26}{cur_val:>60}')     \n",
    "#         print(f'{c}  {cur_val}')             \n",
    "    \n",
    "#     prev_key = cur_key\n",
    "#     # print('')\n",
    "\n",
    "#     # for k, v in value:\n",
    "#     #     print(k, v)\n",
    "#         # if value != value_prev:\n",
    "#         # print(f'c: {c:<6} key: {k:>20}, value: {v:>60}')\n",
    "#         value_prev = value"
   ]
  },
  {
   "cell_type": "code",
   "execution_count": 13,
   "metadata": {},
   "outputs": [
    {
     "name": "stdout",
     "output_type": "stream",
     "text": [
      "E\n",
      "L\n",
      "F\n"
     ]
    }
   ],
   "source": [
    "for symbol in yq_sym:\n",
    "    for module in symbol:\n",
    "        print(module)"
   ]
  },
  {
   "cell_type": "code",
   "execution_count": 14,
   "metadata": {},
   "outputs": [
    {
     "ename": "AttributeError",
     "evalue": "'dict' object has no attribute 'get_modules'",
     "output_type": "error",
     "traceback": [
      "\u001b[1;31m---------------------------------------------------------------------------\u001b[0m",
      "\u001b[1;31mAttributeError\u001b[0m                            Traceback (most recent call last)",
      "Cell \u001b[1;32mIn[14], line 1\u001b[0m\n\u001b[1;32m----> 1\u001b[0m yq_sym\u001b[39m.\u001b[39;49mget_modules([\u001b[39m'\u001b[39m\u001b[39mquoteType\u001b[39m\u001b[39m'\u001b[39m])\n",
      "\u001b[1;31mAttributeError\u001b[0m: 'dict' object has no attribute 'get_modules'"
     ]
    }
   ],
   "source": [
    "yq_sym.get_modules(['quoteType'])"
   ]
  },
  {
   "cell_type": "code",
   "execution_count": null,
   "metadata": {},
   "outputs": [],
   "source": [
    "yqTicker('nvda').get_modules(['quoteType'])"
   ]
  },
  {
   "cell_type": "code",
   "execution_count": null,
   "metadata": {},
   "outputs": [],
   "source": [
    "yqTicker('nvda').all_modules"
   ]
  },
  {
   "cell_type": "code",
   "execution_count": null,
   "metadata": {},
   "outputs": [],
   "source": [
    "plt_syms = ['ELF']\n",
    "days_plot = 252"
   ]
  },
  {
   "cell_type": "code",
   "execution_count": null,
   "metadata": {},
   "outputs": [],
   "source": [
    "df = pickle_load(path_data_dump, filename_pickled_df_adjOHLCV)"
   ]
  },
  {
   "cell_type": "code",
   "execution_count": null,
   "metadata": {},
   "outputs": [],
   "source": [
    "for plt_sym in plt_syms:\n",
    "  yf_candlestick(plt_sym, df[plt_sym].iloc[-days_plot:])\n",
    "  # symbols_stock, symbols_etf, symbols_cryto = yf_print_symbol_data(plt_sym)"
   ]
  },
  {
   "cell_type": "code",
   "execution_count": null,
   "metadata": {},
   "outputs": [],
   "source": [
    "symbol = 'GE'"
   ]
  },
  {
   "cell_type": "code",
   "execution_count": null,
   "metadata": {},
   "outputs": [],
   "source": [
    "obj = yf.Ticker(symbol)"
   ]
  },
  {
   "cell_type": "code",
   "execution_count": null,
   "metadata": {},
   "outputs": [],
   "source": [
    "yf.Ticker(\"GE\").info"
   ]
  },
  {
   "cell_type": "code",
   "execution_count": null,
   "metadata": {},
   "outputs": [],
   "source": [
    "obj = yf.Ticker.info(\"GE\")"
   ]
  },
  {
   "cell_type": "code",
   "execution_count": null,
   "metadata": {},
   "outputs": [],
   "source": [
    "dhr = yf.Ticker('DHR')\n",
    "info = dhr.info\n",
    "info.keys()"
   ]
  },
  {
   "cell_type": "code",
   "execution_count": null,
   "metadata": {},
   "outputs": [],
   "source": [
    "# dir(obj)\n",
    "# # obj.info\n",
    "list(obj.info)\n",
    "# type(obj.info)"
   ]
  },
  {
   "cell_type": "code",
   "execution_count": null,
   "metadata": {},
   "outputs": [],
   "source": [
    "symbols_stock, symbols_etf, symbols_cryto = yf_print_symbol_data('GE')"
   ]
  }
 ],
 "metadata": {
  "kernelspec": {
   "display_name": ".venv",
   "language": "python",
   "name": "python3"
  },
  "language_info": {
   "codemirror_mode": {
    "name": "ipython",
    "version": 3
   },
   "file_extension": ".py",
   "mimetype": "text/x-python",
   "name": "python",
   "nbconvert_exporter": "python",
   "pygments_lexer": "ipython3",
   "version": "3.8.10"
  }
 },
 "nbformat": 4,
 "nbformat_minor": 2
}
