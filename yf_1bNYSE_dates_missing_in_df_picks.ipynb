{
 "cells": [
  {
   "cell_type": "markdown",
   "metadata": {},
   "source": [
    "### Create a list of trading dates in df_close_clean that are missing in df_picks<br>The missing dates are pickled in dates_missing_in_df_picks"
   ]
  },
  {
   "cell_type": "code",
   "execution_count": 31,
   "metadata": {},
   "outputs": [],
   "source": [
    "import time\n",
    "start_time = time.time()"
   ]
  },
  {
   "cell_type": "code",
   "execution_count": 32,
   "metadata": {},
   "outputs": [],
   "source": [
    "def compare_lists(list_a, list_b):\n",
    "  \"\"\"Compares two lists and returns a list of values that are in list A but not in list B.\n",
    "\n",
    "  Args:\n",
    "    list_a: A list of objects.\n",
    "    list_b: A list of objects.\n",
    "\n",
    "  Returns:\n",
    "    A list of values that are in list_a but not in list_b.\n",
    "  \"\"\"\n",
    "\n",
    "  list_difference = []\n",
    "\n",
    "  for item in list_a:\n",
    "    if item not in list_b:\n",
    "      list_difference.append(item)\n",
    "\n",
    "  return list_difference"
   ]
  },
  {
   "cell_type": "code",
   "execution_count": 33,
   "metadata": {},
   "outputs": [],
   "source": [
    "import pandas as pd\n",
    "from myUtils import pickle_load, pickle_dump\n",
    "pd.set_option('display.max_rows', 50)\n",
    "pd.set_option('display.max_columns', 30)\n",
    "pd.set_option('display.max_colwidth', 30)\n",
    "pd.set_option('display.width', 900)\n",
    "\n",
    "path_dir = \"C:/Users/ping/MyDrive/stocks/yfinance/\"\n",
    "path_data_dump = path_dir + \"VSCode_dump/\"\n",
    "\n",
    "# pickle file of past picks\n",
    "fp_df_picks  = f'df_picks'\n",
    "# pickle file of dates missing from df_picks\n",
    "fp_dates_missing_in_df_picks = f'dates_missing_in_df_picks'\n",
    "# pickle file of symbols' close after cleaning the data\n",
    "fp_df_close_clean = \"df_close_clean\""
   ]
  },
  {
   "cell_type": "code",
   "execution_count": 34,
   "metadata": {},
   "outputs": [],
   "source": [
    "df_close_clean = pickle_load(path_data_dump, fp_df_close_clean)"
   ]
  },
  {
   "cell_type": "code",
   "execution_count": 35,
   "metadata": {},
   "outputs": [
    {
     "name": "stdout",
     "output_type": "stream",
     "text": [
      "df_picks, len(282):\n",
      "    date_end_df_train  max_days_lookbacks     days_lookbacks sym_freq_15 sym_freq_14 sym_freq_13 sym_freq_12      sym_freq_11      sym_freq_10              sym_freq_9        sym_freq_8                     sym_freq_7                     sym_freq_6                     sym_freq_5                     sym_freq_4                     sym_freq_3 sym_freq_2\n",
      "0          2023-11-09                 120      [30, 60, 120]          []          []          []          []               []               []         ['FTSM', 'SHV']          ['CBOE']                ['GBTC', 'NRG']          ['ANF', 'CAH', 'LRN']  ['BTC-USD', 'EDU', 'GPS', ...           ['PGR', 'TGH', 'YY']  ['AGYS', 'ALL', 'CLS', 'HO...         []\n",
      "1          2023-11-09                 120  [15, 30, 60, 120]          []          []          []          []               []  ['FTSM', 'SHV']                 ['LRN']  ['CBOE', 'GBTC']      ['BTC-USD', 'NRG', 'TGH']                 ['ANF', 'CAH']  ['AGYS', 'DECK', 'EDU', 'G...  ['AMBC', 'ETH-USD', 'HOLI'...                             []         []\n",
      "2          2023-11-08                 120      [30, 60, 120]          []          []          []          []               []               []         ['FTSM', 'SHV']           ['NRG']        ['ANF', 'CBOE', 'GBTC']                ['LRN', 'USAC']                 ['EDU', 'GPS']  ['AGYS', 'DELL', 'TGH', 'YY']  ['BTC-USD', 'CAH', 'CLS', ...         []\n",
      "3          2023-11-08                 120  [15, 30, 60, 120]          []          []          []          []               []  ['FTSM', 'SHV']  ['GBTC', 'LRN', 'NRG']                []  ['AGYS', 'ANF', 'CBOE', 'T...            ['BTC-USD', 'USAC']                 ['EDU', 'GPS']         ['DELL', 'PLNT', 'YY']  ['BPMC', 'BZH', 'CAH', 'CLS']         []\n",
      "4          2023-11-07                 120      [30, 60, 120]          []          []          []          []               []               []         ['FTSM', 'SHV']           ['NRG']        ['ANF', 'CBOE', 'GBTC']                       ['USAC']                        ['LRN']           ['EDU', 'GPS', 'YY']  ['AGYS', 'BTC-USD', 'CAH',...         []\n",
      "..                ...                 ...                ...         ...         ...         ...         ...              ...              ...                     ...               ...                            ...                            ...                            ...                            ...                            ...        ...\n",
      "277        2023-03-17                 120  [15, 30, 60, 120]          []          []          []          []          ['SHV']               []          ['FTSM', 'GE']                []               ['NVDA', 'SGEN']  ['ANET', 'FCN', 'GBTC', 'T...  ['ACLS', 'FSLR', 'HY', 'LN...         ['AMD', 'ATCO', 'MLR']                       ['AJRD']         []\n",
      "278        2023-03-16                 120      [30, 60, 120]          []          []          []          []               []               []         ['FTSM', 'SHV']                []                             []        ['LNTH', 'SGEN', 'WST']  ['ACLS', 'AMPH', 'CTLT', '...           ['HY', 'MLR', 'OEC']  ['ANET', 'ATCO', 'ATKR', '...         []\n",
      "279        2023-03-16                 120  [15, 30, 60, 120]          []          []          []          []               []  ['FTSM', 'SHV']                ['SGEN']                []                        ['MLR']  ['ANET', 'FCN', 'FSLR', 'G...  ['ACLS', 'AMPH', 'CTLT', '...                             []                             []         []\n",
      "280        2023-03-15                 120      [30, 60, 120]          []          []          []          []               []               []         ['FTSM', 'SHV']                []                             []  ['CTLT', 'ELF', 'SGEN', 'T...  ['ACLS', 'AMPH', 'FCN', 'GE']  ['ATCO', 'HY', 'LNTH', 'ME...  ['ATKR', 'BURL', 'FIZZ', '...         []\n",
      "281        2023-03-15                 120  [15, 30, 60, 120]          []          []          []          []  ['FTSM', 'SHV']               []                ['SGEN']   ['AMPH', 'FCN']           ['GE', 'HY', 'META']  ['CTLT', 'ELF', 'FIZZ', 'M...       ['ACLS', 'ANET', 'SRPT']               ['ATCO', 'LNTH']                             []         []\n",
      "\n",
      "[282 rows x 17 columns]\n"
     ]
    }
   ],
   "source": [
    "df_picks = pickle_load(path_data_dump, fp_df_picks)\n",
    "# drop duplicates\n",
    "df_picks = df_picks.drop_duplicates(subset=['date_end_df_train', 'max_days_lookbacks', 'days_lookbacks'], keep='last')\n",
    "# sort, most recent date is first\n",
    "df_picks = df_picks.sort_values(by=['date_end_df_train', 'max_days_lookbacks', 'days_lookbacks'], ascending=False)\n",
    "# re-index\n",
    "df_picks = df_picks.reset_index(drop=True)\n",
    "# save results\n",
    "pickle_dump(df_picks, path_data_dump, fp_df_picks)\n",
    "print(f'df_picks, len({len(df_picks)}):\\n{df_picks}')"
   ]
  },
  {
   "cell_type": "code",
   "execution_count": 36,
   "metadata": {},
   "outputs": [
    {
     "name": "stdout",
     "output_type": "stream",
     "text": [
      "df_picks start date: 2023-03-15\n",
      "df_picks end date: 2023-11-09\n"
     ]
    }
   ],
   "source": [
    "start_date = df_picks.date_end_df_train.min()\n",
    "end_date = df_picks.date_end_df_train.max()\n",
    "print(f'df_picks start date: {start_date}')\n",
    "print(f'df_picks end date: {end_date}')"
   ]
  },
  {
   "cell_type": "code",
   "execution_count": 37,
   "metadata": {},
   "outputs": [
    {
     "name": "stdout",
     "output_type": "stream",
     "text": [
      "l_dates_df_picks, len(141):\n",
      "['2023-11-09', '2023-11-08', '2023-11-07', '2023-11-06', '2023-11-03', '2023-11-02', '2023-11-01', '2023-10-31', '2023-10-30', '2023-10-27', '2023-10-26', '2023-10-25', '2023-10-24', '2023-10-23', '2023-10-20', '2023-10-19', '2023-10-17', '2023-10-12', '2023-10-06', '2023-10-05', '2023-10-04', '2023-10-02', '2023-09-29', '2023-09-28', '2023-09-25', '2023-09-22', '2023-09-21', '2023-09-20', '2023-09-18', '2023-09-15', '2023-09-14', '2023-09-13', '2023-09-12', '2023-09-11', '2023-09-08', '2023-09-05', '2023-09-01', '2023-08-25', '2023-08-18', '2023-08-17', '2023-08-15', '2023-08-14', '2023-08-11', '2023-08-10', '2023-08-09', '2023-08-08', '2023-08-07', '2023-08-04', '2023-08-03', '2023-08-02', '2023-08-01', '2023-07-27', '2023-07-26', '2023-07-25', '2023-07-21', '2023-07-20', '2023-07-18', '2023-07-14', '2023-07-13', '2023-07-12', '2023-07-11', '2023-07-10', '2023-07-07', '2023-07-06', '2023-07-05', '2023-07-03', '2023-06-30', '2023-06-29', '2023-06-28', '2023-06-27', '2023-06-26', '2023-06-23', '2023-06-22', '2023-06-21', '2023-06-20', '2023-06-16', '2023-06-15', '2023-06-14', '2023-06-13', '2023-06-12', '2023-06-09', '2023-06-08', '2023-06-07', '2023-06-06', '2023-06-05', '2023-06-02', '2023-06-01', '2023-05-31', '2023-05-30', '2023-05-26', '2023-05-25', '2023-05-24', '2023-05-23', '2023-05-22', '2023-05-19', '2023-05-18', '2023-05-17', '2023-05-16', '2023-05-15', '2023-05-12', '2023-05-11', '2023-05-10', '2023-05-09', '2023-05-08', '2023-05-05', '2023-05-04', '2023-05-03', '2023-05-02', '2023-05-01', '2023-04-28', '2023-04-27', '2023-04-26', '2023-04-25', '2023-04-24', '2023-04-21', '2023-04-20', '2023-04-19', '2023-04-18', '2023-04-17', '2023-04-14', '2023-04-13', '2023-04-12', '2023-04-11', '2023-04-10', '2023-04-06', '2023-04-05', '2023-04-04', '2023-04-03', '2023-03-31', '2023-03-30', '2023-03-29', '2023-03-28', '2023-03-27', '2023-03-24', '2023-03-23', '2023-03-22', '2023-03-21', '2023-03-20', '2023-03-17', '2023-03-16', '2023-03-15']\n"
     ]
    }
   ],
   "source": [
    "l_dates_df_picks = df_picks.date_end_df_train.unique().tolist()  # unique dates in df_picks\n",
    "print(f'l_dates_df_picks, len({len(l_dates_df_picks)}):\\n{l_dates_df_picks}')"
   ]
  },
  {
   "cell_type": "code",
   "execution_count": 38,
   "metadata": {},
   "outputs": [
    {
     "data": {
      "text/plain": [
       "Index(['2023-03-15', '2023-03-16', '2023-03-17', '2023-03-20', '2023-03-21', '2023-03-22', '2023-03-23', '2023-03-24', '2023-03-27', '2023-03-28',\n",
       "       ...\n",
       "       '2023-10-27', '2023-10-30', '2023-10-31', '2023-11-01', '2023-11-02', '2023-11-03', '2023-11-06', '2023-11-07', '2023-11-08', '2023-11-09'], dtype='object', name='Date', length=167)"
      ]
     },
     "execution_count": 38,
     "metadata": {},
     "output_type": "execute_result"
    }
   ],
   "source": [
    "# Select the rows where the index is between the start_date and end_date\n",
    "mask = (df_close_clean.index >= start_date) & (df_close_clean.index <= end_date)\n",
    "l_dates_df_close = df_close_clean[mask].index\n",
    "# list of date index in 'yyyy-mm-dd' format\n",
    "l_dates_df_close = l_dates_df_close.strftime('%Y-%m-%d')\n",
    "l_dates_df_close"
   ]
  },
  {
   "cell_type": "code",
   "execution_count": 39,
   "metadata": {},
   "outputs": [
    {
     "name": "stdout",
     "output_type": "stream",
     "text": [
      "dates_missing_in_df_picks is saved in C:/Users/ping/MyDrive/stocks/yfinance/VSCode_dump/dates_missing_in_df_picks\n",
      "dates_missing_in_df_picks, (len=26):\n",
      "['2023-07-17', '2023-07-19', '2023-07-24', '2023-07-28', '2023-07-31', '2023-08-16', '2023-08-21', '2023-08-22', '2023-08-23', '2023-08-24', '2023-08-28', '2023-08-29', '2023-08-30', '2023-08-31', '2023-09-06', '2023-09-07', '2023-09-19', '2023-09-26', '2023-09-27', '2023-10-03', '2023-10-09', '2023-10-10', '2023-10-11', '2023-10-13', '2023-10-16', '2023-10-18']\n"
     ]
    }
   ],
   "source": [
    "dates_missing_in_df_picks  = compare_lists(l_dates_df_close, l_dates_df_picks)\n",
    "pickle_dump(dates_missing_in_df_picks, path_data_dump, fp_dates_missing_in_df_picks)\n",
    "print(f'dates_missing_in_df_picks is saved in {path_data_dump}{fp_dates_missing_in_df_picks}')   \n",
    "print(f'dates_missing_in_df_picks, (len={len(dates_missing_in_df_picks )}):\\n{dates_missing_in_df_picks }')"
   ]
  },
  {
   "cell_type": "code",
   "execution_count": 40,
   "metadata": {},
   "outputs": [
    {
     "name": "stdout",
     "output_type": "stream",
     "text": [
      "exec. time for all cells: 0.18800044059753418 sec\n"
     ]
    }
   ],
   "source": [
    "end_time = time.time()\n",
    "exec_time = end_time - start_time\n",
    "print(f'exec. time for all cells: {exec_time} sec')"
   ]
  }
 ],
 "metadata": {
  "kernelspec": {
   "display_name": ".venv",
   "language": "python",
   "name": "python3"
  },
  "language_info": {
   "codemirror_mode": {
    "name": "ipython",
    "version": 3
   },
   "file_extension": ".py",
   "mimetype": "text/x-python",
   "name": "python",
   "nbconvert_exporter": "python",
   "pygments_lexer": "ipython3",
   "version": "3.8.10"
  },
  "orig_nbformat": 4,
  "vscode": {
   "interpreter": {
    "hash": "16adeade2e4c2fe5a5c8fae29fa6e6b24d9301998b78edb3420e7dd402ae68a8"
   }
  }
 },
 "nbformat": 4,
 "nbformat_minor": 2
}
