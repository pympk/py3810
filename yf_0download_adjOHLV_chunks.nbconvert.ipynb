{
 "cells": [
  {
   "cell_type": "code",
   "execution_count": 1,
   "metadata": {
    "execution": {
     "iopub.execute_input": "2023-04-04T21:00:08.219315Z",
     "iopub.status.busy": "2023-04-04T21:00:08.218306Z",
     "iopub.status.idle": "2023-04-04T21:00:08.241486Z",
     "shell.execute_reply": "2023-04-04T21:00:08.239445Z"
    }
   },
   "outputs": [],
   "source": [
    "# df_adjOHLCV has data only for NYSE trading days, no weekend data\n",
    "# df_adjOHLCV includes data for weekends when BTC trades\n",
    "# read symbols in file to list syms_in_file\n",
    "# download OHLCV data for symbols in syms_in_file\n",
    "# drop symbols with all NaN in OHLCV columns from df\n",
    "# rename column names from ['Open', ..., 'Volume'] to ['open', ..., 'volume']\n",
    "# drop weekend data by reindex to date index of index_symbol\n",
    "# pickled df_adjOHLCV\n",
    "# pickled df_adjOHLCV\n",
    "# pickled symbols_df_adjOHLCV\n",
    "# create df_symbols_close, sort df by symbols\n",
    "# pickled df_symbols_close"
   ]
  },
  {
   "cell_type": "code",
   "execution_count": 2,
   "metadata": {
    "execution": {
     "iopub.execute_input": "2023-04-04T21:00:08.248485Z",
     "iopub.status.busy": "2023-04-04T21:00:08.247485Z",
     "iopub.status.idle": "2023-04-04T21:00:10.245793Z",
     "shell.execute_reply": "2023-04-04T21:00:10.244781Z"
    }
   },
   "outputs": [],
   "source": [
    "# https://stackoverflow.com/questions/67690778/how-to-detect-failed-downloads-using-yfinance\n",
    "import yfinance as yf\n",
    "import yfinance.shared as shared\n",
    "import time\n",
    "import pandas as pd\n",
    "# from datetime import date, timedelta, datetime\n",
    "from myUtils import pickle_dump, pickle_load, read_symbols_file # NOQA\n",
    "from myUtils import drop_symbols_all_NaN, chunked_list # NOQA\n",
    "from myUtils import yf_download_AdjOHLCV_noAutoAdj\n",
    "verbose = False  # True prints more output\n",
    "\n",
    "path_dir = \"C:/Users/ping/MyDrive/stocks/yfinance/\"\n",
    "path_data_dump = path_dir + \"VSCode_dump/\"\n",
    "\n",
    "# filename_symbols = path_data_dump + 'vg_symbols_4chars_max.csv'  # symbols text file\n",
    "# filename_symbols = path_data_dump + 'vg_symbols_4chars_max_clean.csv'  # symbols text file\n",
    "filename_symbols = path_data_dump + 'my_symbols.csv'  # symbols text file\n",
    "\n",
    "filename_pickled_df_OHLCVA_downloaded = 'df_OHLCVA_downloaded '  # OHLCVA downloaded from Yahoo\n",
    "filename_pickled_df_adjOHLCV = 'df_adjOHLCV'  # adjusted OHLCV\n",
    "filename_pickled_df_symbols_close = \"df_symbols_close\"  # symbols' adjusted close\n",
    "filename_pickled_symbols_df_adjOHLCV =  'symbols_df_adjOHLCV'  # symbols in df_adjOHLCV"
   ]
  },
  {
   "cell_type": "code",
   "execution_count": 3,
   "metadata": {
    "execution": {
     "iopub.execute_input": "2023-04-04T21:00:10.249793Z",
     "iopub.status.busy": "2023-04-04T21:00:10.248793Z",
     "iopub.status.idle": "2023-04-04T21:00:10.261847Z",
     "shell.execute_reply": "2023-04-04T21:00:10.260812Z"
    }
   },
   "outputs": [],
   "source": [
    "# function to adjust OHLCV\n",
    "# https://github.com/ranaroussi/yfinance/issues/687\n",
    "def auto_adjust(data):\n",
    "    df = data.copy()\n",
    "    ratio = df[\"Close\"] / df[\"Adj Close\"]\n",
    "    df[\"Adj Open\"] = df[\"Open\"] / ratio\n",
    "    df[\"Adj High\"] = df[\"High\"] / ratio\n",
    "    df[\"Adj Low\"] = df[\"Low\"] / ratio\n",
    "\n",
    "    df.drop(\n",
    "        [\"Open\", \"High\", \"Low\", \"Close\"],\n",
    "        axis=1, inplace=True)\n",
    "\n",
    "    df.rename(columns={\n",
    "        \"Adj Open\": \"Open\", \"Adj High\": \"High\",\n",
    "        \"Adj Low\": \"Low\", \"Adj Close\": \"Close\"\n",
    "    }, inplace=True)\n",
    "\n",
    "    # df = df[[\"Open\", \"High\", \"Low\", \"Close\", \"Volume\"]]\n",
    "    return df[[\"Open\", \"High\", \"Low\", \"Close\", \"Volume\"]]\n",
    "\n",
    "def close_vs_Yahoo (symbols, df):\n",
    "  for symbol in symbols:\n",
    "    s = df.iloc[-250]\n",
    "    \n",
    "    sDate = s.name.strftime('%Y-%m-%d')\n",
    "    sClose = s[symbol].Close\n",
    "\n",
    "    df_sym = yf.Ticker(symbol).history(period='2y')\n",
    "    # 10:45PM got Adj Close\n",
    "    yhClose = df_sym.loc[sDate]['Close']\n",
    "\n",
    "    abs_pct_diff = abs(1 - sClose/yhClose)*100\n",
    "    print(f'symbol:  {symbol:>4}   Date: {sDate:13}df_Close: {sClose:>10.5f} \\\n",
    "    Yahoo_Close: {yhClose:>10.5f}   %_dif_Close: {abs_pct_diff:>7.5f}')\n",
    "    if abs_pct_diff > .0001:\n",
    "      msg_err = f'{symbol}  %_dif_Close > .0001'\n",
    "      # raise SystemExit(msg_err)\n",
    "      print(msg_err)  # even if discrepancy, the relative relationship of OHLCV in df_close matches Yahoo_Close\n",
    "    if symbol == symbols[-1]:\n",
    "      msg_done = f\"No errors found.  Symbols' 'Adjusted Close' matched Yahoo symbols' Close \"\n",
    "      print(msg_done)\n"
   ]
  },
  {
   "cell_type": "code",
   "execution_count": 4,
   "metadata": {
    "execution": {
     "iopub.execute_input": "2023-04-04T21:00:10.264860Z",
     "iopub.status.busy": "2023-04-04T21:00:10.263860Z",
     "iopub.status.idle": "2023-04-04T21:00:13.340103Z",
     "shell.execute_reply": "2023-04-04T21:00:13.339106Z"
    }
   },
   "outputs": [
    {
     "name": "stdout",
     "output_type": "stream",
     "text": [
      "[*********************100%***********************]  1 of 1 completed\n",
      "Full path to pickled df_adjOHLCV:  C:/Users/ping/MyDrive/stocks/yfinance/VSCode_dump/df_adjOHLCV\n",
      "download_last_date: 2023-04-04\n",
      "df_adjOHLCV_last_date: 2023-04-04\n"
     ]
    }
   ],
   "source": [
    "# Stop if last date in df_adjOHLCV is the same as Yahoo download\n",
    "index_symbol = \"XOM\"  \n",
    "df_XOM = yf.download(index_symbol)\n",
    "download_last_date = df_XOM.index[-1].strftime('%Y-%m-%d')\n",
    "print(f\"Full path to pickled df_adjOHLCV:  {path_data_dump}{filename_pickled_df_adjOHLCV}\")\n",
    "print(f'download_last_date: {download_last_date}')\n",
    "df = pickle_load(path_data_dump, filename_pickled_df_adjOHLCV, verbose=verbose)\n",
    "df_adjOHLCV_last_date = df.index[-1].strftime('%Y-%m-%d')\n",
    "print(f'df_adjOHLCV_last_date: {df_adjOHLCV_last_date}')\n",
    "\n",
    "##########  Allow Repeated Download on the Same Day  ###########################################\n",
    "# if download_last_date == df_adjOHLCV_last_date:\n",
    "#   msg_stop = f\"df_adjOHLCV is up-to-date,\\nlast date from df_adjOHLCV is {df_adjOHLCV_last_date},\\nlast date from Yahoo's {index_symbol} download is {download_last_date}\"\n",
    "#   raise SystemExit(msg_stop )\n",
    "######################################################"
   ]
  },
  {
   "cell_type": "code",
   "execution_count": 5,
   "metadata": {
    "execution": {
     "iopub.execute_input": "2023-04-04T21:00:13.343101Z",
     "iopub.status.busy": "2023-04-04T21:00:13.343101Z",
     "iopub.status.idle": "2023-04-04T21:00:14.655707Z",
     "shell.execute_reply": "2023-04-04T21:00:14.654691Z"
    }
   },
   "outputs": [
    {
     "name": "stdout",
     "output_type": "stream",
     "text": [
      "[*********************100%***********************]  3 of 3 completed\n",
      "symbol:     A   Date: 2022-04-06   df_Close:  131.83478     Yahoo_Close:  131.83478   %_dif_Close: 0.00000\n",
      "symbol:   LMT   Date: 2022-04-06   df_Close:  443.20792     Yahoo_Close:  443.20792   %_dif_Close: 0.00000\n",
      "symbol:   SPY   Date: 2022-04-06   df_Close:  439.08087     Yahoo_Close:  439.08087   %_dif_Close: 0.00000\n",
      "No errors found.  Symbols' 'Adjusted Close' matched Yahoo symbols' Close \n"
     ]
    }
   ],
   "source": [
    "# verify df test_symbols' close against Yahoo\n",
    "# even if discrepancy, the relative relationship of OHLCV in df_close matches Yahoo_Close\n",
    "test_symbols = ['A', 'LMT', 'SPY']\n",
    "_df_list=[]\n",
    "_df = yf_download_AdjOHLCV_noAutoAdj(test_symbols, verbose=False)\n",
    "_df_list.append(_df)\n",
    "_df = pd.concat(_df_list, axis=1)\n",
    "# get unique symbols from column name\n",
    "_l_symbols = list(set(_df.columns.get_level_values(0)))\n",
    "_l_symbols.sort()\n",
    "\n",
    "_df_adj_list=[]\n",
    "# adjust OHLC using 'Adj Close'\n",
    "for symbol in _l_symbols:\n",
    "  _df1 = auto_adjust(_df[symbol])\n",
    "  _df_adj_list.append(_df1)\n",
    "\n",
    "_df_adj = pd.concat(_df_adj_list, axis=1)\n",
    "_cols = ['Open', 'High', 'Low', 'Close', 'Volume']\n",
    "# create multilevel column names\n",
    "_col_names = pd.MultiIndex.from_product([_l_symbols, _cols])\n",
    "_df_adj.columns = _col_names\n",
    "\n",
    "close_vs_Yahoo(test_symbols, _df_adj)"
   ]
  },
  {
   "cell_type": "code",
   "execution_count": 6,
   "metadata": {
    "execution": {
     "iopub.execute_input": "2023-04-04T21:00:14.660708Z",
     "iopub.status.busy": "2023-04-04T21:00:14.659707Z",
     "iopub.status.idle": "2023-04-04T21:00:14.687136Z",
     "shell.execute_reply": "2023-04-04T21:00:14.686151Z"
    }
   },
   "outputs": [
    {
     "name": "stdout",
     "output_type": "stream",
     "text": [
      "symbols in file: 1587\n",
      "symbols added:   14\n",
      "unique symbols:  1595\n"
     ]
    }
   ],
   "source": [
    "# read symbols in file to a list and convert to chunks\n",
    "#  each chunk must have more than 1 symbol, otherwise, symbol won't appear as column name\n",
    "symbols_in_file = read_symbols_file(filename_symbols)\n",
    "print(f'symbols in file: {len(symbols_in_file)}')\n",
    "# TODO add list of SPY, VGT, FTSM, QQQ, BNDX \n",
    "symbols_add = ['SPY', 'VGT', 'FTEC', 'QQQ', 'VWO', 'VTV', 'BNDX', 'USO', 'JJC', 'BCI', 'NG', 'GBTC', 'BTC-USD', 'ETH-USD']\n",
    "print(f'symbols added:   {len(symbols_add)}')\n",
    "symbols = symbols_in_file + symbols_add\n",
    "# https://stackoverflow.com/questions/12897374/get-unique-values-from-a-list-in-python\n",
    "symbols = list(set(symbols))  # keep unique symbols\n",
    "symbols.sort()  # sort unique symbols in alphabetical order\n",
    "print(f'unique symbols:  {len(symbols)}')\n",
    "symbols_chunks = chunked_list(symbols, 400)  # e.g. [['A', 'BB', ...], ['CC', 'DD', ...], ..., ['Z', 'ZWS', ...]]\n",
    "for chunk in symbols_chunks:\n",
    "  if len(chunk) == 1:\n",
    "    raise SystemExit(f'ERROR, Must be more than 1 symbol in each chunk\\nsymbols in chunk: {chunk}')"
   ]
  },
  {
   "cell_type": "code",
   "execution_count": 7,
   "metadata": {
    "execution": {
     "iopub.execute_input": "2023-04-04T21:00:14.691135Z",
     "iopub.status.busy": "2023-04-04T21:00:14.690140Z",
     "iopub.status.idle": "2023-04-04T21:07:00.491974Z",
     "shell.execute_reply": "2023-04-04T21:07:00.490984Z"
    }
   },
   "outputs": [
    {
     "name": "stdout",
     "output_type": "stream",
     "text": [
      "[*********************100%***********************]  400 of 400 completed\n",
      "\n",
      "symbols_download_err: [[]]\n",
      "downloaded symbols from chuck 0, sleep start\n",
      "downloaded symbols from chuck 0, sleep ends\n",
      "[*********************100%***********************]  400 of 400 completed\n",
      "\n",
      "symbols_download_err: [[], []]\n",
      "downloaded symbols from chuck 1, sleep start\n",
      "downloaded symbols from chuck 1, sleep ends\n",
      "[*********************100%***********************]  400 of 400 completed\n",
      "\n",
      "symbols_download_err: [[], [], []]\n",
      "downloaded symbols from chuck 2, sleep start\n",
      "downloaded symbols from chuck 2, sleep ends\n",
      "[*********************100%***********************]  395 of 395 completed\n",
      "\n",
      "symbols_download_err: [[], [], [], []]\n",
      "downloaded symbols from all chucks\n",
      "symbols_download_err: [[], [], [], []]\n"
     ]
    }
   ],
   "source": [
    "df_list=[]\n",
    "symbols_download_err = []\n",
    "# took 24 minutes to download 1917 symbols without error caused by Yahoo\n",
    "# for i, symbols in enumerate(symbols_chunks):\n",
    "for i, symbols in enumerate(symbols_chunks):\n",
    "  df = yf_download_AdjOHLCV_noAutoAdj(symbols, verbose=False)  \n",
    "  symbols_download_err.append(list(shared._ERRORS.keys()))\n",
    "  # print(f'symbols_download_err: {symbols_download_err}')\n",
    "  print(f'\\nsymbols_download_err: {symbols_download_err}')  \n",
    "  df_list.append(df)\n",
    "  # pause between download\n",
    "  if i < len(symbols_chunks) - 1 :  # skip pause after last download\n",
    "    print(f'downloaded symbols from chuck {i}, sleep start')\n",
    "    # sleep 78(18m 25s)\n",
    "    time.sleep(78)\n",
    "    print(f'downloaded symbols from chuck {i}, sleep ends')\n",
    "  else:\n",
    "    print(f'downloaded symbols from all chucks')\n",
    "\n",
    "print(f'symbols_download_err: {symbols_download_err}')"
   ]
  },
  {
   "cell_type": "code",
   "execution_count": 8,
   "metadata": {
    "execution": {
     "iopub.execute_input": "2023-04-04T21:07:00.495974Z",
     "iopub.status.busy": "2023-04-04T21:07:00.494969Z",
     "iopub.status.idle": "2023-04-04T21:07:00.507974Z",
     "shell.execute_reply": "2023-04-04T21:07:00.506985Z"
    }
   },
   "outputs": [
    {
     "data": {
      "text/plain": [
       "[]"
      ]
     },
     "execution_count": 8,
     "metadata": {},
     "output_type": "execute_result"
    }
   ],
   "source": [
    "# flatten symbols_download_err which is a list-of-lists\n",
    "l_symbols_err = [val for sublist in symbols_download_err for val in sublist]\n",
    "pickle_dump(l_symbols_err, path_data_dump, 'l_symbols_err')\n",
    "l_symbols_err"
   ]
  },
  {
   "cell_type": "code",
   "execution_count": 9,
   "metadata": {
    "execution": {
     "iopub.execute_input": "2023-04-04T21:07:00.510974Z",
     "iopub.status.busy": "2023-04-04T21:07:00.509969Z",
     "iopub.status.idle": "2023-04-04T21:07:00.523977Z",
     "shell.execute_reply": "2023-04-04T21:07:00.522984Z"
    }
   },
   "outputs": [],
   "source": [
    "# if l_symbols_err:  # re-download symbols with download error \n",
    "#   symbols_download_err = []\n",
    "#   # took 24 minutes to download 1917 symbols without error caused by Yahoo\n",
    "#   # for i, symbols in enumerate(symbols_chunks):\n",
    "#   for i, symbols in enumerate(l_symbols_err):\n",
    "#     df = yf_download_AdjOHLCV_noAutoAdj(symbols, verbose=False)  \n",
    "#     symbols_download_err.append(list(shared._ERRORS.keys()))\n",
    "#     # print(f'symbols_download_err: {symbols_download_err}')\n",
    "#     print(f'\\nsymbols_download_err: {symbols_download_err}')  \n",
    "#     df_list.append(df)\n",
    "#     # pause between download\n",
    "#     if i < len(symbols_chunks) - 1 :  # skip pause after last download\n",
    "#       print(f'downloaded symbols from chuck {i}, sleep start')\n",
    "#       # sleep 78(18m 25s)\n",
    "#       time.sleep(78)\n",
    "#       print(f'downloaded symbols from chuck {i}, sleep ends')\n",
    "#     else:\n",
    "#       print(f'downloaded symbols from all chucks')\n",
    "\n",
    "#   print(f'symbols_download_err: {symbols_download_err}')"
   ]
  },
  {
   "cell_type": "code",
   "execution_count": 10,
   "metadata": {
    "execution": {
     "iopub.execute_input": "2023-04-04T21:07:00.526974Z",
     "iopub.status.busy": "2023-04-04T21:07:00.525974Z",
     "iopub.status.idle": "2023-04-04T21:07:08.027599Z",
     "shell.execute_reply": "2023-04-04T21:07:08.026593Z"
    }
   },
   "outputs": [
    {
     "name": "stdout",
     "output_type": "stream",
     "text": [
      "Full path to pickled df_OHLCVA_downloaded:  C:/Users/ping/MyDrive/stocks/yfinance/VSCode_dump/df_OHLCVA_downloaded \n"
     ]
    }
   ],
   "source": [
    "df = pd.concat(df_list, axis=1)\n",
    "if l_symbols_err:  # if list is not empty, drop symbols with errors\n",
    "  print(f'l_symbols_err is empty: {l_symbols_err}')  \n",
    "  df.drop(l_symbols_err, axis=1, level=0, inplace=True)  # drop symbols with errors\n",
    "\n",
    "l_symbols = list(set(df.columns.get_level_values(0)))  # get unique symbols\n",
    "l_symbols.sort()\n",
    "df = df[l_symbols]  # sort columns by list\n",
    "print(f\"Full path to pickled df_OHLCVA_downloaded:  {path_data_dump}{filename_pickled_df_OHLCVA_downloaded}\")\n",
    "pickle_dump(df, path_data_dump, filename_pickled_df_OHLCVA_downloaded)  # save OHLCA data"
   ]
  },
  {
   "cell_type": "code",
   "execution_count": 11,
   "metadata": {
    "execution": {
     "iopub.execute_input": "2023-04-04T21:07:08.032595Z",
     "iopub.status.busy": "2023-04-04T21:07:08.031598Z",
     "iopub.status.idle": "2023-04-04T21:07:19.730984Z",
     "shell.execute_reply": "2023-04-04T21:07:19.729988Z"
    }
   },
   "outputs": [
    {
     "name": "stdout",
     "output_type": "stream",
     "text": [
      "Full path to pickled df_adjOHLCV:  C:/Users/ping/MyDrive/stocks/yfinance/VSCode_dump/df_adjOHLCV\n"
     ]
    }
   ],
   "source": [
    "# adjust OHLC\n",
    "df_adj_list=[]\n",
    "for symbol in l_symbols:\n",
    "  _df = auto_adjust(df[symbol])\n",
    "  df_adj_list.append(_df)\n",
    "\n",
    "df_adj = pd.concat(df_adj_list, axis=1)\n",
    "cols = ['Open', 'High', 'Low', 'Close', 'Volume']\n",
    "col_names = pd.MultiIndex.from_product([l_symbols, cols])  # create multilevel column names\n",
    "df_adj.columns = col_names  # reindex columns\n",
    "\n",
    "print(f\"Full path to pickled df_adjOHLCV:  {path_data_dump}{filename_pickled_df_adjOHLCV}\")\n",
    "pickle_dump(df_adj, path_data_dump, filename_pickled_df_adjOHLCV)  # save adjusted OHLCV data"
   ]
  },
  {
   "cell_type": "code",
   "execution_count": 12,
   "metadata": {
    "execution": {
     "iopub.execute_input": "2023-04-04T21:07:19.734983Z",
     "iopub.status.busy": "2023-04-04T21:07:19.733985Z",
     "iopub.status.idle": "2023-04-04T21:07:20.917921Z",
     "shell.execute_reply": "2023-04-04T21:07:20.915924Z"
    }
   },
   "outputs": [],
   "source": [
    "df_adjOHLCV = pickle_load(path_data_dump, filename_pickled_df_adjOHLCV)"
   ]
  },
  {
   "cell_type": "code",
   "execution_count": 13,
   "metadata": {
    "execution": {
     "iopub.execute_input": "2023-04-04T21:07:20.925921Z",
     "iopub.status.busy": "2023-04-04T21:07:20.924921Z",
     "iopub.status.idle": "2023-04-04T21:07:23.584483Z",
     "shell.execute_reply": "2023-04-04T21:07:23.582474Z"
    }
   },
   "outputs": [
    {
     "name": "stdout",
     "output_type": "stream",
     "text": [
      "Symbol's OHLCV are all NaN: []\n",
      "symbols with all NaN dropped from df_adjOHLCV: []\n"
     ]
    }
   ],
   "source": [
    "# drop symbols with all NaN in OHLCV columns from df\n",
    "df_adjOHLCV, symbols_OHLCV, symbols_dropped = drop_symbols_all_NaN(df_adjOHLCV, verbose)\n",
    "print(f'symbols with all NaN dropped from df_adjOHLCV: {symbols_dropped}')"
   ]
  },
  {
   "cell_type": "code",
   "execution_count": 14,
   "metadata": {
    "execution": {
     "iopub.execute_input": "2023-04-04T21:07:23.589473Z",
     "iopub.status.busy": "2023-04-04T21:07:23.588474Z",
     "iopub.status.idle": "2023-04-04T21:07:23.645764Z",
     "shell.execute_reply": "2023-04-04T21:07:23.644769Z"
    }
   },
   "outputs": [],
   "source": [
    "# rename columns OHLCV *ONLY AFTER* dropping symbols with all NaN from df,\n",
    "#   symbols with all NaN has an added AdjClose column and will cause errors  \n",
    "#  rename column names from ['Open', ..., 'Volume'] to ['open', ..., 'volume']\n",
    "#  .remove_unused_levels() prevents ValueError\n",
    "#   e.g ValueError: On level 1, code max (5) >= length of level (5). NOTE: this index is in an inconsistent state\n",
    "# The error may be caused by removing symbols from the dataframe with all NaN in OHLCV columns\n",
    "df_adjOHLCV.columns = df_adjOHLCV.columns.remove_unused_levels()\n",
    "# # set_levels reorders df columns in alphabetical order, so the list of column names also needs to be in alphabetical order\n",
    "# df_adjOHLCV.columns = df_adjOHLCV.columns.set_levels(['close', 'high', 'low', 'open', 'volume'], level=1)"
   ]
  },
  {
   "cell_type": "code",
   "execution_count": 15,
   "metadata": {
    "execution": {
     "iopub.execute_input": "2023-04-04T21:07:23.649763Z",
     "iopub.status.busy": "2023-04-04T21:07:23.648764Z",
     "iopub.status.idle": "2023-04-04T21:07:24.089763Z",
     "shell.execute_reply": "2023-04-04T21:07:24.088767Z"
    }
   },
   "outputs": [],
   "source": [
    "# drop weekend data by re-indexing to date-index of index_symbol\n",
    "myNaN = float('nan')\n",
    "# use Exxon's date as proxy for NYSE trading dates\n",
    "df_adjOHLCV = df_adjOHLCV.reindex(df_XOM.index, fill_value=myNaN)"
   ]
  },
  {
   "cell_type": "code",
   "execution_count": 16,
   "metadata": {
    "execution": {
     "iopub.execute_input": "2023-04-04T21:07:24.092764Z",
     "iopub.status.busy": "2023-04-04T21:07:24.092764Z",
     "iopub.status.idle": "2023-04-04T21:07:28.410256Z",
     "shell.execute_reply": "2023-04-04T21:07:28.409256Z"
    }
   },
   "outputs": [
    {
     "name": "stdout",
     "output_type": "stream",
     "text": [
      "Full path to pickled df_adjOHLCV:  C:/Users/ping/MyDrive/stocks/yfinance/VSCode_dump/df_adjOHLCV\n",
      "Full path to pickled symbols_df_adjOHLCV:  C:/Users/ping/MyDrive/stocks/yfinance/VSCode_dump/symbols_df_adjOHLCV\n"
     ]
    }
   ],
   "source": [
    "# pickle df_adjOHLCV and symbols\n",
    "# print(f\"Full path to pickled df_adjOHLCV_downloaded:  {path_data_dump}{filename_pickled_df_adjOHLCV_downloaded}\")\n",
    "# pickle_dump(df_adjOHLCV_downloaded, path_data_dump, filename_pickled_df_adjOHLCV_downloaded, verbose=verbose)\n",
    "print(f\"Full path to pickled df_adjOHLCV:  {path_data_dump}{filename_pickled_df_adjOHLCV}\")\n",
    "pickle_dump(df_adjOHLCV, path_data_dump, filename_pickled_df_adjOHLCV, verbose=verbose)\n",
    "print(f\"Full path to pickled symbols_df_adjOHLCV:  {path_data_dump}{filename_pickled_symbols_df_adjOHLCV}\")\n",
    "pickle_dump(symbols_OHLCV, path_data_dump, filename_pickled_symbols_df_adjOHLCV, verbose=verbose)"
   ]
  },
  {
   "cell_type": "code",
   "execution_count": 17,
   "metadata": {
    "execution": {
     "iopub.execute_input": "2023-04-04T21:07:28.415256Z",
     "iopub.status.busy": "2023-04-04T21:07:28.414258Z",
     "iopub.status.idle": "2023-04-04T21:07:29.247256Z",
     "shell.execute_reply": "2023-04-04T21:07:29.245256Z"
    }
   },
   "outputs": [],
   "source": [
    "symbols_OHLCV = list(set([i[0] for i in list(df_adjOHLCV)]))\n",
    "df_symbols_close = df_adjOHLCV.xs('Close', level=1, axis=1)\n",
    "pickle_dump(df_symbols_close, path_data_dump, filename_pickled_df_symbols_close, verbose=verbose)"
   ]
  },
  {
   "cell_type": "code",
   "execution_count": 18,
   "metadata": {
    "execution": {
     "iopub.execute_input": "2023-04-04T21:07:29.251255Z",
     "iopub.status.busy": "2023-04-04T21:07:29.250255Z",
     "iopub.status.idle": "2023-04-04T21:07:33.039079Z",
     "shell.execute_reply": "2023-04-04T21:07:33.038077Z"
    }
   },
   "outputs": [
    {
     "name": "stdout",
     "output_type": "stream",
     "text": [
      "Full path to pickled df_OHLCVA_downloaded:  C:/Users/ping/MyDrive/stocks/yfinance/VSCode_dump/df_OHLCVA_downloaded \n",
      "Full path to pickled df_adjOHLCV:  C:/Users/ping/MyDrive/stocks/yfinance/VSCode_dump/df_adjOHLCV\n",
      "Full path to pickled df_symbols_close:  C:/Users/ping/MyDrive/stocks/yfinance/VSCode_dump/df_symbols_close\n",
      "Full path to pickled symbols_df_adjOHLCV:  C:/Users/ping/MyDrive/stocks/yfinance/VSCode_dump/symbols_df_adjOHLCV\n"
     ]
    }
   ],
   "source": [
    "# retrieve pickled files\n",
    "\n",
    "print(f\"Full path to pickled df_OHLCVA_downloaded:  {path_data_dump}{filename_pickled_df_OHLCVA_downloaded}\")\n",
    "df_OHLCVA_downloaded = pickle_load(path_data_dump, filename_pickled_df_OHLCVA_downloaded, verbose=verbose)\n",
    "\n",
    "print(f\"Full path to pickled df_adjOHLCV:  {path_data_dump}{filename_pickled_df_adjOHLCV}\")\n",
    "df_adjOHLCV = pickle_load(path_data_dump, filename_pickled_df_adjOHLCV, verbose=verbose)\n",
    "\n",
    "print(f\"Full path to pickled df_symbols_close:  {path_data_dump}{filename_pickled_df_symbols_close}\")\n",
    "df_close = pickle_load(path_data_dump, filename_pickled_df_symbols_close, verbose=verbose)\n",
    "\n",
    "print(f\"Full path to pickled symbols_df_adjOHLCV:  {path_data_dump}{filename_pickled_symbols_df_adjOHLCV}\")\n",
    "symbols_df = pickle_load(path_data_dump, filename_pickled_symbols_df_adjOHLCV, verbose=verbose)"
   ]
  },
  {
   "cell_type": "code",
   "execution_count": 19,
   "metadata": {
    "execution": {
     "iopub.execute_input": "2023-04-04T21:07:33.044078Z",
     "iopub.status.busy": "2023-04-04T21:07:33.043078Z",
     "iopub.status.idle": "2023-04-04T21:07:35.323949Z",
     "shell.execute_reply": "2023-04-04T21:07:35.322950Z"
    }
   },
   "outputs": [
    {
     "name": "stdout",
     "output_type": "stream",
     "text": [
      "<class 'pandas.core.frame.DataFrame'>\n",
      "DatetimeIndex: 16390 entries, 1962-01-02 to 2023-04-04\n",
      "Columns: 9570 entries, ('A', 'Open') to ('ZWS', 'Volume')\n",
      "dtypes: float64(9570)\n",
      "memory usage: 1.2 GB\n",
      "df_OHLCVA_downloaded.info():\n",
      "None\n",
      "\n",
      "<class 'pandas.core.frame.DataFrame'>\n",
      "DatetimeIndex: 15420 entries, 1962-01-02 to 2023-04-04\n",
      "Columns: 7975 entries, ('A', 'Open') to ('ZWS', 'Volume')\n",
      "dtypes: float64(7975)\n",
      "memory usage: 938.3 MB\n",
      "df_adjOHLCV.info():\n",
      "None\n",
      "\n",
      "<class 'pandas.core.frame.DataFrame'>\n",
      "DatetimeIndex: 15420 entries, 1962-01-02 to 2023-04-04\n",
      "Columns: 1595 entries, A to ZWS\n",
      "dtypes: float64(1595)\n",
      "memory usage: 187.8 MB\n",
      "df_close.info():\n",
      "None\n",
      "\n",
      "len(symbols_df):\n",
      "1595\n",
      "\n"
     ]
    }
   ],
   "source": [
    "print(f'df_OHLCVA_downloaded.info():\\n{df_OHLCVA_downloaded.info()}\\n')\n",
    "print(f'df_adjOHLCV.info():\\n{df_adjOHLCV.info()}\\n')\n",
    "print(f'df_close.info():\\n{df_close.info()}\\n')\n",
    "print(f'len(symbols_df):\\n{len(symbols_df)}\\n')"
   ]
  },
  {
   "cell_type": "code",
   "execution_count": 20,
   "metadata": {
    "execution": {
     "iopub.execute_input": "2023-04-04T21:07:35.326950Z",
     "iopub.status.busy": "2023-04-04T21:07:35.326950Z",
     "iopub.status.idle": "2023-04-04T21:07:35.338950Z",
     "shell.execute_reply": "2023-04-04T21:07:35.338950Z"
    }
   },
   "outputs": [
    {
     "name": "stdout",
     "output_type": "stream",
     "text": [
      "No error found, Column counts in df_close, df_OHLCVA, df_adjOHLCV matched symbol count\n"
     ]
    }
   ],
   "source": [
    "count_symbols = len(symbols_df)\n",
    "count_df_close_cols = len(df_close.columns)\n",
    "count_cols_df_OHLCVA_downloaded = len(df_OHLCVA_downloaded.columns)\n",
    "count_cols_df_adjOHLCV = len(df_adjOHLCV.columns)\n",
    "if count_symbols != count_df_close_cols:\n",
    "  raise SystemExit(f'symbol count: {count_symbols} does not equal df_close column count: {count_df_close_cols}')\n",
    "if count_symbols * 6 != count_cols_df_OHLCVA_downloaded:\n",
    "  raise SystemExit(f'6 x symbol count: {6 * count_symbols} does not equal df_OHLCVA_downloaded column count: {count_cols_df_OHLCVA_downloaded}')\n",
    "if count_symbols * 5 != count_cols_df_adjOHLCV:\n",
    "  raise SystemExit(f'5 x symbol count: {5 * count_symbols} does not equal df_adjOHLCV column count: {count_cols_df_adjOHLCV}')\n",
    "print(f'No error found, Column counts in df_close, df_OHLCVA, df_adjOHLCV matched symbol count')\n"
   ]
  },
  {
   "cell_type": "code",
   "execution_count": 21,
   "metadata": {
    "execution": {
     "iopub.execute_input": "2023-04-04T21:07:35.342950Z",
     "iopub.status.busy": "2023-04-04T21:07:35.341948Z",
     "iopub.status.idle": "2023-04-04T21:07:35.355256Z",
     "shell.execute_reply": "2023-04-04T21:07:35.354244Z"
    }
   },
   "outputs": [
    {
     "name": "stdout",
     "output_type": "stream",
     "text": [
      "count_symbols: 1595\n",
      "count_df_close_cols: 1595\n",
      "count_cols_df_OHLCVA_downloaded: 9570\n",
      "count_cols_df_adjOHLCV: 7975\n"
     ]
    }
   ],
   "source": [
    "print(f'count_symbols: {count_symbols}')\n",
    "print(f'count_df_close_cols: {count_df_close_cols}')\n",
    "print(f'count_cols_df_OHLCVA_downloaded: {count_cols_df_OHLCVA_downloaded}')\n",
    "print(f'count_cols_df_adjOHLCV: {count_cols_df_adjOHLCV}')"
   ]
  },
  {
   "cell_type": "code",
   "execution_count": 22,
   "metadata": {
    "execution": {
     "iopub.execute_input": "2023-04-04T21:07:35.358253Z",
     "iopub.status.busy": "2023-04-04T21:07:35.358253Z",
     "iopub.status.idle": "2023-04-04T21:07:36.210021Z",
     "shell.execute_reply": "2023-04-04T21:07:36.209036Z"
    }
   },
   "outputs": [
    {
     "name": "stdout",
     "output_type": "stream",
     "text": [
      "symbol:     A   Date: 2022-04-06   df_Close:  131.83479     Yahoo_Close:  131.83476   %_dif_Close: 0.00002\n",
      "symbol:   LMT   Date: 2022-04-06   df_Close:  443.20792     Yahoo_Close:  443.20792   %_dif_Close: 0.00000\n",
      "symbol:   SPY   Date: 2022-04-06   df_Close:  439.08084     Yahoo_Close:  439.08084   %_dif_Close: 0.00000\n",
      "No errors found.  Symbols' 'Adjusted Close' matched Yahoo symbols' Close \n"
     ]
    }
   ],
   "source": [
    "close_vs_Yahoo(test_symbols, df_adjOHLCV)"
   ]
  },
  {
   "cell_type": "code",
   "execution_count": 23,
   "metadata": {
    "execution": {
     "iopub.execute_input": "2023-04-04T21:07:36.215022Z",
     "iopub.status.busy": "2023-04-04T21:07:36.215022Z",
     "iopub.status.idle": "2023-04-04T21:07:36.273189Z",
     "shell.execute_reply": "2023-04-04T21:07:36.271179Z"
    }
   },
   "outputs": [
    {
     "data": {
      "text/html": [
       "<div>\n",
       "<style scoped>\n",
       "    .dataframe tbody tr th:only-of-type {\n",
       "        vertical-align: middle;\n",
       "    }\n",
       "\n",
       "    .dataframe tbody tr th {\n",
       "        vertical-align: top;\n",
       "    }\n",
       "\n",
       "    .dataframe thead th {\n",
       "        text-align: right;\n",
       "    }\n",
       "</style>\n",
       "<table border=\"1\" class=\"dataframe\">\n",
       "  <thead>\n",
       "    <tr style=\"text-align: right;\">\n",
       "      <th></th>\n",
       "      <th>Open</th>\n",
       "      <th>High</th>\n",
       "      <th>Low</th>\n",
       "      <th>Close</th>\n",
       "      <th>Adj Close</th>\n",
       "      <th>Volume</th>\n",
       "    </tr>\n",
       "    <tr>\n",
       "      <th>Date</th>\n",
       "      <th></th>\n",
       "      <th></th>\n",
       "      <th></th>\n",
       "      <th></th>\n",
       "      <th></th>\n",
       "      <th></th>\n",
       "    </tr>\n",
       "  </thead>\n",
       "  <tbody>\n",
       "    <tr>\n",
       "      <th>2022-07-27</th>\n",
       "      <td>445.579987</td>\n",
       "      <td>447.670013</td>\n",
       "      <td>441.399994</td>\n",
       "      <td>445.809998</td>\n",
       "      <td>441.170532</td>\n",
       "      <td>744600.0</td>\n",
       "    </tr>\n",
       "    <tr>\n",
       "      <th>2022-07-28</th>\n",
       "      <td>438.390015</td>\n",
       "      <td>455.880005</td>\n",
       "      <td>433.869995</td>\n",
       "      <td>454.459991</td>\n",
       "      <td>449.730530</td>\n",
       "      <td>1016600.0</td>\n",
       "    </tr>\n",
       "    <tr>\n",
       "      <th>2022-07-29</th>\n",
       "      <td>457.720001</td>\n",
       "      <td>479.799988</td>\n",
       "      <td>456.059998</td>\n",
       "      <td>478.899994</td>\n",
       "      <td>473.916168</td>\n",
       "      <td>1199000.0</td>\n",
       "    </tr>\n",
       "    <tr>\n",
       "      <th>2022-07-30</th>\n",
       "      <td>NaN</td>\n",
       "      <td>NaN</td>\n",
       "      <td>NaN</td>\n",
       "      <td>NaN</td>\n",
       "      <td>NaN</td>\n",
       "      <td>NaN</td>\n",
       "    </tr>\n",
       "  </tbody>\n",
       "</table>\n",
       "</div>"
      ],
      "text/plain": [
       "                  Open        High         Low       Close   Adj Close  \\\n",
       "Date                                                                     \n",
       "2022-07-27  445.579987  447.670013  441.399994  445.809998  441.170532   \n",
       "2022-07-28  438.390015  455.880005  433.869995  454.459991  449.730530   \n",
       "2022-07-29  457.720001  479.799988  456.059998  478.899994  473.916168   \n",
       "2022-07-30         NaN         NaN         NaN         NaN         NaN   \n",
       "\n",
       "               Volume  \n",
       "Date                   \n",
       "2022-07-27   744600.0  \n",
       "2022-07-28  1016600.0  \n",
       "2022-07-29  1199000.0  \n",
       "2022-07-30        NaN  "
      ]
     },
     "execution_count": 23,
     "metadata": {},
     "output_type": "execute_result"
    }
   ],
   "source": [
    "_sym = 'NOC'\n",
    "s_start, s_end = -252, -248\n",
    "df_adjOHLCV[_sym].iloc[s_start:s_end]\n",
    "df_OHLCVA_downloaded[_sym].iloc[s_start:s_end]"
   ]
  },
  {
   "cell_type": "code",
   "execution_count": 24,
   "metadata": {
    "execution": {
     "iopub.execute_input": "2023-04-04T21:07:36.278188Z",
     "iopub.status.busy": "2023-04-04T21:07:36.277189Z",
     "iopub.status.idle": "2023-04-04T21:07:36.333614Z",
     "shell.execute_reply": "2023-04-04T21:07:36.332601Z"
    }
   },
   "outputs": [
    {
     "data": {
      "text/html": [
       "<div>\n",
       "<style scoped>\n",
       "    .dataframe tbody tr th:only-of-type {\n",
       "        vertical-align: middle;\n",
       "    }\n",
       "\n",
       "    .dataframe tbody tr th {\n",
       "        vertical-align: top;\n",
       "    }\n",
       "\n",
       "    .dataframe thead tr th {\n",
       "        text-align: left;\n",
       "    }\n",
       "\n",
       "    .dataframe thead tr:last-of-type th {\n",
       "        text-align: right;\n",
       "    }\n",
       "</style>\n",
       "<table border=\"1\" class=\"dataframe\">\n",
       "  <thead>\n",
       "    <tr>\n",
       "      <th></th>\n",
       "      <th colspan=\"5\" halign=\"left\">A</th>\n",
       "      <th colspan=\"5\" halign=\"left\">AA</th>\n",
       "      <th>...</th>\n",
       "      <th colspan=\"5\" halign=\"left\">ZUMZ</th>\n",
       "      <th colspan=\"5\" halign=\"left\">ZWS</th>\n",
       "    </tr>\n",
       "    <tr>\n",
       "      <th></th>\n",
       "      <th>Open</th>\n",
       "      <th>High</th>\n",
       "      <th>Low</th>\n",
       "      <th>Close</th>\n",
       "      <th>Volume</th>\n",
       "      <th>Open</th>\n",
       "      <th>High</th>\n",
       "      <th>Low</th>\n",
       "      <th>Close</th>\n",
       "      <th>Volume</th>\n",
       "      <th>...</th>\n",
       "      <th>Open</th>\n",
       "      <th>High</th>\n",
       "      <th>Low</th>\n",
       "      <th>Close</th>\n",
       "      <th>Volume</th>\n",
       "      <th>Open</th>\n",
       "      <th>High</th>\n",
       "      <th>Low</th>\n",
       "      <th>Close</th>\n",
       "      <th>Volume</th>\n",
       "    </tr>\n",
       "    <tr>\n",
       "      <th>Date</th>\n",
       "      <th></th>\n",
       "      <th></th>\n",
       "      <th></th>\n",
       "      <th></th>\n",
       "      <th></th>\n",
       "      <th></th>\n",
       "      <th></th>\n",
       "      <th></th>\n",
       "      <th></th>\n",
       "      <th></th>\n",
       "      <th></th>\n",
       "      <th></th>\n",
       "      <th></th>\n",
       "      <th></th>\n",
       "      <th></th>\n",
       "      <th></th>\n",
       "      <th></th>\n",
       "      <th></th>\n",
       "      <th></th>\n",
       "      <th></th>\n",
       "      <th></th>\n",
       "    </tr>\n",
       "  </thead>\n",
       "  <tbody>\n",
       "    <tr>\n",
       "      <th>2023-03-29</th>\n",
       "      <td>133.732137</td>\n",
       "      <td>134.021674</td>\n",
       "      <td>132.414292</td>\n",
       "      <td>133.632309</td>\n",
       "      <td>1002800.0</td>\n",
       "      <td>41.299999</td>\n",
       "      <td>41.400002</td>\n",
       "      <td>40.709999</td>\n",
       "      <td>40.939999</td>\n",
       "      <td>4154800.0</td>\n",
       "      <td>...</td>\n",
       "      <td>17.610001</td>\n",
       "      <td>17.770000</td>\n",
       "      <td>17.299999</td>\n",
       "      <td>17.730000</td>\n",
       "      <td>398500.0</td>\n",
       "      <td>20.639999</td>\n",
       "      <td>20.969999</td>\n",
       "      <td>20.549999</td>\n",
       "      <td>20.879999</td>\n",
       "      <td>1320200.0</td>\n",
       "    </tr>\n",
       "    <tr>\n",
       "      <th>2023-03-30</th>\n",
       "      <td>135.050001</td>\n",
       "      <td>135.319551</td>\n",
       "      <td>133.103175</td>\n",
       "      <td>134.271271</td>\n",
       "      <td>1468200.0</td>\n",
       "      <td>41.599998</td>\n",
       "      <td>42.889999</td>\n",
       "      <td>41.380001</td>\n",
       "      <td>41.759998</td>\n",
       "      <td>4800400.0</td>\n",
       "      <td>...</td>\n",
       "      <td>18.010000</td>\n",
       "      <td>18.469999</td>\n",
       "      <td>17.730000</td>\n",
       "      <td>17.870001</td>\n",
       "      <td>407500.0</td>\n",
       "      <td>21.120001</td>\n",
       "      <td>21.129999</td>\n",
       "      <td>20.809999</td>\n",
       "      <td>20.910000</td>\n",
       "      <td>639000.0</td>\n",
       "    </tr>\n",
       "    <tr>\n",
       "      <th>2023-03-31</th>\n",
       "      <td>135.179770</td>\n",
       "      <td>138.504355</td>\n",
       "      <td>134.640655</td>\n",
       "      <td>138.114990</td>\n",
       "      <td>2579800.0</td>\n",
       "      <td>41.970001</td>\n",
       "      <td>42.750000</td>\n",
       "      <td>41.599998</td>\n",
       "      <td>42.560001</td>\n",
       "      <td>3078100.0</td>\n",
       "      <td>...</td>\n",
       "      <td>17.959999</td>\n",
       "      <td>18.459999</td>\n",
       "      <td>17.930000</td>\n",
       "      <td>18.440001</td>\n",
       "      <td>569400.0</td>\n",
       "      <td>21.080000</td>\n",
       "      <td>21.379999</td>\n",
       "      <td>21.049999</td>\n",
       "      <td>21.360001</td>\n",
       "      <td>881500.0</td>\n",
       "    </tr>\n",
       "    <tr>\n",
       "      <th>2023-04-03</th>\n",
       "      <td>137.419998</td>\n",
       "      <td>138.089996</td>\n",
       "      <td>136.009995</td>\n",
       "      <td>137.860001</td>\n",
       "      <td>1551800.0</td>\n",
       "      <td>42.560001</td>\n",
       "      <td>42.950001</td>\n",
       "      <td>41.130001</td>\n",
       "      <td>41.770000</td>\n",
       "      <td>3272100.0</td>\n",
       "      <td>...</td>\n",
       "      <td>18.620001</td>\n",
       "      <td>18.980000</td>\n",
       "      <td>18.260000</td>\n",
       "      <td>18.950001</td>\n",
       "      <td>483800.0</td>\n",
       "      <td>21.480000</td>\n",
       "      <td>21.580000</td>\n",
       "      <td>21.070000</td>\n",
       "      <td>21.440001</td>\n",
       "      <td>757500.0</td>\n",
       "    </tr>\n",
       "    <tr>\n",
       "      <th>2023-04-04</th>\n",
       "      <td>138.250000</td>\n",
       "      <td>139.110001</td>\n",
       "      <td>137.529999</td>\n",
       "      <td>138.210007</td>\n",
       "      <td>1661880.0</td>\n",
       "      <td>41.439999</td>\n",
       "      <td>41.520000</td>\n",
       "      <td>39.310001</td>\n",
       "      <td>40.340000</td>\n",
       "      <td>4536224.0</td>\n",
       "      <td>...</td>\n",
       "      <td>19.000000</td>\n",
       "      <td>19.129999</td>\n",
       "      <td>18.389999</td>\n",
       "      <td>18.510000</td>\n",
       "      <td>352830.0</td>\n",
       "      <td>21.490000</td>\n",
       "      <td>21.500000</td>\n",
       "      <td>20.530001</td>\n",
       "      <td>20.610001</td>\n",
       "      <td>1170315.0</td>\n",
       "    </tr>\n",
       "  </tbody>\n",
       "</table>\n",
       "<p>5 rows × 7975 columns</p>\n",
       "</div>"
      ],
      "text/plain": [
       "                     A                                                 \\\n",
       "                  Open        High         Low       Close     Volume   \n",
       "Date                                                                    \n",
       "2023-03-29  133.732137  134.021674  132.414292  133.632309  1002800.0   \n",
       "2023-03-30  135.050001  135.319551  133.103175  134.271271  1468200.0   \n",
       "2023-03-31  135.179770  138.504355  134.640655  138.114990  2579800.0   \n",
       "2023-04-03  137.419998  138.089996  136.009995  137.860001  1551800.0   \n",
       "2023-04-04  138.250000  139.110001  137.529999  138.210007  1661880.0   \n",
       "\n",
       "                   AA                                              ...  \\\n",
       "                 Open       High        Low      Close     Volume  ...   \n",
       "Date                                                               ...   \n",
       "2023-03-29  41.299999  41.400002  40.709999  40.939999  4154800.0  ...   \n",
       "2023-03-30  41.599998  42.889999  41.380001  41.759998  4800400.0  ...   \n",
       "2023-03-31  41.970001  42.750000  41.599998  42.560001  3078100.0  ...   \n",
       "2023-04-03  42.560001  42.950001  41.130001  41.770000  3272100.0  ...   \n",
       "2023-04-04  41.439999  41.520000  39.310001  40.340000  4536224.0  ...   \n",
       "\n",
       "                 ZUMZ                                                   ZWS  \\\n",
       "                 Open       High        Low      Close    Volume       Open   \n",
       "Date                                                                          \n",
       "2023-03-29  17.610001  17.770000  17.299999  17.730000  398500.0  20.639999   \n",
       "2023-03-30  18.010000  18.469999  17.730000  17.870001  407500.0  21.120001   \n",
       "2023-03-31  17.959999  18.459999  17.930000  18.440001  569400.0  21.080000   \n",
       "2023-04-03  18.620001  18.980000  18.260000  18.950001  483800.0  21.480000   \n",
       "2023-04-04  19.000000  19.129999  18.389999  18.510000  352830.0  21.490000   \n",
       "\n",
       "                                                        \n",
       "                 High        Low      Close     Volume  \n",
       "Date                                                    \n",
       "2023-03-29  20.969999  20.549999  20.879999  1320200.0  \n",
       "2023-03-30  21.129999  20.809999  20.910000   639000.0  \n",
       "2023-03-31  21.379999  21.049999  21.360001   881500.0  \n",
       "2023-04-03  21.580000  21.070000  21.440001   757500.0  \n",
       "2023-04-04  21.500000  20.530001  20.610001  1170315.0  \n",
       "\n",
       "[5 rows x 7975 columns]"
      ]
     },
     "execution_count": 24,
     "metadata": {},
     "output_type": "execute_result"
    }
   ],
   "source": [
    "df_adjOHLCV.tail()"
   ]
  },
  {
   "cell_type": "code",
   "execution_count": 25,
   "metadata": {
    "execution": {
     "iopub.execute_input": "2023-04-04T21:07:36.337613Z",
     "iopub.status.busy": "2023-04-04T21:07:36.336612Z",
     "iopub.status.idle": "2023-04-04T21:07:36.364159Z",
     "shell.execute_reply": "2023-04-04T21:07:36.363158Z"
    }
   },
   "outputs": [
    {
     "data": {
      "text/html": [
       "<div>\n",
       "<style scoped>\n",
       "    .dataframe tbody tr th:only-of-type {\n",
       "        vertical-align: middle;\n",
       "    }\n",
       "\n",
       "    .dataframe tbody tr th {\n",
       "        vertical-align: top;\n",
       "    }\n",
       "\n",
       "    .dataframe thead th {\n",
       "        text-align: right;\n",
       "    }\n",
       "</style>\n",
       "<table border=\"1\" class=\"dataframe\">\n",
       "  <thead>\n",
       "    <tr style=\"text-align: right;\">\n",
       "      <th></th>\n",
       "      <th>NOC</th>\n",
       "      <th>HII</th>\n",
       "      <th>AVAV</th>\n",
       "      <th>LMT</th>\n",
       "      <th>CW</th>\n",
       "      <th>HEI</th>\n",
       "    </tr>\n",
       "    <tr>\n",
       "      <th>Date</th>\n",
       "      <th></th>\n",
       "      <th></th>\n",
       "      <th></th>\n",
       "      <th></th>\n",
       "      <th></th>\n",
       "      <th></th>\n",
       "    </tr>\n",
       "  </thead>\n",
       "  <tbody>\n",
       "    <tr>\n",
       "      <th>2023-03-29</th>\n",
       "      <td>461.570007</td>\n",
       "      <td>208.779999</td>\n",
       "      <td>90.930000</td>\n",
       "      <td>474.190002</td>\n",
       "      <td>173.330002</td>\n",
       "      <td>169.630005</td>\n",
       "    </tr>\n",
       "    <tr>\n",
       "      <th>2023-03-30</th>\n",
       "      <td>460.980011</td>\n",
       "      <td>206.970001</td>\n",
       "      <td>90.949997</td>\n",
       "      <td>473.179993</td>\n",
       "      <td>174.479996</td>\n",
       "      <td>170.039993</td>\n",
       "    </tr>\n",
       "    <tr>\n",
       "      <th>2023-03-31</th>\n",
       "      <td>461.720001</td>\n",
       "      <td>207.020004</td>\n",
       "      <td>91.660004</td>\n",
       "      <td>472.730011</td>\n",
       "      <td>176.259995</td>\n",
       "      <td>171.039993</td>\n",
       "    </tr>\n",
       "    <tr>\n",
       "      <th>2023-04-03</th>\n",
       "      <td>469.190002</td>\n",
       "      <td>209.000000</td>\n",
       "      <td>91.949997</td>\n",
       "      <td>486.619995</td>\n",
       "      <td>178.300003</td>\n",
       "      <td>172.250000</td>\n",
       "    </tr>\n",
       "    <tr>\n",
       "      <th>2023-04-04</th>\n",
       "      <td>468.100006</td>\n",
       "      <td>208.330002</td>\n",
       "      <td>101.559998</td>\n",
       "      <td>488.540009</td>\n",
       "      <td>173.850006</td>\n",
       "      <td>168.809998</td>\n",
       "    </tr>\n",
       "  </tbody>\n",
       "</table>\n",
       "</div>"
      ],
      "text/plain": [
       "                   NOC         HII        AVAV         LMT          CW  \\\n",
       "Date                                                                     \n",
       "2023-03-29  461.570007  208.779999   90.930000  474.190002  173.330002   \n",
       "2023-03-30  460.980011  206.970001   90.949997  473.179993  174.479996   \n",
       "2023-03-31  461.720001  207.020004   91.660004  472.730011  176.259995   \n",
       "2023-04-03  469.190002  209.000000   91.949997  486.619995  178.300003   \n",
       "2023-04-04  468.100006  208.330002  101.559998  488.540009  173.850006   \n",
       "\n",
       "                   HEI  \n",
       "Date                    \n",
       "2023-03-29  169.630005  \n",
       "2023-03-30  170.039993  \n",
       "2023-03-31  171.039993  \n",
       "2023-04-03  172.250000  \n",
       "2023-04-04  168.809998  "
      ]
     },
     "execution_count": 25,
     "metadata": {},
     "output_type": "execute_result"
    }
   ],
   "source": [
    "syms_def = ['NOC', 'HII', 'AVAV', 'LMT', 'CW', 'HEI']\n",
    "_df = df_close[syms_def]\n",
    "_df.tail()\n"
   ]
  },
  {
   "cell_type": "code",
   "execution_count": 26,
   "metadata": {
    "execution": {
     "iopub.execute_input": "2023-04-04T21:07:36.368159Z",
     "iopub.status.busy": "2023-04-04T21:07:36.367160Z",
     "iopub.status.idle": "2023-04-04T21:07:36.379158Z",
     "shell.execute_reply": "2023-04-04T21:07:36.379158Z"
    }
   },
   "outputs": [
    {
     "data": {
      "text/html": [
       "<div>\n",
       "<style scoped>\n",
       "    .dataframe tbody tr th:only-of-type {\n",
       "        vertical-align: middle;\n",
       "    }\n",
       "\n",
       "    .dataframe tbody tr th {\n",
       "        vertical-align: top;\n",
       "    }\n",
       "\n",
       "    .dataframe thead th {\n",
       "        text-align: right;\n",
       "    }\n",
       "</style>\n",
       "<table border=\"1\" class=\"dataframe\">\n",
       "  <thead>\n",
       "    <tr style=\"text-align: right;\">\n",
       "      <th></th>\n",
       "      <th>LNG</th>\n",
       "      <th>CHK</th>\n",
       "      <th>GLNG</th>\n",
       "    </tr>\n",
       "    <tr>\n",
       "      <th>Date</th>\n",
       "      <th></th>\n",
       "      <th></th>\n",
       "      <th></th>\n",
       "    </tr>\n",
       "  </thead>\n",
       "  <tbody>\n",
       "    <tr>\n",
       "      <th>2023-03-29</th>\n",
       "      <td>155.490005</td>\n",
       "      <td>75.110001</td>\n",
       "      <td>20.870001</td>\n",
       "    </tr>\n",
       "    <tr>\n",
       "      <th>2023-03-30</th>\n",
       "      <td>156.889999</td>\n",
       "      <td>74.980003</td>\n",
       "      <td>21.450001</td>\n",
       "    </tr>\n",
       "    <tr>\n",
       "      <th>2023-03-31</th>\n",
       "      <td>157.600006</td>\n",
       "      <td>76.040001</td>\n",
       "      <td>21.600000</td>\n",
       "    </tr>\n",
       "    <tr>\n",
       "      <th>2023-04-03</th>\n",
       "      <td>158.149994</td>\n",
       "      <td>76.870003</td>\n",
       "      <td>21.450001</td>\n",
       "    </tr>\n",
       "    <tr>\n",
       "      <th>2023-04-04</th>\n",
       "      <td>153.500000</td>\n",
       "      <td>76.309998</td>\n",
       "      <td>21.080000</td>\n",
       "    </tr>\n",
       "  </tbody>\n",
       "</table>\n",
       "</div>"
      ],
      "text/plain": [
       "                   LNG        CHK       GLNG\n",
       "Date                                        \n",
       "2023-03-29  155.490005  75.110001  20.870001\n",
       "2023-03-30  156.889999  74.980003  21.450001\n",
       "2023-03-31  157.600006  76.040001  21.600000\n",
       "2023-04-03  158.149994  76.870003  21.450001\n",
       "2023-04-04  153.500000  76.309998  21.080000"
      ]
     },
     "execution_count": 26,
     "metadata": {},
     "output_type": "execute_result"
    }
   ],
   "source": [
    "syms_LNG = ['LNG', 'CHK', 'GLNG']\n",
    "_df = df_close[syms_LNG]\n",
    "_df.tail()"
   ]
  },
  {
   "cell_type": "code",
   "execution_count": 27,
   "metadata": {
    "execution": {
     "iopub.execute_input": "2023-04-04T21:07:36.383160Z",
     "iopub.status.busy": "2023-04-04T21:07:36.382159Z",
     "iopub.status.idle": "2023-04-04T21:07:36.411773Z",
     "shell.execute_reply": "2023-04-04T21:07:36.410758Z"
    }
   },
   "outputs": [
    {
     "data": {
      "text/html": [
       "<div>\n",
       "<style scoped>\n",
       "    .dataframe tbody tr th:only-of-type {\n",
       "        vertical-align: middle;\n",
       "    }\n",
       "\n",
       "    .dataframe tbody tr th {\n",
       "        vertical-align: top;\n",
       "    }\n",
       "\n",
       "    .dataframe thead th {\n",
       "        text-align: right;\n",
       "    }\n",
       "</style>\n",
       "<table border=\"1\" class=\"dataframe\">\n",
       "  <thead>\n",
       "    <tr style=\"text-align: right;\">\n",
       "      <th></th>\n",
       "      <th>SPY</th>\n",
       "      <th>VGT</th>\n",
       "      <th>FTEC</th>\n",
       "      <th>QQQ</th>\n",
       "      <th>VWO</th>\n",
       "      <th>VTV</th>\n",
       "      <th>BNDX</th>\n",
       "      <th>USO</th>\n",
       "      <th>JJC</th>\n",
       "      <th>BCI</th>\n",
       "      <th>NG</th>\n",
       "      <th>GBTC</th>\n",
       "      <th>BTC-USD</th>\n",
       "      <th>ETH-USD</th>\n",
       "    </tr>\n",
       "    <tr>\n",
       "      <th>Date</th>\n",
       "      <th></th>\n",
       "      <th></th>\n",
       "      <th></th>\n",
       "      <th></th>\n",
       "      <th></th>\n",
       "      <th></th>\n",
       "      <th></th>\n",
       "      <th></th>\n",
       "      <th></th>\n",
       "      <th></th>\n",
       "      <th></th>\n",
       "      <th></th>\n",
       "      <th></th>\n",
       "      <th></th>\n",
       "    </tr>\n",
       "  </thead>\n",
       "  <tbody>\n",
       "    <tr>\n",
       "      <th>2023-03-29</th>\n",
       "      <td>401.350006</td>\n",
       "      <td>375.519989</td>\n",
       "      <td>111.059998</td>\n",
       "      <td>312.720001</td>\n",
       "      <td>40.130001</td>\n",
       "      <td>136.119995</td>\n",
       "      <td>48.768116</td>\n",
       "      <td>64.150002</td>\n",
       "      <td>20.799999</td>\n",
       "      <td>20.500000</td>\n",
       "      <td>6.11</td>\n",
       "      <td>15.840000</td>\n",
       "      <td>28348.441406</td>\n",
       "      <td>1793.001831</td>\n",
       "    </tr>\n",
       "    <tr>\n",
       "      <th>2023-03-30</th>\n",
       "      <td>403.700012</td>\n",
       "      <td>379.309998</td>\n",
       "      <td>112.120003</td>\n",
       "      <td>315.679993</td>\n",
       "      <td>40.520000</td>\n",
       "      <td>136.630005</td>\n",
       "      <td>48.718189</td>\n",
       "      <td>65.320000</td>\n",
       "      <td>21.010000</td>\n",
       "      <td>20.570000</td>\n",
       "      <td>6.26</td>\n",
       "      <td>15.820000</td>\n",
       "      <td>28033.562500</td>\n",
       "      <td>1792.737183</td>\n",
       "    </tr>\n",
       "    <tr>\n",
       "      <th>2023-03-31</th>\n",
       "      <td>409.390015</td>\n",
       "      <td>385.470001</td>\n",
       "      <td>113.949997</td>\n",
       "      <td>320.929993</td>\n",
       "      <td>40.400002</td>\n",
       "      <td>138.110001</td>\n",
       "      <td>48.847996</td>\n",
       "      <td>66.440002</td>\n",
       "      <td>20.809999</td>\n",
       "      <td>20.770000</td>\n",
       "      <td>6.22</td>\n",
       "      <td>16.360001</td>\n",
       "      <td>28478.484375</td>\n",
       "      <td>1822.022095</td>\n",
       "    </tr>\n",
       "    <tr>\n",
       "      <th>2023-04-03</th>\n",
       "      <td>410.950012</td>\n",
       "      <td>384.959991</td>\n",
       "      <td>113.820000</td>\n",
       "      <td>320.149994</td>\n",
       "      <td>40.570000</td>\n",
       "      <td>139.229996</td>\n",
       "      <td>48.930000</td>\n",
       "      <td>70.269997</td>\n",
       "      <td>20.680000</td>\n",
       "      <td>20.969999</td>\n",
       "      <td>6.35</td>\n",
       "      <td>16.049999</td>\n",
       "      <td>27790.220703</td>\n",
       "      <td>1810.297119</td>\n",
       "    </tr>\n",
       "    <tr>\n",
       "      <th>2023-04-04</th>\n",
       "      <td>408.670013</td>\n",
       "      <td>382.519989</td>\n",
       "      <td>113.110001</td>\n",
       "      <td>319.070007</td>\n",
       "      <td>40.610001</td>\n",
       "      <td>138.039993</td>\n",
       "      <td>48.950001</td>\n",
       "      <td>70.269997</td>\n",
       "      <td>20.250000</td>\n",
       "      <td>20.990000</td>\n",
       "      <td>6.55</td>\n",
       "      <td>15.960000</td>\n",
       "      <td>28254.564453</td>\n",
       "      <td>1878.412842</td>\n",
       "    </tr>\n",
       "  </tbody>\n",
       "</table>\n",
       "</div>"
      ],
      "text/plain": [
       "                   SPY         VGT        FTEC         QQQ        VWO  \\\n",
       "Date                                                                    \n",
       "2023-03-29  401.350006  375.519989  111.059998  312.720001  40.130001   \n",
       "2023-03-30  403.700012  379.309998  112.120003  315.679993  40.520000   \n",
       "2023-03-31  409.390015  385.470001  113.949997  320.929993  40.400002   \n",
       "2023-04-03  410.950012  384.959991  113.820000  320.149994  40.570000   \n",
       "2023-04-04  408.670013  382.519989  113.110001  319.070007  40.610001   \n",
       "\n",
       "                   VTV       BNDX        USO        JJC        BCI    NG  \\\n",
       "Date                                                                       \n",
       "2023-03-29  136.119995  48.768116  64.150002  20.799999  20.500000  6.11   \n",
       "2023-03-30  136.630005  48.718189  65.320000  21.010000  20.570000  6.26   \n",
       "2023-03-31  138.110001  48.847996  66.440002  20.809999  20.770000  6.22   \n",
       "2023-04-03  139.229996  48.930000  70.269997  20.680000  20.969999  6.35   \n",
       "2023-04-04  138.039993  48.950001  70.269997  20.250000  20.990000  6.55   \n",
       "\n",
       "                 GBTC       BTC-USD      ETH-USD  \n",
       "Date                                              \n",
       "2023-03-29  15.840000  28348.441406  1793.001831  \n",
       "2023-03-30  15.820000  28033.562500  1792.737183  \n",
       "2023-03-31  16.360001  28478.484375  1822.022095  \n",
       "2023-04-03  16.049999  27790.220703  1810.297119  \n",
       "2023-04-04  15.960000  28254.564453  1878.412842  "
      ]
     },
     "execution_count": 27,
     "metadata": {},
     "output_type": "execute_result"
    }
   ],
   "source": [
    "_df = df_close[symbols_add]\n",
    "_df.tail()"
   ]
  },
  {
   "cell_type": "code",
   "execution_count": 28,
   "metadata": {
    "execution": {
     "iopub.execute_input": "2023-04-04T21:07:36.414770Z",
     "iopub.status.busy": "2023-04-04T21:07:36.414770Z",
     "iopub.status.idle": "2023-04-04T21:07:36.442139Z",
     "shell.execute_reply": "2023-04-04T21:07:36.441144Z"
    }
   },
   "outputs": [
    {
     "data": {
      "text/html": [
       "<div>\n",
       "<style scoped>\n",
       "    .dataframe tbody tr th:only-of-type {\n",
       "        vertical-align: middle;\n",
       "    }\n",
       "\n",
       "    .dataframe tbody tr th {\n",
       "        vertical-align: top;\n",
       "    }\n",
       "\n",
       "    .dataframe thead th {\n",
       "        text-align: right;\n",
       "    }\n",
       "</style>\n",
       "<table border=\"1\" class=\"dataframe\">\n",
       "  <thead>\n",
       "    <tr style=\"text-align: right;\">\n",
       "      <th></th>\n",
       "      <th>A</th>\n",
       "      <th>LMT</th>\n",
       "      <th>SPY</th>\n",
       "    </tr>\n",
       "    <tr>\n",
       "      <th>Date</th>\n",
       "      <th></th>\n",
       "      <th></th>\n",
       "      <th></th>\n",
       "    </tr>\n",
       "  </thead>\n",
       "  <tbody>\n",
       "    <tr>\n",
       "      <th>2022-04-04</th>\n",
       "      <td>133.920914</td>\n",
       "      <td>432.902344</td>\n",
       "      <td>449.189606</td>\n",
       "    </tr>\n",
       "    <tr>\n",
       "      <th>2022-04-05</th>\n",
       "      <td>132.381134</td>\n",
       "      <td>436.051544</td>\n",
       "      <td>443.515717</td>\n",
       "    </tr>\n",
       "    <tr>\n",
       "      <th>2022-04-06</th>\n",
       "      <td>131.834793</td>\n",
       "      <td>443.207916</td>\n",
       "      <td>439.080841</td>\n",
       "    </tr>\n",
       "    <tr>\n",
       "      <th>2022-04-07</th>\n",
       "      <td>135.033524</td>\n",
       "      <td>453.864532</td>\n",
       "      <td>441.293396</td>\n",
       "    </tr>\n",
       "    <tr>\n",
       "      <th>2022-04-08</th>\n",
       "      <td>133.980515</td>\n",
       "      <td>449.974304</td>\n",
       "      <td>440.113403</td>\n",
       "    </tr>\n",
       "  </tbody>\n",
       "</table>\n",
       "</div>"
      ],
      "text/plain": [
       "                     A         LMT         SPY\n",
       "Date                                          \n",
       "2022-04-04  133.920914  432.902344  449.189606\n",
       "2022-04-05  132.381134  436.051544  443.515717\n",
       "2022-04-06  131.834793  443.207916  439.080841\n",
       "2022-04-07  135.033524  453.864532  441.293396\n",
       "2022-04-08  133.980515  449.974304  440.113403"
      ]
     },
     "execution_count": 28,
     "metadata": {},
     "output_type": "execute_result"
    }
   ],
   "source": [
    "# syms_def = ['NOC', 'HII', 'AVAV', 'LMT', 'CW', 'HEI']\n",
    "s_start, s_end = -252, -247\n",
    "_df = df_close[test_symbols].iloc[s_start:s_end]\n",
    "_df"
   ]
  }
 ],
 "metadata": {
  "kernelspec": {
   "display_name": ".venv",
   "language": "python",
   "name": "python3"
  },
  "language_info": {
   "codemirror_mode": {
    "name": "ipython",
    "version": 3
   },
   "file_extension": ".py",
   "mimetype": "text/x-python",
   "name": "python",
   "nbconvert_exporter": "python",
   "pygments_lexer": "ipython3",
   "version": "3.8.10"
  },
  "vscode": {
   "interpreter": {
    "hash": "16adeade2e4c2fe5a5c8fae29fa6e6b24d9301998b78edb3420e7dd402ae68a8"
   }
  }
 },
 "nbformat": 4,
 "nbformat_minor": 2
}
