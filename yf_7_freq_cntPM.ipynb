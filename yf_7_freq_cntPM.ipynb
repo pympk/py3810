{
 "cells": [
  {
   "cell_type": "code",
   "execution_count": 1,
   "metadata": {},
   "outputs": [],
   "source": [
    "# https://www.wrighters.io/parameters-jupyter-notebooks-with-papermill/\n",
    "import papermill as pm\n",
    "from itertools import product"
   ]
  },
  {
   "cell_type": "code",
   "execution_count": 2,
   "metadata": {},
   "outputs": [],
   "source": [
    "# TODO loop thru train, validate, test\n",
    "verbose = True  # True prints more output\n",
    "# verbose = False  # True prints more output\n",
    "\n",
    "# write run results to df_eval_results\n",
    "# store_results = False\n",
    "store_results = True\n",
    "\n",
    "# number of the most-common symbols from days_lookbacks' performance rankings to keep\n",
    "n_top_syms = 20  \n",
    "\n",
    "syms_start = 0  #  start index of n_top_syms for evaluation\n",
    "syms_end = 10  #  end index of n_top_syms for evaluation\n",
    "\n",
    "# number of max lookback tuples to create\n",
    "n_samples_train = 400  # default samples for train\n",
    "# n_samples_train = 40  # default samples for train"
   ]
  },
  {
   "cell_type": "code",
   "execution_count": 3,
   "metadata": {},
   "outputs": [],
   "source": [
    "run_types = ['train', 'validate', 'test']\n",
    "l_days_eval = [4, 5, 6] \n",
    "# l_days_eval = [4, 5] \n",
    "l_days_lookbacks = [\n",
    "    [15],\n",
    "    [30],\n",
    "    [60],\n",
    "    [120],\n",
    "    [15, 30],\n",
    "    [30, 60],\n",
    "    [60, 120],\n",
    "    [15, 30, 60],\n",
    "    [30, 60, 120],\n",
    "    [15, 30, 60, 120],\n",
    "    ]"
   ]
  },
  {
   "cell_type": "code",
   "execution_count": 4,
   "metadata": {},
   "outputs": [
    {
     "data": {
      "text/plain": [
       "{'verbose': True,\n",
       " 'store_results': True,\n",
       " 'n_top_syms': 20,\n",
       " 'syms_start': 0,\n",
       " 'syms_end': 10}"
      ]
     },
     "execution_count": 4,
     "metadata": {},
     "output_type": "execute_result"
    }
   ],
   "source": [
    "run_params = dict(\n",
    "                  verbose=verbose,\n",
    "                  store_results=store_results,\n",
    "                  n_top_syms=n_top_syms,\n",
    "                  syms_start=syms_start,\n",
    "                  syms_end=syms_end,\n",
    "                  )\n",
    "\n",
    "run_params"
   ]
  },
  {
   "attachments": {},
   "cell_type": "markdown",
   "metadata": {},
   "source": [
    "#### Check the run parameters before running. It will take about 1 hour and 20 minutes to run"
   ]
  },
  {
   "cell_type": "code",
   "execution_count": null,
   "metadata": {},
   "outputs": [],
   "source": [
    "for run_type, days_eval, days_lookbacks in list(product(run_types, l_days_eval, l_days_lookbacks)):\n",
    "\n",
    "  # use n_samples_train to scale n_samples of other run_types \n",
    "  if run_type == 'train':\n",
    "    n_samples = n_samples_train  # train\n",
    "  elif run_type == 'validate':\n",
    "    n_samples = round(n_samples_train * 0.2/0.7)  # validate, proportion to .7,.2,.1 split of train, validate, test\n",
    "  elif run_type == 'test':\n",
    "    n_samples = round(n_samples_train * 0.1/0.7)  # validate, proportion to .7,.2,.1 split of train, validate, test  \n",
    "  else:\n",
    "    n_samples = 2  # debug\n",
    "\n",
    "  run_params['run_type'] = run_type\n",
    "  run_params['n_samples'] = n_samples\n",
    "  run_params['days_eval'] = days_eval\n",
    "  run_params['days_lookbacks'] = days_lookbacks\n",
    "\n",
    "  # print(f'run_type: {run_type:<10}    n_samples: {n_samples:<5.0f}    days_eval: {days_eval:<5.0f}    days_lookbacks: {days_lookbacks}')\n",
    "\n",
    "  # print(f'days_eval: {days_eval}')\n",
    "  # print(f'days_lookbacks: {days_lookbacks}')\n",
    "  # print(f'run_type: {run_type}')\n",
    "  # print(f'n_samples: {n_samples}')  \n",
    "  # print(f'run_params: {run_params}\\n')\n",
    "  \n",
    "  res = pm.execute_notebook(\n",
    "    'yf_7_freq_cnt.ipynb',\n",
    "    'yf_7_freq_cntPM_out.ipynb',    \n",
    "    parameters = run_params \n",
    "  )"
   ]
  }
 ],
 "metadata": {
  "kernelspec": {
   "display_name": ".venv",
   "language": "python",
   "name": "python3"
  },
  "language_info": {
   "codemirror_mode": {
    "name": "ipython",
    "version": 3
   },
   "file_extension": ".py",
   "mimetype": "text/x-python",
   "name": "python",
   "nbconvert_exporter": "python",
   "pygments_lexer": "ipython3",
   "version": "3.8.10"
  },
  "orig_nbformat": 4,
  "vscode": {
   "interpreter": {
    "hash": "16adeade2e4c2fe5a5c8fae29fa6e6b24d9301998b78edb3420e7dd402ae68a8"
   }
  }
 },
 "nbformat": 4,
 "nbformat_minor": 2
}
