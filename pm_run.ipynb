{
 "cells": [
  {
   "cell_type": "code",
   "execution_count": 3,
   "metadata": {},
   "outputs": [
    {
     "name": "stdout",
     "output_type": "stream",
     "text": [
      "Ping Yee\n"
     ]
    },
    {
     "data": {
      "application/vnd.jupyter.widget-view+json": {
       "model_id": "4c2933ec0d044137afd0f9488a3abe5e",
       "version_major": 2,
       "version_minor": 0
      },
      "text/plain": [
       "Executing:   0%|          | 0/4 [00:00<?, ?cell/s]"
      ]
     },
     "metadata": {},
     "output_type": "display_data"
    },
    {
     "name": "stdout",
     "output_type": "stream",
     "text": [
      "Enid Yu\n"
     ]
    },
    {
     "data": {
      "application/vnd.jupyter.widget-view+json": {
       "model_id": "48d0a2aa9b0040f69efeabec61e1cc87",
       "version_major": 2,
       "version_minor": 0
      },
      "text/plain": [
       "Executing:   0%|          | 0/4 [00:00<?, ?cell/s]"
      ]
     },
     "metadata": {},
     "output_type": "display_data"
    }
   ],
   "source": [
    "# https://www.wrighters.io/parameters-jupyter-notebooks-with-papermill/\n",
    "\n",
    "import papermill as pm\n",
    "\n",
    "first_names = [\"Ping\", \"Enid\"]\n",
    "last_names = [\"Yee\", \"Yu\"]\n",
    "zipped_names = zip(first_names, last_names)\n",
    "for f_name, l_name in zipped_names:\n",
    "  print(f_name, l_name)\n",
    "  ff_name = f_name\n",
    "  res = pm.execute_notebook(\n",
    "      'pm_test.ipynb',\n",
    "      # 'pm_{f_name}_{l_name}.ipynb',\n",
    "      # 'pm_{f_name}.ipynb',      \n",
    "      'pm_output.ipynb',    \n",
    "      parameters = dict(first_name=f_name, last_name=l_name)\n",
    "  )\n",
    "\n",
    "# name = \"Ping\"\n",
    "# res = pm.execute_notebook(\n",
    "#     'pm_test.ipynb',\n",
    "#     'pm_{name}.ipynb',\n",
    "#     parameters = dict(name=name)\n",
    "# )  \n"
   ]
  },
  {
   "cell_type": "code",
   "execution_count": null,
   "metadata": {},
   "outputs": [],
   "source": [
    "!jupyter --version"
   ]
  },
  {
   "cell_type": "code",
   "execution_count": 5,
   "metadata": {},
   "outputs": [],
   "source": [
    "l_days_eval = [6, 5]\n",
    "l_days_lookbacks = [[60, 120], [120]]\n"
   ]
  },
  {
   "cell_type": "code",
   "execution_count": null,
   "metadata": {},
   "outputs": [],
   "source": [
    "import papermill as pm"
   ]
  },
  {
   "cell_type": "code",
   "execution_count": 6,
   "metadata": {},
   "outputs": [
    {
     "name": "stdout",
     "output_type": "stream",
     "text": [
      "days_eval: 6     days_lookbacks: [60, 120]\n",
      "days_eval: 6     days_lookbacks: [120]\n",
      "days_eval: 5     days_lookbacks: [60, 120]\n",
      "days_eval: 5     days_lookbacks: [120]\n"
     ]
    }
   ],
   "source": [
    "from itertools import product\n",
    "for days_eval, days_lookbacks in list(product(l_days_eval, l_days_lookbacks)):\n",
    "  print(f'days_eval: {days_eval}     days_lookbacks: {days_lookbacks}')\n",
    "  # res = pm.execute_notebook(\n",
    "  #   'yf_7_freq_cnt.ipynb',\n",
    "  #   # 'pm_{name}.ipynb',\n",
    "  #   'pm_output.ipynb',    \n",
    "  #   parameters = dict(days_eval=days_eval, days_lookbacks=days_lookbacks)\n",
    "  # )"
   ]
  },
  {
   "cell_type": "markdown",
   "metadata": {},
   "source": []
  }
 ],
 "metadata": {
  "kernelspec": {
   "display_name": ".venv",
   "language": "python",
   "name": "python3"
  },
  "language_info": {
   "codemirror_mode": {
    "name": "ipython",
    "version": 3
   },
   "file_extension": ".py",
   "mimetype": "text/x-python",
   "name": "python",
   "nbconvert_exporter": "python",
   "pygments_lexer": "ipython3",
   "version": "3.8.10"
  },
  "orig_nbformat": 4,
  "vscode": {
   "interpreter": {
    "hash": "16adeade2e4c2fe5a5c8fae29fa6e6b24d9301998b78edb3420e7dd402ae68a8"
   }
  }
 },
 "nbformat": 4,
 "nbformat_minor": 2
}
