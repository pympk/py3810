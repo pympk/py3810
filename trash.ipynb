{
 "cells": [
  {
   "cell_type": "code",
   "execution_count": null,
   "metadata": {},
   "outputs": [],
   "source": [
    "  grp_CAGRUI_mean = df_perf['CAGR/UI'].mean()\n",
    "  grp_CAGRUI_std = df_perf['CAGR/UI'].std()\n",
    "  grp_CAGRUI_mean_div_std = grp_CAGRUI_mean / grp_CAGRUI_std\n",
    "\n",
    "  grp_CAGRStd_mean = df_perf['CAGR/Std'].mean()\n",
    "  grp_CAGRStd_std = df_perf['CAGR/Std'].std()\n",
    "  grp_CAGRStd_mean_div_std = grp_CAGRStd_mean / grp_CAGRStd_std\n",
    "\n",
    "  grp_StdUI_mean = df_perf['Std/UI'].mean()\n",
    "  grp_StdUI_std = df_perf['Std/UI'].std()\n",
    "  grp_StdUI_mean_div_std = grp_StdUI_mean / grp_StdUI_std\n",
    "\n",
    "  return df_perf, grp_StdUI_mean_div_std, grp_CAGRStd_mean_div_std, grp_CAGRUI_mean_div_std"
   ]
  }
 ],
 "metadata": {
  "kernelspec": {
   "display_name": "Python 3",
   "language": "python",
   "name": "python3"
  },
  "language_info": {
   "codemirror_mode": {
    "name": "ipython",
    "version": 3
   },
   "file_extension": ".py",
   "mimetype": "text/x-python",
   "name": "python",
   "nbconvert_exporter": "python",
   "pygments_lexer": "ipython3",
   "version": "3.7.9 (tags/v3.7.9:13c94747c7, Aug 17 2020, 18:58:18) [MSC v.1900 64 bit (AMD64)]"
  },
  "orig_nbformat": 4,
  "vscode": {
   "interpreter": {
    "hash": "d848e2535a99fe7c7346179acd9000b04da131f0f89ee41d962201c665cb28e1"
   }
  }
 },
 "nbformat": 4,
 "nbformat_minor": 2
}
