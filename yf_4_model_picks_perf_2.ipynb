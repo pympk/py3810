{
 "cells": [
  {
   "cell_type": "code",
   "execution_count": 1,
   "metadata": {},
   "outputs": [],
   "source": [
    "# # create empty DataFrame df_picks and append row\n",
    "# my_cols = ['date', 'days_lookback', 'syms_freq', 'symbols']\n",
    "# # Creating Empty DataFrame and Storing it in variable df_picks\n",
    "# df_model_top_picks = pd.DataFrame(columns=my_cols)\n",
    "# df_model_top_picks"
   ]
  },
  {
   "cell_type": "code",
   "execution_count": 2,
   "metadata": {},
   "outputs": [],
   "source": [
    "import pandas as pd\n",
    "from itertools import product\n",
    "from ast import literal_eval\n",
    "from myUtils import pickle_load, pickle_dump\n",
    "\n",
    "pd.set_option('display.max_rows', 100)\n",
    "pd.set_option('display.max_columns', 30)\n",
    "pd.set_option('display.max_colwidth', 30)\n",
    "pd.set_option('display.width', 900)\n",
    "\n",
    "path_dir = \"C:/Users/ping/MyDrive/stocks/yfinance/\"\n",
    "path_data_dump = path_dir + \"VSCode_dump/\"\n",
    "\n",
    "# fp_df_picks  = f'df_picks'  # stock picks by criteria: CAGR/UI, CAGR/rtn_std, rtd/UI\n",
    "fp_df_model_top_picks = 'df_model_top_picks'  # top stock picks from model developed by back test\n",
    "fp_df_close_clean = 'df_close_clean'  # historic stocks' closing price\n",
    "\n",
    "verbose = True\n",
    "# verbose = False"
   ]
  },
  {
   "cell_type": "code",
   "execution_count": 3,
   "metadata": {},
   "outputs": [],
   "source": [
    "def get_NYSE_date_n(date, dates_NYSE, n, verbose=False):\n",
    "\n",
    "  if date in dates_NYSE:\n",
    "    idx_last = len(dates_NYSE) - 1  # last index of dates_NYSE\n",
    "    idx_date = dates_NYSE.get_loc(date)  # index of date\n",
    "    idx_date_n = idx_date + n  # index of date_n\n",
    "    if verbose:\n",
    "      print(f\"date: {date} is in dates_NYSE,  date's position in dates_NYSE is: {idx_date} of {idx_last},  n: {n},  idx_date_n: {idx_date_n},\")\n",
    "    if 0 <= idx_date_n <= idx_last:  # idx_date_n is within bounds of dates_NYSE\n",
    "      date_n = dates_NYSE[idx_date_n]\n",
    "      if verbose:      \n",
    "        print(f'idx_date_n: {idx_date_n} is wiithin bounds of dates_NYSE (\"0 to {idx_last}), date_n: {date_n}\"\\n')\n",
    "    else:  # idx_date_n is out-of-bounds of dates_NYSE\n",
    "      date_n = None   \n",
    "      if verbose:  \n",
    "        print(f'idx_date_n: {idx_date_n} is out-of-bounds of dates_NYSE (\"0 to {idx_last})\"\\n')\n",
    "  else:  # date not in dates_NYSE\n",
    "      date_n = None  \n",
    "      if verbose:  \n",
    "        print(f'date: {date} is not in dates_NYSE\\n')\n",
    "\n",
    "  return date_n  "
   ]
  },
  {
   "cell_type": "code",
   "execution_count": 4,
   "metadata": {},
   "outputs": [],
   "source": [
    "def get_portf_buy(df_picks_close, date, str_symbols, portf_target, verbose=False):\n",
    "    import numpy as np\n",
    "    from ast import literal_eval    \n",
    "    l_syms = literal_eval(str_symbols)  # convert list stored as str back to list\n",
    "    # array of closing prices corresponding to symbols in l_syms    \n",
    "    ar_price = df_picks_close.loc[date][l_syms].values  \n",
    "    sym_cnt = len(l_syms)  # number of symbols\n",
    "    amt_per_sym = portf_target / sym_cnt  # target dollar investment in each symbol\n",
    "    ar_sym_share = np.floor(amt_per_sym / ar_price)  # array of shares for each symbol\n",
    "    ar_sym_amt = ar_price * ar_sym_share  # array of actual dollar amount invested in each symbol\n",
    "    portf_value = sum(ar_sym_amt)  # total actual portfolio value\n",
    "    if verbose:\n",
    "        # print(date, l_syms, ar_price, ar_sym_share, ar_sym_amt, portf_value)    \n",
    "        print(f'{date = }, {l_syms = }, {ar_price = }, {ar_sym_share = }, {ar_sym_amt = }, {portf_value = }')            \n",
    "        print(f'{date} {portf_value = }')\n",
    "    return date, l_syms, ar_price, ar_sym_share, ar_sym_amt, portf_value"
   ]
  },
  {
   "cell_type": "code",
   "execution_count": 5,
   "metadata": {},
   "outputs": [],
   "source": [
    "def get_SPY_buy(df_picks_close, date, portf_target, symbol=\"SPY\", verbose=False):   \n",
    "    import numpy as np\n",
    "    price = df_picks_close.loc[date][symbol]    \n",
    "    share = np.floor(portf_target / price)  # array of shares for each symbol\n",
    "    value = price * share  # array of actual dollar amount invested in each symbol\n",
    "    if verbose:\n",
    "        # print(date, symbol, price, share, value)\n",
    "        print(f'{date = }, {symbol = }, {price = }, {share = }, {value = }')                        \n",
    "        print(f'{date} {symbol} {value = }')\n",
    "    return date, price, share, value"
   ]
  },
  {
   "cell_type": "markdown",
   "metadata": {},
   "source": [
    "### TODO: 2023-12-14, Replace dates_NYSE with dates in df_picks_close, no start_date or end_date needed"
   ]
  },
  {
   "cell_type": "code",
   "execution_count": 6,
   "metadata": {},
   "outputs": [
    {
     "ename": "NameError",
     "evalue": "name 'df_model_top_picks' is not defined",
     "output_type": "error",
     "traceback": [
      "\u001b[1;31m---------------------------------------------------------------------------\u001b[0m",
      "\u001b[1;31mNameError\u001b[0m                                 Traceback (most recent call last)",
      "Cell \u001b[1;32mIn[6], line 1\u001b[0m\n\u001b[1;32m----> 1\u001b[0m df_picks_mp \u001b[39m=\u001b[39m df_model_top_picks\u001b[39m.\u001b[39mcopy()\n\u001b[0;32m      2\u001b[0m df_picks_close \u001b[39m=\u001b[39m pickle_load(path_data_dump, \u001b[39m'\u001b[39m\u001b[39mdf_close_clean\u001b[39m\u001b[39m'\u001b[39m)\n",
      "\u001b[1;31mNameError\u001b[0m: name 'df_model_top_picks' is not defined"
     ]
    }
   ],
   "source": [
    "df_picks_close = pickle_load(path_data_dump, 'df_close_clean')\n",
    "df_picks_mp = df_model_top_picks.copy()\n",
    "df_picks_close = pickle_load(path_data_dump, 'df_close_clean')"
   ]
  },
  {
   "cell_type": "code",
   "execution_count": null,
   "metadata": {},
   "outputs": [],
   "source": [
    "dates_sorted = sorted(df_picks_mp.date.tolist())\n",
    "date_start_picks_mp = dates_sorted[0]\n",
    "date_end_picks_mp = dates_sorted[-1]\n",
    "print(date_start_picks_mp, date_end_picks_mp) "
   ]
  },
  {
   "cell_type": "code",
   "execution_count": null,
   "metadata": {},
   "outputs": [],
   "source": [
    "# Create a boolean mask for rows between date1 and date2 (inclusive)\n",
    "mask = (df_picks_close.index >= date_start_picks_mp) & (df_picks_close.index <= date_end_picks_mp)\n",
    "# mask = (df_picks_close >= date_start_picks_mp) & (df_picks_close <= date_end_picks_mp)\n",
    "\n",
    "# Select rows using the mask\n",
    "filtered_df = df_picks_close.loc[mask]\n",
    "filtered_df\n",
    "# mask"
   ]
  },
  {
   "cell_type": "code",
   "execution_count": null,
   "metadata": {},
   "outputs": [],
   "source": [
    "df_picks_close.index"
   ]
  },
  {
   "cell_type": "code",
   "execution_count": null,
   "metadata": {},
   "outputs": [],
   "source": [
    "import pandas_market_calendars as mcal\n",
    "nyse = mcal.get_calendar('NYSE')\n",
    "dates_NYSE_2013_2023 = nyse.valid_days(start_date='2013-01-01', end_date='2023-12-31').strftime('%Y-%m-%d')\n",
    "print(f'len(dates_NYSE_2013_2023): {len(dates_NYSE_2013_2023)}')\n",
    "print(f'dates_NYSE_2013_2023[0]:  {dates_NYSE_2013_2023[0]}, dates_NYSE_2013_2023[-1]: {dates_NYSE_2013_2023[-1]}')\n",
    "print(f'{dates_NYSE_2013_2023}') "
   ]
  },
  {
   "cell_type": "code",
   "execution_count": null,
   "metadata": {},
   "outputs": [],
   "source": [
    "# from ast import literal_eval    \n",
    "# l_syms = literal_eval(syms)  # convert list stored as str back to list\n",
    "\n",
    "# for _sym in l_syms:\n",
    "#   ans = _sym in df_picks_close.columns\n",
    "#   print(_sym, ans)"
   ]
  },
  {
   "cell_type": "code",
   "execution_count": null,
   "metadata": {},
   "outputs": [],
   "source": [
    "def all_in_list(list1, list2):\n",
    "  \"\"\"\n",
    "  Checks if all items in list1 are also in list2.\n",
    "\n",
    "  Args:\n",
    "    list1: A list of items.\n",
    "    list2: Another list of items.\n",
    "\n",
    "  Returns:\n",
    "    True if all items in list1 are in list2, False otherwise.\n",
    "  \"\"\"\n",
    "  return set(list1).issubset(set(list2))"
   ]
  },
  {
   "cell_type": "code",
   "execution_count": null,
   "metadata": {},
   "outputs": [],
   "source": [
    "def any_not_in_list(list1, list2):\n",
    "  \"\"\"\n",
    "  Checks if any items in list1 are not in list2.\n",
    "\n",
    "  Args:\n",
    "    list1: A list of items.\n",
    "    list2: Another list of items.\n",
    "\n",
    "  Returns:\n",
    "    True if any item in list1 is not in list2, False if all are present.\n",
    "  \"\"\"\n",
    "  return bool(set(list1) - set(list2))"
   ]
  },
  {
   "cell_type": "code",
   "execution_count": null,
   "metadata": {},
   "outputs": [],
   "source": [
    "# l_syms = ['FTSM', 'SHV']\n",
    "l_syms = ['GPS', 'SHV']\n",
    "# l_syms = ['ISEE', 'SHV']\n",
    "# l_syms = ['SHV', 'ISEE']\n",
    "# l_syms = ['ISEE', 'ISEE']\n",
    "# l_syms = ['SHV', 'SHV']\n",
    "# l_syms = ['SHV', 'ISEE', 'SHV']\n",
    "# l_syms = ['AAPL', 'NVDA']\n",
    "# l_syms = ['AAPL', 'NVDA', 'SHV', 'AAPL', 'NVDA', 'SHV']\n",
    "# ans = all_in_list(l_syms, df_picks_close.columns)\n",
    "ans = any_not_in_list(l_syms, df_picks_close.columns)\n",
    "print(l_syms, ans)"
   ]
  },
  {
   "cell_type": "code",
   "execution_count": null,
   "metadata": {},
   "outputs": [],
   "source": [
    "print(any_not_in_list(l_syms, df_picks_close.columns))\n",
    "print(l_syms)"
   ]
  },
  {
   "cell_type": "code",
   "execution_count": null,
   "metadata": {},
   "outputs": [],
   "source": [
    "False or False\n",
    "False or True\n",
    "# True or True"
   ]
  },
  {
   "cell_type": "code",
   "execution_count": null,
   "metadata": {},
   "outputs": [],
   "source": [
    "import numpy as np\n",
    "# from ast import literal_eval\n",
    "z_date_syms = zip(df_picks_mp.date, df_picks_mp.symbols)\n",
    "\n",
    "idx_close = df_picks_close.index.strftime('%Y-%m-%d')\n",
    "symbols_df_picks_close = df_picks_close.columns  # symbols in df_picks_close\n",
    "\n",
    "n = 1  # n=1 is the buy date\n",
    "# n = 4  # n=4 is the sell date\n",
    "\n",
    "date_buy = []  # buy date of portfolio\n",
    "shares_syms = []  # lists of shares of each symbol brought on date_buy\n",
    "value_portf = [] # list of porfolio value on date_buy\n",
    "shares_SPY = []  # list of shares of SPY brought on date_buy\n",
    "value_SPY = []  # list of value of SPY shares on date_buy \n",
    "for date, syms in z_date_syms:\n",
    "    next_date_n = get_NYSE_date_n(date, dates_NYSE_2013_2023, n, verbose=verbose)\n",
    "\n",
    "    if next_date_n in idx_close:\n",
    "        close_date_n = next_date_n\n",
    "        print(f'date: {date},  n: {n},  next_date_n: {next_date_n} is in df_picks_close')\n",
    "        print(f'picks for {date}: {syms}')      \n",
    "    else:\n",
    "        close_date_n = None\n",
    "        print(f'date: {date},  n: {n},  next_date_n: {next_date_n} is not in df_picks_close')\n",
    "        print(f'picks for {date}: {syms}')        \n",
    "\n",
    "    l_syms = literal_eval(syms)  # convert list stored as str back to list\n",
    "    # True if symbol(s) in l_syms is not a column in df_picks_close\n",
    "    sym_not_in_df_picks_close = any_not_in_list(l_syms, symbols_df_picks_close)\n",
    "\n",
    "    if close_date_n is None or sym_not_in_df_picks_close:\n",
    "        p_date = None  # portf. buy date\n",
    "        p_l_syms = None  # portf. list of symbols\n",
    "        p_ar_price = None  # portf. list of symbols' close\n",
    "        p_ar_sym_share = None  # portf. list of symbols' share\n",
    "        p_ar_sym_amt = None  # portf. list of symbols' dollar value \n",
    "        p_portf_value = None  # portf. value is none, data not available in df_picks_close\n",
    "        \n",
    "        s_date = None  # SPY buy date\n",
    "        s_price = None # SPY list of symbols' close\n",
    "        s_share = None # SPY list of symbols' share\n",
    "        s_value = None  # SPY value is none, data not available in df_picks_close\n",
    "\n",
    "        date_buy.append(p_date)\n",
    "        shares_syms.append(p_l_syms)\n",
    "        value_portf.append(p_portf_value)\n",
    "        shares_SPY.append(s_share)\n",
    "        value_SPY.append(s_value)    \n",
    "        \n",
    "        print(f\"No data for next_date_n {next_date_n}, pick's portf value = None\")\n",
    "        print(f'No data for next_date_n {next_date_n}, SPY portf value =    None')\n",
    "\n",
    "    else:    \n",
    "        p_date, p_l_syms, p_ar_price, p_ar_sym_share, p_ar_sym_amt, p_portf_value = \\\n",
    "            get_portf_buy(df_picks_close, next_date_n, syms, portf_target=1000, verbose=verbose)\n",
    "        s_date, s_price, s_share, s_value = \\\n",
    "            get_SPY_buy(df_picks_close, next_date_n, portf_target=1000, verbose=verbose)\n",
    "                \n",
    "        date_buy.append(p_date)\n",
    "        shares_syms.append(p_ar_sym_share)\n",
    "        value_portf.append(p_portf_value)\n",
    "        shares_SPY.append(s_share)\n",
    "        value_SPY.append(s_value)\n",
    "\n",
    "        print(f\"next_date_n pick's portf value = {p_portf_value}\")\n",
    "        print(f'next_date_n SPY portf value =    {s_value}')\n",
    "\n",
    "    print('='*20, '\\n')       \n",
    "    "
   ]
  },
  {
   "cell_type": "code",
   "execution_count": null,
   "metadata": {},
   "outputs": [],
   "source": []
  },
  {
   "cell_type": "markdown",
   "metadata": {},
   "source": [
    "#### TODO: 2023-12-17 skip syms that are not in df_picks_close, these symbols are no-longer listed\n",
    "\n",
    "#### TODO: 2023-07-15 only evaluate performance of df_modelpicks, after evaluation, append results to df_modelpicks_results \n",
    "\n",
    "#### 2023-07-11 got KeyError: \"['ISEE'] not in index\". ISEE was in past model picks, but since then ISEE was acquired. The symbol was dropped from df_close_clean. Current program recalculate the performance of all the past picks. Rewrite program such that performance of past picks with win records are not recalculated."
   ]
  },
  {
   "cell_type": "code",
   "execution_count": null,
   "metadata": {},
   "outputs": [],
   "source": [
    "# import numpy as np\n",
    "# # from ast import literal_eval\n",
    "# z_date_syms = zip(df_picks_mp.date, df_picks_mp.symbols)\n",
    "\n",
    "# idx_close = df_picks_close.index.strftime('%Y-%m-%d')\n",
    "\n",
    "# n = 1  # n=1 is the buy date\n",
    "# # n = 4  # n=4 is the sell date\n",
    "\n",
    "# date_buy = []  # buy date of portfolio\n",
    "# shares_syms = []  # lists of shares of each symbol brought on date_buy\n",
    "# value_portf = [] # list of porfolio value on date_buy\n",
    "# shares_SPY = []  # list of shares of SPY brought on date_buy\n",
    "# value_SPY = []  # list of value of SPY shares on date_buy \n",
    "# for date, syms in z_date_syms:\n",
    "#     next_date_n = get_NYSE_date_n(date, dates_NYSE_2013_2023, n, verbose=verbose)\n",
    "\n",
    "#     if next_date_n in idx_close:\n",
    "#         close_date_n = next_date_n\n",
    "#         print(f'date: {date},  n: {n},  next_date_n: {next_date_n} is in df_picks_close')\n",
    "#         print(f'picks for {date}: {syms}')      \n",
    "#     else:\n",
    "#         close_date_n = None\n",
    "#         print(f'date: {date},  n: {n},  next_date_n: {next_date_n} is not in df_picks_close')\n",
    "#         print(f'picks for {date}: {syms}')        \n",
    "\n",
    "#     if close_date_n is None:\n",
    "#         p_date = None  # portf. buy date\n",
    "#         p_l_syms = None  # portf. list of symbols\n",
    "#         p_ar_price = None  # portf. list of symbols' close\n",
    "#         p_ar_sym_share = None  # portf. list of symbols' share\n",
    "#         p_ar_sym_amt = None  # portf. list of symbols' dollar value \n",
    "#         p_portf_value = None  # portf. value is none, data not available in df_picks_close\n",
    "        \n",
    "#         s_date = None  # SPY buy date\n",
    "#         s_price = None # SPY list of symbols' close\n",
    "#         s_share = None # SPY list of symbols' share\n",
    "#         s_value = None  # SPY value is none, data not available in df_picks_close\n",
    "\n",
    "#         date_buy.append(p_date)\n",
    "#         shares_syms.append(p_l_syms)\n",
    "#         value_portf.append(p_portf_value)\n",
    "#         shares_SPY.append(s_share)\n",
    "#         value_SPY.append(s_value)    \n",
    "        \n",
    "#         print(f\"No data for next_date_n {next_date_n}, pick's portf value = None\")\n",
    "#         print(f'No data for next_date_n {next_date_n}, SPY portf value =    None')\n",
    "\n",
    "#     else:    \n",
    "#         p_date, p_l_syms, p_ar_price, p_ar_sym_share, p_ar_sym_amt, p_portf_value = \\\n",
    "#             get_portf_buy(df_picks_close, next_date_n, syms, portf_target=1000, verbose=verbose)\n",
    "#         s_date, s_price, s_share, s_value = \\\n",
    "#             get_SPY_buy(df_picks_close, next_date_n, portf_target=1000, verbose=verbose)\n",
    "                \n",
    "#         date_buy.append(p_date)\n",
    "#         shares_syms.append(p_ar_sym_share)\n",
    "#         value_portf.append(p_portf_value)\n",
    "#         shares_SPY.append(s_share)\n",
    "#         value_SPY.append(s_value)\n",
    "\n",
    "#         print(f\"next_date_n pick's portf value = {p_portf_value}\")\n",
    "#         print(f'next_date_n SPY portf value =    {s_value}')\n",
    "\n",
    "#     print('='*20, '\\n')       \n",
    "    "
   ]
  },
  {
   "cell_type": "code",
   "execution_count": null,
   "metadata": {},
   "outputs": [],
   "source": []
  },
  {
   "cell_type": "code",
   "execution_count": null,
   "metadata": {},
   "outputs": [],
   "source": []
  },
  {
   "cell_type": "code",
   "execution_count": null,
   "metadata": {},
   "outputs": [],
   "source": []
  },
  {
   "attachments": {},
   "cell_type": "markdown",
   "metadata": {},
   "source": [
    "#### Below cells calculate past performance of model picks"
   ]
  },
  {
   "cell_type": "code",
   "execution_count": null,
   "metadata": {},
   "outputs": [],
   "source": [
    "def calc_portf_shares(df_picks_close, date, str_symbols, portf_target):\n",
    "  # calculate number of shares to buy for symbols in str_symbols to meet port_target\n",
    "  import numpy as np\n",
    "  from ast import literal_eval    \n",
    "  l_syms = literal_eval(str_symbols)  # convert list stored as str back to list\n",
    "  # array of closing prices corresponding to symbols in l_syms    \n",
    "  ar_price = df_picks_close.loc[date][l_syms].values  \n",
    "  sym_cnt = len(l_syms)  # number of symbols\n",
    "  amt_per_sym = portf_target / sym_cnt  # target dollar investment in each symbol\n",
    "  ar_shares = np.floor(amt_per_sym / ar_price)  # array of shares for each symbol\n",
    "  return ar_shares"
   ]
  },
  {
   "cell_type": "code",
   "execution_count": null,
   "metadata": {},
   "outputs": [],
   "source": [
    "def calc_portf_value(df_picks_close, date, str_symbols, ar_shares, verbose=False):\n",
    "    import numpy as np\n",
    "    from ast import literal_eval    \n",
    "    l_syms = literal_eval(str_symbols)  # convert list stored as str back to list\n",
    "    # array of closing prices corresponding to symbols in l_syms    \n",
    "    ar_price = df_picks_close.loc[date][l_syms].values  \n",
    "    ar_value = ar_price * ar_shares  # array of actual dollar amount invested in each symbol\n",
    "    portf_value = sum(ar_value)  # total actual portfolio value\n",
    "    if verbose:\n",
    "        print(f'{date = }, {l_syms = }, {ar_price = }, {ar_shares = }, {ar_value = }, {portf_value = }')            \n",
    "        print(f'{date} {portf_value = }')\n",
    "    return date, l_syms, ar_price, ar_shares, ar_value, portf_value"
   ]
  },
  {
   "cell_type": "code",
   "execution_count": null,
   "metadata": {},
   "outputs": [],
   "source": [
    "def get_next_date_n(df_picks_close, date, n=1):\n",
    "\n",
    "    \"\"\"Get the next n(default=1) date from df_picks_close. date has to in df_picks_close.index.\n",
    "\n",
    "    Edge case: The function won't return the first date in df_picks_close as the\n",
    "    next trading date, if date is a trading date just before the first date in df_picks_close.\n",
    "    \"\"\"\n",
    "\n",
    "    len_df_picks_close = len(df_picks_close)\n",
    "    idx_dates = df_picks_close.index.strftime('%Y-%m-%d')  # date index of df_picks_close    \n",
    "\n",
    "    if date in idx_dates:\n",
    "        idx_next_date = idx_dates.get_loc(date) + n  # get index position of next date\n",
    "        print(f'n: {n},  idx_next_date: {idx_next_date}')\n",
    "\n",
    "        if idx_next_date >= 0:  # if idx_nex_date is negative, stop index loop back from index[0] to index[-1]    \n",
    "            if idx_next_date >= (len_df_picks_close - n):  # next date's index is within bound of df_picks_close\n",
    "                next_date = idx_dates[idx_dates.get_loc(date) + n]  # get the next date\n",
    "                return next_date\n",
    "        \n",
    "              \n",
    "            else:  # idx_next_date is out-of_bounds df_picks_close\n",
    "                print(f\"{date} is the last date in df_picks_close. No data for next {n} day\")\n",
    "                return None    \n",
    "        \n",
    "        \n",
    "        else:  # idx_next_date is negative, no data in df_picks_close\n",
    "            # no data from df_picks_close\n",
    "            print(f'idx_next_date: {idx_next_date} is negative, no data for {n} days from {date} in df_picks_close')\n",
    "\n",
    "    else:     \n",
    "        # no data from df_picks_close\n",
    "        print(f'no data for {date} in df_picks_close')\n",
    "        return None"
   ]
  },
  {
   "cell_type": "code",
   "execution_count": null,
   "metadata": {},
   "outputs": [],
   "source": [
    "def is_date_in_close(date, df_picks_close):\n",
    "  idx_close = df_picks_close.index.strftime('%Y-%m-%d')\n",
    "  if date in idx_close:\n",
    "    return date\n",
    "  else:\n",
    "    return None"
   ]
  },
  {
   "cell_type": "code",
   "execution_count": null,
   "metadata": {},
   "outputs": [],
   "source": []
  },
  {
   "cell_type": "code",
   "execution_count": null,
   "metadata": {},
   "outputs": [],
   "source": [
    "def calc_portf_value_date_buy_(dates_in_days_lookbacks, my_symbols, df_picks_close, portf_target, n, verbose=False):\n",
    "  \n",
    "  z_date_syms = zip(dates_in_days_lookbacks, my_symbols)\n",
    "\n",
    "  date_exec = []  # buy date of portfolio\n",
    "  shares_syms = []  # lists of shares of each symbol brought on date\n",
    "  value_portf = [] # list of porfolio value on date\n",
    "  shares_SPY = []  # list of shares of SPY brought on date\n",
    "  value_SPY = []  # list of value of SPY shares on date \n",
    "\n",
    "  for date, syms in z_date_syms:\n",
    "    next_date_n = get_NYSE_date_n(date, dates_NYSE_2013_2023, n, verbose=False)\n",
    "    close_date_n = is_date_in_close(next_date_n, df_picks_close)\n",
    "\n",
    "\n",
    "\n",
    "    l_syms = literal_eval(syms)  # convert list stored as str back to list\n",
    "    # True if symbol(s) in l_syms is not a column in df_picks_close\n",
    "    sym_not_in_df_picks_close = any_not_in_list(l_syms, symbols_df_picks_close)\n",
    "\n",
    "    if close_date_n is None or sym_not_in_df_picks_close:\n",
    "\n",
    "\n",
    "\n",
    "    # if close_date_n is None:\n",
    "      p_date = None\n",
    "      p_ar_shares = None\n",
    "      p_portf_value = None  # set to None when data are not available in df_picks_close\n",
    "      SPY_shares = None\n",
    "      SPY_value = None  # set to None when data are not available in df_picks_close\n",
    "\n",
    "      if verbose:\n",
    "        print(f\"No data for close_date_n {close_date_n}, pick's portf value = None\")\n",
    "        print(f'No data for close_date_n {close_date_n}, SPY portf value =    None')\n",
    "\n",
    "    else:    \n",
    "      p_ar_shares = calc_portf_shares(df_picks_close, close_date_n, syms, portf_target)\n",
    "      p_date, l_syms, ar_price, ar_shares, ar_value, p_portf_value = \\\n",
    "        calc_portf_value(df_picks_close, close_date_n, syms, p_ar_shares, verbose)\n",
    "\n",
    "      syms = str(['SPY'])\n",
    "      SPY_shares = calc_portf_shares(df_picks_close, close_date_n, syms, portf_target)\n",
    "      date, l_syms, ar_price, ar_shares, ar_value, SPY_value = \\\n",
    "        calc_portf_value(df_picks_close, close_date_n, syms, SPY_shares, verbose)\n",
    "\n",
    "      if verbose:\n",
    "        print(f\"close_date_n pick's portf value = {p_portf_value}\")\n",
    "        print(f'close_date_n SPY portf value =    {SPY_value}')\n",
    "\n",
    "    date_exec.append(p_date)\n",
    "    shares_syms.append(p_ar_shares)\n",
    "    value_portf.append(p_portf_value)\n",
    "    shares_SPY.append(SPY_shares)\n",
    "    value_SPY.append(SPY_value)\n",
    "\n",
    "    print('='*20, '\\n')\n",
    "\n",
    "  return date_exec, shares_syms, value_portf, shares_SPY, value_SPY       \n",
    "    "
   ]
  },
  {
   "cell_type": "code",
   "execution_count": null,
   "metadata": {},
   "outputs": [],
   "source": []
  },
  {
   "cell_type": "code",
   "execution_count": null,
   "metadata": {},
   "outputs": [],
   "source": [
    "def calc_portf_value_date_buy(dates_in_days_lookbacks, my_symbols, df_picks_close, portf_target, n, verbose=False):\n",
    "  \n",
    "  z_date_syms = zip(dates_in_days_lookbacks, my_symbols)\n",
    "\n",
    "  date_exec = []  # buy date of portfolio\n",
    "  shares_syms = []  # lists of shares of each symbol brought on date\n",
    "  value_portf = [] # list of porfolio value on date\n",
    "  shares_SPY = []  # list of shares of SPY brought on date\n",
    "  value_SPY = []  # list of value of SPY shares on date \n",
    "\n",
    "  for date, syms in z_date_syms:\n",
    "    next_date_n = get_NYSE_date_n(date, dates_NYSE_2013_2023, n, verbose=False)\n",
    "    close_date_n = is_date_in_close(next_date_n, df_picks_close)\n",
    "\n",
    "    if close_date_n is None:\n",
    "      p_date = None\n",
    "      p_ar_shares = None\n",
    "      p_portf_value = None  # set to None when data are not available in df_picks_close\n",
    "      SPY_shares = None\n",
    "      SPY_value = None  # set to None when data are not available in df_picks_close\n",
    "\n",
    "      if verbose:\n",
    "        print(f\"No data for close_date_n {close_date_n}, pick's portf value = None\")\n",
    "        print(f'No data for close_date_n {close_date_n}, SPY portf value =    None')\n",
    "\n",
    "    else:    \n",
    "      p_ar_shares = calc_portf_shares(df_picks_close, close_date_n, syms, portf_target)\n",
    "      p_date, l_syms, ar_price, ar_shares, ar_value, p_portf_value = \\\n",
    "        calc_portf_value(df_picks_close, close_date_n, syms, p_ar_shares, verbose)\n",
    "\n",
    "      syms = str(['SPY'])\n",
    "      SPY_shares = calc_portf_shares(df_picks_close, close_date_n, syms, portf_target)\n",
    "      date, l_syms, ar_price, ar_shares, ar_value, SPY_value = \\\n",
    "        calc_portf_value(df_picks_close, close_date_n, syms, SPY_shares, verbose)\n",
    "\n",
    "      if verbose:\n",
    "        print(f\"close_date_n pick's portf value = {p_portf_value}\")\n",
    "        print(f'close_date_n SPY portf value =    {SPY_value}')\n",
    "\n",
    "    date_exec.append(p_date)\n",
    "    shares_syms.append(p_ar_shares)\n",
    "    value_portf.append(p_portf_value)\n",
    "    shares_SPY.append(SPY_shares)\n",
    "    value_SPY.append(SPY_value)\n",
    "\n",
    "    print('='*20, '\\n')\n",
    "\n",
    "  return date_exec, shares_syms, value_portf, shares_SPY, value_SPY       \n",
    "    "
   ]
  },
  {
   "cell_type": "code",
   "execution_count": null,
   "metadata": {},
   "outputs": [],
   "source": [
    "def calc_portf_value_date_n(dates_in_days_lookbacks, my_symbols, df_picks_close, my_portf_shares, my_SPY_shares, n, verbose=False):\n",
    "  \n",
    "  z_date_syms_shares = zip(dates_in_days_lookbacks, my_symbols, my_portf_shares, my_SPY_shares)\n",
    "\n",
    "  date_exec = []  # buy date of portfolio\n",
    "  shares_syms = []  # lists of shares of each symbol brought on date\n",
    "  value_portf = [] # list of porfolio value on date\n",
    "  shares_SPY = []  # list of shares of SPY brought on date\n",
    "  value_SPY = []  # list of value of SPY shares on date \n",
    "\n",
    "  for date, symbols, portf_shares, SPY_shares in z_date_syms_shares:\n",
    "    next_date_n = get_NYSE_date_n(date, dates_NYSE_2013_2023, n, verbose=False)\n",
    "    close_date_n = is_date_in_close(next_date_n, df_picks_close)\n",
    "\n",
    "    if close_date_n is None:\n",
    "      p_date_exec = None\n",
    "      p_ar_shares = None\n",
    "      p_value_portf = None  # set to None when data are not available in df_picks_close\n",
    "      SPY_ar_shares = None\n",
    "      SPY_value_portf = None # set to None when data are not available in df_picks_close\n",
    "\n",
    "      if verbose:\n",
    "        print(f\"No data for close_date_n {close_date_n}, pick's portf value = None\")\n",
    "        # print(f'No data for next_date_n {next_date_n}, SPY portf value =    None')\n",
    "\n",
    "    else: \n",
    "      if portf_shares is None:\n",
    "        p_date_exec = None\n",
    "        p_ar_shares = None\n",
    "        p_value_portf = None\n",
    "        SPY_ar_shares = None\n",
    "        SPY_value_portf = None\n",
    "\n",
    "      else:  \n",
    "        p_date_exec, p_ar_syms, p_ar_price, p_ar_shares, p_ar_value, p_value_portf = \\\n",
    "          calc_portf_value(df_picks_close, close_date_n, symbols, portf_shares, verbose)\n",
    "        \n",
    "        SPY = str(['SPY'])\n",
    "        SPY_date_exec, SPY_ar_syms, SPY_ar_price, SPY_ar_shares, SPY_ar_value, SPY_value_portf = \\\n",
    "          calc_portf_value(df_picks_close, close_date_n, SPY, SPY_shares, verbose) \n",
    "\n",
    "        if verbose:\n",
    "          print(f\"next_date_n pick's portf value = {p_value_portf}\")\n",
    "          print(f'next_date_n SPY portf value =    {SPY_value_portf}')\n",
    "\n",
    "    date_exec.append(p_date_exec)\n",
    "    shares_syms.append(p_ar_shares)\n",
    "    value_portf.append(p_value_portf)\n",
    "    shares_SPY.append(SPY_ar_shares)\n",
    "    value_SPY.append(SPY_value_portf)\n",
    "\n",
    "    print('='*20, '\\n')\n",
    "\n",
    "  return date_exec, shares_syms, value_portf, shares_SPY, value_SPY  "
   ]
  },
  {
   "cell_type": "code",
   "execution_count": null,
   "metadata": {},
   "outputs": [],
   "source": []
  },
  {
   "cell_type": "code",
   "execution_count": null,
   "metadata": {},
   "outputs": [],
   "source": [
    "df_picks_mp"
   ]
  },
  {
   "cell_type": "code",
   "execution_count": null,
   "metadata": {},
   "outputs": [],
   "source": [
    "df_picks_mp.date"
   ]
  },
  {
   "cell_type": "code",
   "execution_count": null,
   "metadata": {},
   "outputs": [],
   "source": [
    "df_picks_mp.symbols"
   ]
  },
  {
   "cell_type": "code",
   "execution_count": null,
   "metadata": {},
   "outputs": [],
   "source": [
    "df_picks_close"
   ]
  },
  {
   "cell_type": "code",
   "execution_count": null,
   "metadata": {},
   "outputs": [],
   "source": [
    "# total target investment for each day's picks, if day's pick has 2 symbols, the function will try to invest $500 for each symbol\n",
    "portf_target = 1000  \n",
    "date_buy, shares_syms, value_portf, shares_SPY, value_SPY = \\\n",
    "  calc_portf_value_date_buy_(df_picks_mp.date, df_picks_mp.symbols, df_picks_close, portf_target, n=1, verbose=verbose)"
   ]
  },
  {
   "cell_type": "code",
   "execution_count": null,
   "metadata": {},
   "outputs": [],
   "source": []
  },
  {
   "cell_type": "code",
   "execution_count": null,
   "metadata": {},
   "outputs": [],
   "source": [
    "# # total target investment for each day's picks, if day's pick has 2 symbols, the function will try to invest $500 for each symbol\n",
    "# portf_target = 1000  \n",
    "# date_buy, shares_syms, value_portf, shares_SPY, value_SPY = \\\n",
    "#   calc_portf_value_date_buy(df_picks_mp.date, df_picks_mp.symbols, df_picks_close, portf_target, n=1, verbose=verbose)"
   ]
  },
  {
   "cell_type": "code",
   "execution_count": null,
   "metadata": {},
   "outputs": [],
   "source": [
    "df_picks_mp['date_buy'] = date_buy\n",
    "df_picks_mp['sh_portf_buy'] = shares_syms\n",
    "df_picks_mp['$_portf_buy'] = value_portf\n",
    "df_picks_mp['sh_SPY_buy'] = shares_SPY\n",
    "df_picks_mp['$_SPY_buy'] = value_SPY\n",
    "# df_picks_mp.tail()\n",
    "# df_picks_mp.head()\n",
    "df_picks_mp"
   ]
  },
  {
   "cell_type": "code",
   "execution_count": null,
   "metadata": {},
   "outputs": [],
   "source": [
    "date_exec, shares_syms, value_portf, shares_SPY, value_SPY  = \\\n",
    "  calc_portf_value_date_n(df_picks_mp.date, df_picks_mp.symbols, df_picks_close, df_picks_mp.sh_portf_buy, df_picks_mp.sh_SPY_buy, n=4, verbose=verbose)"
   ]
  },
  {
   "cell_type": "code",
   "execution_count": null,
   "metadata": {},
   "outputs": [],
   "source": [
    "df_picks_mp['date_sell'] = date_exec\n",
    "df_picks_mp['sh_portf_sell'] = shares_syms\n",
    "df_picks_mp['$_portf_sell'] = value_portf\n",
    "df_picks_mp['%_portf_chg'] = (df_picks_mp['$_portf_sell'] / df_picks_mp['$_portf_buy'] - 1) * 100\n",
    "\n",
    "df_picks_mp['sh_SPY_sell'] = shares_SPY\n",
    "df_picks_mp['$_SPY_sell'] = value_SPY\n",
    "df_picks_mp['%_SPY_chg'] = (df_picks_mp['$_SPY_sell'] / df_picks_mp['$_SPY_buy'] - 1) * 100\n",
    "\n",
    "df_picks_mp['dif_%_chg'] = df_picks_mp['%_portf_chg'] - df_picks_mp['%_SPY_chg']"
   ]
  },
  {
   "cell_type": "code",
   "execution_count": null,
   "metadata": {},
   "outputs": [],
   "source": [
    "# get symbol's close price for that date\n",
    "date = '2023-03-16'\n",
    "# _date = '2023-03-21'\n",
    "# _sym = 'GE'\n",
    "# _sym = 'NVDA'\n",
    "_sym = 'FTSM'\n",
    "# _sym = 'SHV'\n",
    "_sym = 'SPY'\n",
    "# _c = df_picks_close.loc['2023-04-11']['NVDA']\n",
    "_c = df_picks_close.loc[_date][_sym]\n",
    "_c"
   ]
  },
  {
   "attachments": {},
   "cell_type": "markdown",
   "metadata": {},
   "source": [
    "#### dif_%_chg is the percentage change of model icks - percentage change of SPY"
   ]
  },
  {
   "cell_type": "code",
   "execution_count": null,
   "metadata": {},
   "outputs": [],
   "source": [
    "df_picks_mp.head(20)"
   ]
  },
  {
   "cell_type": "code",
   "execution_count": null,
   "metadata": {},
   "outputs": [],
   "source": [
    "df_picks_mp['win'] = np.where(df_picks_mp['dif_%_chg']>0,1,0)\n",
    "df_picks_mp.head(20)"
   ]
  },
  {
   "attachments": {},
   "cell_type": "markdown",
   "metadata": {},
   "source": [
    "### Model Performance Not Good"
   ]
  },
  {
   "cell_type": "code",
   "execution_count": null,
   "metadata": {},
   "outputs": [],
   "source": [
    "wins = df_picks_mp['win'].sum()\n",
    "attempts = len(df_picks_mp['dif_%_chg'].dropna())\n",
    "\n",
    "win_rate = wins / attempts\n",
    "print(f'win_rate: {win_rate:0.6f}, wins: {wins}, attempts: {attempts}')\n",
    "print(f'sum(df_picksf_%_chg): {df_picks_mp[\"dif_%_chg\"].sum():0.6f}')\n"
   ]
  },
  {
   "cell_type": "code",
   "execution_count": null,
   "metadata": {},
   "outputs": [],
   "source": []
  },
  {
   "cell_type": "code",
   "execution_count": null,
   "metadata": {},
   "outputs": [],
   "source": []
  },
  {
   "cell_type": "code",
   "execution_count": null,
   "metadata": {},
   "outputs": [],
   "source": [
    "df_picks = df_picks_mp.copy()"
   ]
  },
  {
   "cell_type": "code",
   "execution_count": null,
   "metadata": {},
   "outputs": [],
   "source": [
    "df_modelpicks = df_picks[df_picks['dif_%_chg'].isnull()].copy()\n",
    "pickle_dump(df_modelpicks, path_data_dump, 'df_modelpicks')\n",
    "_df_picks = pickle_load(path_data_dump, 'df_modelpicks')\n",
    "_df_picks"
   ]
  },
  {
   "cell_type": "code",
   "execution_count": null,
   "metadata": {},
   "outputs": [],
   "source": [
    "idx_last_row = df_modelpicks.index[-1]\n",
    "df_modelpicks_results = df_picks.iloc[(idx_last_row + 1)::].copy()\n",
    "pickle_dump(df_modelpicks_results, path_data_dump, 'df_modelpicks_results')\n",
    "_df_picks = pickle_load(path_data_dump, 'df_modelpicks_results')\n",
    "_df_picks"
   ]
  }
 ],
 "metadata": {
  "kernelspec": {
   "display_name": ".venv",
   "language": "python",
   "name": "python3"
  },
  "language_info": {
   "codemirror_mode": {
    "name": "ipython",
    "version": 3
   },
   "file_extension": ".py",
   "mimetype": "text/x-python",
   "name": "python",
   "nbconvert_exporter": "python",
   "pygments_lexer": "ipython3",
   "version": "3.8.10"
  },
  "orig_nbformat": 4,
  "vscode": {
   "interpreter": {
    "hash": "16adeade2e4c2fe5a5c8fae29fa6e6b24d9301998b78edb3420e7dd402ae68a8"
   }
  }
 },
 "nbformat": 4,
 "nbformat_minor": 2
}
