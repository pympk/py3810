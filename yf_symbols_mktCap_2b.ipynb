{
 "cells": [
  {
   "cell_type": "code",
   "execution_count": 1,
   "metadata": {},
   "outputs": [],
   "source": [
    "import pandas as pd\n",
    "from myUtils import list_dump, pickle_dump, pickle_load\n",
    "path_dir = \"C:/Users/ping/MyDrive/stocks/yfinance/\"\n",
    "path_data_dump = path_dir + \"VSCode_dump/\"\n",
    "### edit file name ####\n",
    "path_fn = \"C:/Users/ping/MyDrive/stocks/yfinance/source/barchart_market_cap_2b.csv\"\n",
    "#######################"
   ]
  },
  {
   "cell_type": "code",
   "execution_count": 3,
   "metadata": {},
   "outputs": [
    {
     "name": "stdout",
     "output_type": "stream",
     "text": [
      "\n",
      "==============================================================================\n",
      "+ def list_dump(list_to_dump, path_list_dump, filename)\n",
      "\n",
      "Wrote list to C:/Users/ping/MyDrive/stocks/yfinance/VSCode_dump/symbols_mktCap_2b.csv\n",
      "- def list_dump(list_to_dump, path_list_dump, filename)\n",
      "\n",
      "------------------------------------------------------------------------------\n",
      "\n",
      "\n",
      "==============================================================================\n",
      "+ def pickle_dump(file_to_pickle, path_pickle_dump, filename_pickle)\n",
      "\n",
      "Wrote pickled file to C:/Users/ping/MyDrive/stocks/yfinance/VSCode_dump/symbols_mktCap_2b\n",
      "- def pickle_dump(file_to_pickle, path_pickle_dump, filename_pickle)\n",
      "------------------------------------------------------------------------------\n",
      "\n",
      "symbols_mktCap_2b count: 1917\n"
     ]
    }
   ],
   "source": [
    "# read csv file\n",
    "df = pd.read_csv(path_fn)\n",
    "# replace \".\" in symbol with \"-\", i.e. BRK.B to BRK-B\n",
    "symbols = df.Symbol.to_list()\n",
    "symbols_mktCap_2b = []\n",
    "for symbol in symbols:\n",
    "    symbols_mktCap_2b.append(symbol.replace(\".\", \"-\"))\n",
    "# save and pickle symbols_mktCap_2b\n",
    "list_dump(symbols_mktCap_2b, path_data_dump, 'symbols_mktCap_2b.csv', verbose=True)\n",
    "pickle_dump(symbols_mktCap_2b, path_data_dump, 'symbols_mktCap_2b', verbose=True)\n",
    "# read back symbols_mktCap_2b\n",
    "symbols_mktCap_2b = pickle_load(path_data_dump, 'symbols_mktCap_2b')\n",
    "print(f'symbols_mktCap_2b count: {len(symbols_mktCap_2b)}')"
   ]
  }
 ],
 "metadata": {
  "kernelspec": {
   "display_name": "Python 3.7.9 ('.venv': poetry)",
   "language": "python",
   "name": "python3"
  },
  "language_info": {
   "codemirror_mode": {
    "name": "ipython",
    "version": 3
   },
   "file_extension": ".py",
   "mimetype": "text/x-python",
   "name": "python",
   "nbconvert_exporter": "python",
   "pygments_lexer": "ipython3",
   "version": "3.7.9"
  },
  "orig_nbformat": 4,
  "vscode": {
   "interpreter": {
    "hash": "55a3812d65f91e7e7447da6b5cfc60716e82f91e6a92533fb27b46796ad1962a"
   }
  }
 },
 "nbformat": 4,
 "nbformat_minor": 2
}
