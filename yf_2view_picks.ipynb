{
 "cells": [
  {
   "cell_type": "code",
   "execution_count": null,
   "metadata": {},
   "outputs": [],
   "source": [
    "# # create empty DataFrame df and append row\n",
    "# my_cols = ['date', 'days_lookback', 'syms_freq', 'symbols']\n",
    "# # Creating Empty DataFrame and Storing it in variable df\n",
    "# df_model_top_picks = pd.DataFrame(columns=my_cols)\n",
    "# df_model_top_picks"
   ]
  },
  {
   "cell_type": "code",
   "execution_count": null,
   "metadata": {},
   "outputs": [],
   "source": [
    "import pandas as pd\n",
    "from myUtils import pickle_load, pickle_dump\n",
    "pd.set_option('display.max_rows', 50)\n",
    "pd.set_option('display.max_columns', 30)\n",
    "pd.set_option('display.max_colwidth', 30)\n",
    "pd.set_option('display.width', 900)\n",
    "\n",
    "path_dir = \"C:/Users/ping/MyDrive/stocks/yfinance/\"\n",
    "path_data_dump = path_dir + \"VSCode_dump/\"\n",
    "\n",
    "fp_df_picks  = f'df_picks'\n",
    "fp_df_model_top_picks = f'df_model_top_picks'\n",
    "\n",
    "verbose = True\n",
    "# verbose = False"
   ]
  },
  {
   "cell_type": "code",
   "execution_count": null,
   "metadata": {},
   "outputs": [],
   "source": [
    "df = pickle_load(path_data_dump, fp_df_picks)\n",
    "df = df.drop_duplicates(subset=['date_end_df_train', 'max_days_lookbacks', 'days_lookbacks'], keep='last')\n",
    "df = df.sort_values(by=['date_end_df_train', 'max_days_lookbacks', 'days_lookbacks'], ascending=False)\n",
    "df = df.reset_index(drop=True)\n",
    "pickle_dump(df, path_data_dump, fp_df_picks)\n",
    "print(f'len(df): {len(df)}')\n",
    "print(df.head())"
   ]
  },
  {
   "cell_type": "code",
   "execution_count": null,
   "metadata": {},
   "outputs": [],
   "source": [
    "from itertools import product\n",
    "from ast import literal_eval\n",
    "\n",
    "my_cols = ['sym_freq_12', 'sym_freq_9', 'sym_freq_8']\n",
    "my_days_lookbacks = [[30, 60, 120], [15, 30, 60, 120]]\n",
    "\n",
    "my_dates = []\n",
    "for my_days_lookback in my_days_lookbacks:\n",
    "  my_row = (df['days_lookbacks'] == str(my_days_lookback))\n",
    "  l_dates = df.loc[my_row, 'date_end_df_train'].tolist()     \n",
    "  my_dates.append(l_dates)\n",
    "\n",
    "my_dates = [val for sublist in my_dates for val in sublist]\n",
    "my_dates = sorted(list(set(my_dates)), reverse=True)\n",
    "\n",
    "d_lbk_freq = list(product(my_dates, my_days_lookbacks, my_cols))\n",
    "\n",
    "picks = []\n",
    "prev_date = ''\n",
    "# print(f'Model predicts the best performing symbols are:\\n[30, 60, 120]        sym_freq_9\\n[15, 30, 60, 120]    sym_freq_12\\n[30, 60, 120]        sym_freq_8')\n",
    "print(f'Model predicts the best performing symbols are:')\n",
    "print(f'1st    {\"[30, 60, 120]\":<20}{\"sym_freq_9\":<14}{\"days_eval = 4\":<20}')\n",
    "print(f'2nd    {\"[15, 30, 60, 120]\":<20}{\"sym_freq_12\":<14}{\"days_eval = 5\":<20}')\n",
    "print(f'3rd    {\"[30, 60, 120]\":<20}{\"sym_freq_8\":<14}{\"days_eval = 4\":<20}')\n",
    "for i, item in enumerate(d_lbk_freq):\n",
    "  _date, my_days_lookback, my_col = item[0], item[1], item[2]\n",
    "  my_row = (df['date_end_df_train'] == _date) & (df['days_lookbacks'] == str(my_days_lookback))  \n",
    "  list_in_df = df.loc[my_row, my_col]\n",
    "  my_str = list_in_df.tolist()[0]\n",
    "  my_list = literal_eval(my_str)\n",
    "  blank = ' '\n",
    "  if _date != prev_date:\n",
    "    if prev_date == '':\n",
    "      print('\\nModel Results:')  \n",
    "      print(f'{i:<6}{_date:<14}{str(my_days_lookback):<21}{my_col:<11}: {my_list}')\n",
    "    else:\n",
    "      print(f'\\n{i:<6}{_date:<14}{str(my_days_lookback):<21}{my_col:<11}: {my_list}') \n",
    "  else:\n",
    "    print(f'{i:<6}{blank:<14}{str(my_days_lookback):<21}{my_col:<11}: {my_list}')\n",
    "\n",
    "  picks.append((i, my_list))\n",
    "  prev_date = _date"
   ]
  },
  {
   "cell_type": "code",
   "execution_count": null,
   "metadata": {},
   "outputs": [],
   "source": [
    "model_top_picks = [([30, 60, 120], 'sym_freq_9'), ([15, 30, 60, 120], 'sym_freq_12'), ([30, 60, 120], 'sym_freq_8')]"
   ]
  },
  {
   "cell_type": "code",
   "execution_count": null,
   "metadata": {},
   "outputs": [],
   "source": [
    "df_model_top_picks = pickle_load(path_data_dump, fp_df_model_top_picks)\n",
    "\n",
    "z_items   = zip(d_lbk_freq, picks)\n",
    "for i, item in enumerate(z_items):\n",
    "  _date, _days_lookback, _sym_freq, _syms = item[0][0], item[0][1], item[0][2], item[1][1]\n",
    "  print(i, _date, _days_lookback, _sym_freq, _syms)\n",
    "  dlb_sym_freq = (_days_lookback, _sym_freq)\n",
    "  if dlb_sym_freq in model_top_picks and _syms:\n",
    "    row_add = [_date, _days_lookback, _sym_freq, _syms]\n",
    "    df_model_top_picks.loc[len(df_model_top_picks)] = row_add\n",
    "    print(f'added row to df_model_top_picks:\\n{row_add}\\n')\n"
   ]
  },
  {
   "cell_type": "code",
   "execution_count": null,
   "metadata": {},
   "outputs": [],
   "source": [
    "df_model_top_picks = df_model_top_picks.astype(str)\n",
    "df_model_top_picks = df_model_top_picks.drop_duplicates(keep='last')\n",
    "df_model_top_picks = df_model_top_picks.sort_values(by=['date', 'days_lookback', 'syms_freq'], ascending=False)\n",
    "df_model_top_picks = df_model_top_picks.reset_index(drop=True)\n",
    "pickle_dump(df_model_top_picks, path_data_dump, fp_df_model_top_picks)\n",
    "print(f'len(df_model_top_picks): {len(df_model_top_picks)}')\n",
    "print(f'{fp_df_model_top_picks}:\\n{df_model_top_picks}')"
   ]
  },
  {
   "cell_type": "code",
   "execution_count": null,
   "metadata": {},
   "outputs": [],
   "source": [
    "df_mp = df_model_top_picks.copy()\n",
    "df_close = pickle_load(path_data_dump, 'df_close_clean')"
   ]
  },
  {
   "cell_type": "code",
   "execution_count": null,
   "metadata": {},
   "outputs": [],
   "source": [
    "def get_NYSE_date_n(date, dates_NYSE, n, verbose=False):\n",
    "\n",
    "  if date in dates_NYSE:\n",
    "    idx_last = len(dates_NYSE) - 1  # last index of dates_NYSE\n",
    "    idx_date = dates_NYSE.get_loc(date)  # index of date\n",
    "    idx_date_n = idx_date + n  # index of date_n\n",
    "    if verbose:\n",
    "      print(f\"date: {date} is in dates_NYSE,  date's position in dates_NYSE is: {idx_date} of {idx_last},  n: {n},  idx_date_n: {idx_date_n},\")\n",
    "    if 0 <= idx_date_n <= idx_last:  # idx_date_n is within bounds of dates_NYSE\n",
    "      date_n = dates_NYSE[idx_date_n]\n",
    "      if verbose:      \n",
    "        print(f'idx_date_n: {idx_date_n} is wiithin bounds of dates_NYSE (\"0 to {idx_last}), date_n: {date_n}\"\\n')\n",
    "    else:  # idx_date_n is out-of-bounds of dates_NYSE\n",
    "      date_n = None   \n",
    "      if verbose:  \n",
    "        print(f'idx_date_n: {idx_date_n} is out-of-bounds of dates_NYSE (\"0 to {idx_last})\"\\n')\n",
    "  else:  # date not in dates_NYSE\n",
    "      date_n = None  \n",
    "      if verbose:  \n",
    "        print(f'date: {date} is not in dates_NYSE\\n')\n",
    "\n",
    "  return date_n  "
   ]
  },
  {
   "cell_type": "code",
   "execution_count": null,
   "metadata": {},
   "outputs": [],
   "source": [
    "def get_portf_buy(df_close, date, str_symbols, portf_target, verbose=False):\n",
    "    import numpy as np\n",
    "    from ast import literal_eval    \n",
    "    l_syms = literal_eval(str_symbols)  # convert list stored as str back to list\n",
    "    # array of closing prices corresponding to symbols in l_syms    \n",
    "    ar_price = df_close.loc[date][l_syms].values  \n",
    "    sym_cnt = len(l_syms)  # number of symbols\n",
    "    amt_per_sym = portf_target / sym_cnt  # target dollar investment in each symbol\n",
    "    ar_sym_share = np.floor(amt_per_sym / ar_price)  # array of shares for each symbol\n",
    "    ar_sym_amt = ar_price * ar_sym_share  # array of actual dollar amount invested in each symbol\n",
    "    portf_value = sum(ar_sym_amt)  # total actual portfolio value\n",
    "    if verbose:\n",
    "        # print(date, l_syms, ar_price, ar_sym_share, ar_sym_amt, portf_value)    \n",
    "        print(f'{date = }, {l_syms = }, {ar_price = }, {ar_sym_share = }, {ar_sym_amt = }, {portf_value = }')            \n",
    "        print(f'{date} {portf_value = }')\n",
    "    return date, l_syms, ar_price, ar_sym_share, ar_sym_amt, portf_value"
   ]
  },
  {
   "cell_type": "code",
   "execution_count": null,
   "metadata": {},
   "outputs": [],
   "source": [
    "def get_SPY_buy(df_close, date, portf_target, symbol=\"SPY\", verbose=False):   \n",
    "    import numpy as np\n",
    "    price = df_close.loc[date][symbol]    \n",
    "    share = np.floor(portf_target / price)  # array of shares for each symbol\n",
    "    value = price * share  # array of actual dollar amount invested in each symbol\n",
    "    if verbose:\n",
    "        # print(date, symbol, price, share, value)\n",
    "        print(f'{date = }, {symbol = }, {price = }, {share = }, {value = }')                        \n",
    "        print(f'{date} {symbol} {value = }')\n",
    "    return date, price, share, value"
   ]
  },
  {
   "cell_type": "code",
   "execution_count": null,
   "metadata": {},
   "outputs": [],
   "source": [
    "import pandas_market_calendars as mcal\n",
    "nyse = mcal.get_calendar('NYSE')\n",
    "dates_NYSE_2013_2023 = nyse.valid_days(start_date='2013-01-01', end_date='2023-12-31').strftime('%Y-%m-%d')\n",
    "print(f'len(dates_NYSE_2013_2023): {len(dates_NYSE_2013_2023)}')\n",
    "print(f'dates_NYSE_2013_2023[0]:  {dates_NYSE_2013_2023[0]}, dates_NYSE_2013_2023[-1]: {dates_NYSE_2013_2023[-1]}')\n",
    "print(f'{dates_NYSE_2013_2023}') "
   ]
  },
  {
   "cell_type": "code",
   "execution_count": null,
   "metadata": {},
   "outputs": [],
   "source": [
    "import numpy as np\n",
    "# from ast import literal_eval\n",
    "z_date_syms = zip(df_mp.date, df_mp.symbols)\n",
    "\n",
    "idx_close = df_close.index.strftime('%Y-%m-%d')\n",
    "\n",
    "n = 1  # n=1 is the buy date\n",
    "# n = 4  # n=4 is the sell date\n",
    "\n",
    "date_buy = []  # buy date of portfolio\n",
    "shares_syms = []  # lists of shares of each symbol brought on date_buy\n",
    "value_portf = [] # list of porfolio value on date_buy\n",
    "shares_SPY = []  # list of shares of SPY brought on date_buy\n",
    "value_SPY = []  # list of value of SPY shares on date_buy \n",
    "for date, syms in z_date_syms:\n",
    "    next_date_n = get_NYSE_date_n(date, dates_NYSE_2013_2023, n, verbose=verbose)\n",
    "\n",
    "    if next_date_n in idx_close:\n",
    "        close_date_n = next_date_n\n",
    "        print(f'date: {date},  n: {n},  next_date_n: {next_date_n} is in df_close')\n",
    "        print(f'picks for {date}: {syms}')      \n",
    "    else:\n",
    "        close_date_n = None\n",
    "        print(f'date: {date},  n: {n},  next_date_n: {next_date_n} is not in df_close')\n",
    "        print(f'picks for {date}: {syms}')        \n",
    "\n",
    "    if close_date_n is None:\n",
    "        p_date = None\n",
    "        p_l_syms = None\n",
    "        p_ar_price = None\n",
    "        p_ar_sym_share = None\n",
    "        p_ar_sym_amt = None\n",
    "        p_portf_value = None  # data not available in df_close\n",
    "        \n",
    "        s_date = None\n",
    "        s_price = None\n",
    "        s_share = None\n",
    "        s_value = None  # data not available in df_close\n",
    "\n",
    "        date_buy.append(p_date)\n",
    "        shares_syms.append(p_l_syms)\n",
    "        value_portf.append(p_portf_value)\n",
    "        shares_SPY.append(s_share)\n",
    "        value_SPY.append(s_value)    \n",
    "        \n",
    "        print(f\"No data for next_date_n {next_date_n}, pick's portf value = None\")\n",
    "        print(f'No data for next_date_n {next_date_n}, SPY portf value =    None')\n",
    "\n",
    "    else:    \n",
    "        p_date, p_l_syms, p_ar_price, p_ar_sym_share, p_ar_sym_amt, p_portf_value = \\\n",
    "            get_portf_buy(df_close, next_date_n, syms, portf_target=1000, verbose=verbose)\n",
    "        s_date, s_price, s_share, s_value = \\\n",
    "            get_SPY_buy(df_close, next_date_n, portf_target=1000, verbose=verbose)\n",
    "                \n",
    "        date_buy.append(p_date)\n",
    "        shares_syms.append(p_ar_sym_share)\n",
    "        value_portf.append(p_portf_value)\n",
    "        shares_SPY.append(s_share)\n",
    "        value_SPY.append(s_value)\n",
    "\n",
    "        print(f\"next_date_n pick's portf value = {p_portf_value}\")\n",
    "        print(f'next_date_n SPY portf value =    {s_value}')\n",
    "\n",
    "    print('='*20, '\\n')       \n",
    "    "
   ]
  },
  {
   "cell_type": "code",
   "execution_count": null,
   "metadata": {},
   "outputs": [],
   "source": []
  },
  {
   "cell_type": "code",
   "execution_count": null,
   "metadata": {},
   "outputs": [],
   "source": []
  },
  {
   "cell_type": "code",
   "execution_count": null,
   "metadata": {},
   "outputs": [],
   "source": []
  },
  {
   "attachments": {},
   "cell_type": "markdown",
   "metadata": {},
   "source": [
    "#### Below cells calculate past performance of model picks"
   ]
  },
  {
   "cell_type": "code",
   "execution_count": null,
   "metadata": {},
   "outputs": [],
   "source": [
    "def calc_portf_shares(df_close, date, str_symbols, portf_target):\n",
    "  # calculate number of shares to buy for symbols in str_symbols to meet port_target\n",
    "  import numpy as np\n",
    "  from ast import literal_eval    \n",
    "  l_syms = literal_eval(str_symbols)  # convert list stored as str back to list\n",
    "  # array of closing prices corresponding to symbols in l_syms    \n",
    "  ar_price = df_close.loc[date][l_syms].values  \n",
    "  sym_cnt = len(l_syms)  # number of symbols\n",
    "  amt_per_sym = portf_target / sym_cnt  # target dollar investment in each symbol\n",
    "  ar_shares = np.floor(amt_per_sym / ar_price)  # array of shares for each symbol\n",
    "  return ar_shares"
   ]
  },
  {
   "cell_type": "code",
   "execution_count": null,
   "metadata": {},
   "outputs": [],
   "source": [
    "def calc_portf_value(df_close, date, str_symbols, ar_shares, verbose=False):\n",
    "    import numpy as np\n",
    "    from ast import literal_eval    \n",
    "    l_syms = literal_eval(str_symbols)  # convert list stored as str back to list\n",
    "    # array of closing prices corresponding to symbols in l_syms    \n",
    "    ar_price = df_close.loc[date][l_syms].values  \n",
    "    ar_value = ar_price * ar_shares  # array of actual dollar amount invested in each symbol\n",
    "    portf_value = sum(ar_value)  # total actual portfolio value\n",
    "    if verbose:\n",
    "        print(f'{date = }, {l_syms = }, {ar_price = }, {ar_shares = }, {ar_value = }, {portf_value = }')            \n",
    "        print(f'{date} {portf_value = }')\n",
    "    return date, l_syms, ar_price, ar_shares, ar_value, portf_value"
   ]
  },
  {
   "cell_type": "code",
   "execution_count": null,
   "metadata": {},
   "outputs": [],
   "source": [
    "def get_next_date_n(df_close, date, n=1):\n",
    "\n",
    "    \"\"\"Get the next n(default=1) date from df_close. date has to in df_close.index.\n",
    "\n",
    "    Edge case: The function won't return the first date in df_close as the\n",
    "    next trading date, if date is a trading date just before the first date in df_close.\n",
    "    \"\"\"\n",
    "\n",
    "    len_df_close = len(df_close)\n",
    "    idx_dates = df_close.index.strftime('%Y-%m-%d')  # date index of df_close    \n",
    "\n",
    "    if date in idx_dates:\n",
    "        idx_next_date = idx_dates.get_loc(date) + n  # get index position of next date\n",
    "        print(f'n: {n},  idx_next_date: {idx_next_date}')\n",
    "\n",
    "        if idx_next_date >= 0:  # if idx_nex_date is negative, stop index loop back from index[0] to index[-1]    \n",
    "            if idx_next_date >= (len_df_close - n):  # next date's index is within bound of df_close\n",
    "                next_date = idx_dates[idx_dates.get_loc(date) + n]  # get the next date\n",
    "                return next_date\n",
    "        \n",
    "              \n",
    "            else:  # idx_next_date is out-of_bounds df_close\n",
    "                print(f\"{date} is the last date in df_close. No data for next {n} day\")\n",
    "                return None    \n",
    "        \n",
    "        \n",
    "        else:  # idx_next_date is negative, no data in df_close\n",
    "            # no data from df_close\n",
    "            print(f'idx_next_date: {idx_next_date} is negative, no data for {n} days from {date} in df_close')\n",
    "\n",
    "    else:     \n",
    "        # no data from df_close\n",
    "        print(f'no data for {date} in df_close')\n",
    "        return None"
   ]
  },
  {
   "cell_type": "code",
   "execution_count": null,
   "metadata": {},
   "outputs": [],
   "source": [
    "def is_date_in_close(date, df_close):\n",
    "  idx_close = df_close.index.strftime('%Y-%m-%d')\n",
    "  if date in idx_close:\n",
    "    return date\n",
    "  else:\n",
    "    return None"
   ]
  },
  {
   "cell_type": "code",
   "execution_count": null,
   "metadata": {},
   "outputs": [],
   "source": [
    "def calc_portf_value_date_buy(my_dates, my_symbols, df_close, portf_target, n, verbose=False):\n",
    "  \n",
    "  z_date_syms = zip(my_dates, my_symbols)\n",
    "\n",
    "  date_exec = []  # buy date of portfolio\n",
    "  shares_syms = []  # lists of shares of each symbol brought on date\n",
    "  value_portf = [] # list of porfolio value on date\n",
    "  shares_SPY = []  # list of shares of SPY brought on date\n",
    "  value_SPY = []  # list of value of SPY shares on date \n",
    "\n",
    "  for date, syms in z_date_syms:\n",
    "    next_date_n = get_NYSE_date_n(date, dates_NYSE_2013_2023, n, verbose=False)\n",
    "    close_date_n = is_date_in_close(next_date_n, df_close)\n",
    "\n",
    "    if close_date_n is None:\n",
    "      p_date = None\n",
    "      p_ar_shares = None\n",
    "      p_portf_value = None  # set to None when data are not available in df_close\n",
    "      SPY_shares = None\n",
    "      SPY_value = None  # set to None when data are not available in df_close\n",
    "\n",
    "      if verbose:\n",
    "        print(f\"No data for close_date_n {close_date_n}, pick's portf value = None\")\n",
    "        print(f'No data for close_date_n {close_date_n}, SPY portf value =    None')\n",
    "\n",
    "    else:    \n",
    "      p_ar_shares = calc_portf_shares(df_close, close_date_n, syms, portf_target)\n",
    "      p_date, l_syms, ar_price, ar_shares, ar_value, p_portf_value = \\\n",
    "        calc_portf_value(df_close, close_date_n, syms, p_ar_shares, verbose)\n",
    "\n",
    "      syms = str(['SPY'])\n",
    "      SPY_shares = calc_portf_shares(df_close, close_date_n, syms, portf_target)\n",
    "      date, l_syms, ar_price, ar_shares, ar_value, SPY_value = \\\n",
    "        calc_portf_value(df_close, close_date_n, syms, SPY_shares, verbose)\n",
    "\n",
    "      if verbose:\n",
    "        print(f\"close_date_n pick's portf value = {p_portf_value}\")\n",
    "        print(f'close_date_n SPY portf value =    {SPY_value}')\n",
    "\n",
    "    date_exec.append(p_date)\n",
    "    shares_syms.append(p_ar_shares)\n",
    "    value_portf.append(p_portf_value)\n",
    "    shares_SPY.append(SPY_shares)\n",
    "    value_SPY.append(SPY_value)\n",
    "\n",
    "    print('='*20, '\\n')\n",
    "\n",
    "  return date_exec, shares_syms, value_portf, shares_SPY, value_SPY       \n",
    "    "
   ]
  },
  {
   "cell_type": "code",
   "execution_count": null,
   "metadata": {},
   "outputs": [],
   "source": [
    "def calc_portf_value_date_n(my_dates, my_symbols, df_close, my_portf_shares, my_SPY_shares, n, verbose=False):\n",
    "  \n",
    "  z_date_syms_shares = zip(my_dates, my_symbols, my_portf_shares, my_SPY_shares)\n",
    "\n",
    "  date_exec = []  # buy date of portfolio\n",
    "  shares_syms = []  # lists of shares of each symbol brought on date\n",
    "  value_portf = [] # list of porfolio value on date\n",
    "  shares_SPY = []  # list of shares of SPY brought on date\n",
    "  value_SPY = []  # list of value of SPY shares on date \n",
    "\n",
    "  for date, symbols, portf_shares, SPY_shares in z_date_syms_shares:\n",
    "    next_date_n = get_NYSE_date_n(date, dates_NYSE_2013_2023, n, verbose=False)\n",
    "    close_date_n = is_date_in_close(next_date_n, df_close)\n",
    "\n",
    "    if close_date_n is None:\n",
    "      p_date_exec = None\n",
    "      p_ar_shares = None\n",
    "      p_value_portf = None  # set to None when data are not available in df_close\n",
    "      SPY_ar_shares = None\n",
    "      SPY_value_portf = None # set to None when data are not available in df_close\n",
    "\n",
    "      if verbose:\n",
    "        print(f\"No data for close_date_n {close_date_n}, pick's portf value = None\")\n",
    "        # print(f'No data for next_date_n {next_date_n}, SPY portf value =    None')\n",
    "\n",
    "    else: \n",
    "      if portf_shares is None:\n",
    "        p_date_exec = None\n",
    "        p_ar_shares = None\n",
    "        p_value_portf = None\n",
    "        SPY_ar_shares = None\n",
    "        SPY_value_portf = None\n",
    "\n",
    "      else:  \n",
    "        p_date_exec, p_ar_syms, p_ar_price, p_ar_shares, p_ar_value, p_value_portf = \\\n",
    "          calc_portf_value(df_close, close_date_n, symbols, portf_shares, verbose)\n",
    "        \n",
    "        SPY = str(['SPY'])\n",
    "        SPY_date_exec, SPY_ar_syms, SPY_ar_price, SPY_ar_shares, SPY_ar_value, SPY_value_portf = \\\n",
    "          calc_portf_value(df_close, close_date_n, SPY, SPY_shares, verbose) \n",
    "\n",
    "        if verbose:\n",
    "          print(f\"next_date_n pick's portf value = {p_value_portf}\")\n",
    "          print(f'next_date_n SPY portf value =    {SPY_value_portf}')\n",
    "\n",
    "    date_exec.append(p_date_exec)\n",
    "    shares_syms.append(p_ar_shares)\n",
    "    value_portf.append(p_value_portf)\n",
    "    shares_SPY.append(SPY_ar_shares)\n",
    "    value_SPY.append(SPY_value_portf)\n",
    "\n",
    "    print('='*20, '\\n')\n",
    "\n",
    "  return date_exec, shares_syms, value_portf, shares_SPY, value_SPY  "
   ]
  },
  {
   "cell_type": "code",
   "execution_count": null,
   "metadata": {},
   "outputs": [],
   "source": [
    "# total target investment for each day's picks, if day's pick has 2 symbols, the function will try to invest $500 for each symbol\n",
    "portf_target = 1000  \n",
    "date_buy, shares_syms, value_portf, shares_SPY, value_SPY = calc_portf_value_date_buy(df_mp.date, df_mp.symbols, df_close, portf_target, n=1, verbose=verbose)"
   ]
  },
  {
   "cell_type": "code",
   "execution_count": null,
   "metadata": {},
   "outputs": [],
   "source": [
    "df_mp['date_buy'] = date_buy\n",
    "df_mp['sh_portf_buy'] = shares_syms\n",
    "df_mp['$_portf_buy'] = value_portf\n",
    "df_mp['sh_SPY_buy'] = shares_SPY\n",
    "df_mp['$_SPY_buy'] = value_SPY\n",
    "# df_mp.tail()\n",
    "# df_mp.head()\n",
    "df_mp"
   ]
  },
  {
   "cell_type": "code",
   "execution_count": null,
   "metadata": {},
   "outputs": [],
   "source": [
    "date_exec, shares_syms, value_portf, shares_SPY, value_SPY  = \\\n",
    "  calc_portf_value_date_n(df_mp.date, df_mp.symbols, df_close, df_mp.sh_portf_buy, df_mp.sh_SPY_buy, n=4, verbose=verbose)"
   ]
  },
  {
   "cell_type": "code",
   "execution_count": null,
   "metadata": {},
   "outputs": [],
   "source": [
    "df_mp['date_sell'] = date_exec\n",
    "df_mp['sh_portf_sell'] = shares_syms\n",
    "df_mp['$_portf_sell'] = value_portf\n",
    "df_mp['%_portf_chg'] = (df_mp['$_portf_sell'] / df_mp['$_portf_buy'] - 1) * 100\n",
    "\n",
    "df_mp['sh_SPY_sell'] = shares_SPY\n",
    "df_mp['$_SPY_sell'] = value_SPY\n",
    "df_mp['%_SPY_chg'] = (df_mp['$_SPY_sell'] / df_mp['$_SPY_buy'] - 1) * 100\n",
    "\n",
    "df_mp['dif_%_chg'] = df_mp['%_portf_chg'] - df_mp['%_SPY_chg']"
   ]
  },
  {
   "cell_type": "code",
   "execution_count": null,
   "metadata": {},
   "outputs": [],
   "source": [
    "# get symbol's close price for that date\n",
    "date = '2023-03-16'\n",
    "# _date = '2023-03-21'\n",
    "# _sym = 'GE'\n",
    "# _sym = 'NVDA'\n",
    "_sym = 'FTSM'\n",
    "# _sym = 'SHV'\n",
    "_sym = 'SPY'\n",
    "# _c = df_close.loc['2023-04-11']['NVDA']\n",
    "_c = df_close.loc[_date][_sym]\n",
    "_c"
   ]
  },
  {
   "attachments": {},
   "cell_type": "markdown",
   "metadata": {},
   "source": [
    "#### dif_%_chg is the percentage change of model icks - percentage change of SPY"
   ]
  },
  {
   "cell_type": "code",
   "execution_count": null,
   "metadata": {},
   "outputs": [],
   "source": [
    "df_mp"
   ]
  },
  {
   "cell_type": "code",
   "execution_count": null,
   "metadata": {},
   "outputs": [],
   "source": [
    "df_mp['win'] = np.where(df_mp['dif_%_chg']>0,1,0)\n",
    "df_mp.head(20)"
   ]
  },
  {
   "attachments": {},
   "cell_type": "markdown",
   "metadata": {},
   "source": [
    "### Model Performance Not Good"
   ]
  },
  {
   "cell_type": "code",
   "execution_count": null,
   "metadata": {},
   "outputs": [],
   "source": [
    "wins = df_mp['win'].sum()\n",
    "attempts = len(df_mp['dif_%_chg'].dropna())\n",
    "\n",
    "win_rate = wins / attempts\n",
    "print(f'win_rate: {win_rate:0.6f}, wins: {wins}, attempts: {attempts}')\n",
    "print(f'sum(dff_%_chg): {df_mp[\"dif_%_chg\"].sum():0.6f}')\n"
   ]
  }
 ],
 "metadata": {
  "kernelspec": {
   "display_name": ".venv",
   "language": "python",
   "name": "python3"
  },
  "language_info": {
   "codemirror_mode": {
    "name": "ipython",
    "version": 3
   },
   "file_extension": ".py",
   "mimetype": "text/x-python",
   "name": "python",
   "nbconvert_exporter": "python",
   "pygments_lexer": "ipython3",
   "version": "3.8.10"
  },
  "orig_nbformat": 4,
  "vscode": {
   "interpreter": {
    "hash": "16adeade2e4c2fe5a5c8fae29fa6e6b24d9301998b78edb3420e7dd402ae68a8"
   }
  }
 },
 "nbformat": 4,
 "nbformat_minor": 2
}
