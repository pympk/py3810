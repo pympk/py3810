{
 "cells": [
  {
   "cell_type": "markdown",
   "metadata": {},
   "source": [
    "### Create a list of days_to_drop from df_close_clean such that the last date in the df is a date in dates_missing_in_df_picks<br>Pickle the list of days_to_drop to \"l_days_to_drop\""
   ]
  },
  {
   "cell_type": "code",
   "execution_count": 51,
   "metadata": {},
   "outputs": [],
   "source": [
    "import pandas as pd\n",
    "from myUtils import pickle_load, pickle_dump\n",
    "\n",
    "pd.set_option(\"display.max_rows\", 20)\n",
    "pd.set_option(\"display.max_columns\", 11)\n",
    "pd.set_option(\"display.max_colwidth\", 16)\n",
    "pd.set_option(\"display.width\", 145)\n",
    "\n",
    "path_dir = \"C:/Users/ping/MyDrive/stocks/yfinance/\"\n",
    "path_data_dump = path_dir + \"VSCode_dump/\"\n",
    "\n",
    "fp_df_close_clean = \"df_close_clean\"\n",
    "fp_dates_missing_in_df_picks = \"dates_missing_in_df_picks\"\n",
    "# list of integers that are days_to_drop from df_close_clean\n",
    "#  s.t. the last date in the df is a date in dates_missing_in_df_picks\n",
    "fp_l_days_to_drop = \"l_days_to_drop\""
   ]
  },
  {
   "cell_type": "code",
   "execution_count": 52,
   "metadata": {},
   "outputs": [
    {
     "name": "stdout",
     "output_type": "stream",
     "text": [
      "df_close_clean:\n",
      "                     A         AA        AAL        AAP        AAPL  ...       ZION        ZTO         ZTS       ZUMZ        ZWS\n",
      "Date                                                                 ...                                                        \n",
      "2017-11-28   67.448807  42.383038  47.973068  85.423683   40.914364  ...  39.945953  14.935060   68.598061  20.100000  23.525009\n",
      "2017-11-29   65.633354  40.366661  48.002308  91.965721   40.065670  ...  41.108860  14.851049   68.809456  20.850000  23.835058\n",
      "2017-11-30   66.158882  40.630943  49.210899  92.931847   40.625935  ...  41.158695  14.991066   69.462852  21.799999  24.145107\n",
      "2017-12-01   65.633354  40.758194  47.758644  91.349251   40.436829  ...  41.598942  14.935060   69.472466  19.950001  23.747852\n",
      "2017-12-04   63.292374  40.905018  48.665077  95.710617   40.141331  ...  42.977825  14.776376   68.242516  21.350000  24.145107\n",
      "...                ...        ...        ...        ...         ...  ...        ...        ...         ...        ...        ...\n",
      "2023-11-07  110.540001  25.540001  11.750000  58.380001  181.580780  ...  33.689999  24.080000  167.160004  16.459999  28.299999\n",
      "2023-11-08  109.389999  25.530001  12.010000  57.639999  182.649368  ...  33.759998  24.049999  170.869995  15.910000  28.299999\n",
      "2023-11-09  107.739998  24.580000  11.750000  56.139999  182.169998  ...  32.549999  23.690001  170.630005  15.340000  28.049999\n",
      "2023-11-10  108.470001  24.639999  11.800000  56.130001  186.399994  ...  32.919998  24.120001  169.320007  15.740000  28.799999\n",
      "2023-11-13  107.459999  24.600000  11.780000  55.939999  184.800003  ...  32.709999  24.020000  168.830002  15.730000  28.600000\n",
      "\n",
      "[1500 rows x 1277 columns]\n",
      "\n",
      "df_close_clean_index:\n",
      "DatetimeIndex(['2017-11-28', '2017-11-29', '2017-11-30', '2017-12-01', '2017-12-04', '2017-12-05', '2017-12-06', '2017-12-07', '2017-12-08',\n",
      "               '2017-12-11',\n",
      "               ...\n",
      "               '2023-10-31', '2023-11-01', '2023-11-02', '2023-11-03', '2023-11-06', '2023-11-07', '2023-11-08', '2023-11-09', '2023-11-10',\n",
      "               '2023-11-13'],\n",
      "              dtype='datetime64[ns]', name='Date', length=1500, freq=None)\n"
     ]
    }
   ],
   "source": [
    "df_close_clean = pickle_load(path_data_dump, fp_df_close_clean)\n",
    "# Sort the DataFrame by the date index in place\n",
    "df_close_clean.sort_index(inplace=True)\n",
    "print(f'df_close_clean:\\n{df_close_clean}\\n')\n",
    "df_close_clean_index = df_close_clean.index\n",
    "print(f'df_close_clean_index:\\n{df_close_clean_index}')  \n"
   ]
  },
  {
   "cell_type": "code",
   "execution_count": 53,
   "metadata": {},
   "outputs": [
    {
     "name": "stdout",
     "output_type": "stream",
     "text": [
      "dates_missing_in_df_picks, len(26):\n",
      "['2023-07-17', '2023-07-19', '2023-07-24', '2023-07-28', '2023-07-31', '2023-08-16', '2023-08-21', '2023-08-22', '2023-08-23', '2023-08-24', '2023-08-28', '2023-08-29', '2023-08-30', '2023-08-31', '2023-09-06', '2023-09-07', '2023-09-19', '2023-09-26', '2023-09-27', '2023-10-03', '2023-10-09', '2023-10-10', '2023-10-11', '2023-10-13', '2023-10-16', '2023-10-18']\n"
     ]
    }
   ],
   "source": [
    "dates_missing_in_df_picks = pickle_load(path_data_dump, fp_dates_missing_in_df_picks)\n",
    "print(f'dates_missing_in_df_picks, len({len(dates_missing_in_df_picks)}):\\n{dates_missing_in_df_picks}')"
   ]
  },
  {
   "cell_type": "code",
   "execution_count": 54,
   "metadata": {},
   "outputs": [
    {
     "name": "stdout",
     "output_type": "stream",
     "text": [
      "i: 0, date: 2023-07-17, days_to_drop: 84\n",
      "i: 1, date: 2023-07-19, days_to_drop: 82\n",
      "i: 2, date: 2023-07-24, days_to_drop: 79\n",
      "i: 3, date: 2023-07-28, days_to_drop: 75\n",
      "i: 4, date: 2023-07-31, days_to_drop: 74\n",
      "i: 5, date: 2023-08-16, days_to_drop: 62\n",
      "i: 6, date: 2023-08-21, days_to_drop: 59\n",
      "i: 7, date: 2023-08-22, days_to_drop: 58\n",
      "i: 8, date: 2023-08-23, days_to_drop: 57\n",
      "i: 9, date: 2023-08-24, days_to_drop: 56\n",
      "i: 10, date: 2023-08-28, days_to_drop: 54\n",
      "i: 11, date: 2023-08-29, days_to_drop: 53\n",
      "i: 12, date: 2023-08-30, days_to_drop: 52\n",
      "i: 13, date: 2023-08-31, days_to_drop: 51\n",
      "i: 14, date: 2023-09-06, days_to_drop: 48\n",
      "i: 15, date: 2023-09-07, days_to_drop: 47\n",
      "i: 16, date: 2023-09-19, days_to_drop: 39\n",
      "i: 17, date: 2023-09-26, days_to_drop: 34\n",
      "i: 18, date: 2023-09-27, days_to_drop: 33\n",
      "i: 19, date: 2023-10-03, days_to_drop: 29\n",
      "i: 20, date: 2023-10-09, days_to_drop: 25\n",
      "i: 21, date: 2023-10-10, days_to_drop: 24\n",
      "i: 22, date: 2023-10-11, days_to_drop: 23\n",
      "i: 23, date: 2023-10-13, days_to_drop: 21\n",
      "i: 24, date: 2023-10-16, days_to_drop: 20\n",
      "i: 25, date: 2023-10-18, days_to_drop: 18\n",
      "\n",
      "dates_missing_in_df_picks : ['2023-07-17', '2023-07-19', '2023-07-24', '2023-07-28', '2023-07-31', '2023-08-16', '2023-08-21', '2023-08-22', '2023-08-23', '2023-08-24', '2023-08-28', '2023-08-29', '2023-08-30', '2023-08-31', '2023-09-06', '2023-09-07', '2023-09-19', '2023-09-26', '2023-09-27', '2023-10-03', '2023-10-09', '2023-10-10', '2023-10-11', '2023-10-13', '2023-10-16', '2023-10-18']\n",
      "l_days_to_drop : [84, 82, 79, 75, 74, 62, 59, 58, 57, 56, 54, 53, 52, 51, 48, 47, 39, 34, 33, 29, 25, 24, 23, 21, 20, 18]\n"
     ]
    }
   ],
   "source": [
    "# list to store days_to_drop from df_close_clean\n",
    "l_days_to_drop = []\n",
    "\n",
    "# Calculate the number of days to drop from the date index.\n",
    "for i in range(len(dates_missing_in_df_picks)):\n",
    "  date = dates_missing_in_df_picks[i]\n",
    "  last_date_index = df_close_clean_index.get_loc(date)\n",
    "  # number of days to drop from df such that the last date is a missing date    \n",
    "  days_to_drop = len(df_close_clean_index) - last_date_index - 1\n",
    "  print(f'i: {i}, date: {date}, days_to_drop: {days_to_drop}')\n",
    "  l_days_to_drop.append(days_to_drop)  \n",
    "\n",
    "pickle_dump(l_days_to_drop, path_data_dump, fp_l_days_to_drop)\n",
    "print(f'\\ndates_missing_in_df_picks : {dates_missing_in_df_picks}')\n",
    "print(f'l_days_to_drop : {l_days_to_drop}')"
   ]
  }
 ],
 "metadata": {
  "kernelspec": {
   "display_name": ".venv",
   "language": "python",
   "name": "python3"
  },
  "language_info": {
   "codemirror_mode": {
    "name": "ipython",
    "version": 3
   },
   "file_extension": ".py",
   "mimetype": "text/x-python",
   "name": "python",
   "nbconvert_exporter": "python",
   "pygments_lexer": "ipython3",
   "version": "3.8.10"
  },
  "orig_nbformat": 4,
  "vscode": {
   "interpreter": {
    "hash": "16adeade2e4c2fe5a5c8fae29fa6e6b24d9301998b78edb3420e7dd402ae68a8"
   }
  }
 },
 "nbformat": 4,
 "nbformat_minor": 2
}
