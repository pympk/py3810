{
 "cells": [
  {
   "cell_type": "code",
   "execution_count": 1,
   "metadata": {},
   "outputs": [],
   "source": [
    "# https://towardsdatascience.com/pandas-groupby-a-simple-but-detailed-tutorial-314b8f37005d\n",
    "# https://towardsdatascience.com/accessing-data-in-a-multiindex-dataframe-in-pandas-569e8767201d\n",
    "# https://towardsdatascience.com/summarizing-data-with-pandas-crosstab-efc8b9abecf\n",
    "# https://towardsdatascience.com/how-to-flatten-multiindex-columns-and-rows-in-pandas-f5406c50e569\n",
    "# https://datascientyst.com/list-aggregation-functions-aggfunc-groupby-pandas/\n",
    "# https://stackoverflow.com/questions/25929319/how-to-iterate-over-pandas-multiindex-dataframe-using-index\n",
    "# https://stackoverflow.com/questions/24495695/pandas-get-unique-multiindex-level-values-by-label\n",
    "# https://stackoverflow.com/questions/55706391/pandas-crosstab-on-multiple-columns-then-groupby\n",
    "\n",
    "# https://matplotlib.org/stable/gallery/pyplots/pyplot_text.html#sphx-glr-gallery-pyplots-pyplot-text-py"
   ]
  },
  {
   "cell_type": "code",
   "execution_count": 2,
   "metadata": {},
   "outputs": [],
   "source": [
    "import pandas as pd\n",
    "import numpy as np\n",
    "from myUtils import pickle_load, pickle_dump\n",
    "\n",
    "path_dir = \"C:/Users/ping/MyDrive/stocks/yfinance/\"\n",
    "path_data_dump = path_dir + \"VSCode_dump/\"\n",
    "\n",
    "filename_symbols = path_data_dump + 'vg_symbols_4chars_max.csv'  # symbols text file\n",
    "# _filename_pickled_df_OHLCVA_downloaded = 'df_OHLCVA_downloaded '  # OHLCVA downloaded from Yahoo\n",
    "filename_pickled_df_adjOHLCV = 'df_adjOHLCV'  # adjusted OHLCV\n",
    "filename_pickled_df_symbols_close = \"df_symbols_close\"  # symbols' adjusted close\n",
    "filename_pickled_symbols_df_adjOHLCV =  'symbols_df_adjOHLCV'  # symbols in df_adjOHLCV\n",
    "filename_pickled_perf_rank_dict =  'perf_rank_dict'  # store symbols from performance rank results\n",
    "filename_pickled_r_all_ranks =  'r_all_ranks'  # list of top 100 most common symbols from performance rank results\n",
    "filename_pickled_df_a = 'df_OHLCV_clean'  # df adjusted OHLCV, dropped symbols with no vol and close\n",
    "filename_pickled_df_c = 'df_close_clean'  # df close, dropped symbols with no vol and close\n",
    "\n",
    "verbose = False  # True prints more output\n",
    "\n",
    "#################\n",
    "# look_back_days = -250 * 60  # subset df iloc days\n",
    "look_back_days = -250 * 6  # subset df iloc days, 6 years of data\n",
    "#################"
   ]
  },
  {
   "cell_type": "code",
   "execution_count": 3,
   "metadata": {},
   "outputs": [
    {
     "name": "stdout",
     "output_type": "stream",
     "text": [
      "Full path to pickled df_symbols_close:  C:/Users/ping/MyDrive/stocks/yfinance/VSCode_dump/df_symbols_close\n",
      "Full path to pickled df_adjOHLCV:  C:/Users/ping/MyDrive/stocks/yfinance/VSCode_dump/df_adjOHLCV\n"
     ]
    }
   ],
   "source": [
    "print(f\"Full path to pickled df_symbols_close:  {path_data_dump}{filename_pickled_df_symbols_close}\")\n",
    "df_close = pickle_load(path_data_dump, filename_pickled_df_symbols_close, verbose=verbose)\n",
    "print(f\"Full path to pickled df_adjOHLCV:  {path_data_dump}{filename_pickled_df_adjOHLCV}\")\n",
    "df_adjOHLCV = pickle_load(path_data_dump, filename_pickled_df_adjOHLCV, verbose=verbose)"
   ]
  },
  {
   "cell_type": "code",
   "execution_count": 4,
   "metadata": {},
   "outputs": [
    {
     "name": "stdout",
     "output_type": "stream",
     "text": [
      "symbols with no volume:\n",
      "Index(['BCI', 'COUP', 'JJC', 'LHCG', 'RFP', 'STOR', 'UMPQ'], dtype='object')\n"
     ]
    }
   ],
   "source": [
    "# https://stackoverflow.com/questions/63826291/pandas-series-find-column-by-value\n",
    "df = df_adjOHLCV[look_back_days::]\n",
    "df_v = df.xs('Volume', level=1, axis=1)  # select only Volume columns\n",
    "rows, cols = np.where(df_v == 0)  # row index, column index where trading volumes are zero\n",
    "idx_no_volume = list(set(cols))\n",
    "idx_no_volume.sort()\n",
    "symbols_no_volume = df_v.columns[idx_no_volume]\n",
    "print(f'symbols with no volume:\\n{symbols_no_volume}')"
   ]
  },
  {
   "cell_type": "code",
   "execution_count": 5,
   "metadata": {},
   "outputs": [
    {
     "name": "stdout",
     "output_type": "stream",
     "text": [
      "symbols with same volume:\n",
      "Index(['AVAV', 'BANR', 'BCI', 'BWA', 'CEM', 'COUP', 'CW', 'FRA', 'GPRK', 'HEI',\n",
      "       'JJC', 'LHCG', 'ODP', 'VWO'],\n",
      "      dtype='object')\n"
     ]
    }
   ],
   "source": [
    "df_dif = df_v - df_v.shift(periods=1)\n",
    "rows, cols = np.where(df_dif == 0)\n",
    "idx_same_volume = list(set(cols))\n",
    "idx_same_volume.sort()\n",
    "idx_same_volume\n",
    "symbols_same_volume = df_v.columns[idx_same_volume]\n",
    "print(f'symbols with same volume:\\n{symbols_same_volume}')"
   ]
  },
  {
   "cell_type": "code",
   "execution_count": 6,
   "metadata": {},
   "outputs": [
    {
     "name": "stdout",
     "output_type": "stream",
     "text": [
      "symbols with NaN close:\n",
      "Index(['BCI', 'CHK', 'JJC', 'RFP', 'SJI', 'STOR', 'UMPQ'], dtype='object')\n"
     ]
    }
   ],
   "source": [
    "df_c = df.xs('Close', level=1, axis=1)  # select only Close columns\n",
    "df_c = df_c.fillna(0).copy()  # convert NaNs to zeros\n",
    "rows, cols = np.where(df_c == 0)  # row index, column index where trading volumes are zero\n",
    "idx_no_close = list(set(cols))\n",
    "idx_no_close.sort()\n",
    "symbols_no_close = df_c.columns[idx_no_close]\n",
    "print(f'symbols with NaN close:\\n{symbols_no_close}')"
   ]
  },
  {
   "cell_type": "code",
   "execution_count": 7,
   "metadata": {},
   "outputs": [
    {
     "name": "stdout",
     "output_type": "stream",
     "text": [
      "combined symbols with no volume, same volume and no close, inculdes duplicate symbols: 28\n",
      "unique symbols dropped from df_a (adjOLHLV) and df_c (Close): 19\n"
     ]
    }
   ],
   "source": [
    "symbols_drop = list(symbols_no_close) + list(symbols_no_volume) + list(symbols_same_volume) # combine symbols with no volume and no close\n",
    "print(f'combined symbols with no volume, same volume and no close, inculdes duplicate symbols: {len(symbols_drop)}')\n",
    "symbols_drop = list(set(symbols_drop))  # drop duplicate symbols\n",
    "symbols_drop .sort()\n",
    "df_a = df.drop(symbols_drop, axis=1, level=0)  # drop symbols from OHLCA df\n",
    "df_c = df_close.iloc[look_back_days::]\n",
    "df_c = df_c.drop(symbols_drop, axis=1)\n",
    "print(f'unique symbols dropped from df_a (adjOLHLV) and df_c (Close): {len(symbols_drop)}')"
   ]
  },
  {
   "cell_type": "code",
   "execution_count": 8,
   "metadata": {},
   "outputs": [
    {
     "name": "stdout",
     "output_type": "stream",
     "text": [
      "symbols with no volume:       7\n",
      "symbols with same volume:    14\n",
      "symbols with no close:        7\n",
      "\n",
      "symbols total before drop:                                        1,319\n",
      "unique symbols dropped from df OHLCVA (df_a) and df Close (df_c):    19\n",
      "\n",
      "                                          symbols     rows\n",
      "df adjOHLCV (df_a) after dropped symbols:   1,300    1,500\n",
      "df Close (df_c) after dropped symbols:      1,300    1,500\n"
     ]
    }
   ],
   "source": [
    "print(f'symbols with no volume:   {len(symbols_no_volume):>5,}')\n",
    "print(f'symbols with same volume: {len(symbols_same_volume):>5,}')\n",
    "print(f'symbols with no close:    {len(symbols_no_close):>5,}\\n')\n",
    "print(f'symbols total before drop:                                        {len(df_close.columns):>5,}')\n",
    "print(f'unique symbols dropped from df OHLCVA (df_a) and df Close (df_c): {len(symbols_drop):>5,}\\n')\n",
    "print('                                          symbols     rows')\n",
    "print(f'df adjOHLCV (df_a) after dropped symbols:   {len(df_a.columns)/5:>5,.0f}    {len(df_a):>5,}')\n",
    "print(f'df Close (df_c) after dropped symbols:      {len(df_c.columns):>5,}    {len(df_c):>5,}')\n"
   ]
  },
  {
   "cell_type": "code",
   "execution_count": 9,
   "metadata": {},
   "outputs": [
    {
     "name": "stdout",
     "output_type": "stream",
     "text": [
      "pickled df adjOHLCV after dropping symbols with no volume, same volume, and no close:\n",
      "C:/Users/ping/MyDrive/stocks/yfinance/VSCode_dump/df_OHLCV_clean\n",
      "pickled df Close after dropping symbols with no volume, same volume, and no close:\n",
      "C:/Users/ping/MyDrive/stocks/yfinance/VSCode_dump/df_close_clean\n"
     ]
    }
   ],
   "source": [
    "pickle_dump(df_a, path_data_dump, filename_pickled_df_a)\n",
    "print(f'pickled df adjOHLCV after dropping symbols with no volume, same volume, and no close:\\n{path_data_dump}{filename_pickled_df_a}')\n",
    "pickle_dump(df_c, path_data_dump, filename_pickled_df_c)\n",
    "print(f'pickled df Close after dropping symbols with no volume, same volume, and no close:\\n{path_data_dump}{filename_pickled_df_c}')"
   ]
  },
  {
   "cell_type": "code",
   "execution_count": 10,
   "metadata": {},
   "outputs": [],
   "source": [
    "from myUtils import list_dump\n",
    "\n",
    "f_symbols_df_close_clean = 'symbols_df_close_clean.csv'  # symbols text file\n",
    "symbols_df_c = list(df_c)  # column names in df_c\n",
    "list_dump(symbols_df_c, path_data_dump, f_symbols_df_close_clean)# df_c.columns.to_csv(f_symbols_df_close_clean)"
   ]
  }
 ],
 "metadata": {
  "kernelspec": {
   "display_name": ".venv",
   "language": "python",
   "name": "python3"
  },
  "language_info": {
   "codemirror_mode": {
    "name": "ipython",
    "version": 3
   },
   "file_extension": ".py",
   "mimetype": "text/x-python",
   "name": "python",
   "nbconvert_exporter": "python",
   "pygments_lexer": "ipython3",
   "version": "3.8.10"
  },
  "orig_nbformat": 4,
  "vscode": {
   "interpreter": {
    "hash": "16adeade2e4c2fe5a5c8fae29fa6e6b24d9301998b78edb3420e7dd402ae68a8"
   }
  }
 },
 "nbformat": 4,
 "nbformat_minor": 2
}
