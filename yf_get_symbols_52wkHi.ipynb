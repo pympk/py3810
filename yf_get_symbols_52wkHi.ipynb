{
 "cells": [
  {
   "cell_type": "code",
   "execution_count": 47,
   "metadata": {},
   "outputs": [],
   "source": [
    "import pandas as pd\n",
    "from myUtils import list_dump\n",
    "path_dir = \"C:/Users/ping/MyDrive/stocks/yfinance\"\n",
    "path_data_dump = path_dir + \"VSCode_dump/\"\n",
    "fn_symbols_52wkHi = 'symbols_52wkHi.txt'\n",
    "\n",
    "### edit file name ####\n",
    "path_fn_52wkHi = \"C:/Users/ping/Downloads/all-us-exchanges-52-week-new-highs-08-24-2022.csv\"\n",
    "#######################"
   ]
  },
  {
   "cell_type": "code",
   "execution_count": 48,
   "metadata": {},
   "outputs": [
    {
     "name": "stdout",
     "output_type": "stream",
     "text": [
      "number of symbols removed by filter: 24\n",
      "number of symbols remain:            38\n",
      "\n",
      "==============================================================================\n",
      "+ def list_dump(list_to_dump, path_list_dump, filename)\n",
      "\n",
      "Wrote list to C:/Users/ping/Desktop/my_yfinance/VSCode_dump/symbols_52wkHi.txt\n",
      "- def list_dump(list_to_dump, path_list_dump, filename)\n",
      "\n",
      "------------------------------------------------------------------------------\n",
      "\n"
     ]
    }
   ],
   "source": [
    "df = pd.read_csv(path_fn_52wkHi)\n",
    "# drop last row (e.g. Downloaded from Barchart.com as of 08-24-2022 06:21pm CDT)\n",
    "df.drop(df.tail(1).index,inplace=True)\n",
    "df_shape_orig = df.shape\n",
    "# create column of Last * Volume\n",
    "df['Last*Vol'] = df.Last * df.Volume\n",
    "# apply filter Last*Vol > $10mil, Last > $10\n",
    "df = df[df['Last*Vol'] > 10000000] \n",
    "df = df[df['Last'] > 10] \n",
    "df_shape_after = df.shape\n",
    "row_deleted = df_shape_orig[0] - df_shape_after[0]\n",
    "print(f'number of symbols removed by filter: {row_deleted}')\n",
    "print(f'number of symbols remain:            {df_shape_after[0]}')\n",
    "df.sort_values(by=['52W #Highs'])\n",
    "symbols_52wkHi = df['Symbol'].to_list()\n",
    "list_dump(symbols_52wkHi, path_data_dump, fn_symbols_52wkHi, verbose=True)"
   ]
  }
 ],
 "metadata": {
  "kernelspec": {
   "display_name": "Python 3.7.9 ('.venv': poetry)",
   "language": "python",
   "name": "python3"
  },
  "language_info": {
   "codemirror_mode": {
    "name": "ipython",
    "version": 3
   },
   "file_extension": ".py",
   "mimetype": "text/x-python",
   "name": "python",
   "nbconvert_exporter": "python",
   "pygments_lexer": "ipython3",
   "version": "3.7.9"
  },
  "orig_nbformat": 4,
  "vscode": {
   "interpreter": {
    "hash": "55a3812d65f91e7e7447da6b5cfc60716e82f91e6a92533fb27b46796ad1962a"
   }
  }
 },
 "nbformat": 4,
 "nbformat_minor": 2
}
