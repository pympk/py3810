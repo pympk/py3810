{
 "cells": [
  {
   "cell_type": "code",
   "execution_count": 6,
   "metadata": {},
   "outputs": [],
   "source": [
    "# https://www.wrighters.io/parameters-jupyter-notebooks-with-papermill/\n",
    "import papermill as pm\n",
    "from itertools import product"
   ]
  },
  {
   "cell_type": "code",
   "execution_count": 7,
   "metadata": {},
   "outputs": [],
   "source": [
    "verbose = True  # True prints more output\n",
    "# verbose = False  # True prints more output\n",
    "\n",
    "# write run results to df_eval_results\n",
    "# store_results = False\n",
    "store_results = True\n",
    "\n",
    "# number of the most-common symbols from days_lookbacks' performance rankings to keep\n",
    "n_top_syms = 20  \n",
    "\n",
    "syms_start = 0  #  start index of n_top_syms for evaluation\n",
    "syms_end = 10  #  end index of n_top_syms for evaluation\n",
    "\n",
    "# number of max lookback tuples to create\n",
    "n_samples_train = 400  # default samples for train\n",
    "# n_samples_train = 40  # debug\n"
   ]
  },
  {
   "cell_type": "code",
   "execution_count": 8,
   "metadata": {},
   "outputs": [],
   "source": [
    "run_types = ['train', 'validate', 'test']\n",
    "\n",
    "l_days_eval = [4, 5, 6] \n",
    "# l_days_eval = [4, 5] \n",
    "# l_days_eval = [4] \n",
    "\n",
    "l_days_lookbacks = [\n",
    "    [15],\n",
    "    [30],\n",
    "    [60],\n",
    "    [120],\n",
    "    [15, 30],\n",
    "    [30, 60],\n",
    "    [60, 120],\n",
    "    [15, 30, 60],\n",
    "    [30, 60, 120],\n",
    "    [15, 30, 60, 120],\n",
    "    ]"
   ]
  },
  {
   "cell_type": "code",
   "execution_count": 9,
   "metadata": {},
   "outputs": [
    {
     "data": {
      "text/plain": [
       "{'verbose': True,\n",
       " 'store_results': True,\n",
       " 'n_top_syms': 20,\n",
       " 'syms_start': 0,\n",
       " 'syms_end': 10}"
      ]
     },
     "execution_count": 9,
     "metadata": {},
     "output_type": "execute_result"
    }
   ],
   "source": [
    "run_params = dict(\n",
    "                  # fp_df_eval_results=fp_df_eval_results,\n",
    "                  # fp_df_picks=fp_df_picks,\n",
    "                  verbose=verbose,\n",
    "                  store_results=store_results,\n",
    "                  n_top_syms=n_top_syms,\n",
    "                  syms_start=syms_start,\n",
    "                  syms_end=syms_end,\n",
    "                  )\n",
    "\n",
    "run_params"
   ]
  },
  {
   "attachments": {},
   "cell_type": "markdown",
   "metadata": {},
   "source": [
    "#### Check the run parameters before running. It will take about 1 hour and 20 minutes to run"
   ]
  },
  {
   "cell_type": "code",
   "execution_count": 10,
   "metadata": {},
   "outputs": [
    {
     "name": "stdout",
     "output_type": "stream",
     "text": [
      "1    of 90    run_type: train         fp_df_eval_results: df_eval_results_train         n_samples: 400      days_eval: 4        days_lookbacks: [15]\n"
     ]
    },
    {
     "data": {
      "application/vnd.jupyter.widget-view+json": {
       "model_id": "ca2ccc7990e54761ba368a78228b58d8",
       "version_major": 2,
       "version_minor": 0
      },
      "text/plain": [
       "Executing:   0%|          | 0/29 [00:00<?, ?cell/s]"
      ]
     },
     "metadata": {},
     "output_type": "display_data"
    },
    {
     "name": "stdout",
     "output_type": "stream",
     "text": [
      "2    of 90    run_type: train         fp_df_eval_results: df_eval_results_train         n_samples: 400      days_eval: 4        days_lookbacks: [30]\n"
     ]
    },
    {
     "data": {
      "application/vnd.jupyter.widget-view+json": {
       "model_id": "468429e9875a46c0bbfefff5e7729dff",
       "version_major": 2,
       "version_minor": 0
      },
      "text/plain": [
       "Executing:   0%|          | 0/29 [00:00<?, ?cell/s]"
      ]
     },
     "metadata": {},
     "output_type": "display_data"
    },
    {
     "name": "stdout",
     "output_type": "stream",
     "text": [
      "3    of 90    run_type: train         fp_df_eval_results: df_eval_results_train         n_samples: 400      days_eval: 4        days_lookbacks: [60]\n"
     ]
    },
    {
     "data": {
      "application/vnd.jupyter.widget-view+json": {
       "model_id": "224ae23e84814d0f92d8d00184f80c5e",
       "version_major": 2,
       "version_minor": 0
      },
      "text/plain": [
       "Executing:   0%|          | 0/29 [00:00<?, ?cell/s]"
      ]
     },
     "metadata": {},
     "output_type": "display_data"
    },
    {
     "name": "stdout",
     "output_type": "stream",
     "text": [
      "4    of 90    run_type: train         fp_df_eval_results: df_eval_results_train         n_samples: 400      days_eval: 4        days_lookbacks: [120]\n"
     ]
    },
    {
     "data": {
      "application/vnd.jupyter.widget-view+json": {
       "model_id": "7ca2e70aa8e047c2a72efebc2279c907",
       "version_major": 2,
       "version_minor": 0
      },
      "text/plain": [
       "Executing:   0%|          | 0/29 [00:00<?, ?cell/s]"
      ]
     },
     "metadata": {},
     "output_type": "display_data"
    },
    {
     "name": "stdout",
     "output_type": "stream",
     "text": [
      "5    of 90    run_type: train         fp_df_eval_results: df_eval_results_train         n_samples: 400      days_eval: 4        days_lookbacks: [15, 30]\n"
     ]
    },
    {
     "data": {
      "application/vnd.jupyter.widget-view+json": {
       "model_id": "bd61590368e644c8af1b5cd07d32d29c",
       "version_major": 2,
       "version_minor": 0
      },
      "text/plain": [
       "Executing:   0%|          | 0/29 [00:00<?, ?cell/s]"
      ]
     },
     "metadata": {},
     "output_type": "display_data"
    },
    {
     "name": "stdout",
     "output_type": "stream",
     "text": [
      "6    of 90    run_type: train         fp_df_eval_results: df_eval_results_train         n_samples: 400      days_eval: 4        days_lookbacks: [30, 60]\n"
     ]
    },
    {
     "data": {
      "application/vnd.jupyter.widget-view+json": {
       "model_id": "7bb5328d881d498aa317f4524cfc4309",
       "version_major": 2,
       "version_minor": 0
      },
      "text/plain": [
       "Executing:   0%|          | 0/29 [00:00<?, ?cell/s]"
      ]
     },
     "metadata": {},
     "output_type": "display_data"
    },
    {
     "name": "stdout",
     "output_type": "stream",
     "text": [
      "7    of 90    run_type: train         fp_df_eval_results: df_eval_results_train         n_samples: 400      days_eval: 4        days_lookbacks: [60, 120]\n"
     ]
    },
    {
     "data": {
      "application/vnd.jupyter.widget-view+json": {
       "model_id": "1c1a612dc93148a89ea0c84d3a97a108",
       "version_major": 2,
       "version_minor": 0
      },
      "text/plain": [
       "Executing:   0%|          | 0/29 [00:00<?, ?cell/s]"
      ]
     },
     "metadata": {},
     "output_type": "display_data"
    },
    {
     "name": "stdout",
     "output_type": "stream",
     "text": [
      "8    of 90    run_type: train         fp_df_eval_results: df_eval_results_train         n_samples: 400      days_eval: 4        days_lookbacks: [15, 30, 60]\n"
     ]
    },
    {
     "data": {
      "application/vnd.jupyter.widget-view+json": {
       "model_id": "d43923fb0fd1432aa366ab8525453596",
       "version_major": 2,
       "version_minor": 0
      },
      "text/plain": [
       "Executing:   0%|          | 0/29 [00:00<?, ?cell/s]"
      ]
     },
     "metadata": {},
     "output_type": "display_data"
    },
    {
     "name": "stdout",
     "output_type": "stream",
     "text": [
      "9    of 90    run_type: train         fp_df_eval_results: df_eval_results_train         n_samples: 400      days_eval: 4        days_lookbacks: [30, 60, 120]\n"
     ]
    },
    {
     "data": {
      "application/vnd.jupyter.widget-view+json": {
       "model_id": "bf8fd131efea46e8895a22ec3dbed49d",
       "version_major": 2,
       "version_minor": 0
      },
      "text/plain": [
       "Executing:   0%|          | 0/29 [00:00<?, ?cell/s]"
      ]
     },
     "metadata": {},
     "output_type": "display_data"
    },
    {
     "name": "stdout",
     "output_type": "stream",
     "text": [
      "10   of 90    run_type: train         fp_df_eval_results: df_eval_results_train         n_samples: 400      days_eval: 4        days_lookbacks: [15, 30, 60, 120]\n"
     ]
    },
    {
     "data": {
      "application/vnd.jupyter.widget-view+json": {
       "model_id": "564d9edd6c284345ab24f90ff8a1ca33",
       "version_major": 2,
       "version_minor": 0
      },
      "text/plain": [
       "Executing:   0%|          | 0/29 [00:00<?, ?cell/s]"
      ]
     },
     "metadata": {},
     "output_type": "display_data"
    },
    {
     "name": "stdout",
     "output_type": "stream",
     "text": [
      "11   of 90    run_type: train         fp_df_eval_results: df_eval_results_train         n_samples: 400      days_eval: 5        days_lookbacks: [15]\n"
     ]
    },
    {
     "data": {
      "application/vnd.jupyter.widget-view+json": {
       "model_id": "0b33889062554510aae816083c69f1aa",
       "version_major": 2,
       "version_minor": 0
      },
      "text/plain": [
       "Executing:   0%|          | 0/29 [00:00<?, ?cell/s]"
      ]
     },
     "metadata": {},
     "output_type": "display_data"
    },
    {
     "name": "stdout",
     "output_type": "stream",
     "text": [
      "12   of 90    run_type: train         fp_df_eval_results: df_eval_results_train         n_samples: 400      days_eval: 5        days_lookbacks: [30]\n"
     ]
    },
    {
     "data": {
      "application/vnd.jupyter.widget-view+json": {
       "model_id": "9946c764dd934c68a77d0e760e316c79",
       "version_major": 2,
       "version_minor": 0
      },
      "text/plain": [
       "Executing:   0%|          | 0/29 [00:00<?, ?cell/s]"
      ]
     },
     "metadata": {},
     "output_type": "display_data"
    },
    {
     "name": "stdout",
     "output_type": "stream",
     "text": [
      "13   of 90    run_type: train         fp_df_eval_results: df_eval_results_train         n_samples: 400      days_eval: 5        days_lookbacks: [60]\n"
     ]
    },
    {
     "data": {
      "application/vnd.jupyter.widget-view+json": {
       "model_id": "da24db5bd449486f95bcb10279c18eb6",
       "version_major": 2,
       "version_minor": 0
      },
      "text/plain": [
       "Executing:   0%|          | 0/29 [00:00<?, ?cell/s]"
      ]
     },
     "metadata": {},
     "output_type": "display_data"
    },
    {
     "name": "stdout",
     "output_type": "stream",
     "text": [
      "14   of 90    run_type: train         fp_df_eval_results: df_eval_results_train         n_samples: 400      days_eval: 5        days_lookbacks: [120]\n"
     ]
    },
    {
     "data": {
      "application/vnd.jupyter.widget-view+json": {
       "model_id": "5ce97ac7fa4f4f86b6453cb8ffe11b9f",
       "version_major": 2,
       "version_minor": 0
      },
      "text/plain": [
       "Executing:   0%|          | 0/29 [00:00<?, ?cell/s]"
      ]
     },
     "metadata": {},
     "output_type": "display_data"
    },
    {
     "name": "stdout",
     "output_type": "stream",
     "text": [
      "15   of 90    run_type: train         fp_df_eval_results: df_eval_results_train         n_samples: 400      days_eval: 5        days_lookbacks: [15, 30]\n"
     ]
    },
    {
     "data": {
      "application/vnd.jupyter.widget-view+json": {
       "model_id": "39c87d134a804e7c8f7cab79b6605c6f",
       "version_major": 2,
       "version_minor": 0
      },
      "text/plain": [
       "Executing:   0%|          | 0/29 [00:00<?, ?cell/s]"
      ]
     },
     "metadata": {},
     "output_type": "display_data"
    },
    {
     "name": "stdout",
     "output_type": "stream",
     "text": [
      "16   of 90    run_type: train         fp_df_eval_results: df_eval_results_train         n_samples: 400      days_eval: 5        days_lookbacks: [30, 60]\n"
     ]
    },
    {
     "data": {
      "application/vnd.jupyter.widget-view+json": {
       "model_id": "6a4521ebdd0146eea381bfe3b89e4f8d",
       "version_major": 2,
       "version_minor": 0
      },
      "text/plain": [
       "Executing:   0%|          | 0/29 [00:00<?, ?cell/s]"
      ]
     },
     "metadata": {},
     "output_type": "display_data"
    },
    {
     "name": "stdout",
     "output_type": "stream",
     "text": [
      "17   of 90    run_type: train         fp_df_eval_results: df_eval_results_train         n_samples: 400      days_eval: 5        days_lookbacks: [60, 120]\n"
     ]
    },
    {
     "data": {
      "application/vnd.jupyter.widget-view+json": {
       "model_id": "eed95ed1173a4685b8997847c82704a1",
       "version_major": 2,
       "version_minor": 0
      },
      "text/plain": [
       "Executing:   0%|          | 0/29 [00:00<?, ?cell/s]"
      ]
     },
     "metadata": {},
     "output_type": "display_data"
    },
    {
     "name": "stdout",
     "output_type": "stream",
     "text": [
      "18   of 90    run_type: train         fp_df_eval_results: df_eval_results_train         n_samples: 400      days_eval: 5        days_lookbacks: [15, 30, 60]\n"
     ]
    },
    {
     "data": {
      "application/vnd.jupyter.widget-view+json": {
       "model_id": "ad6001edda824ce997c4ea4616eb21d5",
       "version_major": 2,
       "version_minor": 0
      },
      "text/plain": [
       "Executing:   0%|          | 0/29 [00:00<?, ?cell/s]"
      ]
     },
     "metadata": {},
     "output_type": "display_data"
    },
    {
     "name": "stdout",
     "output_type": "stream",
     "text": [
      "19   of 90    run_type: train         fp_df_eval_results: df_eval_results_train         n_samples: 400      days_eval: 5        days_lookbacks: [30, 60, 120]\n"
     ]
    },
    {
     "data": {
      "application/vnd.jupyter.widget-view+json": {
       "model_id": "988aa98b1b754d8683ac5665a0faba8e",
       "version_major": 2,
       "version_minor": 0
      },
      "text/plain": [
       "Executing:   0%|          | 0/29 [00:00<?, ?cell/s]"
      ]
     },
     "metadata": {},
     "output_type": "display_data"
    },
    {
     "name": "stdout",
     "output_type": "stream",
     "text": [
      "20   of 90    run_type: train         fp_df_eval_results: df_eval_results_train         n_samples: 400      days_eval: 5        days_lookbacks: [15, 30, 60, 120]\n"
     ]
    },
    {
     "data": {
      "application/vnd.jupyter.widget-view+json": {
       "model_id": "c57dc3266b9645abab2805a5fc502b8d",
       "version_major": 2,
       "version_minor": 0
      },
      "text/plain": [
       "Executing:   0%|          | 0/29 [00:00<?, ?cell/s]"
      ]
     },
     "metadata": {},
     "output_type": "display_data"
    },
    {
     "name": "stdout",
     "output_type": "stream",
     "text": [
      "21   of 90    run_type: train         fp_df_eval_results: df_eval_results_train         n_samples: 400      days_eval: 6        days_lookbacks: [15]\n"
     ]
    },
    {
     "data": {
      "application/vnd.jupyter.widget-view+json": {
       "model_id": "e0b90435688e4d2bbaaed313fd3a810a",
       "version_major": 2,
       "version_minor": 0
      },
      "text/plain": [
       "Executing:   0%|          | 0/29 [00:00<?, ?cell/s]"
      ]
     },
     "metadata": {},
     "output_type": "display_data"
    },
    {
     "name": "stdout",
     "output_type": "stream",
     "text": [
      "22   of 90    run_type: train         fp_df_eval_results: df_eval_results_train         n_samples: 400      days_eval: 6        days_lookbacks: [30]\n"
     ]
    },
    {
     "data": {
      "application/vnd.jupyter.widget-view+json": {
       "model_id": "132b2ee72d874a2eadd4eea1e3b06fa9",
       "version_major": 2,
       "version_minor": 0
      },
      "text/plain": [
       "Executing:   0%|          | 0/29 [00:00<?, ?cell/s]"
      ]
     },
     "metadata": {},
     "output_type": "display_data"
    },
    {
     "name": "stdout",
     "output_type": "stream",
     "text": [
      "23   of 90    run_type: train         fp_df_eval_results: df_eval_results_train         n_samples: 400      days_eval: 6        days_lookbacks: [60]\n"
     ]
    },
    {
     "data": {
      "application/vnd.jupyter.widget-view+json": {
       "model_id": "936d04c49c3f446a901095ccc59ac9ad",
       "version_major": 2,
       "version_minor": 0
      },
      "text/plain": [
       "Executing:   0%|          | 0/29 [00:00<?, ?cell/s]"
      ]
     },
     "metadata": {},
     "output_type": "display_data"
    },
    {
     "name": "stdout",
     "output_type": "stream",
     "text": [
      "24   of 90    run_type: train         fp_df_eval_results: df_eval_results_train         n_samples: 400      days_eval: 6        days_lookbacks: [120]\n"
     ]
    },
    {
     "data": {
      "application/vnd.jupyter.widget-view+json": {
       "model_id": "b90aa9f57fc143ab8b9ae6ddf7063c44",
       "version_major": 2,
       "version_minor": 0
      },
      "text/plain": [
       "Executing:   0%|          | 0/29 [00:00<?, ?cell/s]"
      ]
     },
     "metadata": {},
     "output_type": "display_data"
    },
    {
     "name": "stdout",
     "output_type": "stream",
     "text": [
      "25   of 90    run_type: train         fp_df_eval_results: df_eval_results_train         n_samples: 400      days_eval: 6        days_lookbacks: [15, 30]\n"
     ]
    },
    {
     "data": {
      "application/vnd.jupyter.widget-view+json": {
       "model_id": "316cd24a91c84c3db5c2c53bf38650d8",
       "version_major": 2,
       "version_minor": 0
      },
      "text/plain": [
       "Executing:   0%|          | 0/29 [00:00<?, ?cell/s]"
      ]
     },
     "metadata": {},
     "output_type": "display_data"
    },
    {
     "name": "stdout",
     "output_type": "stream",
     "text": [
      "26   of 90    run_type: train         fp_df_eval_results: df_eval_results_train         n_samples: 400      days_eval: 6        days_lookbacks: [30, 60]\n"
     ]
    },
    {
     "data": {
      "application/vnd.jupyter.widget-view+json": {
       "model_id": "f49faf89c0be4a4d8ad5d13f2295d40e",
       "version_major": 2,
       "version_minor": 0
      },
      "text/plain": [
       "Executing:   0%|          | 0/29 [00:00<?, ?cell/s]"
      ]
     },
     "metadata": {},
     "output_type": "display_data"
    },
    {
     "name": "stdout",
     "output_type": "stream",
     "text": [
      "27   of 90    run_type: train         fp_df_eval_results: df_eval_results_train         n_samples: 400      days_eval: 6        days_lookbacks: [60, 120]\n"
     ]
    },
    {
     "data": {
      "application/vnd.jupyter.widget-view+json": {
       "model_id": "7ae3c8f3980248f8827a67214736c315",
       "version_major": 2,
       "version_minor": 0
      },
      "text/plain": [
       "Executing:   0%|          | 0/29 [00:00<?, ?cell/s]"
      ]
     },
     "metadata": {},
     "output_type": "display_data"
    },
    {
     "name": "stdout",
     "output_type": "stream",
     "text": [
      "28   of 90    run_type: train         fp_df_eval_results: df_eval_results_train         n_samples: 400      days_eval: 6        days_lookbacks: [15, 30, 60]\n"
     ]
    },
    {
     "data": {
      "application/vnd.jupyter.widget-view+json": {
       "model_id": "7bb9bc7ce3b34ddc98d163a6dad80abd",
       "version_major": 2,
       "version_minor": 0
      },
      "text/plain": [
       "Executing:   0%|          | 0/29 [00:00<?, ?cell/s]"
      ]
     },
     "metadata": {},
     "output_type": "display_data"
    },
    {
     "name": "stdout",
     "output_type": "stream",
     "text": [
      "29   of 90    run_type: train         fp_df_eval_results: df_eval_results_train         n_samples: 400      days_eval: 6        days_lookbacks: [30, 60, 120]\n"
     ]
    },
    {
     "data": {
      "application/vnd.jupyter.widget-view+json": {
       "model_id": "07283b02234d4090aa27b1d765afffb8",
       "version_major": 2,
       "version_minor": 0
      },
      "text/plain": [
       "Executing:   0%|          | 0/29 [00:00<?, ?cell/s]"
      ]
     },
     "metadata": {},
     "output_type": "display_data"
    },
    {
     "name": "stdout",
     "output_type": "stream",
     "text": [
      "30   of 90    run_type: train         fp_df_eval_results: df_eval_results_train         n_samples: 400      days_eval: 6        days_lookbacks: [15, 30, 60, 120]\n"
     ]
    },
    {
     "data": {
      "application/vnd.jupyter.widget-view+json": {
       "model_id": "2b9d801ce3194118a098516ed7af911b",
       "version_major": 2,
       "version_minor": 0
      },
      "text/plain": [
       "Executing:   0%|          | 0/29 [00:00<?, ?cell/s]"
      ]
     },
     "metadata": {},
     "output_type": "display_data"
    },
    {
     "name": "stdout",
     "output_type": "stream",
     "text": [
      "31   of 90    run_type: validate      fp_df_eval_results: df_eval_results_validate      n_samples: 114      days_eval: 4        days_lookbacks: [15]\n"
     ]
    },
    {
     "data": {
      "application/vnd.jupyter.widget-view+json": {
       "model_id": "3c9e8ad62dc9488fa9d2eeea3dd42e4a",
       "version_major": 2,
       "version_minor": 0
      },
      "text/plain": [
       "Executing:   0%|          | 0/29 [00:00<?, ?cell/s]"
      ]
     },
     "metadata": {},
     "output_type": "display_data"
    },
    {
     "name": "stdout",
     "output_type": "stream",
     "text": [
      "32   of 90    run_type: validate      fp_df_eval_results: df_eval_results_validate      n_samples: 114      days_eval: 4        days_lookbacks: [30]\n"
     ]
    },
    {
     "data": {
      "application/vnd.jupyter.widget-view+json": {
       "model_id": "aa0ec357f29b40bd958e756573f2cb6e",
       "version_major": 2,
       "version_minor": 0
      },
      "text/plain": [
       "Executing:   0%|          | 0/29 [00:00<?, ?cell/s]"
      ]
     },
     "metadata": {},
     "output_type": "display_data"
    },
    {
     "name": "stdout",
     "output_type": "stream",
     "text": [
      "33   of 90    run_type: validate      fp_df_eval_results: df_eval_results_validate      n_samples: 114      days_eval: 4        days_lookbacks: [60]\n"
     ]
    },
    {
     "data": {
      "application/vnd.jupyter.widget-view+json": {
       "model_id": "4d162170590a43228a62ec05b52b5b46",
       "version_major": 2,
       "version_minor": 0
      },
      "text/plain": [
       "Executing:   0%|          | 0/29 [00:00<?, ?cell/s]"
      ]
     },
     "metadata": {},
     "output_type": "display_data"
    },
    {
     "name": "stdout",
     "output_type": "stream",
     "text": [
      "34   of 90    run_type: validate      fp_df_eval_results: df_eval_results_validate      n_samples: 114      days_eval: 4        days_lookbacks: [120]\n"
     ]
    },
    {
     "data": {
      "application/vnd.jupyter.widget-view+json": {
       "model_id": "bf847be2217e4fb29628957e8c249754",
       "version_major": 2,
       "version_minor": 0
      },
      "text/plain": [
       "Executing:   0%|          | 0/29 [00:00<?, ?cell/s]"
      ]
     },
     "metadata": {},
     "output_type": "display_data"
    },
    {
     "name": "stdout",
     "output_type": "stream",
     "text": [
      "35   of 90    run_type: validate      fp_df_eval_results: df_eval_results_validate      n_samples: 114      days_eval: 4        days_lookbacks: [15, 30]\n"
     ]
    },
    {
     "data": {
      "application/vnd.jupyter.widget-view+json": {
       "model_id": "4f405be421cd4d4cae732fdbb416ce35",
       "version_major": 2,
       "version_minor": 0
      },
      "text/plain": [
       "Executing:   0%|          | 0/29 [00:00<?, ?cell/s]"
      ]
     },
     "metadata": {},
     "output_type": "display_data"
    },
    {
     "name": "stdout",
     "output_type": "stream",
     "text": [
      "36   of 90    run_type: validate      fp_df_eval_results: df_eval_results_validate      n_samples: 114      days_eval: 4        days_lookbacks: [30, 60]\n"
     ]
    },
    {
     "data": {
      "application/vnd.jupyter.widget-view+json": {
       "model_id": "2ff5153d453149a9ab2058e548f3b5e8",
       "version_major": 2,
       "version_minor": 0
      },
      "text/plain": [
       "Executing:   0%|          | 0/29 [00:00<?, ?cell/s]"
      ]
     },
     "metadata": {},
     "output_type": "display_data"
    },
    {
     "name": "stdout",
     "output_type": "stream",
     "text": [
      "37   of 90    run_type: validate      fp_df_eval_results: df_eval_results_validate      n_samples: 114      days_eval: 4        days_lookbacks: [60, 120]\n"
     ]
    },
    {
     "data": {
      "application/vnd.jupyter.widget-view+json": {
       "model_id": "e89b567dba93493dbb5eb36072edbe2d",
       "version_major": 2,
       "version_minor": 0
      },
      "text/plain": [
       "Executing:   0%|          | 0/29 [00:00<?, ?cell/s]"
      ]
     },
     "metadata": {},
     "output_type": "display_data"
    },
    {
     "name": "stdout",
     "output_type": "stream",
     "text": [
      "38   of 90    run_type: validate      fp_df_eval_results: df_eval_results_validate      n_samples: 114      days_eval: 4        days_lookbacks: [15, 30, 60]\n"
     ]
    },
    {
     "data": {
      "application/vnd.jupyter.widget-view+json": {
       "model_id": "3cf10610036c43dbb6bd41f739969923",
       "version_major": 2,
       "version_minor": 0
      },
      "text/plain": [
       "Executing:   0%|          | 0/29 [00:00<?, ?cell/s]"
      ]
     },
     "metadata": {},
     "output_type": "display_data"
    },
    {
     "name": "stdout",
     "output_type": "stream",
     "text": [
      "39   of 90    run_type: validate      fp_df_eval_results: df_eval_results_validate      n_samples: 114      days_eval: 4        days_lookbacks: [30, 60, 120]\n"
     ]
    },
    {
     "data": {
      "application/vnd.jupyter.widget-view+json": {
       "model_id": "9d6399d1dca04c9ba08eca3bdde8e438",
       "version_major": 2,
       "version_minor": 0
      },
      "text/plain": [
       "Executing:   0%|          | 0/29 [00:00<?, ?cell/s]"
      ]
     },
     "metadata": {},
     "output_type": "display_data"
    },
    {
     "name": "stdout",
     "output_type": "stream",
     "text": [
      "40   of 90    run_type: validate      fp_df_eval_results: df_eval_results_validate      n_samples: 114      days_eval: 4        days_lookbacks: [15, 30, 60, 120]\n"
     ]
    },
    {
     "data": {
      "application/vnd.jupyter.widget-view+json": {
       "model_id": "c1a8a23704d9464eba059e89aa63989c",
       "version_major": 2,
       "version_minor": 0
      },
      "text/plain": [
       "Executing:   0%|          | 0/29 [00:00<?, ?cell/s]"
      ]
     },
     "metadata": {},
     "output_type": "display_data"
    },
    {
     "name": "stdout",
     "output_type": "stream",
     "text": [
      "41   of 90    run_type: validate      fp_df_eval_results: df_eval_results_validate      n_samples: 114      days_eval: 5        days_lookbacks: [15]\n"
     ]
    },
    {
     "data": {
      "application/vnd.jupyter.widget-view+json": {
       "model_id": "96f869d88dcd4358848c461aff2c1bc0",
       "version_major": 2,
       "version_minor": 0
      },
      "text/plain": [
       "Executing:   0%|          | 0/29 [00:00<?, ?cell/s]"
      ]
     },
     "metadata": {},
     "output_type": "display_data"
    },
    {
     "name": "stdout",
     "output_type": "stream",
     "text": [
      "42   of 90    run_type: validate      fp_df_eval_results: df_eval_results_validate      n_samples: 114      days_eval: 5        days_lookbacks: [30]\n"
     ]
    },
    {
     "data": {
      "application/vnd.jupyter.widget-view+json": {
       "model_id": "32b2cf4ba80f46aa972e6eab5a44a140",
       "version_major": 2,
       "version_minor": 0
      },
      "text/plain": [
       "Executing:   0%|          | 0/29 [00:00<?, ?cell/s]"
      ]
     },
     "metadata": {},
     "output_type": "display_data"
    },
    {
     "name": "stdout",
     "output_type": "stream",
     "text": [
      "43   of 90    run_type: validate      fp_df_eval_results: df_eval_results_validate      n_samples: 114      days_eval: 5        days_lookbacks: [60]\n"
     ]
    },
    {
     "data": {
      "application/vnd.jupyter.widget-view+json": {
       "model_id": "3e429c9af7dc4d91bad99e1785665739",
       "version_major": 2,
       "version_minor": 0
      },
      "text/plain": [
       "Executing:   0%|          | 0/29 [00:00<?, ?cell/s]"
      ]
     },
     "metadata": {},
     "output_type": "display_data"
    },
    {
     "name": "stdout",
     "output_type": "stream",
     "text": [
      "44   of 90    run_type: validate      fp_df_eval_results: df_eval_results_validate      n_samples: 114      days_eval: 5        days_lookbacks: [120]\n"
     ]
    },
    {
     "data": {
      "application/vnd.jupyter.widget-view+json": {
       "model_id": "aa1f015f817544fbbbf467a2eb759ab7",
       "version_major": 2,
       "version_minor": 0
      },
      "text/plain": [
       "Executing:   0%|          | 0/29 [00:00<?, ?cell/s]"
      ]
     },
     "metadata": {},
     "output_type": "display_data"
    },
    {
     "name": "stdout",
     "output_type": "stream",
     "text": [
      "45   of 90    run_type: validate      fp_df_eval_results: df_eval_results_validate      n_samples: 114      days_eval: 5        days_lookbacks: [15, 30]\n"
     ]
    },
    {
     "data": {
      "application/vnd.jupyter.widget-view+json": {
       "model_id": "4812ea6ca77846d08f9cd2356121663f",
       "version_major": 2,
       "version_minor": 0
      },
      "text/plain": [
       "Executing:   0%|          | 0/29 [00:00<?, ?cell/s]"
      ]
     },
     "metadata": {},
     "output_type": "display_data"
    },
    {
     "name": "stdout",
     "output_type": "stream",
     "text": [
      "46   of 90    run_type: validate      fp_df_eval_results: df_eval_results_validate      n_samples: 114      days_eval: 5        days_lookbacks: [30, 60]\n"
     ]
    },
    {
     "data": {
      "application/vnd.jupyter.widget-view+json": {
       "model_id": "30c0c954f8224999921972f30186210a",
       "version_major": 2,
       "version_minor": 0
      },
      "text/plain": [
       "Executing:   0%|          | 0/29 [00:00<?, ?cell/s]"
      ]
     },
     "metadata": {},
     "output_type": "display_data"
    },
    {
     "name": "stdout",
     "output_type": "stream",
     "text": [
      "47   of 90    run_type: validate      fp_df_eval_results: df_eval_results_validate      n_samples: 114      days_eval: 5        days_lookbacks: [60, 120]\n"
     ]
    },
    {
     "data": {
      "application/vnd.jupyter.widget-view+json": {
       "model_id": "3366146ff1a1446ca44efc0274637e3a",
       "version_major": 2,
       "version_minor": 0
      },
      "text/plain": [
       "Executing:   0%|          | 0/29 [00:00<?, ?cell/s]"
      ]
     },
     "metadata": {},
     "output_type": "display_data"
    },
    {
     "name": "stdout",
     "output_type": "stream",
     "text": [
      "48   of 90    run_type: validate      fp_df_eval_results: df_eval_results_validate      n_samples: 114      days_eval: 5        days_lookbacks: [15, 30, 60]\n"
     ]
    },
    {
     "data": {
      "application/vnd.jupyter.widget-view+json": {
       "model_id": "f8f8f2d2a42e4e31a15eb129caa6a2af",
       "version_major": 2,
       "version_minor": 0
      },
      "text/plain": [
       "Executing:   0%|          | 0/29 [00:00<?, ?cell/s]"
      ]
     },
     "metadata": {},
     "output_type": "display_data"
    },
    {
     "name": "stdout",
     "output_type": "stream",
     "text": [
      "49   of 90    run_type: validate      fp_df_eval_results: df_eval_results_validate      n_samples: 114      days_eval: 5        days_lookbacks: [30, 60, 120]\n"
     ]
    },
    {
     "data": {
      "application/vnd.jupyter.widget-view+json": {
       "model_id": "0b71dc47caa64f288f01ba29ffb0cedf",
       "version_major": 2,
       "version_minor": 0
      },
      "text/plain": [
       "Executing:   0%|          | 0/29 [00:00<?, ?cell/s]"
      ]
     },
     "metadata": {},
     "output_type": "display_data"
    },
    {
     "name": "stdout",
     "output_type": "stream",
     "text": [
      "50   of 90    run_type: validate      fp_df_eval_results: df_eval_results_validate      n_samples: 114      days_eval: 5        days_lookbacks: [15, 30, 60, 120]\n"
     ]
    },
    {
     "data": {
      "application/vnd.jupyter.widget-view+json": {
       "model_id": "f90e6dc50e134114a0870683e37ae7f5",
       "version_major": 2,
       "version_minor": 0
      },
      "text/plain": [
       "Executing:   0%|          | 0/29 [00:00<?, ?cell/s]"
      ]
     },
     "metadata": {},
     "output_type": "display_data"
    },
    {
     "name": "stdout",
     "output_type": "stream",
     "text": [
      "51   of 90    run_type: validate      fp_df_eval_results: df_eval_results_validate      n_samples: 114      days_eval: 6        days_lookbacks: [15]\n"
     ]
    },
    {
     "data": {
      "application/vnd.jupyter.widget-view+json": {
       "model_id": "7d92c0f9c9dd41c7926b722dd7bbef01",
       "version_major": 2,
       "version_minor": 0
      },
      "text/plain": [
       "Executing:   0%|          | 0/29 [00:00<?, ?cell/s]"
      ]
     },
     "metadata": {},
     "output_type": "display_data"
    },
    {
     "name": "stdout",
     "output_type": "stream",
     "text": [
      "52   of 90    run_type: validate      fp_df_eval_results: df_eval_results_validate      n_samples: 114      days_eval: 6        days_lookbacks: [30]\n"
     ]
    },
    {
     "data": {
      "application/vnd.jupyter.widget-view+json": {
       "model_id": "1f64ada849a74c23b689de933f9fd3ab",
       "version_major": 2,
       "version_minor": 0
      },
      "text/plain": [
       "Executing:   0%|          | 0/29 [00:00<?, ?cell/s]"
      ]
     },
     "metadata": {},
     "output_type": "display_data"
    },
    {
     "name": "stdout",
     "output_type": "stream",
     "text": [
      "53   of 90    run_type: validate      fp_df_eval_results: df_eval_results_validate      n_samples: 114      days_eval: 6        days_lookbacks: [60]\n"
     ]
    },
    {
     "data": {
      "application/vnd.jupyter.widget-view+json": {
       "model_id": "d0efb32778b64a118cc491a5808a515a",
       "version_major": 2,
       "version_minor": 0
      },
      "text/plain": [
       "Executing:   0%|          | 0/29 [00:00<?, ?cell/s]"
      ]
     },
     "metadata": {},
     "output_type": "display_data"
    },
    {
     "name": "stdout",
     "output_type": "stream",
     "text": [
      "54   of 90    run_type: validate      fp_df_eval_results: df_eval_results_validate      n_samples: 114      days_eval: 6        days_lookbacks: [120]\n"
     ]
    },
    {
     "data": {
      "application/vnd.jupyter.widget-view+json": {
       "model_id": "9bd80ca8af754f9885ad33d21c4345a4",
       "version_major": 2,
       "version_minor": 0
      },
      "text/plain": [
       "Executing:   0%|          | 0/29 [00:00<?, ?cell/s]"
      ]
     },
     "metadata": {},
     "output_type": "display_data"
    },
    {
     "name": "stdout",
     "output_type": "stream",
     "text": [
      "55   of 90    run_type: validate      fp_df_eval_results: df_eval_results_validate      n_samples: 114      days_eval: 6        days_lookbacks: [15, 30]\n"
     ]
    },
    {
     "data": {
      "application/vnd.jupyter.widget-view+json": {
       "model_id": "89c890f32ce64e1bad098992ece5b08e",
       "version_major": 2,
       "version_minor": 0
      },
      "text/plain": [
       "Executing:   0%|          | 0/29 [00:00<?, ?cell/s]"
      ]
     },
     "metadata": {},
     "output_type": "display_data"
    },
    {
     "name": "stdout",
     "output_type": "stream",
     "text": [
      "56   of 90    run_type: validate      fp_df_eval_results: df_eval_results_validate      n_samples: 114      days_eval: 6        days_lookbacks: [30, 60]\n"
     ]
    },
    {
     "data": {
      "application/vnd.jupyter.widget-view+json": {
       "model_id": "1c57e90ebf5f4ae69b6fa2e370e95a85",
       "version_major": 2,
       "version_minor": 0
      },
      "text/plain": [
       "Executing:   0%|          | 0/29 [00:00<?, ?cell/s]"
      ]
     },
     "metadata": {},
     "output_type": "display_data"
    },
    {
     "name": "stdout",
     "output_type": "stream",
     "text": [
      "57   of 90    run_type: validate      fp_df_eval_results: df_eval_results_validate      n_samples: 114      days_eval: 6        days_lookbacks: [60, 120]\n"
     ]
    },
    {
     "data": {
      "application/vnd.jupyter.widget-view+json": {
       "model_id": "297c2562a3aa43889b80fa4694b47c61",
       "version_major": 2,
       "version_minor": 0
      },
      "text/plain": [
       "Executing:   0%|          | 0/29 [00:00<?, ?cell/s]"
      ]
     },
     "metadata": {},
     "output_type": "display_data"
    },
    {
     "name": "stdout",
     "output_type": "stream",
     "text": [
      "58   of 90    run_type: validate      fp_df_eval_results: df_eval_results_validate      n_samples: 114      days_eval: 6        days_lookbacks: [15, 30, 60]\n"
     ]
    },
    {
     "data": {
      "application/vnd.jupyter.widget-view+json": {
       "model_id": "10eeca234cc049ffb340992c133b305c",
       "version_major": 2,
       "version_minor": 0
      },
      "text/plain": [
       "Executing:   0%|          | 0/29 [00:00<?, ?cell/s]"
      ]
     },
     "metadata": {},
     "output_type": "display_data"
    },
    {
     "name": "stdout",
     "output_type": "stream",
     "text": [
      "59   of 90    run_type: validate      fp_df_eval_results: df_eval_results_validate      n_samples: 114      days_eval: 6        days_lookbacks: [30, 60, 120]\n"
     ]
    },
    {
     "data": {
      "application/vnd.jupyter.widget-view+json": {
       "model_id": "e17ab2f65f504f6bb44f02ef6fe3fb76",
       "version_major": 2,
       "version_minor": 0
      },
      "text/plain": [
       "Executing:   0%|          | 0/29 [00:00<?, ?cell/s]"
      ]
     },
     "metadata": {},
     "output_type": "display_data"
    },
    {
     "name": "stdout",
     "output_type": "stream",
     "text": [
      "60   of 90    run_type: validate      fp_df_eval_results: df_eval_results_validate      n_samples: 114      days_eval: 6        days_lookbacks: [15, 30, 60, 120]\n"
     ]
    },
    {
     "data": {
      "application/vnd.jupyter.widget-view+json": {
       "model_id": "ebd6559191a6412ca91ebfe20a36e7e9",
       "version_major": 2,
       "version_minor": 0
      },
      "text/plain": [
       "Executing:   0%|          | 0/29 [00:00<?, ?cell/s]"
      ]
     },
     "metadata": {},
     "output_type": "display_data"
    },
    {
     "name": "stdout",
     "output_type": "stream",
     "text": [
      "61   of 90    run_type: test          fp_df_eval_results: df_eval_results_test          n_samples: 57       days_eval: 4        days_lookbacks: [15]\n"
     ]
    },
    {
     "data": {
      "application/vnd.jupyter.widget-view+json": {
       "model_id": "27f635b728934944a2fb85e4fd11ca61",
       "version_major": 2,
       "version_minor": 0
      },
      "text/plain": [
       "Executing:   0%|          | 0/29 [00:00<?, ?cell/s]"
      ]
     },
     "metadata": {},
     "output_type": "display_data"
    },
    {
     "name": "stdout",
     "output_type": "stream",
     "text": [
      "62   of 90    run_type: test          fp_df_eval_results: df_eval_results_test          n_samples: 57       days_eval: 4        days_lookbacks: [30]\n"
     ]
    },
    {
     "data": {
      "application/vnd.jupyter.widget-view+json": {
       "model_id": "e344a8f6b2b942599faf8b5545c50c72",
       "version_major": 2,
       "version_minor": 0
      },
      "text/plain": [
       "Executing:   0%|          | 0/29 [00:00<?, ?cell/s]"
      ]
     },
     "metadata": {},
     "output_type": "display_data"
    },
    {
     "name": "stdout",
     "output_type": "stream",
     "text": [
      "63   of 90    run_type: test          fp_df_eval_results: df_eval_results_test          n_samples: 57       days_eval: 4        days_lookbacks: [60]\n"
     ]
    },
    {
     "data": {
      "application/vnd.jupyter.widget-view+json": {
       "model_id": "d2347b943fe84a8a8382c26df8f20016",
       "version_major": 2,
       "version_minor": 0
      },
      "text/plain": [
       "Executing:   0%|          | 0/29 [00:00<?, ?cell/s]"
      ]
     },
     "metadata": {},
     "output_type": "display_data"
    },
    {
     "name": "stdout",
     "output_type": "stream",
     "text": [
      "64   of 90    run_type: test          fp_df_eval_results: df_eval_results_test          n_samples: 57       days_eval: 4        days_lookbacks: [120]\n"
     ]
    },
    {
     "data": {
      "application/vnd.jupyter.widget-view+json": {
       "model_id": "0ad7ada5ffe54778a598bb619a4b6347",
       "version_major": 2,
       "version_minor": 0
      },
      "text/plain": [
       "Executing:   0%|          | 0/29 [00:00<?, ?cell/s]"
      ]
     },
     "metadata": {},
     "output_type": "display_data"
    },
    {
     "name": "stdout",
     "output_type": "stream",
     "text": [
      "65   of 90    run_type: test          fp_df_eval_results: df_eval_results_test          n_samples: 57       days_eval: 4        days_lookbacks: [15, 30]\n"
     ]
    },
    {
     "data": {
      "application/vnd.jupyter.widget-view+json": {
       "model_id": "8ed6288302904c29814d5d1bc261cfc3",
       "version_major": 2,
       "version_minor": 0
      },
      "text/plain": [
       "Executing:   0%|          | 0/29 [00:00<?, ?cell/s]"
      ]
     },
     "metadata": {},
     "output_type": "display_data"
    },
    {
     "name": "stdout",
     "output_type": "stream",
     "text": [
      "66   of 90    run_type: test          fp_df_eval_results: df_eval_results_test          n_samples: 57       days_eval: 4        days_lookbacks: [30, 60]\n"
     ]
    },
    {
     "data": {
      "application/vnd.jupyter.widget-view+json": {
       "model_id": "97d79aa614b949cda7c13e2465fda42a",
       "version_major": 2,
       "version_minor": 0
      },
      "text/plain": [
       "Executing:   0%|          | 0/29 [00:00<?, ?cell/s]"
      ]
     },
     "metadata": {},
     "output_type": "display_data"
    },
    {
     "name": "stdout",
     "output_type": "stream",
     "text": [
      "67   of 90    run_type: test          fp_df_eval_results: df_eval_results_test          n_samples: 57       days_eval: 4        days_lookbacks: [60, 120]\n"
     ]
    },
    {
     "data": {
      "application/vnd.jupyter.widget-view+json": {
       "model_id": "5c6f0a3527da4a05a8935bfe9d83ff20",
       "version_major": 2,
       "version_minor": 0
      },
      "text/plain": [
       "Executing:   0%|          | 0/29 [00:00<?, ?cell/s]"
      ]
     },
     "metadata": {},
     "output_type": "display_data"
    },
    {
     "name": "stdout",
     "output_type": "stream",
     "text": [
      "68   of 90    run_type: test          fp_df_eval_results: df_eval_results_test          n_samples: 57       days_eval: 4        days_lookbacks: [15, 30, 60]\n"
     ]
    },
    {
     "data": {
      "application/vnd.jupyter.widget-view+json": {
       "model_id": "7b59146365ae4c5e8b4acae99d3c5bd6",
       "version_major": 2,
       "version_minor": 0
      },
      "text/plain": [
       "Executing:   0%|          | 0/29 [00:00<?, ?cell/s]"
      ]
     },
     "metadata": {},
     "output_type": "display_data"
    },
    {
     "name": "stdout",
     "output_type": "stream",
     "text": [
      "69   of 90    run_type: test          fp_df_eval_results: df_eval_results_test          n_samples: 57       days_eval: 4        days_lookbacks: [30, 60, 120]\n"
     ]
    },
    {
     "data": {
      "application/vnd.jupyter.widget-view+json": {
       "model_id": "8ea25f4cd3d041d59a0f926edc9f353f",
       "version_major": 2,
       "version_minor": 0
      },
      "text/plain": [
       "Executing:   0%|          | 0/29 [00:00<?, ?cell/s]"
      ]
     },
     "metadata": {},
     "output_type": "display_data"
    },
    {
     "name": "stdout",
     "output_type": "stream",
     "text": [
      "70   of 90    run_type: test          fp_df_eval_results: df_eval_results_test          n_samples: 57       days_eval: 4        days_lookbacks: [15, 30, 60, 120]\n"
     ]
    },
    {
     "data": {
      "application/vnd.jupyter.widget-view+json": {
       "model_id": "3338992ed27445fc9abb36bffcc9980d",
       "version_major": 2,
       "version_minor": 0
      },
      "text/plain": [
       "Executing:   0%|          | 0/29 [00:00<?, ?cell/s]"
      ]
     },
     "metadata": {},
     "output_type": "display_data"
    },
    {
     "name": "stdout",
     "output_type": "stream",
     "text": [
      "71   of 90    run_type: test          fp_df_eval_results: df_eval_results_test          n_samples: 57       days_eval: 5        days_lookbacks: [15]\n"
     ]
    },
    {
     "data": {
      "application/vnd.jupyter.widget-view+json": {
       "model_id": "ea04bd71c230441c9c4b58310be6c662",
       "version_major": 2,
       "version_minor": 0
      },
      "text/plain": [
       "Executing:   0%|          | 0/29 [00:00<?, ?cell/s]"
      ]
     },
     "metadata": {},
     "output_type": "display_data"
    },
    {
     "name": "stdout",
     "output_type": "stream",
     "text": [
      "72   of 90    run_type: test          fp_df_eval_results: df_eval_results_test          n_samples: 57       days_eval: 5        days_lookbacks: [30]\n"
     ]
    },
    {
     "data": {
      "application/vnd.jupyter.widget-view+json": {
       "model_id": "7c593c936d0e4b31adbc3a7739a60789",
       "version_major": 2,
       "version_minor": 0
      },
      "text/plain": [
       "Executing:   0%|          | 0/29 [00:00<?, ?cell/s]"
      ]
     },
     "metadata": {},
     "output_type": "display_data"
    },
    {
     "name": "stdout",
     "output_type": "stream",
     "text": [
      "73   of 90    run_type: test          fp_df_eval_results: df_eval_results_test          n_samples: 57       days_eval: 5        days_lookbacks: [60]\n"
     ]
    },
    {
     "data": {
      "application/vnd.jupyter.widget-view+json": {
       "model_id": "cddce84d4613412f9efba1b645a73bf2",
       "version_major": 2,
       "version_minor": 0
      },
      "text/plain": [
       "Executing:   0%|          | 0/29 [00:00<?, ?cell/s]"
      ]
     },
     "metadata": {},
     "output_type": "display_data"
    },
    {
     "name": "stdout",
     "output_type": "stream",
     "text": [
      "74   of 90    run_type: test          fp_df_eval_results: df_eval_results_test          n_samples: 57       days_eval: 5        days_lookbacks: [120]\n"
     ]
    },
    {
     "data": {
      "application/vnd.jupyter.widget-view+json": {
       "model_id": "a44f1520fb8f44948e414dbb0dc66823",
       "version_major": 2,
       "version_minor": 0
      },
      "text/plain": [
       "Executing:   0%|          | 0/29 [00:00<?, ?cell/s]"
      ]
     },
     "metadata": {},
     "output_type": "display_data"
    },
    {
     "name": "stdout",
     "output_type": "stream",
     "text": [
      "75   of 90    run_type: test          fp_df_eval_results: df_eval_results_test          n_samples: 57       days_eval: 5        days_lookbacks: [15, 30]\n"
     ]
    },
    {
     "data": {
      "application/vnd.jupyter.widget-view+json": {
       "model_id": "c2a72171ec3f4b47bfac5c92b7a0d964",
       "version_major": 2,
       "version_minor": 0
      },
      "text/plain": [
       "Executing:   0%|          | 0/29 [00:00<?, ?cell/s]"
      ]
     },
     "metadata": {},
     "output_type": "display_data"
    },
    {
     "name": "stdout",
     "output_type": "stream",
     "text": [
      "76   of 90    run_type: test          fp_df_eval_results: df_eval_results_test          n_samples: 57       days_eval: 5        days_lookbacks: [30, 60]\n"
     ]
    },
    {
     "data": {
      "application/vnd.jupyter.widget-view+json": {
       "model_id": "9ebb3de6fd584a3d9139693fee0acfd5",
       "version_major": 2,
       "version_minor": 0
      },
      "text/plain": [
       "Executing:   0%|          | 0/29 [00:00<?, ?cell/s]"
      ]
     },
     "metadata": {},
     "output_type": "display_data"
    },
    {
     "name": "stdout",
     "output_type": "stream",
     "text": [
      "77   of 90    run_type: test          fp_df_eval_results: df_eval_results_test          n_samples: 57       days_eval: 5        days_lookbacks: [60, 120]\n"
     ]
    },
    {
     "data": {
      "application/vnd.jupyter.widget-view+json": {
       "model_id": "91b94b67a44641bd8742d5bd4eea6424",
       "version_major": 2,
       "version_minor": 0
      },
      "text/plain": [
       "Executing:   0%|          | 0/29 [00:00<?, ?cell/s]"
      ]
     },
     "metadata": {},
     "output_type": "display_data"
    },
    {
     "name": "stdout",
     "output_type": "stream",
     "text": [
      "78   of 90    run_type: test          fp_df_eval_results: df_eval_results_test          n_samples: 57       days_eval: 5        days_lookbacks: [15, 30, 60]\n"
     ]
    },
    {
     "data": {
      "application/vnd.jupyter.widget-view+json": {
       "model_id": "818f255a5da44e0894419d3e5cbb60c8",
       "version_major": 2,
       "version_minor": 0
      },
      "text/plain": [
       "Executing:   0%|          | 0/29 [00:00<?, ?cell/s]"
      ]
     },
     "metadata": {},
     "output_type": "display_data"
    },
    {
     "name": "stdout",
     "output_type": "stream",
     "text": [
      "79   of 90    run_type: test          fp_df_eval_results: df_eval_results_test          n_samples: 57       days_eval: 5        days_lookbacks: [30, 60, 120]\n"
     ]
    },
    {
     "data": {
      "application/vnd.jupyter.widget-view+json": {
       "model_id": "cb4f442ac8ab4dc5b174799de1e3e813",
       "version_major": 2,
       "version_minor": 0
      },
      "text/plain": [
       "Executing:   0%|          | 0/29 [00:00<?, ?cell/s]"
      ]
     },
     "metadata": {},
     "output_type": "display_data"
    },
    {
     "name": "stdout",
     "output_type": "stream",
     "text": [
      "80   of 90    run_type: test          fp_df_eval_results: df_eval_results_test          n_samples: 57       days_eval: 5        days_lookbacks: [15, 30, 60, 120]\n"
     ]
    },
    {
     "data": {
      "application/vnd.jupyter.widget-view+json": {
       "model_id": "f314699b92ff47518854755ec08c4371",
       "version_major": 2,
       "version_minor": 0
      },
      "text/plain": [
       "Executing:   0%|          | 0/29 [00:00<?, ?cell/s]"
      ]
     },
     "metadata": {},
     "output_type": "display_data"
    },
    {
     "name": "stdout",
     "output_type": "stream",
     "text": [
      "81   of 90    run_type: test          fp_df_eval_results: df_eval_results_test          n_samples: 57       days_eval: 6        days_lookbacks: [15]\n"
     ]
    },
    {
     "data": {
      "application/vnd.jupyter.widget-view+json": {
       "model_id": "ff3a5333deca4edfb52fae952b29bdbc",
       "version_major": 2,
       "version_minor": 0
      },
      "text/plain": [
       "Executing:   0%|          | 0/29 [00:00<?, ?cell/s]"
      ]
     },
     "metadata": {},
     "output_type": "display_data"
    },
    {
     "name": "stdout",
     "output_type": "stream",
     "text": [
      "82   of 90    run_type: test          fp_df_eval_results: df_eval_results_test          n_samples: 57       days_eval: 6        days_lookbacks: [30]\n"
     ]
    },
    {
     "data": {
      "application/vnd.jupyter.widget-view+json": {
       "model_id": "6244af8fea954f7ab35443e262b4b9ff",
       "version_major": 2,
       "version_minor": 0
      },
      "text/plain": [
       "Executing:   0%|          | 0/29 [00:00<?, ?cell/s]"
      ]
     },
     "metadata": {},
     "output_type": "display_data"
    },
    {
     "name": "stdout",
     "output_type": "stream",
     "text": [
      "83   of 90    run_type: test          fp_df_eval_results: df_eval_results_test          n_samples: 57       days_eval: 6        days_lookbacks: [60]\n"
     ]
    },
    {
     "data": {
      "application/vnd.jupyter.widget-view+json": {
       "model_id": "a3945178ae54466f928862714f123cd4",
       "version_major": 2,
       "version_minor": 0
      },
      "text/plain": [
       "Executing:   0%|          | 0/29 [00:00<?, ?cell/s]"
      ]
     },
     "metadata": {},
     "output_type": "display_data"
    },
    {
     "name": "stdout",
     "output_type": "stream",
     "text": [
      "84   of 90    run_type: test          fp_df_eval_results: df_eval_results_test          n_samples: 57       days_eval: 6        days_lookbacks: [120]\n"
     ]
    },
    {
     "data": {
      "application/vnd.jupyter.widget-view+json": {
       "model_id": "e8788962d6e444ce9db05c428fb718c5",
       "version_major": 2,
       "version_minor": 0
      },
      "text/plain": [
       "Executing:   0%|          | 0/29 [00:00<?, ?cell/s]"
      ]
     },
     "metadata": {},
     "output_type": "display_data"
    },
    {
     "name": "stdout",
     "output_type": "stream",
     "text": [
      "85   of 90    run_type: test          fp_df_eval_results: df_eval_results_test          n_samples: 57       days_eval: 6        days_lookbacks: [15, 30]\n"
     ]
    },
    {
     "data": {
      "application/vnd.jupyter.widget-view+json": {
       "model_id": "116c547ffd224e38a65d14f57bb36ab2",
       "version_major": 2,
       "version_minor": 0
      },
      "text/plain": [
       "Executing:   0%|          | 0/29 [00:00<?, ?cell/s]"
      ]
     },
     "metadata": {},
     "output_type": "display_data"
    },
    {
     "name": "stdout",
     "output_type": "stream",
     "text": [
      "86   of 90    run_type: test          fp_df_eval_results: df_eval_results_test          n_samples: 57       days_eval: 6        days_lookbacks: [30, 60]\n"
     ]
    },
    {
     "data": {
      "application/vnd.jupyter.widget-view+json": {
       "model_id": "c9bb339d8c4847eca0cb48b3d23481d5",
       "version_major": 2,
       "version_minor": 0
      },
      "text/plain": [
       "Executing:   0%|          | 0/29 [00:00<?, ?cell/s]"
      ]
     },
     "metadata": {},
     "output_type": "display_data"
    },
    {
     "name": "stdout",
     "output_type": "stream",
     "text": [
      "87   of 90    run_type: test          fp_df_eval_results: df_eval_results_test          n_samples: 57       days_eval: 6        days_lookbacks: [60, 120]\n"
     ]
    },
    {
     "data": {
      "application/vnd.jupyter.widget-view+json": {
       "model_id": "4368738d827045c6a64bdac45db7a20f",
       "version_major": 2,
       "version_minor": 0
      },
      "text/plain": [
       "Executing:   0%|          | 0/29 [00:00<?, ?cell/s]"
      ]
     },
     "metadata": {},
     "output_type": "display_data"
    },
    {
     "name": "stdout",
     "output_type": "stream",
     "text": [
      "88   of 90    run_type: test          fp_df_eval_results: df_eval_results_test          n_samples: 57       days_eval: 6        days_lookbacks: [15, 30, 60]\n"
     ]
    },
    {
     "data": {
      "application/vnd.jupyter.widget-view+json": {
       "model_id": "f0a9ec7eb15748c38b61f9a1a365900a",
       "version_major": 2,
       "version_minor": 0
      },
      "text/plain": [
       "Executing:   0%|          | 0/29 [00:00<?, ?cell/s]"
      ]
     },
     "metadata": {},
     "output_type": "display_data"
    },
    {
     "name": "stdout",
     "output_type": "stream",
     "text": [
      "89   of 90    run_type: test          fp_df_eval_results: df_eval_results_test          n_samples: 57       days_eval: 6        days_lookbacks: [30, 60, 120]\n"
     ]
    },
    {
     "data": {
      "application/vnd.jupyter.widget-view+json": {
       "model_id": "dfc930c998b144018e7e4e26cba229ab",
       "version_major": 2,
       "version_minor": 0
      },
      "text/plain": [
       "Executing:   0%|          | 0/29 [00:00<?, ?cell/s]"
      ]
     },
     "metadata": {},
     "output_type": "display_data"
    },
    {
     "name": "stdout",
     "output_type": "stream",
     "text": [
      "90   of 90    run_type: test          fp_df_eval_results: df_eval_results_test          n_samples: 57       days_eval: 6        days_lookbacks: [15, 30, 60, 120]\n"
     ]
    },
    {
     "data": {
      "application/vnd.jupyter.widget-view+json": {
       "model_id": "eb3bb625d5864956b43da44583d7b5e7",
       "version_major": 2,
       "version_minor": 0
      },
      "text/plain": [
       "Executing:   0%|          | 0/29 [00:00<?, ?cell/s]"
      ]
     },
     "metadata": {},
     "output_type": "display_data"
    }
   ],
   "source": [
    "# takes 1.5 hrs to run 90 iteration\n",
    "len_list = len(list(product(run_types, l_days_eval, l_days_lookbacks)))\n",
    "\n",
    "i = 1\n",
    "for run_type, days_eval, days_lookbacks in list(product(run_types, l_days_eval, l_days_lookbacks)):\n",
    "  # use n_samples_train to scale n_samples of other run_types \n",
    "  if run_type == 'train':\n",
    "    n_samples = n_samples_train  # train\n",
    "    fp_df_eval_results = f'df_eval_results_train'    \n",
    "  elif run_type == 'validate':\n",
    "    n_samples = round(n_samples_train * 0.2/0.7)  # validate, proportion to .7,.2,.1 split of train, validate, test\n",
    "    fp_df_eval_results = f'df_eval_results_validate'    \n",
    "  elif run_type == 'test':\n",
    "    n_samples = round(n_samples_train * 0.1/0.7)  # test, proportion to .7,.2,.1 split of train, validate, test  \n",
    "    fp_df_eval_results = f'df_eval_results_test'\n",
    "  elif run_type == 'current':\n",
    "    fp_df_eval_results = 'Not_Applicable'\n",
    "    days_eval = 0  # no need to eval when getting the current picks    \n",
    "    n_samples = 1\n",
    "    # fp_df_eval_results = f'df_eval_results_test'              \n",
    "  else:\n",
    "    n_samples = 2  # debug\n",
    "    fp_df_eval_results = f'df_eval_results' \n",
    "\n",
    "  run_params['run_type'] = run_type\n",
    "  run_params['fp_df_eval_results'] = fp_df_eval_results  \n",
    "  run_params['n_samples'] = n_samples\n",
    "  run_params['days_eval'] = days_eval\n",
    "  run_params['days_lookbacks'] = days_lookbacks\n",
    "\n",
    "  # print(f'run_type: {run_type:<10}    fp_df_eval_results: {fp_df_eval_results:<26}    n_samples: {n_samples:<5.0f}    days_eval: {days_eval:<5.0f}    days_lookbacks: {days_lookbacks}')\n",
    "  print(f'{i:<4} of {len_list}    run_type: {run_type:<10}    fp_df_eval_results: {fp_df_eval_results:<26}    n_samples: {n_samples:<5.0f}    days_eval: {days_eval:<5.0f}    days_lookbacks: {days_lookbacks}')\n",
    "\n",
    "  res = pm.execute_notebook(\n",
    "    'yf_7a.ipynb',\n",
    "    'yf_7aPM_out.ipynb',    \n",
    "    parameters = run_params \n",
    "  )\n",
    "\n",
    "  i += 1"
   ]
  },
  {
   "attachments": {},
   "cell_type": "markdown",
   "metadata": {},
   "source": [
    "#### Check run results"
   ]
  },
  {
   "cell_type": "code",
   "execution_count": 11,
   "metadata": {},
   "outputs": [],
   "source": [
    "# from myUtils import pickle_load\n",
    "# path_dir = \"C:/Users/ping/MyDrive/stocks/yfinance/\"\n",
    "# path_data_dump = path_dir + \"VSCode_dump/\"\n",
    "\n",
    "# # df = pickle_load(path_data_dump, 'df_eval_results_train')\n",
    "# # df = pickle_load(path_data_dump, 'df_eval_results_validate')\n",
    "# # df = pickle_load(path_data_dump, 'df_eval_results_test')\n",
    "# df = pickle_load(path_data_dump, 'df_picks')\n",
    "# df"
   ]
  },
  {
   "cell_type": "code",
   "execution_count": 12,
   "metadata": {},
   "outputs": [],
   "source": [
    "# # tbl_concat.loc[tbl_concat['run_type'] == 'train']\n",
    "# df.loc[df['date_end_df_train'] == '2023-03-17', 'sym_freq_9']\n",
    "# # df.loc[df['date_end_df_train'] == '2023-03-17', 'sym_freq_8']"
   ]
  }
 ],
 "metadata": {
  "kernelspec": {
   "display_name": ".venv",
   "language": "python",
   "name": "python3"
  },
  "language_info": {
   "codemirror_mode": {
    "name": "ipython",
    "version": 3
   },
   "file_extension": ".py",
   "mimetype": "text/x-python",
   "name": "python",
   "nbconvert_exporter": "python",
   "pygments_lexer": "ipython3",
   "version": "3.8.10"
  },
  "orig_nbformat": 4,
  "vscode": {
   "interpreter": {
    "hash": "16adeade2e4c2fe5a5c8fae29fa6e6b24d9301998b78edb3420e7dd402ae68a8"
   }
  }
 },
 "nbformat": 4,
 "nbformat_minor": 2
}
