{
 "cells": [
  {
   "cell_type": "code",
   "execution_count": null,
   "metadata": {},
   "outputs": [],
   "source": [
    "# format number\n",
    "print(f'symbol:  {symbol:>4}   Date: {sDate:13}df_Close: {sClose:>10.5f} Yahoo_Close: {yhClose:>10.5f}   %_dif_Close: {abs_pct_diff:>7.5f}')"
   ]
  },
  {
   "cell_type": "code",
   "execution_count": 1,
   "metadata": {},
   "outputs": [
    {
     "name": "stdout",
     "output_type": "stream",
     "text": [
      "len(df): 10\n",
      "df:\n",
      "            col\n",
      "2022-01-01    1\n",
      "2022-01-02    2\n",
      "2022-01-03    3\n",
      "2022-01-04    4\n",
      "2022-01-05    5\n",
      "2022-01-06    6\n",
      "2022-01-07    7\n",
      "2022-01-08    8\n",
      "2022-01-09    9\n",
      "2022-01-10   10\n",
      "\n",
      "Return the first row\n",
      "df.head(1):\n",
      "            col\n",
      "2022-01-01    1\n",
      "\n",
      "df.iloc[-len(df)] returns the first row as a series:\n",
      "col    1\n",
      "Name: 2022-01-01 00:00:00, dtype: int32\n",
      "\n",
      "df.iloc[-len(df) : -len(df)+1] returns the first row as a df:\n",
      "            col\n",
      "2022-01-01    1\n",
      "\n",
      "df.iloc[0] returns the first row as a series:\n",
      "col    1\n",
      "Name: 2022-01-01 00:00:00, dtype: int32\n",
      "\n",
      "df.iloc[[0]] returns the first row as a df:\n",
      "            col\n",
      "2022-01-01    1\n",
      "\n",
      "df.iloc[0:1] returns the first row as a df:\n",
      "            col\n",
      "2022-01-01    1\n",
      "\n",
      "Return the last row\n",
      "df.tail(1):\n",
      "            col\n",
      "2022-01-10   10\n",
      "\n",
      "df.iloc[len(df)-1] returns the last row as a series:\n",
      "col    10\n",
      "Name: 2022-01-10 00:00:00, dtype: int32\n",
      "\n",
      "df.iloc[len(df)-1 : len(df)] returns the last row as a df:\n",
      "            col\n",
      "2022-01-10   10\n",
      "\n",
      "df.iloc[-1] returns the last row as a series:\n",
      "col    10\n",
      "Name: 2022-01-10 00:00:00, dtype: int32\n",
      "\n",
      "df.iloc[[-1]] returns the last row as a df:\n",
      "            col\n",
      "2022-01-10   10\n",
      "\n",
      "df.iloc[-1:] returns the last row as a df:\n",
      "            col\n",
      "2022-01-10   10\n",
      "\n",
      "Return a slice\n",
      "df.iloc[1:2] returns the second row as a df:\n",
      "            col\n",
      "2022-01-02    2\n",
      "\n",
      "df.iloc[-2:-1] returns the second to the last row as a df:\n",
      "            col\n",
      "2022-01-09    9\n",
      "\n",
      "df.iloc[:2] returns the first two rows as a df:\n",
      "            col\n",
      "2022-01-01    1\n",
      "2022-01-02    2\n",
      "\n",
      "df.iloc[-2:] returns the last two rows as a df:\n",
      "            col\n",
      "2022-01-09    9\n",
      "2022-01-10   10\n",
      "\n",
      "Return all rows\n",
      "df returns the all rows as a df:\n",
      "            col\n",
      "2022-01-01    1\n",
      "2022-01-02    2\n",
      "2022-01-03    3\n",
      "2022-01-04    4\n",
      "2022-01-05    5\n",
      "2022-01-06    6\n",
      "2022-01-07    7\n",
      "2022-01-08    8\n",
      "2022-01-09    9\n",
      "2022-01-10   10\n",
      "\n",
      "df.iloc[0 : len(df)] returns the all rows as a df:\n",
      "            col\n",
      "2022-01-01    1\n",
      "2022-01-02    2\n",
      "2022-01-03    3\n",
      "2022-01-04    4\n",
      "2022-01-05    5\n",
      "2022-01-06    6\n",
      "2022-01-07    7\n",
      "2022-01-08    8\n",
      "2022-01-09    9\n",
      "2022-01-10   10\n",
      "\n",
      "df.iloc[0 : len(df)+1] returns the all rows as a df without warning out-of-bound:\n",
      "            col\n",
      "2022-01-01    1\n",
      "2022-01-02    2\n",
      "2022-01-03    3\n",
      "2022-01-04    4\n",
      "2022-01-05    5\n",
      "2022-01-06    6\n",
      "2022-01-07    7\n",
      "2022-01-08    8\n",
      "2022-01-09    9\n",
      "2022-01-10   10\n",
      "\n",
      "df.iloc[-len(df):] returns all rows as a df:\n",
      "            col\n",
      "2022-01-01    1\n",
      "2022-01-02    2\n",
      "2022-01-03    3\n",
      "2022-01-04    4\n",
      "2022-01-05    5\n",
      "2022-01-06    6\n",
      "2022-01-07    7\n",
      "2022-01-08    8\n",
      "2022-01-09    9\n",
      "2022-01-10   10\n",
      "\n",
      "ERROR: df.iloc[len(df)] will raise IndexError: single positional indexer is out-of-bounds\n"
     ]
    },
    {
     "ename": "IndexError",
     "evalue": "single positional indexer is out-of-bounds",
     "output_type": "error",
     "traceback": [
      "\u001b[1;31m---------------------------------------------------------------------------\u001b[0m",
      "\u001b[1;31mIndexError\u001b[0m                                Traceback (most recent call last)",
      "Cell \u001b[1;32mIn[1], line 43\u001b[0m\n\u001b[0;32m     40\u001b[0m \u001b[39mprint\u001b[39m(\u001b[39mf\u001b[39m\u001b[39m'\u001b[39m\u001b[39mdf.iloc[-len(df):] returns all rows as a df:\u001b[39m\u001b[39m\\n\u001b[39;00m\u001b[39m{\u001b[39;00mdf\u001b[39m.\u001b[39miloc[\u001b[39m-\u001b[39m\u001b[39mlen\u001b[39m(df):]\u001b[39m}\u001b[39;00m\u001b[39m\\n\u001b[39;00m\u001b[39m'\u001b[39m)\n\u001b[0;32m     42\u001b[0m \u001b[39mprint\u001b[39m(\u001b[39mf\u001b[39m\u001b[39m'\u001b[39m\u001b[39mERROR: df.iloc[len(df)] will raise IndexError: single positional indexer is out-of-bounds\u001b[39m\u001b[39m'\u001b[39m)\n\u001b[1;32m---> 43\u001b[0m \u001b[39mprint\u001b[39m(\u001b[39mf\u001b[39m\u001b[39m'\u001b[39m\u001b[39m{\u001b[39;00mdf\u001b[39m.\u001b[39miloc[\u001b[39mlen\u001b[39m(df)]\u001b[39m}\u001b[39;00m\u001b[39m'\u001b[39m)\n",
      "File \u001b[1;32mc:\\Users\\ping\\MyDrive\\py_files\\python\\py3810\\.venv\\lib\\site-packages\\pandas\\core\\indexing.py:1073\u001b[0m, in \u001b[0;36m_LocationIndexer.__getitem__\u001b[1;34m(self, key)\u001b[0m\n\u001b[0;32m   1070\u001b[0m axis \u001b[39m=\u001b[39m \u001b[39mself\u001b[39m\u001b[39m.\u001b[39maxis \u001b[39mor\u001b[39;00m \u001b[39m0\u001b[39m\n\u001b[0;32m   1072\u001b[0m maybe_callable \u001b[39m=\u001b[39m com\u001b[39m.\u001b[39mapply_if_callable(key, \u001b[39mself\u001b[39m\u001b[39m.\u001b[39mobj)\n\u001b[1;32m-> 1073\u001b[0m \u001b[39mreturn\u001b[39;00m \u001b[39mself\u001b[39;49m\u001b[39m.\u001b[39;49m_getitem_axis(maybe_callable, axis\u001b[39m=\u001b[39;49maxis)\n",
      "File \u001b[1;32mc:\\Users\\ping\\MyDrive\\py_files\\python\\py3810\\.venv\\lib\\site-packages\\pandas\\core\\indexing.py:1625\u001b[0m, in \u001b[0;36m_iLocIndexer._getitem_axis\u001b[1;34m(self, key, axis)\u001b[0m\n\u001b[0;32m   1622\u001b[0m     \u001b[39mraise\u001b[39;00m \u001b[39mTypeError\u001b[39;00m(\u001b[39m\"\u001b[39m\u001b[39mCannot index by location index with a non-integer key\u001b[39m\u001b[39m\"\u001b[39m)\n\u001b[0;32m   1624\u001b[0m \u001b[39m# validate the location\u001b[39;00m\n\u001b[1;32m-> 1625\u001b[0m \u001b[39mself\u001b[39;49m\u001b[39m.\u001b[39;49m_validate_integer(key, axis)\n\u001b[0;32m   1627\u001b[0m \u001b[39mreturn\u001b[39;00m \u001b[39mself\u001b[39m\u001b[39m.\u001b[39mobj\u001b[39m.\u001b[39m_ixs(key, axis\u001b[39m=\u001b[39maxis)\n",
      "File \u001b[1;32mc:\\Users\\ping\\MyDrive\\py_files\\python\\py3810\\.venv\\lib\\site-packages\\pandas\\core\\indexing.py:1557\u001b[0m, in \u001b[0;36m_iLocIndexer._validate_integer\u001b[1;34m(self, key, axis)\u001b[0m\n\u001b[0;32m   1555\u001b[0m len_axis \u001b[39m=\u001b[39m \u001b[39mlen\u001b[39m(\u001b[39mself\u001b[39m\u001b[39m.\u001b[39mobj\u001b[39m.\u001b[39m_get_axis(axis))\n\u001b[0;32m   1556\u001b[0m \u001b[39mif\u001b[39;00m key \u001b[39m>\u001b[39m\u001b[39m=\u001b[39m len_axis \u001b[39mor\u001b[39;00m key \u001b[39m<\u001b[39m \u001b[39m-\u001b[39mlen_axis:\n\u001b[1;32m-> 1557\u001b[0m     \u001b[39mraise\u001b[39;00m \u001b[39mIndexError\u001b[39;00m(\u001b[39m\"\u001b[39m\u001b[39msingle positional indexer is out-of-bounds\u001b[39m\u001b[39m\"\u001b[39m)\n",
      "\u001b[1;31mIndexError\u001b[0m: single positional indexer is out-of-bounds"
     ]
    }
   ],
   "source": [
    "# pandas iloc slice, first and last n rows\n",
    "import pandas as pd\n",
    "import numpy as np\n",
    "# create a range of dates\n",
    "dates = pd.date_range(start='2022-01-01', end='2022-01-10')\n",
    "# create a DataFrame with dates as the index\n",
    "df = pd.DataFrame(index=dates)\n",
    "# add a column of integers to the DataFrame\n",
    "df['col'] = np.arange(1, 11, 1, dtype=int)\n",
    "\n",
    "print(f'len(df): {len(df)}')\n",
    "print(f'df:\\n{df}\\n')\n",
    "\n",
    "print(f'Return the first row')\n",
    "print(f'df.head(1):\\n{df.head(1)}\\n')\n",
    "print(f'df.iloc[-len(df)] returns the first row as a series:\\n{df.iloc[-len(df)]}\\n')\n",
    "print(f'df.iloc[-len(df) : -len(df)+1] returns the first row as a df:\\n{df.iloc[-len(df) : -len(df)+1]}\\n')\n",
    "print(f'df.iloc[0] returns the first row as a series:\\n{df.iloc[0]}\\n')\n",
    "print(f'df.iloc[[0]] returns the first row as a df:\\n{df.iloc[[0]]}\\n')\n",
    "print(f'df.iloc[0:1] returns the first row as a df:\\n{df.iloc[0:1]}\\n')\n",
    "\n",
    "print(f'Return the last row')\n",
    "print(f'df.tail(1):\\n{df.tail(1)}\\n')\n",
    "print(f'df.iloc[len(df)-1] returns the last row as a series:\\n{df.iloc[len(df)-1]}\\n')\n",
    "print(f'df.iloc[len(df)-1 : len(df)] returns the last row as a df:\\n{df.iloc[len(df)-1 : len(df)]}\\n')\n",
    "print(f'df.iloc[-1] returns the last row as a series:\\n{df.iloc[-1]}\\n')\n",
    "print(f'df.iloc[[-1]] returns the last row as a df:\\n{df.iloc[[-1]]}\\n')\n",
    "print(f'df.iloc[-1:] returns the last row as a df:\\n{df.iloc[-1:]}\\n')\n",
    "\n",
    "print(f'Return a slice')\n",
    "print(f'df.iloc[1:2] returns the second row as a df:\\n{df.iloc[1:2]}\\n')\n",
    "print(f'df.iloc[-2:-1] returns the second to the last row as a df:\\n{df.iloc[-2:-1]}\\n')\n",
    "print(f'df.iloc[:2] returns the first two rows as a df:\\n{df.iloc[:2]}\\n')\n",
    "print(f'df.iloc[-2:] returns the last two rows as a df:\\n{df.iloc[-2:]}\\n')\n",
    "\n",
    "print(f'Return all rows')\n",
    "print(f'df returns the all rows as a df:\\n{df}\\n')\n",
    "print(f'df.iloc[0 : len(df)] returns the all rows as a df:\\n{df.iloc[0 : len(df)]}\\n')\n",
    "print(f'df.iloc[0 : len(df)+1] returns the all rows as a df without warning out-of-bound:\\n{df.iloc[0 : len(df)+1]}\\n')\n",
    "print(f'df.iloc[-len(df):] returns all rows as a df:\\n{df.iloc[-len(df):]}\\n')\n",
    "\n",
    "print(f'ERROR: df.iloc[len(df)] will raise IndexError: single positional indexer is out-of-bounds')\n",
    "print(f'{df.iloc[len(df)]}')\n"
   ]
  },
  {
   "cell_type": "code",
   "execution_count": 2,
   "metadata": {},
   "outputs": [
    {
     "data": {
      "text/plain": [
       "DatetimeIndex([], dtype='datetime64[ns]', freq='D')"
      ]
     },
     "execution_count": 2,
     "metadata": {},
     "output_type": "execute_result"
    }
   ],
   "source": [
    "df.index[10:10]"
   ]
  },
  {
   "cell_type": "code",
   "execution_count": 16,
   "metadata": {},
   "outputs": [
    {
     "name": "stdout",
     "output_type": "stream",
     "text": [
      "2022-01-01\n",
      "2022-01-10\n"
     ]
    }
   ],
   "source": [
    "# print(df.head(1).index[0].strftime('%Y-%m-%d'))\n",
    "# print(df.tail(1).index[0].strftime('%Y-%m-%d'))\n",
    "print(df.index[0].strftime('%Y-%m-%d'))\n",
    "print(df.index[-1].strftime('%Y-%m-%d'))"
   ]
  },
  {
   "cell_type": "code",
   "execution_count": 78,
   "metadata": {},
   "outputs": [
    {
     "name": "stdout",
     "output_type": "stream",
     "text": [
      "len(df): 10\n",
      "df:\n",
      "            col\n",
      "2022-01-01    1\n",
      "2022-01-02    2\n",
      "2022-01-03    3\n",
      "2022-01-04    4\n",
      "2022-01-05    5\n",
      "2022-01-06    6\n",
      "2022-01-07    7\n",
      "2022-01-08    8\n",
      "2022-01-09    9\n",
      "2022-01-10   10\n",
      "\n",
      "iloc_pos: 0, date: 2022-01-01\n",
      "iloc_pos: 1, date: 2022-01-02\n",
      "iloc_pos: 2, date: 2022-01-03\n",
      "iloc_pos: 3, date: 2022-01-04\n",
      "iloc_pos: 4, date: 2022-01-05\n",
      "iloc_pos: 5, date: 2022-01-06\n",
      "iloc_pos: 6, date: 2022-01-07\n",
      "iloc_pos: 7, date: 2022-01-08\n",
      "iloc_pos: 8, date: 2022-01-09\n",
      "iloc_pos: 9, date: 2022-01-10\n",
      "iloc_pos: 10, date: 2022-01-10\n"
     ]
    },
    {
     "ename": "SystemExit",
     "evalue": "ERROR iloc_pos 11 must be <= len(df) 10",
     "output_type": "error",
     "traceback": [
      "An exception has occurred, use %tb to see the full traceback.\n",
      "\u001b[1;31mSystemExit\u001b[0m\u001b[1;31m:\u001b[0m ERROR iloc_pos 11 must be <= len(df) 10\n"
     ]
    },
    {
     "name": "stderr",
     "output_type": "stream",
     "text": [
      "c:\\Users\\ping\\MyDrive\\py_files\\python\\py3810\\.venv\\lib\\site-packages\\IPython\\core\\interactiveshell.py:3468: UserWarning: To exit: use 'exit', 'quit', or Ctrl-D.\n",
      "  warn(\"To exit: use 'exit', 'quit', or Ctrl-D.\", stacklevel=1)\n"
     ]
    }
   ],
   "source": [
    "print(f'len(df): {len(df)}\\ndf:\\n{df}\\n')\n",
    "# df.index[9].strftime('%Y-%m-%d')\n",
    "len_df = len(df)\n",
    "\n",
    "for iloc_pos in np.arange(0, 13, 1, dtype=int): \n",
    "  if iloc_pos < len_df:\n",
    "    _date = df.index[iloc_pos].strftime('%Y-%m-%d')  \n",
    "    print(f'iloc_pos: {iloc_pos}, date: {_date}')\n",
    "  elif iloc_pos == len_df:\n",
    "    _date = df.index[len_df - 1].strftime('%Y-%m-%d')      \n",
    "    print(f'iloc_pos: {len_df}, date: {_date}')  \n",
    "  else:\n",
    "    msg_stop = f'ERROR iloc_pos {iloc_pos} must be <= len(df) {len(df)}' \n",
    "    raise SystemExit(msg_stop )"
   ]
  },
  {
   "cell_type": "code",
   "execution_count": null,
   "metadata": {},
   "outputs": [],
   "source": [
    "# file name with today's date\n",
    "str_today = datetime.date.today().strftime('%Y-%m-%d')\n",
    "fp_results = f'yf_8_results_{str_today}'"
   ]
  },
  {
   "cell_type": "code",
   "execution_count": null,
   "metadata": {},
   "outputs": [],
   "source": [
    "# https://stackoverflow.com/questions/19798229/how-to-do-group-by-on-a-multiindex-in-pandas\n",
    "import pandas\n",
    "df = pandas.DataFrame.from_dict(\n",
    "    {\n",
    "     'category': {0: 'Love', 1: 'Love', 2: 'Fashion', 3: 'Fashion', 4: 'Hair', 5: 'Movies', 6: 'Movies', 7: 'Health', 8: 'Health', 9: 'Celebs', 10: 'Celebs', 11: 'Travel', 12: 'Weightloss', 13: 'Diet', 14: 'Bags'}, \n",
    "     'impressions': {0: 380, 1: 374242, 2: 197, 3: 13363, 4: 4, 5: 189, 6: 60632, 7: 269, 8: 40189, 9: 138, 10: 66590, 11: 2227, 12: 22668, 13: 21707, 14: 229}, \n",
    "     'date': {0: '2013-11-04', 1: '2013-11-04', 2: '2013-11-04', 3: '2013-11-04', 4: '2013-11-04', 5: '2013-11-04', 6: '2013-11-04', 7: '2013-11-04', 8: '2013-11-04', 9: '2013-11-04', 10: '2013-11-04', 11: '2013-11-04', 12: '2013-11-04', 13: '2013-11-04', 14: '2013-11-04'}, 'cpc_cpm_revenue': {0: 0.36823, 1: 474.81522000000001, 2: 0.19434000000000001, 3: 18.264220000000002, 4: 0.00080000000000000004, 5: 0.23613000000000001, 6: 81.391139999999993, 7: 0.27171000000000001, 8: 51.258200000000002, 9: 0.11536, 10: 83.966859999999997, 11: 3.43248, 12: 31.695889999999999, 13: 28.459320000000002, 14: 0.43524000000000002}, 'clicks': {0: 0, 1: 183, 2: 0, 3: 9, 4: 0, 5: 1, 6: 20, 7: 0, 8: 21, 9: 0, 10: 32, 11: 1, 12: 12, 13: 9, 14: 2}, 'size': {0: '300x250', 1: '300x250', 2: '300x250', 3: '300x250', 4: '300x250', 5: '300x250', 6: '300x250', 7: '300x250', 8: '300x250', 9: '300x250', 10: '300x250', 11: '300x250', 12: '300x250', 13: '300x250', 14: '300x250'}\n",
    "    }\n",
    ")\n",
    "df\n",
    "df.set_index(['date', 'category'], inplace=True)\n",
    "print(df.head())\n",
    "df.groupby(level=[0]).sum()\n",
    "print(df.head())\n",
    "df.groupby(level=[0,1]).sum()\n",
    "print(df.head())"
   ]
  },
  {
   "cell_type": "code",
   "execution_count": null,
   "metadata": {},
   "outputs": [],
   "source": [
    "# panadas multi level index sort\n",
    "_tbt_concat.sort_values(by=[\"days_lookbacks\", \"days_eval\", \"sym_freq_cnt\"])\n",
    "_tbt_concat.sort_values(by=\"Rank_d_CAGR/UI_m/s\", ascending=False, inplace=True)"
   ]
  },
  {
   "cell_type": "code",
   "execution_count": null,
   "metadata": {},
   "outputs": [],
   "source": [
    "# force pip install in .venv\n",
    "c:/Users/ping/MyDrive/py_files/python/py3810/.venv/Scripts/python.exe -m pip install ipykernel -U --force-reinstall"
   ]
  },
  {
   "cell_type": "code",
   "execution_count": null,
   "metadata": {},
   "outputs": [],
   "source": [
    "# jupyter version run from notebook\n",
    "!jupyter --version"
   ]
  },
  {
   "cell_type": "code",
   "execution_count": null,
   "metadata": {},
   "outputs": [],
   "source": [
    "# python version running in notebook\n",
    "from platform import python_version\n",
    "print(python_version())"
   ]
  },
  {
   "cell_type": "code",
   "execution_count": null,
   "metadata": {},
   "outputs": [],
   "source": [
    "# Pandas drop_duplicates method not working on dataframe containing lists\n",
    "#  error: TypeError: unhashable type: 'list'\n",
    "_df = df.astype(str)\n",
    "_df = _df.drop_duplicates(subset=['date', 'days_lookbacks'])\n",
    "_df"
   ]
  },
  {
   "cell_type": "code",
   "execution_count": null,
   "metadata": {},
   "outputs": [],
   "source": [
    "df_eval_data_test = df.iloc[:, :-1]  # drop last column\n",
    "df_eval_SPY_test = df.iloc[:, -1:]  # keep only last column"
   ]
  },
  {
   "cell_type": "code",
   "execution_count": null,
   "metadata": {},
   "outputs": [],
   "source": [
    "# How to loop backwards in python? [duplicate]\n",
    "for x in range(6, 2, -1):\n",
    "  print(x)"
   ]
  },
  {
   "cell_type": "code",
   "execution_count": null,
   "metadata": {},
   "outputs": [],
   "source": [
    "# https://stackoverflow.com/questions/49700794/selecting-rows-of-pandas-dataframe-where-column-is-not-empty-list\n",
    "# Selecting rows of pandas DataFrame where column is not empty list\n",
    "df[df.my_list.astype(bool)]"
   ]
  },
  {
   "cell_type": "code",
   "execution_count": null,
   "metadata": {},
   "outputs": [],
   "source": [
    "# list duplicate in list\n",
    "# https://stackoverflow.com/questions/9835762/how-do-i-find-the-duplicates-in-a-list-and-create-another-list-with-them\n",
    "import collections\n",
    "print([item for item, count in collections.Counter(symbols).items() if count > 1])"
   ]
  },
  {
   "cell_type": "code",
   "execution_count": null,
   "metadata": {},
   "outputs": [],
   "source": [
    "# # https://stackoverflow.com/questions/50773107/how-to-replace-infinite-value-with-maximum-value-of-a-pandas-column\n",
    "# replace inf in column grp(CAGR/UI)_mean\n",
    "df['grp(CAGR/UI)_mean'].replace(np.inf, grp_inf_replacement['grp(CAGR/UI)_mean'], inplace=True)\n",
    "# replace NaN in column grp(CAGR/UI)_std\n",
    "df['grp(CAGR/UI)_std'].replace(np.nan, grp_inf_replacement['grp(CAGR/UI)_std'], inplace=True)\n",
    "# replace NaN in column grp(CAGR/UI)_mean/std\n",
    "df['grp(CAGR/UI)_mean/std'].replace(np.nan, grp_inf_replacement['grp(CAGR/UI)_mean/std'], inplace=True)\n",
    "# replace inf in column SPY_CAGR/UI\n",
    "df['SPY_CAGR/UI'].replace(np.inf, SPY_inf_replacement, inplace=True)\n",
    "df"
   ]
  },
  {
   "cell_type": "code",
   "execution_count": null,
   "metadata": {},
   "outputs": [],
   "source": [
    "# get values of _cols, where grp(CAGR/UI)_mean is max after filtering out inf\n",
    "_cols = ['grp(CAGR/UI)_mean', 'grp(CAGR/UI)_std', 'grp(CAGR/UI)_mean/std']\n",
    "_df_no_inf = df.loc[df['grp(CAGR/UI)_mean'] != np.inf]  # df with filter out inf in column grp(CAGR/UI)_mean \n",
    "_idx = _df_no_inf['grp(CAGR/UI)_mean'].idxmax()  # index value of max in grp(CAGR/UI)_mean \n",
    "grp_inf_replacement = _df_no_inf.loc[[_idx], _cols].squeeze()  # convert df (only has 1 row) to series\n",
    "print(f'_idx: {_idx}')\n",
    "grp_inf_replacement"
   ]
  },
  {
   "cell_type": "code",
   "execution_count": null,
   "metadata": {},
   "outputs": [],
   "source": [
    "# https://stackoverflow.com/questions/31674195/plot-normal-distribution-given-mean-and-sigma-python\n",
    "# loc is mean, scale is standard deviation\n",
    "import pylab\n",
    "import numpy as np\n",
    "from scipy.stats import norm\n",
    "# x = np.linspace(-10000,100000,1000)\n",
    "x = np.linspace(-40e+10,50e+10,1000)\n",
    "y = norm.pdf(x, loc=2.562777e+10, scale=1.036925e+11)    # loc = mean, scale = standard deviation\n",
    "# z = norm.pdf(x, loc=3.540615e+10, scale=1.194430e+11)    # for example\n",
    "# z1 = norm.pdf(x, loc=298.805901, scale=826.875749)    # for example\n",
    "# z1 = norm.pdf(x, loc=1.021825, scale=1.505096)    # for example\n",
    "pylab.plot(x,y, 'b')\n",
    "# pylab.plot(x,z, 'g')\n",
    "# pylab.plot(x,z1, 'r')\n",
    "pylab.show()"
   ]
  },
  {
   "cell_type": "code",
   "execution_count": null,
   "metadata": {},
   "outputs": [],
   "source": [
    "# drop inf, -inf, NaN from df\n",
    "\n",
    "my_cols = ['grp(CAGR/UI)_mean', 'grp(CAGR/UI)_std', 'SPY_CAGR/UI']\n",
    "_df = df[my_cols]\n",
    "row_inf = _df.index[np.isinf(_df).any(axis=1)]\n",
    "print(f'row iloc with inf:\\n{row_inf}\\n')\n",
    "df_inf = df.iloc[row_inf].copy()  # df with inf in my_cols\n",
    "# display(HTML(df_inf.to_html()))\n",
    "df.drop(axis=0, index=row_inf, inplace=True)\n",
    "# display(HTML(df.to_html()))\n",
    "df.dropna(how='any', inplace=True)\n",
    "df"
   ]
  },
  {
   "cell_type": "code",
   "execution_count": null,
   "metadata": {},
   "outputs": [],
   "source": [
    "pd.set_option('display.max_rows', 500)\n",
    "pd.set_option('display.max_columns', 14)\n",
    "pd.set_option('display.max_colwidth', 6)\n",
    "pd.set_option('display.width', 800)"
   ]
  },
  {
   "cell_type": "code",
   "execution_count": null,
   "metadata": {},
   "outputs": [],
   "source": [
    "# print df\n",
    "from IPython.display import display, HTML\n",
    "display(HTML(df.to_html()))"
   ]
  },
  {
   "cell_type": "code",
   "execution_count": null,
   "metadata": {},
   "outputs": [],
   "source": [
    "# create empty DataFrame df and append row\n",
    "import pandas as pd\n",
    "\n",
    "my_cols = ['date', 'days_lookbacks', 'n_top_syms', 'syms_start', 'syms_end', 'grp_dates', 'top_set_syms_n_freq', 'top_set_syms']\n",
    "# Creating Empty DataFrame and Storing it in variable df\n",
    "df = pd.DataFrame(columns=my_cols)\n",
    "\n",
    "row_add = [grp_dates[-1], days_lookbacks, n_top_syms, syms_start, syms_end, grp_dates, top_set_syms_n_freq, top_set_syms]\n",
    "df.loc[len(df)] = row_add\n",
    "df"
   ]
  },
  {
   "cell_type": "code",
   "execution_count": null,
   "metadata": {},
   "outputs": [],
   "source": [
    "# flatten symbols_download_err which is a list-of-lists\n",
    "l_symbols_err = [val for sublist in symbols_download_err for val in sublist]\n",
    "pickle_dump(l_symbols_err, path_data_dump, 'l_symbols_err')\n",
    "l_symbols_err"
   ]
  },
  {
   "cell_type": "code",
   "execution_count": null,
   "metadata": {},
   "outputs": [],
   "source": [
    "# drop columns in multilevel, column names is a list \n",
    "df = df.drop(l_syms_0_vol_0_close, axis=1, level=0)"
   ]
  },
  {
   "cell_type": "code",
   "execution_count": null,
   "metadata": {},
   "outputs": [],
   "source": [
    "# re-order multiIndex columns\n",
    "_cols = ['Open', 'High', 'Low', 'Close', 'Volume']\n",
    "# create multilevel column names\n",
    "_col_names = pd.MultiIndex.from_product([_l_symbols, _cols])\n",
    "_df_adj.columns = _col_names"
   ]
  },
  {
   "cell_type": "code",
   "execution_count": null,
   "metadata": {},
   "outputs": [],
   "source": [
    "# get list of unique symbols in df_OHLCV, list(df) is a list of tuples\n",
    "# e.g.: [('AAPL', 'Open')..('AAPL', 'Volume'),...\n",
    "#        ('ZZZZ', 'Open')..('ZZZZ', 'Volume')]\n",
    "symbols_OHLCV = list(set([i[0] for i in list(df)]))"
   ]
  },
  {
   "cell_type": "code",
   "execution_count": null,
   "metadata": {},
   "outputs": [],
   "source": [
    "# combined 2 lists to one list and remove duplicates\n",
    "a = ['a', 'b', 'c']\n",
    "b = ['a', 'b', 'c', 'd']\n",
    "print(f'Order not kept: {list(set(a + b))}')\n",
    "\n",
    "from collections import OrderedDict\n",
    "print(f'Order kept:     {list(OrderedDict.fromkeys(a+b))}')"
   ]
  },
  {
   "cell_type": "code",
   "execution_count": null,
   "metadata": {},
   "outputs": [],
   "source": [
    "# convert pandas series to list, df['symbol'] is the symbol column in df\n",
    "df['symbol'].tolist()"
   ]
  },
  {
   "cell_type": "code",
   "execution_count": null,
   "metadata": {},
   "outputs": [],
   "source": [
    "# Split a Python List into Chunks using For Loops\n",
    "a_list = [1, 2, 3, 4, 5, 6, 7, 8, 9, 10, 11]\n",
    "chunked_list = list()\n",
    "chunk_size = 3\n",
    "for i in range(0, len(a_list), chunk_size):\n",
    "    chunked_list.append(a_list[i:i+chunk_size])\n",
    "print(chunked_list)"
   ]
  },
  {
   "cell_type": "code",
   "execution_count": null,
   "metadata": {},
   "outputs": [],
   "source": [
    "# MultiIndex sort df by symbol\n",
    "df_OHLCV_all_dates = df_OHLCV_all_dates.sort_index(axis=1,level=0,sort_remaining=False)"
   ]
  },
  {
   "cell_type": "code",
   "execution_count": null,
   "metadata": {},
   "outputs": [],
   "source": [
    "# rename column names from ['Open', ..., 'Volume'] to ['open', ..., 'volume']\n",
    "# remove_unused_levels() prevents ValueError\n",
    "# e.g ValueError: On level 1, code max (5) >= length of level (5). NOTE: this index is in an inconsistent state\n",
    "# The error may be caused by removing symbols from the dataframe with all NaN in OHLCV columns\n",
    "df_OHLCV_all_dates.columns = df_OHLCV_all_dates.columns.remove_unused_levels()\n",
    "df_OHLCV_all_dates.columns = df_OHLCV_all_dates.columns.set_levels(['open', 'high', 'low', 'close', 'volume'], level=1)"
   ]
  },
  {
   "cell_type": "code",
   "execution_count": null,
   "metadata": {},
   "outputs": [],
   "source": [
    "# convert timestamp to string 'yyyy-mm-dd'\n",
    "first_date = df1.index[0].strftime('%Y-%m-%d')\n",
    "last_date = df1.index[-1].strftime('%Y-%m-%d')\n",
    "print(f'first_date: {first_date}, {type(first_date)}')\n",
    "print(f'last_date: {last_date}, {type(first_date)}')\n",
    "\n",
    "# yesterday as a string yyyy-mm-dd\n",
    "from datetime import date, timedelta\n",
    "yesterday = str(date.today() - timedelta(days = 1))\n",
    "print(f'yesterday: {yesterday}, {type(yesterday)}')"
   ]
  },
  {
   "cell_type": "code",
   "execution_count": null,
   "metadata": {},
   "outputs": [],
   "source": [
    "# https://stackoverflow.com/questions/34439/finding-what-methods-a-python-object-has\n",
    "# list methods in object\n",
    "obj_methods = [method_name for method_name in dir(obj)]\n",
    "# simpler\n",
    "dir(obj)"
   ]
  },
  {
   "cell_type": "code",
   "execution_count": null,
   "metadata": {},
   "outputs": [],
   "source": [
    "# convert Unix timestamp in sec. to yyyy-mm-dd,  'startDate': 1367107200\n",
    "from datetime import datetime\n",
    "UTC_timestamp_sec = 1367107200  # Unix time stamp (i.e. seconds since 1970-01-01)\n",
    "# convert Unix UTC_timestamp_sec in sec. to yyyy-mm-dd,  'startDate': 1367107200\n",
    "startDate = datetime.fromtimestamp(UTC_timestamp_sec).strftime(\"%Y-%m-%d\")\n",
    "startDate"
   ]
  },
  {
   "cell_type": "code",
   "execution_count": null,
   "metadata": {},
   "outputs": [],
   "source": [
    "# f string format\n",
    "key = \"marketCap\"\n",
    "value = 446764482560\n",
    "print(f'{key:20}{value/1e9:<,.3f}B')  # asset in billions\n"
   ]
  },
  {
   "cell_type": "code",
   "execution_count": null,
   "metadata": {},
   "outputs": [],
   "source": [
    "# replace character in list\n",
    "myList =  ['BRFS', 'BRK.A', 'BRK.B', 'BRKR']\n",
    "new_list = []\n",
    "for x in myList:\n",
    "    new_list.append(x.replace(\".\", \"-\"))\n",
    "new_list"
   ]
  },
  {
   "cell_type": "code",
   "execution_count": null,
   "metadata": {},
   "outputs": [],
   "source": [
    "# delete dfw, df2 from RAM\n",
    "import gc\n",
    "del [[dfw,df2]]\n",
    "gc.collect()\n",
    "dfw=pd.DataFrame()\n",
    "df2=pd.DataFrame()"
   ]
  },
  {
   "cell_type": "code",
   "execution_count": null,
   "metadata": {},
   "outputs": [],
   "source": [
    "df = df[df['Customer Name'] == 'Canyon Coffee']  # return df with 'Customer Name' == 'Canyon Coffee' "
   ]
  },
  {
   "cell_type": "code",
   "execution_count": null,
   "metadata": {},
   "outputs": [],
   "source": [
    "%%timeit -n 10 -r 7\n",
    "(\n",
    "    symbols,\n",
    "    period_yr,\n",
    "    drawdown,\n",
    "    UI,\n",
    "    max_drawdown,\n",
    "    returns_std,\n",
    "    Std_UI,\n",
    "    CAGR,\n",
    "    CAGR_Std,\n",
    "    CAGR_UI,\n",
    ") = symb_perf_stats_vectorized_v1(df_c)"
   ]
  },
  {
   "cell_type": "code",
   "execution_count": null,
   "metadata": {},
   "outputs": [],
   "source": [
    "df_adjOHLCV.columns.unique(level=0)  #multi index columns"
   ]
  }
 ],
 "metadata": {
  "kernelspec": {
   "display_name": "Python 3.7.9 ('.venv': poetry)",
   "language": "python",
   "name": "python3"
  },
  "language_info": {
   "codemirror_mode": {
    "name": "ipython",
    "version": 3
   },
   "file_extension": ".py",
   "mimetype": "text/x-python",
   "name": "python",
   "nbconvert_exporter": "python",
   "pygments_lexer": "ipython3",
   "version": "3.8.10"
  },
  "orig_nbformat": 4,
  "vscode": {
   "interpreter": {
    "hash": "55a3812d65f91e7e7447da6b5cfc60716e82f91e6a92533fb27b46796ad1962a"
   }
  }
 },
 "nbformat": 4,
 "nbformat_minor": 2
}
