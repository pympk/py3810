{
 "cells": [
  {
   "cell_type": "code",
   "execution_count": null,
   "metadata": {},
   "outputs": [],
   "source": [
    "# panadas multi level index sort\n",
    "_tbt_concat.sort_values(by=[\"days_lookbacks\", \"days_eval\", \"sym_freq_cnt\"])\n",
    "_tbt_concat.sort_values(by=\"Rank_d_CAGR/UI_m/s\", ascending=False, inplace=True)"
   ]
  },
  {
   "cell_type": "code",
   "execution_count": null,
   "metadata": {},
   "outputs": [],
   "source": [
    "# force pip install in .venv\n",
    "c:/Users/ping/MyDrive/py_files/python/py3810/.venv/Scripts/python.exe -m pip install ipykernel -U --force-reinstall"
   ]
  },
  {
   "cell_type": "code",
   "execution_count": 1,
   "metadata": {},
   "outputs": [
    {
     "name": "stdout",
     "output_type": "stream",
     "text": [
      "Selected Jupyter core packages...\n",
      "IPython          : 7.34.0\n",
      "ipykernel        : 6.16.2\n",
      "ipywidgets       : not installed\n",
      "jupyter_client   : 7.4.4\n",
      "jupyter_core     : 4.11.2\n",
      "jupyter_server   : not installed\n",
      "jupyterlab       : not installed\n",
      "nbclient         : not installed\n",
      "nbconvert        : not installed\n",
      "nbformat         : 5.7.3\n",
      "notebook         : not installed\n",
      "qtconsole        : not installed\n",
      "traitlets        : 5.5.0\n"
     ]
    }
   ],
   "source": [
    "# jupyter version run from notebook\n",
    "!jupyter --version"
   ]
  },
  {
   "cell_type": "code",
   "execution_count": null,
   "metadata": {},
   "outputs": [],
   "source": [
    "# python version running in notebook\n",
    "from platform import python_version\n",
    "print(python_version())"
   ]
  },
  {
   "cell_type": "code",
   "execution_count": null,
   "metadata": {},
   "outputs": [],
   "source": [
    "# Pandas drop_duplicates method not working on dataframe containing lists\n",
    "#  error: TypeError: unhashable type: 'list'\n",
    "_df = df.astype(str)\n",
    "_df = _df.drop_duplicates(subset=['date', 'days_lookbacks'])\n",
    "_df"
   ]
  },
  {
   "cell_type": "code",
   "execution_count": null,
   "metadata": {},
   "outputs": [],
   "source": [
    "df_eval_data_test = df.iloc[:, :-1]  # drop last column\n",
    "df_eval_SPY_test = df.iloc[:, -1:]  # keep only last column"
   ]
  },
  {
   "cell_type": "code",
   "execution_count": null,
   "metadata": {},
   "outputs": [],
   "source": [
    "# How to loop backwards in python? [duplicate]\n",
    "for x in range(6, 2, -1):\n",
    "  print(x)"
   ]
  },
  {
   "cell_type": "code",
   "execution_count": null,
   "metadata": {},
   "outputs": [],
   "source": [
    "# https://stackoverflow.com/questions/49700794/selecting-rows-of-pandas-dataframe-where-column-is-not-empty-list\n",
    "# Selecting rows of pandas DataFrame where column is not empty list\n",
    "df[df.my_list.astype(bool)]"
   ]
  },
  {
   "cell_type": "code",
   "execution_count": null,
   "metadata": {},
   "outputs": [],
   "source": [
    "# list duplicate in list\n",
    "# https://stackoverflow.com/questions/9835762/how-do-i-find-the-duplicates-in-a-list-and-create-another-list-with-them\n",
    "import collections\n",
    "print([item for item, count in collections.Counter(symbols).items() if count > 1])"
   ]
  },
  {
   "cell_type": "code",
   "execution_count": null,
   "metadata": {},
   "outputs": [],
   "source": [
    "# # https://stackoverflow.com/questions/50773107/how-to-replace-infinite-value-with-maximum-value-of-a-pandas-column\n",
    "# replace inf in column grp(CAGR/UI)_mean\n",
    "df['grp(CAGR/UI)_mean'].replace(np.inf, grp_inf_replacement['grp(CAGR/UI)_mean'], inplace=True)\n",
    "# replace NaN in column grp(CAGR/UI)_std\n",
    "df['grp(CAGR/UI)_std'].replace(np.nan, grp_inf_replacement['grp(CAGR/UI)_std'], inplace=True)\n",
    "# replace NaN in column grp(CAGR/UI)_mean/std\n",
    "df['grp(CAGR/UI)_mean/std'].replace(np.nan, grp_inf_replacement['grp(CAGR/UI)_mean/std'], inplace=True)\n",
    "# replace inf in column SPY_CAGR/UI\n",
    "df['SPY_CAGR/UI'].replace(np.inf, SPY_inf_replacement, inplace=True)\n",
    "df"
   ]
  },
  {
   "cell_type": "code",
   "execution_count": null,
   "metadata": {},
   "outputs": [],
   "source": [
    "# get values of _cols, where grp(CAGR/UI)_mean is max after filtering out inf\n",
    "_cols = ['grp(CAGR/UI)_mean', 'grp(CAGR/UI)_std', 'grp(CAGR/UI)_mean/std']\n",
    "_df_no_inf = df.loc[df['grp(CAGR/UI)_mean'] != np.inf]  # df with filter out inf in column grp(CAGR/UI)_mean \n",
    "_idx = _df_no_inf['grp(CAGR/UI)_mean'].idxmax()  # index value of max in grp(CAGR/UI)_mean \n",
    "grp_inf_replacement = _df_no_inf.loc[[_idx], _cols].squeeze()  # convert df (only has 1 row) to series\n",
    "print(f'_idx: {_idx}')\n",
    "grp_inf_replacement"
   ]
  },
  {
   "cell_type": "code",
   "execution_count": null,
   "metadata": {},
   "outputs": [],
   "source": [
    "# https://stackoverflow.com/questions/31674195/plot-normal-distribution-given-mean-and-sigma-python\n",
    "# loc is mean, scale is standard deviation\n",
    "import pylab\n",
    "import numpy as np\n",
    "from scipy.stats import norm\n",
    "# x = np.linspace(-10000,100000,1000)\n",
    "x = np.linspace(-40e+10,50e+10,1000)\n",
    "y = norm.pdf(x, loc=2.562777e+10, scale=1.036925e+11)    # loc = mean, scale = standard deviation\n",
    "# z = norm.pdf(x, loc=3.540615e+10, scale=1.194430e+11)    # for example\n",
    "# z1 = norm.pdf(x, loc=298.805901, scale=826.875749)    # for example\n",
    "# z1 = norm.pdf(x, loc=1.021825, scale=1.505096)    # for example\n",
    "pylab.plot(x,y, 'b')\n",
    "# pylab.plot(x,z, 'g')\n",
    "# pylab.plot(x,z1, 'r')\n",
    "pylab.show()"
   ]
  },
  {
   "cell_type": "code",
   "execution_count": null,
   "metadata": {},
   "outputs": [],
   "source": [
    "# drop inf, -inf, NaN from df\n",
    "\n",
    "my_cols = ['grp(CAGR/UI)_mean', 'grp(CAGR/UI)_std', 'SPY_CAGR/UI']\n",
    "_df = df[my_cols]\n",
    "row_inf = _df.index[np.isinf(_df).any(axis=1)]\n",
    "print(f'row iloc with inf:\\n{row_inf}\\n')\n",
    "df_inf = df.iloc[row_inf].copy()  # df with inf in my_cols\n",
    "# display(HTML(df_inf.to_html()))\n",
    "df.drop(axis=0, index=row_inf, inplace=True)\n",
    "# display(HTML(df.to_html()))\n",
    "df.dropna(how='any', inplace=True)\n",
    "df"
   ]
  },
  {
   "cell_type": "code",
   "execution_count": null,
   "metadata": {},
   "outputs": [],
   "source": [
    "pd.set_option('display.max_rows', 500)\n",
    "pd.set_option('display.max_columns', 14)\n",
    "pd.set_option('display.max_colwidth', 6)\n",
    "pd.set_option('display.width', 800)"
   ]
  },
  {
   "cell_type": "code",
   "execution_count": null,
   "metadata": {},
   "outputs": [],
   "source": [
    "# print df\n",
    "from IPython.display import display, HTML\n",
    "display(HTML(df.to_html()))"
   ]
  },
  {
   "cell_type": "code",
   "execution_count": null,
   "metadata": {},
   "outputs": [],
   "source": [
    "# create empty DataFrame df and append row\n",
    "import pandas as pd\n",
    "\n",
    "my_cols = ['date', 'days_lookbacks', 'n_top_syms', 'syms_start', 'syms_end', 'grp_dates', 'top_set_syms_n_freq', 'top_set_syms']\n",
    "# Creating Empty DataFrame and Storing it in variable df\n",
    "df = pd.DataFrame(columns=my_cols)\n",
    "\n",
    "row_add = [grp_dates[-1], days_lookbacks, n_top_syms, syms_start, syms_end, grp_dates, top_set_syms_n_freq, top_set_syms]\n",
    "df.loc[len(df)] = row_add\n",
    "df"
   ]
  },
  {
   "cell_type": "code",
   "execution_count": null,
   "metadata": {},
   "outputs": [],
   "source": [
    "# flatten symbols_download_err which is a list-of-lists\n",
    "l_symbols_err = [val for sublist in symbols_download_err for val in sublist]\n",
    "pickle_dump(l_symbols_err, path_data_dump, 'l_symbols_err')\n",
    "l_symbols_err"
   ]
  },
  {
   "cell_type": "code",
   "execution_count": null,
   "metadata": {},
   "outputs": [],
   "source": [
    "# drop columns in multilevel, column names is a list \n",
    "df = df.drop(l_syms_0_vol_0_close, axis=1, level=0)"
   ]
  },
  {
   "cell_type": "code",
   "execution_count": null,
   "metadata": {},
   "outputs": [],
   "source": [
    "# re-order multiIndex columns\n",
    "_cols = ['Open', 'High', 'Low', 'Close', 'Volume']\n",
    "# create multilevel column names\n",
    "_col_names = pd.MultiIndex.from_product([_l_symbols, _cols])\n",
    "_df_adj.columns = _col_names"
   ]
  },
  {
   "cell_type": "code",
   "execution_count": null,
   "metadata": {},
   "outputs": [],
   "source": [
    "# get list of unique symbols in df_OHLCV, list(df) is a list of tuples\n",
    "# e.g.: [('AAPL', 'Open')..('AAPL', 'Volume'),...\n",
    "#        ('ZZZZ', 'Open')..('ZZZZ', 'Volume')]\n",
    "symbols_OHLCV = list(set([i[0] for i in list(df)]))"
   ]
  },
  {
   "cell_type": "code",
   "execution_count": 4,
   "metadata": {},
   "outputs": [
    {
     "name": "stdout",
     "output_type": "stream",
     "text": [
      "Order not kept: ['b', 'a', 'd', 'c']\n",
      "Order kept:     ['a', 'b', 'c', 'd']\n"
     ]
    }
   ],
   "source": [
    "# combined 2 lists to one list and remove duplicates\n",
    "a = ['a', 'b', 'c']\n",
    "b = ['a', 'b', 'c', 'd']\n",
    "print(f'Order not kept: {list(set(a + b))}')\n",
    "\n",
    "from collections import OrderedDict\n",
    "print(f'Order kept:     {list(OrderedDict.fromkeys(a+b))}')"
   ]
  },
  {
   "cell_type": "code",
   "execution_count": null,
   "metadata": {},
   "outputs": [],
   "source": [
    "# convert pandas series to list, df['symbol'] is the symbol column in df\n",
    "df['symbol'].tolist()"
   ]
  },
  {
   "cell_type": "code",
   "execution_count": null,
   "metadata": {},
   "outputs": [],
   "source": [
    "# Split a Python List into Chunks using For Loops\n",
    "a_list = [1, 2, 3, 4, 5, 6, 7, 8, 9, 10, 11]\n",
    "chunked_list = list()\n",
    "chunk_size = 3\n",
    "for i in range(0, len(a_list), chunk_size):\n",
    "    chunked_list.append(a_list[i:i+chunk_size])\n",
    "print(chunked_list)"
   ]
  },
  {
   "cell_type": "code",
   "execution_count": null,
   "metadata": {},
   "outputs": [],
   "source": [
    "# MultiIndex sort df by symbol\n",
    "df_OHLCV_all_dates = df_OHLCV_all_dates.sort_index(axis=1,level=0,sort_remaining=False)"
   ]
  },
  {
   "cell_type": "code",
   "execution_count": null,
   "metadata": {},
   "outputs": [],
   "source": [
    "# rename column names from ['Open', ..., 'Volume'] to ['open', ..., 'volume']\n",
    "# remove_unused_levels() prevents ValueError\n",
    "# e.g ValueError: On level 1, code max (5) >= length of level (5). NOTE: this index is in an inconsistent state\n",
    "# The error may be caused by removing symbols from the dataframe with all NaN in OHLCV columns\n",
    "df_OHLCV_all_dates.columns = df_OHLCV_all_dates.columns.remove_unused_levels()\n",
    "df_OHLCV_all_dates.columns = df_OHLCV_all_dates.columns.set_levels(['open', 'high', 'low', 'close', 'volume'], level=1)"
   ]
  },
  {
   "cell_type": "code",
   "execution_count": null,
   "metadata": {},
   "outputs": [],
   "source": [
    "# convert timestamp to string 'yyyy-mm-dd'\n",
    "first_date = df1.index[0].strftime('%Y-%m-%d')\n",
    "last_date = df1.index[-1].strftime('%Y-%m-%d')\n",
    "print(f'first_date: {first_date}, {type(first_date)}')\n",
    "print(f'last_date: {last_date}, {type(first_date)}')\n",
    "\n",
    "# yesterday as a string yyyy-mm-dd\n",
    "from datetime import date, timedelta\n",
    "yesterday = str(date.today() - timedelta(days = 1))\n",
    "print(f'yesterday: {yesterday}, {type(yesterday)}')"
   ]
  },
  {
   "cell_type": "code",
   "execution_count": null,
   "metadata": {},
   "outputs": [],
   "source": [
    "# https://stackoverflow.com/questions/34439/finding-what-methods-a-python-object-has\n",
    "# list methods in object\n",
    "obj_methods = [method_name for method_name in dir(obj)]\n",
    "# simpler\n",
    "dir(obj)"
   ]
  },
  {
   "cell_type": "code",
   "execution_count": 1,
   "metadata": {},
   "outputs": [
    {
     "data": {
      "text/plain": [
       "'2013-04-27'"
      ]
     },
     "execution_count": 1,
     "metadata": {},
     "output_type": "execute_result"
    }
   ],
   "source": [
    "# convert Unix timestamp in sec. to yyyy-mm-dd,  'startDate': 1367107200\n",
    "from datetime import datetime\n",
    "UTC_timestamp_sec = 1367107200  # Unix time stamp (i.e. seconds since 1970-01-01)\n",
    "# convert Unix UTC_timestamp_sec in sec. to yyyy-mm-dd,  'startDate': 1367107200\n",
    "startDate = datetime.fromtimestamp(UTC_timestamp_sec).strftime(\"%Y-%m-%d\")\n",
    "startDate"
   ]
  },
  {
   "cell_type": "code",
   "execution_count": 1,
   "metadata": {},
   "outputs": [
    {
     "name": "stdout",
     "output_type": "stream",
     "text": [
      "marketCap           446.764B\n"
     ]
    }
   ],
   "source": [
    "# f string format\n",
    "key = \"marketCap\"\n",
    "value = 446764482560\n",
    "print(f'{key:20}{value/1e9:<,.3f}B')  # asset in billions\n"
   ]
  },
  {
   "cell_type": "code",
   "execution_count": null,
   "metadata": {},
   "outputs": [],
   "source": [
    "# replace character in list\n",
    "myList =  ['BRFS', 'BRK.A', 'BRK.B', 'BRKR']\n",
    "new_list = []\n",
    "for x in myList:\n",
    "    new_list.append(x.replace(\".\", \"-\"))\n",
    "new_list"
   ]
  },
  {
   "cell_type": "code",
   "execution_count": null,
   "metadata": {},
   "outputs": [],
   "source": [
    "# delete dfw, df2 from RAM\n",
    "import gc\n",
    "del [[dfw,df2]]\n",
    "gc.collect()\n",
    "dfw=pd.DataFrame()\n",
    "df2=pd.DataFrame()"
   ]
  },
  {
   "cell_type": "code",
   "execution_count": null,
   "metadata": {},
   "outputs": [],
   "source": [
    "df = df[df['Customer Name'] == 'Canyon Coffee']  # return df with 'Customer Name' == 'Canyon Coffee' "
   ]
  },
  {
   "cell_type": "code",
   "execution_count": null,
   "metadata": {},
   "outputs": [],
   "source": [
    "%%timeit -n 10 -r 7\n",
    "(\n",
    "    symbols,\n",
    "    period_yr,\n",
    "    drawdown,\n",
    "    UI,\n",
    "    max_drawdown,\n",
    "    returns_std,\n",
    "    Std_UI,\n",
    "    CAGR,\n",
    "    CAGR_Std,\n",
    "    CAGR_UI,\n",
    ") = symb_perf_stats_vectorized_v1(df_c)"
   ]
  },
  {
   "cell_type": "code",
   "execution_count": null,
   "metadata": {},
   "outputs": [],
   "source": [
    "df_adjOHLCV.columns.unique(level=0)  #multi index columns"
   ]
  }
 ],
 "metadata": {
  "kernelspec": {
   "display_name": "Python 3.7.9 ('.venv': poetry)",
   "language": "python",
   "name": "python3"
  },
  "language_info": {
   "codemirror_mode": {
    "name": "ipython",
    "version": 3
   },
   "file_extension": ".py",
   "mimetype": "text/x-python",
   "name": "python",
   "nbconvert_exporter": "python",
   "pygments_lexer": "ipython3",
   "version": "3.7.9"
  },
  "orig_nbformat": 4,
  "vscode": {
   "interpreter": {
    "hash": "55a3812d65f91e7e7447da6b5cfc60716e82f91e6a92533fb27b46796ad1962a"
   }
  }
 },
 "nbformat": 4,
 "nbformat_minor": 2
}
