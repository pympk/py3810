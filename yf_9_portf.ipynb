{
 "cells": [
  {
   "cell_type": "code",
   "execution_count": null,
   "metadata": {},
   "outputs": [],
   "source": [
    "import pandas as pd\n",
    "import yfinance as yf\n",
    "\n",
    "# Define the tickers and weights of the stocks in the portfolio\n",
    "tickers = ['CRUS', 'CTLT', 'THR', 'ALGN', 'ICPT']\n",
    "weights = [0.4, 0.3, 0.3]\n",
    "\n",
    "# Get the stock data for the tickers\n",
    "data = yf.download(tickers, start=\"2020-01-01\", end=\"2022-01-01\")['Adj Close']\n",
    "\n",
    "# Calculate the daily returns for the stocks\n",
    "returns = data.pct_change()\n",
    "\n",
    "# Calculate the weighted returns for the portfolio\n",
    "weighted_returns = (returns * weights).sum(axis=1)\n",
    "\n",
    "# Calculate the cumulative returns for the portfolio\n",
    "cumulative_returns = (1 + weighted_returns).cumprod() - 1\n",
    "\n",
    "# Plot the cumulative returns\n",
    "cumulative_returns.plot()"
   ]
  }
 ],
 "metadata": {
  "kernelspec": {
   "display_name": "Python 3",
   "language": "python",
   "name": "python3"
  },
  "language_info": {
   "name": "python",
   "version": "3.7.9"
  },
  "orig_nbformat": 4,
  "vscode": {
   "interpreter": {
    "hash": "d848e2535a99fe7c7346179acd9000b04da131f0f89ee41d962201c665cb28e1"
   }
  }
 },
 "nbformat": 4,
 "nbformat_minor": 2
}
