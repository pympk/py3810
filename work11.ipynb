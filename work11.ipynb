{
 "cells": [
  {
   "cell_type": "code",
   "execution_count": 3,
   "metadata": {},
   "outputs": [
    {
     "ename": "TypeError",
     "evalue": "line() got an unexpected keyword argument 'color'",
     "output_type": "error",
     "traceback": [
      "\u001b[1;31m---------------------------------------------------------------------------\u001b[0m",
      "\u001b[1;31mTypeError\u001b[0m                                 Traceback (most recent call last)",
      "Cell \u001b[1;32mIn[3], line 57\u001b[0m\n\u001b[0;32m     54\u001b[0m horizontal_spacing \u001b[39m=\u001b[39m \u001b[39m1\u001b[39m  \u001b[39m# Customizable horizontal spacing in inches\u001b[39;00m\n\u001b[0;32m     55\u001b[0m vertical_spacing \u001b[39m=\u001b[39m \u001b[39m1.5\u001b[39m  \u001b[39m# Customizable vertical spacing in inches\u001b[39;00m\n\u001b[1;32m---> 57\u001b[0m create_grid_pdf(filename, page_width, page_height, num_horizontal_grids, num_vertical_grids,\n\u001b[0;32m     58\u001b[0m                horizontal_spacing, vertical_spacing)\n\u001b[0;32m     60\u001b[0m \u001b[39mprint\u001b[39m(\u001b[39mf\u001b[39m\u001b[39m\"\u001b[39m\u001b[39mGrid PDF created: \u001b[39m\u001b[39m{\u001b[39;00mfilename\u001b[39m}\u001b[39;00m\u001b[39m\"\u001b[39m)\n",
      "Cell \u001b[1;32mIn[3], line 39\u001b[0m, in \u001b[0;36mcreate_grid_pdf\u001b[1;34m(filename, page_width, page_height, num_horizontal_grids, num_vertical_grids, horizontal_spacing, vertical_spacing, line_width, line_color)\u001b[0m\n\u001b[0;32m     29\u001b[0m \u001b[39m# # Draw horizontal grid lines\u001b[39;00m\n\u001b[0;32m     30\u001b[0m \u001b[39m# for y in y_coords:\u001b[39;00m\n\u001b[0;32m     31\u001b[0m \u001b[39m#     c.line(0, y, page_width, y, stroke=line_color, linewidth=line_width)\u001b[39;00m\n\u001b[1;32m   (...)\u001b[0m\n\u001b[0;32m     36\u001b[0m \n\u001b[0;32m     37\u001b[0m \u001b[39m# Draw horizontal grid lines\u001b[39;00m\n\u001b[0;32m     38\u001b[0m \u001b[39mfor\u001b[39;00m y \u001b[39min\u001b[39;00m y_coords:\n\u001b[1;32m---> 39\u001b[0m     c\u001b[39m.\u001b[39;49mline(\u001b[39m0\u001b[39;49m, y, page_width, y, color\u001b[39m=\u001b[39;49mline_color, linewidth\u001b[39m=\u001b[39;49mline_width)  \u001b[39m# Use 'color' instead of 'stroke'\u001b[39;00m\n\u001b[0;32m     41\u001b[0m \u001b[39m# Draw vertical grid lines\u001b[39;00m\n\u001b[0;32m     42\u001b[0m \u001b[39mfor\u001b[39;00m x \u001b[39min\u001b[39;00m x_coords:\n",
      "\u001b[1;31mTypeError\u001b[0m: line() got an unexpected keyword argument 'color'"
     ]
    }
   ],
   "source": [
    "import reportlab\n",
    "from reportlab.pdfgen import canvas\n",
    "from reportlab.lib.units import inch\n",
    "\n",
    "def create_grid_pdf(filename, page_width, page_height, num_horizontal_grids, num_vertical_grids,\n",
    "                   horizontal_spacing, vertical_spacing, line_width=0.5, line_color=\"#cccccc\"):\n",
    "    \"\"\"\n",
    "    Creates a PDF file with a configurable grid layout.\n",
    "\n",
    "    Args:\n",
    "        filename (str): The desired filename for the PDF file.\n",
    "        page_width (float): The width of the PDF page in inches.\n",
    "        page_height (float): The height of the PDF page in inches.\n",
    "        num_horizontal_grids (int): The number of horizontal grid lines.\n",
    "        num_vertical_grids (int): The number of vertical grid lines.\n",
    "        horizontal_spacing (float): The spacing between horizontal grid lines in inches.\n",
    "        vertical_spacing (float): The spacing between vertical grid lines in inches.\n",
    "        line_width (float, optional): The width of the grid lines in points (1/72 inch). Defaults to 0.5.\n",
    "        line_color (str, optional): The color of the grid lines. Defaults to \"#cccccc\" (light gray).\n",
    "    \"\"\"\n",
    "\n",
    "    # Calculate grid coordinates based on spacing and number of grids\n",
    "    y_coords = [page_height - i * vertical_spacing for i in range(num_vertical_grids + 1)]\n",
    "    x_coords = [i * horizontal_spacing for i in range(num_horizontal_grids + 1)]\n",
    "\n",
    "    # Create a new PDF document\n",
    "    c = canvas.Canvas(filename, pagesize=(page_width, page_height))\n",
    "\n",
    "    # # Draw horizontal grid lines\n",
    "    # for y in y_coords:\n",
    "    #     c.line(0, y, page_width, y, stroke=line_color, linewidth=line_width)\n",
    "\n",
    "    # # Draw vertical grid lines\n",
    "    # for x in x_coords:\n",
    "    #     c.line(x, 0, x, page_height, stroke=line_color, linewidth=line_width)\n",
    "\n",
    "    # Draw horizontal grid lines\n",
    "    for y in y_coords:\n",
    "        c.line(0, y, page_width, y, color=line_color, linewidth=line_width)  # Use 'color' instead of 'stroke'\n",
    "\n",
    "    # Draw vertical grid lines\n",
    "    for x in x_coords:\n",
    "        c.line(x, 0, x, page_height, color=line_color, linewidth=line_width)  # Use 'color' instead of 'stroke'\n",
    "\n",
    "    # Save the PDF\n",
    "    c.save()\n",
    "\n",
    "# Example usage:\n",
    "filename = \"grid_page.pdf\"\n",
    "page_width = 8.5  # Standard letter paper width in inches\n",
    "page_height = 11  # Standard letter paper height in inches\n",
    "num_horizontal_grids = 4\n",
    "num_vertical_grids = 6\n",
    "horizontal_spacing = 1  # Customizable horizontal spacing in inches\n",
    "vertical_spacing = 1.5  # Customizable vertical spacing in inches\n",
    "\n",
    "create_grid_pdf(filename, page_width, page_height, num_horizontal_grids, num_vertical_grids,\n",
    "               horizontal_spacing, vertical_spacing)\n",
    "\n",
    "print(f\"Grid PDF created: {filename}\")\n"
   ]
  }
 ],
 "metadata": {
  "kernelspec": {
   "display_name": ".venv",
   "language": "python",
   "name": "python3"
  },
  "language_info": {
   "codemirror_mode": {
    "name": "ipython",
    "version": 3
   },
   "file_extension": ".py",
   "mimetype": "text/x-python",
   "name": "python",
   "nbconvert_exporter": "python",
   "pygments_lexer": "ipython3",
   "version": "3.8.10"
  },
  "orig_nbformat": 4
 },
 "nbformat": 4,
 "nbformat_minor": 2
}
