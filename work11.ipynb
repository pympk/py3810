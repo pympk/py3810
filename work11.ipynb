{
 "cells": [
  {
   "cell_type": "code",
   "execution_count": null,
   "metadata": {},
   "outputs": [],
   "source": [
    "# Initialize a list to store the picked symbols\n",
    "picks = []\n",
    "\n",
    "# Track the previous date for formatting output\n",
    "prev_date = ''\n",
    "\n",
    "# Iterate through each combination of date, lookback, and top feature,\n",
    "# now handling the nested tuple structure\n",
    "for i, (_date, (my_days_lookback, my_col)) in enumerate(date_lookback_symfreq):\n",
    "    # Create a mask to filter rows in the DataFrame based on the date and lookback criteria\n",
    "    mask = (df_filtered_picks['date_end_df_train'] == _date) & (df_filtered_picks['days_lookbacks'] == str(my_days_lookback))\n",
    "\n",
    "    # Extract the list of symbols picked by the model for the current criteria\n",
    "    list_in_df_filtered_picks = df_filtered_picks.loc[mask, my_col]\n",
    "    my_str = list_in_df_filtered_picks.tolist()[0]  # Convert the Pandas Series to a string\n",
    "    my_list = literal_eval(my_str)  # Convert the string representation of the list to an actual list\n",
    "\n",
    "    # Print the model's picks in a formatted way, grouping by date\n",
    "    if _date != prev_date:\n",
    "        if prev_date == '':\n",
    "            print(\"\\nModel Results:\")  # Print a header for the results\n",
    "        else:\n",
    "            print(\"\\n\")  # Separate results for different dates\n",
    "        print(f\"{i:<6}{_date:<14}{str(my_days_lookback):<21}{my_col:<11}: {my_list}\")\n",
    "    else:\n",
    "        print(f\"{i:<6}{' ':<14}{str(my_days_lookback):<21}{my_col:<11}: {my_list}\")\n",
    "\n",
    "    # Add the picked symbols to the list of picks\n",
    "    picks.append((i, my_list))\n",
    "\n",
    "    # Update the previous date for the next iteration\n",
    "    prev_date = _date\n"
   ]
  }
 ],
 "metadata": {
  "kernelspec": {
   "display_name": ".venv",
   "language": "python",
   "name": "python3"
  },
  "language_info": {
   "codemirror_mode": {
    "name": "ipython",
    "version": 3
   },
   "file_extension": ".py",
   "mimetype": "text/x-python",
   "name": "python",
   "nbconvert_exporter": "python",
   "pygments_lexer": "ipython3",
   "version": "3.8.10"
  },
  "orig_nbformat": 4
 },
 "nbformat": 4,
 "nbformat_minor": 2
}
