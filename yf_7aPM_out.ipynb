{
 "cells": [
  {
   "cell_type": "markdown",
   "id": "1ea22743",
   "metadata": {
    "tags": [
     "papermill-error-cell-tag"
    ]
   },
   "source": [
    "<span style=\"color:red; font-family:Helvetica Neue, Helvetica, Arial, sans-serif; font-size:2em;\">An Exception was encountered at '<a href=\"#papermill-error-cell\">In [15]</a>'.</span>"
   ]
  },
  {
   "cell_type": "code",
   "execution_count": 1,
   "id": "151dd563",
   "metadata": {
    "execution": {
     "iopub.execute_input": "2023-03-18T04:22:36.161872Z",
     "iopub.status.busy": "2023-03-18T04:22:36.159875Z",
     "iopub.status.idle": "2023-03-18T04:22:36.202872Z",
     "shell.execute_reply": "2023-03-18T04:22:36.201870Z"
    },
    "papermill": {
     "duration": 0.066999,
     "end_time": "2023-03-18T04:22:36.205870",
     "exception": false,
     "start_time": "2023-03-18T04:22:36.138871",
     "status": "completed"
    },
    "tags": []
   },
   "outputs": [],
   "source": [
    "def top_set_sym_freq_cnt(top_set_syms_n_freq):\n",
    "    # accommodate upto 5 periods of days_lookbacks(i.e. days_lookbacks = [5, 10, 15, 20, 25])\n",
    "    sym_freq_cnt_15 = []\n",
    "    sym_freq_cnt_14 = []\n",
    "    sym_freq_cnt_13 = []\n",
    "    sym_freq_cnt_12 = []\n",
    "    sym_freq_cnt_11 = []\n",
    "    sym_freq_cnt_10 = []\n",
    "    sym_freq_cnt_9 = []\n",
    "    sym_freq_cnt_8 = []\n",
    "    sym_freq_cnt_7 = []\n",
    "    sym_freq_cnt_6 = []\n",
    "    sym_freq_cnt_5 = []\n",
    "    sym_freq_cnt_4 = []\n",
    "    sym_freq_cnt_3 = []\n",
    "    sym_freq_cnt_2 = []\n",
    "\n",
    "    for sym_n_freq in top_set_syms_n_freq:\n",
    "        _sym = sym_n_freq[0]\n",
    "        _freq = sym_n_freq[1]\n",
    "        if _freq == 15:\n",
    "            sym_freq_cnt_15.append(_sym)\n",
    "        elif _freq == 14:\n",
    "            sym_freq_cnt_14.append(_sym)\n",
    "        elif _freq == 13:\n",
    "            sym_freq_cnt_13.append(_sym)\n",
    "        elif _freq == 12:\n",
    "            sym_freq_cnt_12.append(_sym)                        \n",
    "        elif _freq == 11:\n",
    "            sym_freq_cnt_11.append(_sym)\n",
    "        elif _freq == 10:\n",
    "            sym_freq_cnt_10.append(_sym)            \n",
    "        elif _freq == 9:\n",
    "            sym_freq_cnt_9.append(_sym)\n",
    "        elif _freq == 8:\n",
    "            sym_freq_cnt_8.append(_sym)\n",
    "        elif _freq == 7:\n",
    "            sym_freq_cnt_7.append(_sym)  \n",
    "        elif _freq == 6:\n",
    "            sym_freq_cnt_6.append(_sym)\n",
    "        elif _freq == 5:\n",
    "            sym_freq_cnt_5.append(_sym)\n",
    "        elif _freq == 4:\n",
    "            sym_freq_cnt_4.append(_sym)\n",
    "        elif _freq == 3:\n",
    "            sym_freq_cnt_3.append(_sym)          \n",
    "        else:\n",
    "            sym_freq_cnt_2.append(_sym)\n",
    "\n",
    "    l_sym_freq_cnt = []\n",
    "\n",
    "    l_sym_freq_cnt.append(sym_freq_cnt_15)\n",
    "    l_sym_freq_cnt.append(sym_freq_cnt_14)\n",
    "    l_sym_freq_cnt.append(sym_freq_cnt_13)\n",
    "    l_sym_freq_cnt.append(sym_freq_cnt_12)    \n",
    "    l_sym_freq_cnt.append(sym_freq_cnt_11)   \n",
    "    l_sym_freq_cnt.append(sym_freq_cnt_10)\n",
    "    l_sym_freq_cnt.append(sym_freq_cnt_9)\n",
    "    l_sym_freq_cnt.append(sym_freq_cnt_8)\n",
    "    l_sym_freq_cnt.append(sym_freq_cnt_7)    \n",
    "    l_sym_freq_cnt.append(sym_freq_cnt_6)\n",
    "    l_sym_freq_cnt.append(sym_freq_cnt_5)\n",
    "    l_sym_freq_cnt.append(sym_freq_cnt_4)\n",
    "    l_sym_freq_cnt.append(sym_freq_cnt_3)    \n",
    "    l_sym_freq_cnt.append(sym_freq_cnt_2)    \n",
    "\n",
    "    return l_sym_freq_cnt    "
   ]
  },
  {
   "cell_type": "code",
   "execution_count": 2,
   "id": "75cf4658",
   "metadata": {
    "execution": {
     "iopub.execute_input": "2023-03-18T04:22:36.228871Z",
     "iopub.status.busy": "2023-03-18T04:22:36.227872Z",
     "iopub.status.idle": "2023-03-18T04:22:37.394872Z",
     "shell.execute_reply": "2023-03-18T04:22:37.393873Z"
    },
    "papermill": {
     "duration": 1.183003,
     "end_time": "2023-03-18T04:22:37.397874",
     "exception": false,
     "start_time": "2023-03-18T04:22:36.214871",
     "status": "completed"
    },
    "tags": []
   },
   "outputs": [],
   "source": [
    "import pandas as pd\n",
    "# import numpy as np\n",
    "import datetime\n",
    "# from IPython.display import display, HTML\n",
    "from yf_utils import _2_split_train_val_test, _3_random_slices, _4_lookback_slices\n",
    "from yf_utils import _5_perf_ranks, _6_grp_tuples_sort_sum\n",
    "from myUtils import pickle_load, pickle_dump\n",
    "\n",
    "pd.set_option('display.max_rows', 500)\n",
    "pd.set_option('display.max_columns', 30)\n",
    "pd.set_option('display.max_colwidth', 16)\n",
    "pd.set_option('display.width', 790)\n",
    "\n",
    "path_dir = \"C:/Users/ping/MyDrive/stocks/yfinance/\"\n",
    "path_data_dump = path_dir + \"VSCode_dump/\"\n",
    "\n",
    "fp_df_close_clean = 'df_close_clean'"
   ]
  },
  {
   "attachments": {},
   "cell_type": "markdown",
   "id": "c05e4db3",
   "metadata": {
    "papermill": {
     "duration": 0.009,
     "end_time": "2023-03-18T04:22:37.416872",
     "exception": false,
     "start_time": "2023-03-18T04:22:37.407872",
     "status": "completed"
    },
    "tags": []
   },
   "source": [
    "#### Check run results"
   ]
  },
  {
   "cell_type": "code",
   "execution_count": 3,
   "id": "3532176e",
   "metadata": {
    "execution": {
     "iopub.execute_input": "2023-03-18T04:22:37.437874Z",
     "iopub.status.busy": "2023-03-18T04:22:37.436874Z",
     "iopub.status.idle": "2023-03-18T04:22:37.456872Z",
     "shell.execute_reply": "2023-03-18T04:22:37.455881Z"
    },
    "papermill": {
     "duration": 0.033004,
     "end_time": "2023-03-18T04:22:37.459875",
     "exception": false,
     "start_time": "2023-03-18T04:22:37.426871",
     "status": "completed"
    },
    "tags": []
   },
   "outputs": [],
   "source": [
    "# df = pickle_load(path_data_dump, fp_df_eval_sym_freq_results_train)\n",
    "# df = pickle_load(path_data_dump, fp_df_eval_sym_freq_results_validate)\n",
    "# df = pickle_load(path_data_dump, fp_df_eval_results)\n",
    "# df = pickle_load(path_data_dump, fp_df_picks)\n",
    "# df"
   ]
  },
  {
   "attachments": {},
   "cell_type": "markdown",
   "id": "856358f5",
   "metadata": {
    "papermill": {
     "duration": 0.009001,
     "end_time": "2023-03-18T04:22:37.483872",
     "exception": false,
     "start_time": "2023-03-18T04:22:37.474871",
     "status": "completed"
    },
    "tags": []
   },
   "source": [
    "#### Select run parameters. Parameters can also be passed using papermill by running yf_7_freq_cnt_pm_.ipynb"
   ]
  },
  {
   "cell_type": "code",
   "execution_count": 4,
   "id": "81b1061d",
   "metadata": {
    "execution": {
     "iopub.execute_input": "2023-03-18T04:22:37.503870Z",
     "iopub.status.busy": "2023-03-18T04:22:37.502874Z",
     "iopub.status.idle": "2023-03-18T04:22:37.519872Z",
     "shell.execute_reply": "2023-03-18T04:22:37.518876Z"
    },
    "papermill": {
     "duration": 0.030002,
     "end_time": "2023-03-18T04:22:37.522874",
     "exception": false,
     "start_time": "2023-03-18T04:22:37.492872",
     "status": "completed"
    },
    "tags": [
     "parameters"
    ]
   },
   "outputs": [
    {
     "name": "stdout",
     "output_type": "stream",
     "text": [
      "verbose : True\n",
      "store_results: True\n",
      "run_type: train\n",
      "n_samples: 20\n",
      "days_lookbacks: [30, 60, 120]\n",
      "days_eval: 4\n",
      "n_top_syms: 20\n",
      "syms_start: 0\n",
      "syms_end: 10\n",
      "fp_df_eval_results: df_eval_results_train\n",
      "fp_df_picks: df_picks\n"
     ]
    }
   ],
   "source": [
    "# SELECT RUN PARAMETERS.async Parameters can also be passed using papermill by running yf_7_freq_cnt_pm_.ipynb\n",
    "verbose = True  # True prints more output\n",
    "# verbose = False  # True prints more output\n",
    "\n",
    "# write run results to df_eval_results\n",
    "# store_results = False\n",
    "store_results = True\n",
    "\n",
    "# select run type\n",
    "run_type = 'train'\n",
    "# run_type = 'validate'\n",
    "# run_type = 'test'\n",
    "# run_type = 'current'\n",
    "\n",
    "# number of max lookback tuples to create for iloc iloc_start_train:iloc_end_train:iloc_end_eval\n",
    "# i.e. number of grp_top_set_syms_n_freq and grp_top_set_syms \n",
    "# n_samples = 400  \n",
    "n_samples = 20\n",
    "\n",
    "# for training, the number of days to lookback from iloc max-lookback iloc_end_train\n",
    "days_lookbacks = [30, 60, 120]\n",
    "# days_lookbacks = [15, 30, 60, 120]\n",
    "days_lookbacks.sort()\n",
    "\n",
    "# number of days from iloc_end_train are used to evaluate effectiveness of the training\n",
    "days_eval = 4\n",
    "# days_eval = 5\n",
    "\n",
    "# number of the most-common symbols from days_lookbacks' performance rankings to keep\n",
    "n_top_syms = 20  \n",
    "\n",
    "syms_start = 0  #  start index of n_top_syms for evaluation\n",
    "syms_end = 10  #  end index of n_top_syms for evaluation\n",
    "\n",
    "# over-ride parameters for run_type 'current'\n",
    "if run_type == 'current':\n",
    "  days_eval = 0  # no need to eval, df_eval will be empty\n",
    "  n_samples = 1  # no need to repeat sample the current result, repeat sample will yield the same tuple\n",
    "\n",
    "\n",
    "fp_df_eval_results = f'df_eval_results_{run_type}'\n",
    "fp_df_picks = f'df_picks'\n",
    "\n",
    "print(f'verbose : {verbose }')\n",
    "print(f'store_results: {store_results}')\n",
    "print(f'run_type: {run_type}')\n",
    "print(f'n_samples: {n_samples}')\n",
    "print(f'days_lookbacks: {days_lookbacks}')\n",
    "print(f'days_eval: {days_eval}')\n",
    "print(f'n_top_syms: {n_top_syms}')\n",
    "print(f'syms_start: {syms_start}')\n",
    "print(f'syms_end: {syms_end}')\n",
    "print(f'fp_df_eval_results: {fp_df_eval_results}')\n",
    "print(f'fp_df_picks: {fp_df_picks}')"
   ]
  },
  {
   "cell_type": "code",
   "execution_count": 5,
   "id": "fcdc0115",
   "metadata": {
    "execution": {
     "iopub.execute_input": "2023-03-18T04:22:37.560872Z",
     "iopub.status.busy": "2023-03-18T04:22:37.559871Z",
     "iopub.status.idle": "2023-03-18T04:22:37.581874Z",
     "shell.execute_reply": "2023-03-18T04:22:37.580874Z"
    },
    "papermill": {
     "duration": 0.049998,
     "end_time": "2023-03-18T04:22:37.586875",
     "exception": false,
     "start_time": "2023-03-18T04:22:37.536877",
     "status": "completed"
    },
    "tags": [
     "injected-parameters"
    ]
   },
   "outputs": [],
   "source": [
    "# Parameters\n",
    "verbose = True\n",
    "store_results = True\n",
    "n_top_syms = 20\n",
    "syms_start = 0\n",
    "syms_end = 10\n",
    "run_type = \"current\"\n",
    "fp_df_eval_results = \"Not_Applicable\"\n",
    "n_samples = 1\n",
    "days_eval = 0\n",
    "days_lookbacks = [15]\n"
   ]
  },
  {
   "attachments": {},
   "cell_type": "markdown",
   "id": "67414bc1",
   "metadata": {
    "papermill": {
     "duration": 0.022999,
     "end_time": "2023-03-18T04:22:37.618871",
     "exception": false,
     "start_time": "2023-03-18T04:22:37.595872",
     "status": "completed"
    },
    "tags": []
   },
   "source": [
    "#### Load previous run results"
   ]
  },
  {
   "cell_type": "code",
   "execution_count": 6,
   "id": "efaaa52d",
   "metadata": {
    "execution": {
     "iopub.execute_input": "2023-03-18T04:22:37.638874Z",
     "iopub.status.busy": "2023-03-18T04:22:37.637874Z",
     "iopub.status.idle": "2023-03-18T04:22:37.659869Z",
     "shell.execute_reply": "2023-03-18T04:22:37.658871Z"
    },
    "papermill": {
     "duration": 0.036002,
     "end_time": "2023-03-18T04:22:37.661871",
     "exception": false,
     "start_time": "2023-03-18T04:22:37.625869",
     "status": "completed"
    },
    "tags": []
   },
   "outputs": [],
   "source": [
    "if run_type != 'current':\n",
    "  df_eval_results = pickle_load(path_data_dump, fp_df_eval_results)\n",
    "\n",
    "df_picks = pickle_load(path_data_dump, fp_df_picks)\n",
    "df_close_clean = pickle_load(path_data_dump, fp_df_close_clean)"
   ]
  },
  {
   "cell_type": "markdown",
   "id": "12a416ff",
   "metadata": {
    "papermill": {
     "duration": 0.010001,
     "end_time": "2023-03-18T04:22:37.686872",
     "exception": false,
     "start_time": "2023-03-18T04:22:37.676871",
     "status": "completed"
    },
    "tags": []
   },
   "source": [
    "#### Drop the last n row in df_close_clean to get previous picks"
   ]
  },
  {
   "cell_type": "code",
   "execution_count": 7,
   "id": "60f9d361",
   "metadata": {
    "execution": {
     "iopub.execute_input": "2023-03-18T04:22:37.708872Z",
     "iopub.status.busy": "2023-03-18T04:22:37.708872Z",
     "iopub.status.idle": "2023-03-18T04:22:37.723871Z",
     "shell.execute_reply": "2023-03-18T04:22:37.722871Z"
    },
    "papermill": {
     "duration": 0.028005,
     "end_time": "2023-03-18T04:22:37.726875",
     "exception": false,
     "start_time": "2023-03-18T04:22:37.698870",
     "status": "completed"
    },
    "tags": []
   },
   "outputs": [],
   "source": [
    "# # drop the last n row(s)\n",
    "# n = 1\n",
    "# df_close_clean = df_close_clean[:-n]\n",
    "# df_close_clean.tail(2)"
   ]
  },
  {
   "attachments": {},
   "cell_type": "markdown",
   "id": "c4fd9d7f",
   "metadata": {
    "papermill": {
     "duration": 0.007999,
     "end_time": "2023-03-18T04:22:37.743872",
     "exception": false,
     "start_time": "2023-03-18T04:22:37.735873",
     "status": "completed"
    },
    "tags": []
   },
   "source": [
    "#### Split dataframe into Train, Validate and Test"
   ]
  },
  {
   "cell_type": "code",
   "execution_count": 8,
   "id": "2ceb0bc4",
   "metadata": {
    "execution": {
     "iopub.execute_input": "2023-03-18T04:22:37.762871Z",
     "iopub.status.busy": "2023-03-18T04:22:37.762871Z",
     "iopub.status.idle": "2023-03-18T04:22:37.769871Z",
     "shell.execute_reply": "2023-03-18T04:22:37.768871Z"
    },
    "papermill": {
     "duration": 0.019,
     "end_time": "2023-03-18T04:22:37.771871",
     "exception": false,
     "start_time": "2023-03-18T04:22:37.752871",
     "status": "completed"
    },
    "tags": []
   },
   "outputs": [],
   "source": [
    "# Split df_close_clean into training (df_train), validation (df_val) and test (df_test) set.\n",
    "# The default split is 0.7, 0.2, 0.1 respectively.\n",
    "df_train, df_val, df_test = _2_split_train_val_test(df_close_clean)"
   ]
  },
  {
   "attachments": {},
   "cell_type": "markdown",
   "id": "bec0d10b",
   "metadata": {
    "papermill": {
     "duration": 0.023001,
     "end_time": "2023-03-18T04:22:37.803872",
     "exception": false,
     "start_time": "2023-03-18T04:22:37.780871",
     "status": "completed"
    },
    "tags": []
   },
   "source": [
    "#### Create df_current, a df with the latest data"
   ]
  },
  {
   "cell_type": "code",
   "execution_count": 9,
   "id": "9a5f798e",
   "metadata": {
    "execution": {
     "iopub.execute_input": "2023-03-18T04:22:37.828869Z",
     "iopub.status.busy": "2023-03-18T04:22:37.827870Z",
     "iopub.status.idle": "2023-03-18T04:22:37.881874Z",
     "shell.execute_reply": "2023-03-18T04:22:37.880876Z"
    },
    "papermill": {
     "duration": 0.071003,
     "end_time": "2023-03-18T04:22:37.885874",
     "exception": false,
     "start_time": "2023-03-18T04:22:37.814871",
     "status": "completed"
    },
    "tags": []
   },
   "outputs": [
    {
     "name": "stdout",
     "output_type": "stream",
     "text": [
      "max_days_lookbacks: 15\n"
     ]
    },
    {
     "data": {
      "text/html": [
       "<div>\n",
       "<style scoped>\n",
       "    .dataframe tbody tr th:only-of-type {\n",
       "        vertical-align: middle;\n",
       "    }\n",
       "\n",
       "    .dataframe tbody tr th {\n",
       "        vertical-align: top;\n",
       "    }\n",
       "\n",
       "    .dataframe thead th {\n",
       "        text-align: right;\n",
       "    }\n",
       "</style>\n",
       "<table border=\"1\" class=\"dataframe\">\n",
       "  <thead>\n",
       "    <tr style=\"text-align: right;\">\n",
       "      <th></th>\n",
       "      <th>A</th>\n",
       "      <th>AA</th>\n",
       "      <th>AAL</th>\n",
       "      <th>AAP</th>\n",
       "      <th>AAPL</th>\n",
       "      <th>AAWW</th>\n",
       "      <th>AB</th>\n",
       "      <th>ABB</th>\n",
       "      <th>ABBV</th>\n",
       "      <th>ABC</th>\n",
       "      <th>ABM</th>\n",
       "      <th>ABR</th>\n",
       "      <th>ABT</th>\n",
       "      <th>ACGL</th>\n",
       "      <th>ACHC</th>\n",
       "      <th>...</th>\n",
       "      <th>XRAY</th>\n",
       "      <th>XRX</th>\n",
       "      <th>XYL</th>\n",
       "      <th>YELP</th>\n",
       "      <th>YUMC</th>\n",
       "      <th>YY</th>\n",
       "      <th>ZBH</th>\n",
       "      <th>ZBRA</th>\n",
       "      <th>ZD</th>\n",
       "      <th>ZG</th>\n",
       "      <th>ZION</th>\n",
       "      <th>ZTO</th>\n",
       "      <th>ZTS</th>\n",
       "      <th>ZUMZ</th>\n",
       "      <th>ZWS</th>\n",
       "    </tr>\n",
       "    <tr>\n",
       "      <th>Date</th>\n",
       "      <th></th>\n",
       "      <th></th>\n",
       "      <th></th>\n",
       "      <th></th>\n",
       "      <th></th>\n",
       "      <th></th>\n",
       "      <th></th>\n",
       "      <th></th>\n",
       "      <th></th>\n",
       "      <th></th>\n",
       "      <th></th>\n",
       "      <th></th>\n",
       "      <th></th>\n",
       "      <th></th>\n",
       "      <th></th>\n",
       "      <th></th>\n",
       "      <th></th>\n",
       "      <th></th>\n",
       "      <th></th>\n",
       "      <th></th>\n",
       "      <th></th>\n",
       "      <th></th>\n",
       "      <th></th>\n",
       "      <th></th>\n",
       "      <th></th>\n",
       "      <th></th>\n",
       "      <th></th>\n",
       "      <th></th>\n",
       "      <th></th>\n",
       "      <th></th>\n",
       "      <th></th>\n",
       "    </tr>\n",
       "  </thead>\n",
       "  <tbody>\n",
       "    <tr>\n",
       "      <th>2023-03-14</th>\n",
       "      <td>138.399994</td>\n",
       "      <td>44.59</td>\n",
       "      <td>14.66</td>\n",
       "      <td>121.699997</td>\n",
       "      <td>152.589996</td>\n",
       "      <td>99.300003</td>\n",
       "      <td>35.709999</td>\n",
       "      <td>33.759998</td>\n",
       "      <td>153.850006</td>\n",
       "      <td>149.289993</td>\n",
       "      <td>44.570000</td>\n",
       "      <td>12.12</td>\n",
       "      <td>98.550003</td>\n",
       "      <td>67.339996</td>\n",
       "      <td>69.160004</td>\n",
       "      <td>...</td>\n",
       "      <td>38.130001</td>\n",
       "      <td>15.14</td>\n",
       "      <td>99.900002</td>\n",
       "      <td>29.260000</td>\n",
       "      <td>60.680000</td>\n",
       "      <td>27.469999</td>\n",
       "      <td>126.629997</td>\n",
       "      <td>292.459991</td>\n",
       "      <td>74.370003</td>\n",
       "      <td>39.610001</td>\n",
       "      <td>31.309999</td>\n",
       "      <td>26.270000</td>\n",
       "      <td>164.559998</td>\n",
       "      <td>20.43</td>\n",
       "      <td>21.379999</td>\n",
       "    </tr>\n",
       "    <tr>\n",
       "      <th>2023-03-15</th>\n",
       "      <td>134.029999</td>\n",
       "      <td>39.77</td>\n",
       "      <td>13.86</td>\n",
       "      <td>121.769997</td>\n",
       "      <td>152.990005</td>\n",
       "      <td>102.449997</td>\n",
       "      <td>35.080002</td>\n",
       "      <td>31.990000</td>\n",
       "      <td>154.059998</td>\n",
       "      <td>149.610001</td>\n",
       "      <td>44.250000</td>\n",
       "      <td>11.53</td>\n",
       "      <td>97.800003</td>\n",
       "      <td>62.740002</td>\n",
       "      <td>68.459999</td>\n",
       "      <td>...</td>\n",
       "      <td>37.209999</td>\n",
       "      <td>15.00</td>\n",
       "      <td>96.550003</td>\n",
       "      <td>29.170000</td>\n",
       "      <td>60.439999</td>\n",
       "      <td>27.070000</td>\n",
       "      <td>125.260002</td>\n",
       "      <td>287.739990</td>\n",
       "      <td>73.779999</td>\n",
       "      <td>39.919998</td>\n",
       "      <td>30.709999</td>\n",
       "      <td>25.940001</td>\n",
       "      <td>163.570007</td>\n",
       "      <td>19.50</td>\n",
       "      <td>20.980000</td>\n",
       "    </tr>\n",
       "    <tr>\n",
       "      <th>2023-03-16</th>\n",
       "      <td>136.820007</td>\n",
       "      <td>40.75</td>\n",
       "      <td>14.12</td>\n",
       "      <td>122.029999</td>\n",
       "      <td>155.850006</td>\n",
       "      <td>102.459999</td>\n",
       "      <td>35.310001</td>\n",
       "      <td>32.549999</td>\n",
       "      <td>155.300003</td>\n",
       "      <td>152.050003</td>\n",
       "      <td>44.790001</td>\n",
       "      <td>11.50</td>\n",
       "      <td>99.029999</td>\n",
       "      <td>66.070000</td>\n",
       "      <td>70.230003</td>\n",
       "      <td>...</td>\n",
       "      <td>37.439999</td>\n",
       "      <td>15.20</td>\n",
       "      <td>97.160004</td>\n",
       "      <td>29.780001</td>\n",
       "      <td>60.980000</td>\n",
       "      <td>28.000000</td>\n",
       "      <td>125.430000</td>\n",
       "      <td>294.929993</td>\n",
       "      <td>74.510002</td>\n",
       "      <td>40.849998</td>\n",
       "      <td>32.110001</td>\n",
       "      <td>28.000000</td>\n",
       "      <td>166.309998</td>\n",
       "      <td>19.25</td>\n",
       "      <td>20.969999</td>\n",
       "    </tr>\n",
       "  </tbody>\n",
       "</table>\n",
       "<p>3 rows × 1290 columns</p>\n",
       "</div>"
      ],
      "text/plain": [
       "                     A     AA    AAL         AAP        AAPL        AAWW         AB        ABB        ABBV         ABC        ABM    ABR        ABT       ACGL       ACHC  ...       XRAY    XRX        XYL       YELP       YUMC         YY         ZBH        ZBRA         ZD         ZG       ZION        ZTO         ZTS   ZUMZ        ZWS\n",
       "Date                                                                                                                                                                       ...                                                                                                                                                                \n",
       "2023-03-14  138.399994  44.59  14.66  121.699997  152.589996   99.300003  35.709999  33.759998  153.850006  149.289993  44.570000  12.12  98.550003  67.339996  69.160004  ...  38.130001  15.14  99.900002  29.260000  60.680000  27.469999  126.629997  292.459991  74.370003  39.610001  31.309999  26.270000  164.559998  20.43  21.379999\n",
       "2023-03-15  134.029999  39.77  13.86  121.769997  152.990005  102.449997  35.080002  31.990000  154.059998  149.610001  44.250000  11.53  97.800003  62.740002  68.459999  ...  37.209999  15.00  96.550003  29.170000  60.439999  27.070000  125.260002  287.739990  73.779999  39.919998  30.709999  25.940001  163.570007  19.50  20.980000\n",
       "2023-03-16  136.820007  40.75  14.12  122.029999  155.850006  102.459999  35.310001  32.549999  155.300003  152.050003  44.790001  11.50  99.029999  66.070000  70.230003  ...  37.439999  15.20  97.160004  29.780001  60.980000  28.000000  125.430000  294.929993  74.510002  40.849998  32.110001  28.000000  166.309998  19.25  20.969999\n",
       "\n",
       "[3 rows x 1290 columns]"
      ]
     },
     "execution_count": 9,
     "metadata": {},
     "output_type": "execute_result"
    }
   ],
   "source": [
    "max_days_lookbacks = max(days_lookbacks)\n",
    "print(f'max_days_lookbacks: {max_days_lookbacks}')\n",
    "df_current = df_test.tail(max_days_lookbacks)  \n",
    "df_current.tail(3)"
   ]
  },
  {
   "attachments": {},
   "cell_type": "markdown",
   "id": "73b69c3a",
   "metadata": {
    "papermill": {
     "duration": 0.012999,
     "end_time": "2023-03-18T04:22:37.906870",
     "exception": false,
     "start_time": "2023-03-18T04:22:37.893871",
     "status": "completed"
    },
    "tags": []
   },
   "source": [
    "#### Load df according to run_type"
   ]
  },
  {
   "cell_type": "code",
   "execution_count": 10,
   "id": "6563e7fa",
   "metadata": {
    "execution": {
     "iopub.execute_input": "2023-03-18T04:22:37.936875Z",
     "iopub.status.busy": "2023-03-18T04:22:37.936875Z",
     "iopub.status.idle": "2023-03-18T04:22:37.945874Z",
     "shell.execute_reply": "2023-03-18T04:22:37.944873Z"
    },
    "papermill": {
     "duration": 0.031005,
     "end_time": "2023-03-18T04:22:37.948877",
     "exception": false,
     "start_time": "2023-03-18T04:22:37.917872",
     "status": "completed"
    },
    "tags": []
   },
   "outputs": [],
   "source": [
    "if run_type == 'train':\n",
    "  df = df_train.copy()    \n",
    "elif run_type == 'validate':\n",
    "  df = df_val.copy()\n",
    "elif run_type == 'test':\n",
    "  df = df_test.copy()\n",
    "elif run_type == 'current':  # get the current results\n",
    "  df = df_current.copy()\n",
    "else:\n",
    "  msg_stop = f\"ERROR run_type must be 'train', 'validate', 'test' or 'current', run_type is: {run_type}\"\n",
    "  raise SystemExit(msg_stop )  "
   ]
  },
  {
   "attachments": {},
   "cell_type": "markdown",
   "id": "6acb331f",
   "metadata": {
    "papermill": {
     "duration": 0.010001,
     "end_time": "2023-03-18T04:22:37.971873",
     "exception": false,
     "start_time": "2023-03-18T04:22:37.961872",
     "status": "completed"
    },
    "tags": []
   },
   "source": [
    "#### Print dataframe for the run, and lengths of other dataframes"
   ]
  },
  {
   "cell_type": "code",
   "execution_count": 11,
   "id": "b7727177",
   "metadata": {
    "execution": {
     "iopub.execute_input": "2023-03-18T04:22:38.005871Z",
     "iopub.status.busy": "2023-03-18T04:22:38.005871Z",
     "iopub.status.idle": "2023-03-18T04:22:38.039874Z",
     "shell.execute_reply": "2023-03-18T04:22:38.038873Z"
    },
    "papermill": {
     "duration": 0.060004,
     "end_time": "2023-03-18T04:22:38.042878",
     "exception": false,
     "start_time": "2023-03-18T04:22:37.982874",
     "status": "completed"
    },
    "tags": []
   },
   "outputs": [
    {
     "name": "stdout",
     "output_type": "stream",
     "text": [
      "run_type: current, df.tail(3):\n",
      "                     A     AA    AAL         AAP        AAPL        AAWW         AB        ABB        ABBV         ABC        ABM    ABR        ABT       ACGL       ACHC  ...       XRAY    XRX        XYL       YELP       YUMC         YY         ZBH        ZBRA         ZD         ZG       ZION        ZTO         ZTS   ZUMZ        ZWS\n",
      "Date                                                                                                                                                                       ...                                                                                                                                                                \n",
      "2023-03-14  138.399994  44.59  14.66  121.699997  152.589996   99.300003  35.709999  33.759998  153.850006  149.289993  44.570000  12.12  98.550003  67.339996  69.160004  ...  38.130001  15.14  99.900002  29.260000  60.680000  27.469999  126.629997  292.459991  74.370003  39.610001  31.309999  26.270000  164.559998  20.43  21.379999\n",
      "2023-03-15  134.029999  39.77  13.86  121.769997  152.990005  102.449997  35.080002  31.990000  154.059998  149.610001  44.250000  11.53  97.800003  62.740002  68.459999  ...  37.209999  15.00  96.550003  29.170000  60.439999  27.070000  125.260002  287.739990  73.779999  39.919998  30.709999  25.940001  163.570007  19.50  20.980000\n",
      "2023-03-16  136.820007  40.75  14.12  122.029999  155.850006  102.459999  35.310001  32.549999  155.300003  152.050003  44.790001  11.50  99.029999  66.070000  70.230003  ...  37.439999  15.20  97.160004  29.780001  60.980000  28.000000  125.430000  294.929993  74.510002  40.849998  32.110001  28.000000  166.309998  19.25  20.969999\n",
      "\n",
      "[3 rows x 1290 columns]\n"
     ]
    },
    {
     "name": "stdout",
     "output_type": "stream",
     "text": [
      "\n",
      "run_type: current, len(df): 15\n",
      "len_df_train: 1050, len_df_val: 300, len_df_test: 150, len_df_current: 15 \n"
     ]
    }
   ],
   "source": [
    "print(f'run_type: {run_type}, df.tail(3):\\n{df.tail(3)}\\n')\n",
    "len_df = len(df)\n",
    "len_df_train = len(df_train)\n",
    "len_df_val = len(df_val)\n",
    "len_df_test = len(df_test)\n",
    "len_df_current = len(df_current)\n",
    "print(f'run_type: {run_type}, len(df): {len(df)}')\n",
    "print(f'len_df_train: {len_df_train}, len_df_val: {len_df_val}, len_df_test: {len_df_test}, len_df_current: {len_df_current} ')\n"
   ]
  },
  {
   "attachments": {},
   "cell_type": "markdown",
   "id": "a675b1b4",
   "metadata": {
    "papermill": {
     "duration": 0.009999,
     "end_time": "2023-03-18T04:22:38.064871",
     "exception": false,
     "start_time": "2023-03-18T04:22:38.054872",
     "status": "completed"
    },
    "tags": []
   },
   "source": [
    "#### Create a sets of iloc lookback slices (iloc_start_train:iloc_end_train:iloc_end_eval), where:  \n",
    "* iloc_end_train - iloc_start_train = days_lookback\n",
    "* iloc_end_eval - iloc_end_train = days_eval  \n",
    "#### for example, if given:  \n",
    "* n_samples = 2  \n",
    "* days_lookbacks = [10, 20, 30]  \n",
    "* days_eval = 5  \n",
    "#### a possible result is:  \n",
    "  - max_lookback_slices: [(417, 447, 452), (265, 295, 300)], where:\n",
    "    - len(max_lookback_slices) = n_samples = 2\n",
    "    - middle number in the tuples, 447 and 295, is the iloc of the \"pivot day\" for the days in \"days_lookbacks\" to lookback\n",
    "    - 447 - 417 = middle number - first number = max(days_lookbacks) = 30\n",
    "    - 295 - 265 = middle number - first number = max(days_lookbacks) = 30      \n",
    "    - 452 - 447 = last number - middle number = days_eval = 5\n",
    "    - 300 - 295 = last number - middle number = days_eval = 5    \n",
    "  - sets_lookback_slices: [[(437, 447, 452), (427, 447, 452), (417, 447, 452)], [(285, 295, 300), (275, 295, 300), (265, 295, 300)]], where:\n",
    "    - len(sets_lookback_slices) = n_samples = 2\n",
    "    - last tuple in each list, i.e. (417, 447, 452) and (265, 295, 300), is a tuple from max_lookback_slices\n",
    "    - where a set, e.g. [(437, 447, 452), (427, 447, 452), (417, 447, 452)]:\n",
    "      - middle number, 447, iloc of the \"pivot day\" is constant for that set\n",
    "      - middle number - first number, is the training period specified in days_lookbacks\n",
    "        - 447 - 437 = middle number - first number = days_lookbacks[0] = 10\n",
    "        - 447 - 427 = middle number - first number = days_lookbacks[1] = 20\n",
    "        - 447 - 417 = middle number - first number = days_lookbacks[2] = 30\n",
    "      - last number, 452, iloc of the end of the evaluation period is constant\n",
    "        - 452 - 447 = last number - middle number = days_eval = 5"
   ]
  },
  {
   "cell_type": "code",
   "execution_count": 12,
   "id": "a9fe3cf7",
   "metadata": {
    "execution": {
     "iopub.execute_input": "2023-03-18T04:22:38.089872Z",
     "iopub.status.busy": "2023-03-18T04:22:38.089872Z",
     "iopub.status.idle": "2023-03-18T04:22:38.103872Z",
     "shell.execute_reply": "2023-03-18T04:22:38.102873Z"
    },
    "papermill": {
     "duration": 0.033004,
     "end_time": "2023-03-18T04:22:38.106876",
     "exception": false,
     "start_time": "2023-03-18T04:22:38.073872",
     "status": "completed"
    },
    "tags": []
   },
   "outputs": [
    {
     "name": "stdout",
     "output_type": "stream",
     "text": [
      "number of max_lookback_slices is equal to n_samples = 1\n",
      "max_lookback_slices:\n",
      "[(0, 15, 15)]\n",
      "\n",
      "days_lookbacks: [15]\n",
      "sets_lookback_slices:\n",
      "[[(0, 15, 15)]]\n",
      "\n",
      "number of sets in sets_lookback_slices is equal to n_samples = 1\n",
      "number of tuples in each \"set of lookback slices\" is equal to len(days_lookbacks): 1\n"
     ]
    }
   ],
   "source": [
    "# return n_samples slices\n",
    "max_lookback_slices = _3_random_slices(len_df, n_samples=n_samples, days_lookback=max(days_lookbacks), days_eval=days_eval, verbose=False)\n",
    "# return n_samples * len(days_lookbacks) slices\n",
    "sets_lookback_slices = _4_lookback_slices(max_slices=max_lookback_slices, days_lookbacks=days_lookbacks, verbose=False)\n",
    "\n",
    "if verbose:\n",
    "  print(f'number of max_lookback_slices is equal to n_samples = {n_samples}')\n",
    "  print(f'max_lookback_slices:\\n{max_lookback_slices}\\n')\n",
    "  print(f'days_lookbacks: {days_lookbacks}')  \n",
    "  print(f'sets_lookback_slices:\\n{sets_lookback_slices}\\n')\n",
    "  print(f'number of sets in sets_lookback_slices is equal to n_samples = {n_samples}')\n",
    "  print(f'number of tuples in each \"set of lookback slices\" is equal to len(days_lookbacks): {len(days_lookbacks)}')    "
   ]
  },
  {
   "attachments": {},
   "cell_type": "markdown",
   "id": "80084cb1",
   "metadata": {
    "papermill": {
     "duration": 0.008996,
     "end_time": "2023-03-18T04:22:38.127869",
     "exception": false,
     "start_time": "2023-03-18T04:22:38.118873",
     "status": "completed"
    },
    "tags": []
   },
   "source": [
    "#### Generate grp_top_set_syms_n_freq. It is a list of sub-lists, e.g.:\n",
    " - [[('AGY', 7), ('PCG', 7), ('KDN', 6), ..., ('CYT', 3)], ..., [('FCN', 9), ('HIG', 9), ('SJR', 8), ..., ('BFH', 2)]]\n",
    "#### grp_top_set_syms_n_freq has n_samples sub-lists. Each sub-list corresponds to a tuple in the max_lookback_slices. Each sub-list has n_top_syms tuples of (symbol, frequency) pairs, and is sorted in descending order of frequency. The frequency is the number of times the symbol appears in the top n_top_syms performance rankings of CAGR/UI, CAGR/retnStd and retnStd/UI.\n",
    "#### Therefore, symbols in the sub-list are the best performing symbols for the periods in days_lookbacks. Each sub-list corresponds to a tuple in max_lookback_slices. There are as many sub-lists as there are tuples in max_lookback_slices."
   ]
  },
  {
   "cell_type": "code",
   "execution_count": 13,
   "id": "78f24c7d",
   "metadata": {
    "execution": {
     "iopub.execute_input": "2023-03-18T04:22:38.173872Z",
     "iopub.status.busy": "2023-03-18T04:22:38.172872Z",
     "iopub.status.idle": "2023-03-18T04:22:38.419874Z",
     "shell.execute_reply": "2023-03-18T04:22:38.418872Z"
    },
    "papermill": {
     "duration": 0.262001,
     "end_time": "2023-03-18T04:22:38.422872",
     "exception": false,
     "start_time": "2023-03-18T04:22:38.160871",
     "status": "completed"
    },
    "tags": []
   },
   "outputs": [
    {
     "name": "stdout",
     "output_type": "stream",
     "text": [
      "\n",
      "########## 1 of 1 lb_slices in sets_lookcak_slices ##########\n",
      "days lookback:       15,  1 of 1 days_lookbacks: [15]\n",
      "lb_slices:           [(0, 15, 15)]\n",
      "lb_slice:            (0, 15, 15)\n",
      "days eval:           0\n",
      "iloc_start_train:    0\n",
      "iloc_end_train:      15\n",
      "date_start_df_train: 2023-02-24\n",
      "date_end_df_train:   2023-03-16\n"
     ]
    },
    {
     "name": "stdout",
     "output_type": "stream",
     "text": [
      "perf_ranks: {'period-15': {'r_CAGR/UI': array(['HY', 'ANET', 'MLR', 'AMD', 'FSLR', 'SGEN', 'INTC', 'META', 'CMG',\n",
      "       'MYGN', 'NTRA', 'ZTO', 'SRPT', 'TAK', 'AU', 'BEP', 'FIZZ', 'LEN',\n",
      "       'PCH', 'GE'], dtype=object), 'r_CAGR/retnStd': array(['HY', 'MYGN', 'FSLR', 'AMD', 'MLR', 'ANET', 'INTC', 'SGEN', 'META',\n",
      "       'NTRA', 'SRPT', 'CMG', 'AU', 'GOOG', 'BPMC', 'ZTO', 'FIZZ', 'CRM',\n",
      "       'SSYS', 'MSFT'], dtype=object), 'r_retnStd/UI': array(['CMG', 'ANET', 'TAK', 'ZTO', 'MLR', 'SGEN', 'META', 'LEN', 'BEP',\n",
      "       'AMD', 'INTC', 'FTSM', 'KR', 'GE', 'PCH', 'IRBT', 'FSLR', 'FCN',\n",
      "       'CDNS', 'AVGO'], dtype=object)}}\n",
      "most_freq_syms: [('ANET', 3), ('MLR', 3), ('AMD', 3), ('FSLR', 3), ('SGEN', 3), ('INTC', 3), ('META', 3), ('CMG', 3), ('ZTO', 3), ('HY', 2), ('MYGN', 2), ('NTRA', 2), ('SRPT', 2), ('TAK', 2), ('AU', 2), ('BEP', 2), ('FIZZ', 2), ('LEN', 2), ('PCH', 2), ('GE', 2), ('GOOG', 1), ('BPMC', 1), ('CRM', 1), ('SSYS', 1), ('MSFT', 1), ('FTSM', 1), ('KR', 1), ('IRBT', 1), ('FCN', 1), ('CDNS', 1), ('AVGO', 1)]\n",
      "+++ finish lookback slice 15 +++\n",
      "\n",
      "grp_most_freq_syms: [[('ANET', 3), ('MLR', 3), ('AMD', 3), ('FSLR', 3), ('SGEN', 3), ('INTC', 3), ('META', 3), ('CMG', 3), ('ZTO', 3), ('HY', 2), ('MYGN', 2), ('NTRA', 2), ('SRPT', 2), ('TAK', 2), ('AU', 2), ('BEP', 2), ('FIZZ', 2), ('LEN', 2), ('PCH', 2), ('GE', 2), ('GOOG', 1), ('BPMC', 1), ('CRM', 1), ('SSYS', 1), ('MSFT', 1), ('FTSM', 1), ('KR', 1), ('IRBT', 1), ('FCN', 1), ('CDNS', 1), ('AVGO', 1)]]\n",
      "**** finish lookback slices [(0, 15, 15)] ****\n",
      "\n",
      "top 20 ranked symbols and frequency from set [(0, 15, 15)]:\n",
      "[('AMD', 3), ('ANET', 3), ('CMG', 3), ('FSLR', 3), ('INTC', 3), ('META', 3), ('MLR', 3), ('SGEN', 3), ('ZTO', 3), ('AU', 2), ('BEP', 2), ('FIZZ', 2), ('GE', 2), ('HY', 2), ('LEN', 2), ('MYGN', 2), ('NTRA', 2), ('PCH', 2), ('SRPT', 2), ('TAK', 2)]\n",
      "top 20 ranked symbols from set [(0, 15, 15)]:\n",
      "['AMD', 'ANET', 'CMG', 'FSLR', 'INTC', 'META', 'MLR', 'SGEN', 'ZTO', 'AU']\n",
      "===== finish top 20 ranked symbols from days_lookback set [(0, 15, 15)] =====\n",
      "\n",
      "\n"
     ]
    }
   ],
   "source": [
    "# grp_top_set_syms_n_freq is a list of lists of top_set_syms_n_freq, e.g.\n",
    "#   [[('AGY', 7), ('PCG', 7), ('KDN', 6), ..., ('CYT', 3)],\n",
    "#    [('FCN', 9), ('HIG', 9), ('SJR', 8), ..., ('BFH', 2)]]\n",
    "#   where each list is the best performing symbols from a lb_slices, e.g.\n",
    "#     [(483, 513, 523), (453, 513, 523), (393, 513, 523)]  \n",
    "grp_top_set_syms_n_freq = []  # list of lists of top_set_symbols_n_freq, there are n_samples lists in list\n",
    "grp_top_set_syms = []  # grp_top_set_syms_n_freq without the frequency count\n",
    "\n",
    "# lb_slices, e.g  [(483, 513, 523), (453, 513, 523), (393, 513, 523)],\n",
    "#  is one max_lookback_slice, e.g. (393, 513, 523), along with\n",
    "#  the remaining slices of the days_lookbacks, e.g. (483, 513, 523), (453, 513, 523)  \n",
    "for i, lb_slices in enumerate(sets_lookback_slices):\n",
    "  print(f'\\n########## {i + 1} of {len(sets_lookback_slices)} lb_slices in sets_lookcak_slices ##########')\n",
    "  # unsorted list of the most frequent symbols in performance metrics of the lb_slices  \n",
    "  grp_most_freq_syms = []\n",
    "  for j, lb_slice in enumerate(lb_slices):  # lb_slice, e.g. (246, 276, 286)\n",
    "    iloc_start_train = lb_slice[0]     # iloc of start of training period\n",
    "    iloc_end_train   = lb_slice[1]     # iloc of end of training period\n",
    "    iloc_start_eval  = iloc_end_train  # iloc of start of evaluation period\n",
    "    iloc_end_eval    = lb_slice[2]     # iloc of end of evaluation period\n",
    "    lookback         = iloc_end_train - iloc_start_train\n",
    "    d_eval           = iloc_end_eval - iloc_start_eval\n",
    "\n",
    "    _df = df.iloc[iloc_start_train:iloc_end_train]\n",
    "    date_start_df_train = _df.index[0].strftime('%Y-%m-%d')\n",
    "    date_end_df_train = _df.index[-1].strftime('%Y-%m-%d')\n",
    "\n",
    "    if verbose:\n",
    "      print(f'days lookback:       {lookback},  {j + 1} of {len(days_lookbacks)} days_lookbacks: {days_lookbacks}')\n",
    "      print(f'lb_slices:           {lb_slices}')\n",
    "      print(f'lb_slice:            {lb_slice}')\n",
    "      print(f'days eval:           {d_eval}')    \n",
    "      print(f'iloc_start_train:    {iloc_start_train}')\n",
    "      print(f'iloc_end_train:      {iloc_end_train}')\n",
    "      print(f'date_start_df_train: {date_start_df_train}')\n",
    "      print(f'date_end_df_train:   {date_end_df_train}')\n",
    "\n",
    "\n",
    "    perf_ranks, most_freq_syms = _5_perf_ranks(_df, n_top_syms=n_top_syms)\n",
    "    # unsorted list of the most frequent symbols in performance metrics of the lb_slices  \n",
    "    grp_most_freq_syms.append(most_freq_syms)  \n",
    "    if verbose:    \n",
    "      # 1 lookback of r_CAGR/UI, r_CAGR/retnStd, r_retnStd/UI\n",
    "      print(f'perf_ranks: {perf_ranks}')  \n",
    "      # most common symbols of perf_ranks \n",
    "      print(f'most_freq_syms: {most_freq_syms}')     \n",
    "      # grp_perf_ranks[lookback] = perf_ranks\n",
    "      print(f'+++ finish lookback slice {lookback} +++\\n')\n",
    "\n",
    "  if verbose:\n",
    "    print(f'grp_most_freq_syms: {grp_most_freq_syms}')\n",
    "    # grp_most_freq_syms a is list of lists of tuples of \n",
    "    #  the most-common-symbols symbol:frequency cumulated from\n",
    "    #  each days_lookback  \n",
    "    print(f'**** finish lookback slices {lb_slices} ****\\n')\n",
    "\n",
    "  # flatten list of lists of (symbol:frequency)\n",
    "  flat_grp_most_freq_syms = [val for sublist in grp_most_freq_syms for val in sublist]\n",
    "  # return \"symbol, frequency\" pairs of the most frequent symbols, i.e. best performing symbols,\n",
    "  #  in flat_grp_most_freq_syms. The paris are sorted in descending frequency.   \n",
    "  set_most_freq_syms = _6_grp_tuples_sort_sum(flat_grp_most_freq_syms, reverse=True)\n",
    "  # get the top n_top_syms of the most frequent \"symbol, frequency\" pairs\n",
    "  top_set_syms_n_freq = set_most_freq_syms[0:n_top_syms]\n",
    "  # get symbols from top_set_syms_n_freq, i[0] = symbol, i[1]=symbol's frequency count\n",
    "  top_set_syms = [i[0] for i in top_set_syms_n_freq[syms_start:syms_end]]  \n",
    "\n",
    "  # grp_top_set_syms_n_freq is a list of lists of top_set_syms_n_freq, e.g.\n",
    "  #   [[('AGY', 7), ('PCG', 7), ('KDN', 6), ..., ('CYT', 3)],\n",
    "  #    [('FCN', 9), ('HIG', 9), ('SJR', 8), ..., ('BFH', 2)]]\n",
    "  #   where each list is the best performing symbols from a lb_slices, e.g.\n",
    "  #     [(483, 513, 523), (453, 513, 523), (393, 513, 523)]    \n",
    "  grp_top_set_syms_n_freq.append(top_set_syms_n_freq)\n",
    "  grp_top_set_syms.append(top_set_syms)\n",
    "\n",
    "  if verbose:  \n",
    "    print(f'top {n_top_syms} ranked symbols and frequency from set {lb_slices}:\\n{top_set_syms_n_freq}')\n",
    "    print(f'top {n_top_syms} ranked symbols from set {lb_slices}:\\n{top_set_syms}')  \n",
    "    print(f'===== finish top {n_top_syms} ranked symbols from days_lookback set {lb_slices} =====\\n\\n')"
   ]
  },
  {
   "attachments": {},
   "cell_type": "markdown",
   "id": "d7963945",
   "metadata": {
    "papermill": {
     "duration": 0.009003,
     "end_time": "2023-03-18T04:22:38.440873",
     "exception": false,
     "start_time": "2023-03-18T04:22:38.431870",
     "status": "completed"
    },
    "tags": []
   },
   "source": [
    "#### Output the best performing symbols for each set in sets_lookback_slices"
   ]
  },
  {
   "cell_type": "code",
   "execution_count": 14,
   "id": "312373b7",
   "metadata": {
    "execution": {
     "iopub.execute_input": "2023-03-18T04:22:38.494871Z",
     "iopub.status.busy": "2023-03-18T04:22:38.493872Z",
     "iopub.status.idle": "2023-03-18T04:22:38.513871Z",
     "shell.execute_reply": "2023-03-18T04:22:38.512870Z"
    },
    "papermill": {
     "duration": 0.066001,
     "end_time": "2023-03-18T04:22:38.515873",
     "exception": false,
     "start_time": "2023-03-18T04:22:38.449872",
     "status": "completed"
    },
    "tags": []
   },
   "outputs": [
    {
     "name": "stdout",
     "output_type": "stream",
     "text": [
      "set_lookback_slices: [(0, 15, 15)]\n",
      "max_lookback_slices: [(0, 15, 15)]\n",
      "\n",
      "data below will be added to df_picks\n",
      "date_end_df_train:   2023-03-16\n",
      "max_days_lookbacks:  15\n",
      "days_lookbacks:      [15]\n",
      "sym_freq_15:         []\n",
      "sym_freq_14:         []\n",
      "sym_freq_13:         []\n",
      "sym_freq_12:         []\n",
      "sym_freq_11:         []\n",
      "sym_freq_10:         []\n",
      "sym_freq_9:          []\n",
      "sym_freq_8:          []\n",
      "sym_freq_7:          []\n",
      "sym_freq_6:          []\n",
      "sym_freq_5:          []\n",
      "sym_freq_4:          []\n",
      "sym_freq_3:          ['AMD', 'ANET', 'CMG', 'FSLR', 'INTC', 'META', 'MLR', 'SGEN', 'ZTO']\n",
      "sym_freq_2:          ['AU', 'BEP', 'FIZZ', 'GE', 'HY', 'LEN', 'MYGN', 'NTRA', 'PCH', 'SRPT', 'TAK']\n",
      "\n",
      "row_picks_total: ['2023-03-16', 15, '[15]', '[]', '[]', '[]', '[]', '[]', '[]', '[]', '[]', '[]', '[]', '[]', '[]', \"['AMD', 'ANET', 'CMG', 'FSLR', 'INTC', 'META', 'MLR', 'SGEN', 'ZTO']\", \"['AU', 'BEP', 'FIZZ', 'GE', 'HY', 'LEN', 'MYGN', 'NTRA', 'PCH', 'SRPT', 'TAK']\"]\n",
      "appended row_picks_total to df_picks:\n",
      "['2023-03-16', 15, '[15]', '[]', '[]', '[]', '[]', '[]', '[]', '[]', '[]', '[]', '[]', '[]', '[]', \"['AMD', 'ANET', 'CMG', 'FSLR', 'INTC', 'META', 'MLR', 'SGEN', 'ZTO']\", \"['AU', 'BEP', 'FIZZ', 'GE', 'HY', 'LEN', 'MYGN', 'NTRA', 'PCH', 'SRPT', 'TAK']\"]\n",
      "\n"
     ]
    }
   ],
   "source": [
    "for i, top_set_syms_n_freq in enumerate(grp_top_set_syms_n_freq):\n",
    "  l_sym_freq_cnt = top_set_sym_freq_cnt(top_set_syms_n_freq)\n",
    "  if verbose:\n",
    "    print(f'set_lookback_slices: {sets_lookback_slices[i]}')\n",
    "    print(f'max_lookback_slices: {max_lookback_slices}\\n')\n",
    "\n",
    "    if run_type == 'current':\n",
    "      print(f'data below will be added to {fp_df_picks}')\n",
    " \n",
    "    print(f'date_end_df_train:   {date_end_df_train}')    \n",
    "    print(f'max_days_lookbacks:  {max_days_lookbacks}')   \n",
    "    print(f'days_lookbacks:      {days_lookbacks}')\n",
    "    print(f'sym_freq_15:         {l_sym_freq_cnt[0]}')\n",
    "    print(f'sym_freq_14:         {l_sym_freq_cnt[1]}')\n",
    "    print(f'sym_freq_13:         {l_sym_freq_cnt[2]}')\n",
    "    print(f'sym_freq_12:         {l_sym_freq_cnt[3]}')\n",
    "    print(f'sym_freq_11:         {l_sym_freq_cnt[4]}')\n",
    "    print(f'sym_freq_10:         {l_sym_freq_cnt[5]}')\n",
    "    print(f'sym_freq_9:          {l_sym_freq_cnt[6]}')\n",
    "    print(f'sym_freq_8:          {l_sym_freq_cnt[7]}')\n",
    "    print(f'sym_freq_7:          {l_sym_freq_cnt[8]}')\n",
    "    print(f'sym_freq_6:          {l_sym_freq_cnt[9]}')\n",
    "    print(f'sym_freq_5:          {l_sym_freq_cnt[10]}')\n",
    "    print(f'sym_freq_4:          {l_sym_freq_cnt[11]}')\n",
    "    print(f'sym_freq_3:          {l_sym_freq_cnt[12]}')\n",
    "    print(f'sym_freq_2:          {l_sym_freq_cnt[13]}\\n')\n",
    "\n",
    "if run_type == 'current':  # record results to df\n",
    "  row_picks0      = [date_end_df_train, max_days_lookbacks, str(days_lookbacks)]\n",
    "  row_picks1      = [str(l_sym_freq_cnt[0]),  str(l_sym_freq_cnt[1]), str(l_sym_freq_cnt[2]),  str(l_sym_freq_cnt[3])]\n",
    "  row_picks2      = [str(l_sym_freq_cnt[4]),  str(l_sym_freq_cnt[5]), str(l_sym_freq_cnt[6]),  str(l_sym_freq_cnt[7])]\n",
    "  row_picks3      = [str(l_sym_freq_cnt[8]),  str(l_sym_freq_cnt[9]), str(l_sym_freq_cnt[10]), str(l_sym_freq_cnt[11])]\n",
    "  row_picks4      = [str(l_sym_freq_cnt[12]), str(l_sym_freq_cnt[13])]\n",
    "  row_picks_total = row_picks0 + row_picks1 + row_picks2 + row_picks3 + row_picks4\n",
    "  print(f'row_picks_total: {row_picks_total}')\n",
    "\n",
    "  df_picks.loc[len(df_picks)] = row_picks_total\n",
    "  pickle_dump(df_picks, path_data_dump, fp_df_picks)\n",
    "  print(f'appended row_picks_total to df_picks:\\n{row_picks_total}\\n')"
   ]
  },
  {
   "attachments": {},
   "cell_type": "markdown",
   "id": "7c368a70",
   "metadata": {
    "papermill": {
     "duration": 0.009002,
     "end_time": "2023-03-18T04:22:38.536872",
     "exception": false,
     "start_time": "2023-03-18T04:22:38.527870",
     "status": "completed"
    },
    "tags": []
   },
   "source": [
    "#### Evaluate performance of symbols in set_lookback_slices versus SPY"
   ]
  },
  {
   "cell_type": "markdown",
   "id": "fa85f09c",
   "metadata": {
    "tags": [
     "papermill-error-cell-tag"
    ]
   },
   "source": [
    "<span id=\"papermill-error-cell\" style=\"color:red; font-family:Helvetica Neue, Helvetica, Arial, sans-serif; font-size:2em;\">Execution using papermill encountered an exception here and stopped:</span>"
   ]
  },
  {
   "cell_type": "code",
   "execution_count": 15,
   "id": "137cd107",
   "metadata": {
    "execution": {
     "iopub.execute_input": "2023-03-18T04:22:38.579871Z",
     "iopub.status.busy": "2023-03-18T04:22:38.579871Z",
     "iopub.status.idle": "2023-03-18T04:22:38.626870Z",
     "shell.execute_reply": "2023-03-18T04:22:38.624869Z"
    },
    "papermill": {
     "duration": 0.082998,
     "end_time": "2023-03-18T04:22:38.628871",
     "exception": true,
     "start_time": "2023-03-18T04:22:38.545873",
     "status": "failed"
    },
    "tags": []
   },
   "outputs": [
    {
     "name": "stdout",
     "output_type": "stream",
     "text": [
      "z_grp_top_set_syms_n_freq:\n",
      "1 of 1 max_lookback_slice: (0, 15, 15)\n",
      "\n",
      "len(idx_train): 15\n",
      "idx_train: DatetimeIndex(['2023-02-24', '2023-02-27', '2023-02-28', '2023-03-01', '2023-03-02', '2023-03-03', '2023-03-06', '2023-03-07', '2023-03-08', '2023-03-09', '2023-03-10', '2023-03-13', '2023-03-14', '2023-03-15', '2023-03-16'], dtype='datetime64[ns]', name='Date', freq=None)\n",
      "df_train_dates (inclusive): 2023-02-24 - 2023-03-16\n",
      "\n",
      "run_type: current, idx_eval is empty: True\n",
      "top_set_syms_n_freq: [('AMD', 3), ('ANET', 3), ('CMG', 3), ('FSLR', 3), ('INTC', 3), ('META', 3), ('MLR', 3), ('SGEN', 3), ('ZTO', 3), ('AU', 2), ('BEP', 2), ('FIZZ', 2), ('GE', 2), ('HY', 2), ('LEN', 2), ('MYGN', 2), ('NTRA', 2), ('PCH', 2), ('SRPT', 2), ('TAK', 2)]\n",
      "\n",
      "set_lookback_slices: [(0, 15, 15)]\n",
      "max_lookback_slice:  (0, 15, 15)\n",
      "days_lookbacks:      [15]\n",
      "date_end_df_train:   2023-03-16\n",
      "sym_freq_15:         []\n",
      "sym_freq_14:         []\n",
      "sym_freq_13:         []\n",
      "sym_freq_12:         []\n",
      "sym_freq_10:         []\n",
      "sym_freq_9:          []\n",
      "sym_freq_8:          []\n",
      "sym_freq_7:          []\n",
      "sym_freq_6:          []\n",
      "sym_freq_5:          []\n",
      "sym_freq_4:          []\n",
      "sym_freq_3:          ['AMD', 'ANET', 'CMG', 'FSLR', 'INTC', 'META', 'MLR', 'SGEN', 'ZTO']\n",
      "sym_freq_2:          ['AU', 'BEP', 'FIZZ', 'GE', 'HY', 'LEN', 'MYGN', 'NTRA', 'PCH', 'SRPT', 'TAK']\n",
      "\n",
      "df_picks:\n",
      "  date_end_df_train  max_days_lookbacks days_lookbacks sym_freq_15 sym_freq_14 sym_freq_13 sym_freq_12 sym_freq_11 sym_freq_10 sym_freq_9 sym_freq_8 sym_freq_7 sym_freq_6 sym_freq_5 sym_freq_4       sym_freq_3       sym_freq_2\n",
      "0       2023-03-16                15              [15]          []          []          []          []          []          []         []         []         []         []         []         []  ['AMD', 'ANE...  ['AU', 'BEP'...\n"
     ]
    },
    {
     "ename": "SystemExit",
     "evalue": "\n\n**** Normal termination for run_type \"current\". Wrote current picks to df_picks ****",
     "output_type": "error",
     "traceback": [
      "An exception has occurred, use %tb to see the full traceback.\n",
      "\u001b[1;31mSystemExit\u001b[0m\u001b[1;31m:\u001b[0m \n\n**** Normal termination for run_type \"current\". Wrote current picks to df_picks ****\n"
     ]
    },
    {
     "name": "stderr",
     "output_type": "stream",
     "text": [
      "c:\\Users\\ping\\MyDrive\\py_files\\python\\py3810\\.venv\\lib\\site-packages\\IPython\\core\\interactiveshell.py:3468: UserWarning: To exit: use 'exit', 'quit', or Ctrl-D.\n",
      "  warn(\"To exit: use 'exit', 'quit', or Ctrl-D.\", stacklevel=1)\n"
     ]
    }
   ],
   "source": [
    "from myUtils import symb_perf_stats_vectorized_v8\n",
    "\n",
    "print('z_grp_top_set_syms_n_freq:')\n",
    "# zip max_lookback_slices with top performing symbols:freq pairs\n",
    "z_grp_top_set_syms_n_freq = zip(max_lookback_slices, grp_top_set_syms_n_freq)\n",
    "\n",
    "idx_train = pd.Index([])\n",
    "idx_eval = pd.Index([])\n",
    "for i, (_lookback_slice, _top_set_syms_n_freq) in enumerate(z_grp_top_set_syms_n_freq):\n",
    "  iloc_start_train = _lookback_slice[0]\n",
    "  iloc_end_train = _lookback_slice[1]\n",
    "  iloc_start_eval = iloc_end_train\n",
    "  iloc_end_eval = _lookback_slice[2]\n",
    "\n",
    "  print(f'{i + 1 } of {n_samples} max_lookback_slice: {_lookback_slice}\\n')\n",
    "  # print(f'max_lookback_slice: {_lookback_slice}\\n')\n",
    "  # dates correspond to max_lookback_slice\n",
    "  idx_train = df.index[iloc_start_train:iloc_end_train]\n",
    "  date_start_df_train = idx_train[0].strftime('%Y-%m-%d')\n",
    "  date_end_df_train = idx_train[-1].strftime('%Y-%m-%d')\n",
    "  print(f'len(idx_train): {len(idx_train)}')\n",
    "  print(f'idx_train: {idx_train}')\n",
    "  print(f'df_train_dates (inclusive): {date_start_df_train} - {date_end_df_train}\\n')     \n",
    "\n",
    "  if run_type != 'current':\n",
    "    idx_eval = df.index[iloc_start_eval:iloc_end_eval]\n",
    "    date_start_df_eval = idx_eval[0].strftime('%Y-%m-%d')\n",
    "    date_end_df_eval = idx_eval[-1].strftime('%Y-%m-%d')\n",
    "    print(f'len(idx_eval): {len(idx_eval)}')\n",
    "    print(f'idx_eval: {idx_eval}')\n",
    "    print(f'df_eval dates (inclusive): {date_start_df_eval} - {date_end_df_eval}\\n')\n",
    "  else: # run_type == \"current'\n",
    "    print(f'run_type: {run_type}, idx_eval is empty: {idx_eval.empty}')\n",
    "\n",
    "  print(f'top_set_syms_n_freq: {_top_set_syms_n_freq}\\n')   \n",
    "\n",
    "  l_sym_freq_cnt = top_set_sym_freq_cnt(_top_set_syms_n_freq)\n",
    "  if verbose:\n",
    "    print(f'set_lookback_slices: {sets_lookback_slices[i]}')    \n",
    "    print(f'max_lookback_slice:  {_lookback_slice}')\n",
    "    print(f'days_lookbacks:      {days_lookbacks}')\n",
    "    print(f'date_end_df_train:   {date_end_df_train}')\n",
    "    print(f'sym_freq_15:         {l_sym_freq_cnt[0]}')\n",
    "    print(f'sym_freq_14:         {l_sym_freq_cnt[1]}')\n",
    "    print(f'sym_freq_13:         {l_sym_freq_cnt[2]}')\n",
    "    print(f'sym_freq_12:         {l_sym_freq_cnt[4]}')\n",
    "    print(f'sym_freq_10:         {l_sym_freq_cnt[5]}')\n",
    "    print(f'sym_freq_9:          {l_sym_freq_cnt[6]}')\n",
    "    print(f'sym_freq_8:          {l_sym_freq_cnt[7]}')\n",
    "    print(f'sym_freq_7:          {l_sym_freq_cnt[8]}')\n",
    "    print(f'sym_freq_6:          {l_sym_freq_cnt[9]}')\n",
    "    print(f'sym_freq_5:          {l_sym_freq_cnt[10]}')\n",
    "    print(f'sym_freq_4:          {l_sym_freq_cnt[11]}')\n",
    "    print(f'sym_freq_3:          {l_sym_freq_cnt[12]}')\n",
    "    print(f'sym_freq_2:          {l_sym_freq_cnt[13]}\\n') \n",
    "\n",
    "  if idx_eval.empty:\n",
    "    if run_type == 'current':\n",
    "      msg_stop = f'\\n\\n**** Normal termination for run_type \"{run_type}\". Wrote current picks to df_picks ****'\n",
    "      print(f'df_picks:\\n{df_picks}')\n",
    "      raise SystemExit(msg_stop)\n",
    "    else:\n",
    "      msg_stop = f'\\n\\n**** STOPPED df_eval is empty but run_type != \"current\", the run_type is \"{run_type}\" ****'\n",
    "      raise SystemExit(msg_stop)    \n",
    "\n",
    "  _sym_idx = ['SPY']\n",
    "  df_SPY = df[iloc_start_eval:iloc_end_eval][_sym_idx]\n",
    "\n",
    "  (\n",
    "    _symbols,\n",
    "    _period_yr,\n",
    "    _retn,\n",
    "    _DD,\n",
    "    _UI,\n",
    "    _MDD,\n",
    "    _retnMean,\n",
    "    _retnStd,\n",
    "    _retnStd_div_UI,\n",
    "    _CAGR,\n",
    "    _CAGR_div_retnStd,\n",
    "    _CAGR_div_UI,\n",
    "    SPY_retnStd_d_UI,     \n",
    "    SPY_CAGR,\n",
    "    SPY_CAGR_d_retnStd,\n",
    "    SPY_CAGR_d_UI,\n",
    "  ) = symb_perf_stats_vectorized_v8(df_SPY)  \n",
    "\n",
    "  print(f'\\nSPY: retnStd/UI, CAGR/retnStd, CAGR/UI, CAGR: {SPY_retnStd_d_UI[0]:>17,.1f}, {SPY_CAGR_d_retnStd[0]:>17,.1f}, {SPY_CAGR_d_UI[0]:>17.1f}, {SPY_CAGR[0]:>17.1f}')\n",
    "\n",
    "  # drop list with frequency count 2 or less, in l_sym_freq_cnt from zip\n",
    "  zip_cnt_n_syms = zip([15,14,13,12,11,10,9,8,7,6,5,4,3], l_sym_freq_cnt[:-1])\n",
    "  for item in zip_cnt_n_syms:\n",
    "    sym_freq_cnt = item[0]\n",
    "    syms = item[1]\n",
    "    if syms:  # iterate ONLY if there are symbols in syms\n",
    "      df_eval = df[iloc_start_eval:iloc_end_eval][syms]      \n",
    "\n",
    "      if verbose:\n",
    "        print(f'iloc_start_eval: {iloc_start_eval:>6},  df_eval first date: {date_start_df_eval:>10}') \n",
    "        print(f'iloc_end_eval:   {iloc_end_eval:>6},  df_eval last date:  {date_end_df_eval:>10}')        \n",
    "        print(f'frequency count of symbol(s): {sym_freq_cnt}')      \n",
    "\n",
    "        syms_n_SPY = syms + ['SPY']\n",
    "        df_eval_n_SPY = df[iloc_start_eval:iloc_end_eval][syms_n_SPY]   \n",
    "        print(f'\\ndf_eval_n_SPY:\\n{df_eval_n_SPY}\\n')\n",
    "\n",
    "      (\n",
    "        _symbols,\n",
    "        _period_yr,\n",
    "        _retn,\n",
    "        _DD,\n",
    "        _UI,\n",
    "        _MDD,\n",
    "        _retnMean,\n",
    "        _retnStd,\n",
    "        _retnStd_div_UI,\n",
    "        _CAGR,\n",
    "        _CAGR_div_retnStd,\n",
    "        _CAGR_div_UI,\n",
    "        grp_retnStd_d_UI,     \n",
    "        grp_CAGR,\n",
    "        grp_CAGR_d_retnStd,\n",
    "        grp_CAGR_d_UI,\n",
    "      ) = symb_perf_stats_vectorized_v8(df_eval)  \n",
    "      print(f'grp(retnStd/UI):   mean, std, mean/std: {grp_retnStd_d_UI[0]  :>17,.1f}, {grp_retnStd_d_UI[1]  :>17,.1f}, {grp_retnStd_d_UI[2]  :>17,.1f}')\n",
    "      print(f'grp(CAGR/retnStd): mean, std, mean/std: {grp_CAGR_d_retnStd[0]:>17,.1f}, {grp_CAGR_d_retnStd[1]:>17,.1f}, {grp_CAGR_d_retnStd[2]:>17,.1f}')\n",
    "      print(f'grp(CAGR/UI):      mean, std, mean/std: {grp_CAGR_d_UI[0]     :>17,.1f}, {grp_CAGR_d_UI[1]     :>17,.1f}, {grp_CAGR_d_UI[2]     :>17,.1f}')\n",
    "      print(f'grp(CAGR):         mean, std, mean/std: {grp_CAGR[0]          :>17,.1f}, {grp_CAGR[1]          :>17,.1f}, {grp_CAGR[2]          :>17,.1f}\\n')\n",
    "\n",
    "      if store_results:  # record results to df\n",
    "        row_add0      = [n_samples, str(days_lookbacks), days_eval, n_top_syms, syms_start, syms_end, sym_freq_cnt]\n",
    "        row_add1      = [grp_CAGR[0],           grp_CAGR[1],           grp_CAGR[2]]\n",
    "        row_add2      = [grp_CAGR_d_UI[0],      grp_CAGR_d_UI[1],      grp_CAGR_d_UI[2]]\n",
    "        row_add3      = [grp_CAGR_d_retnStd[0], grp_CAGR_d_retnStd[1], grp_CAGR_d_retnStd[2]]\n",
    "        row_add4      = [grp_retnStd_d_UI[0],   grp_retnStd_d_UI[1],   grp_retnStd_d_UI[2]]\n",
    "        row_add5      = [SPY_CAGR[0], SPY_CAGR_d_UI[0], SPY_CAGR_d_retnStd[0], SPY_retnStd_d_UI[0]]\n",
    "        row_add_total = row_add0 + row_add1 + row_add2 + row_add3 + row_add4 + row_add5\n",
    "        print(f'row_add_total: {row_add_total}')\n",
    "        df_eval_results.loc[len(df_eval_results)] = row_add_total\n",
    "        print(f'appended row_add to df_eval_results:\\n{row_add_total}\\n')\n",
    "  \n",
    "  print('='*50, '\\n')  "
   ]
  },
  {
   "cell_type": "code",
   "execution_count": null,
   "id": "d4416695",
   "metadata": {
    "papermill": {
     "duration": null,
     "end_time": null,
     "exception": null,
     "start_time": null,
     "status": "pending"
    },
    "tags": []
   },
   "outputs": [],
   "source": [
    "if store_results:  # record results to df\n",
    "  pickle_dump(df_eval_results, path_data_dump, fp_df_eval_results)\n",
    "  print(f'Save results to: {fp_df_eval_results}')\n",
    "\n",
    "df = pickle_load(path_data_dump, fp_df_eval_results)\n",
    "df.tail()"
   ]
  },
  {
   "cell_type": "code",
   "execution_count": null,
   "id": "536cfcba",
   "metadata": {
    "papermill": {
     "duration": null,
     "end_time": null,
     "exception": null,
     "start_time": null,
     "status": "pending"
    },
    "tags": []
   },
   "outputs": [],
   "source": [
    "# df = pickle_load(path_data_dump, fp_df_picks)\n",
    "# df.tail()"
   ]
  }
 ],
 "metadata": {
  "kernelspec": {
   "display_name": ".venv",
   "language": "python",
   "name": "python3"
  },
  "language_info": {
   "codemirror_mode": {
    "name": "ipython",
    "version": 3
   },
   "file_extension": ".py",
   "mimetype": "text/x-python",
   "name": "python",
   "nbconvert_exporter": "python",
   "pygments_lexer": "ipython3",
   "version": "3.8.10"
  },
  "papermill": {
   "default_parameters": {},
   "duration": 7.276077,
   "end_time": "2023-03-18T04:22:39.201874",
   "environment_variables": {},
   "exception": true,
   "input_path": "yf_7a.ipynb",
   "output_path": "yf_7aPM_out.ipynb",
   "parameters": {
    "days_eval": 0,
    "days_lookbacks": [
     15
    ],
    "fp_df_eval_results": "Not_Applicable",
    "n_samples": 1,
    "n_top_syms": 20,
    "run_type": "current",
    "store_results": true,
    "syms_end": 10,
    "syms_start": 0,
    "verbose": true
   },
   "start_time": "2023-03-18T04:22:31.925797",
   "version": "2.4.0"
  },
  "vscode": {
   "interpreter": {
    "hash": "16adeade2e4c2fe5a5c8fae29fa6e6b24d9301998b78edb3420e7dd402ae68a8"
   }
  }
 },
 "nbformat": 4,
 "nbformat_minor": 5
}