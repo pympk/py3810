{
 "cells": [
  {
   "cell_type": "code",
   "execution_count": 1,
   "id": "183343d6",
   "metadata": {
    "execution": {
     "iopub.execute_input": "2023-03-25T03:28:05.454749Z",
     "iopub.status.busy": "2023-03-25T03:28:05.453752Z",
     "iopub.status.idle": "2023-03-25T03:28:05.483747Z",
     "shell.execute_reply": "2023-03-25T03:28:05.481751Z"
    },
    "papermill": {
     "duration": 0.050998,
     "end_time": "2023-03-25T03:28:05.485755",
     "exception": false,
     "start_time": "2023-03-25T03:28:05.434757",
     "status": "completed"
    },
    "tags": []
   },
   "outputs": [],
   "source": [
    "def top_set_sym_freq_cnt(top_set_syms_n_freq):\n",
    "    # accommodate upto 5 periods of days_lookbacks(i.e. days_lookbacks = [5, 10, 15, 20, 25], len(days_lookbacks)*3 = 15)\n",
    "    sym_freq_cnt_15 = []\n",
    "    sym_freq_cnt_14 = []\n",
    "    sym_freq_cnt_13 = []\n",
    "    sym_freq_cnt_12 = []\n",
    "    sym_freq_cnt_11 = []\n",
    "    sym_freq_cnt_10 = []\n",
    "    sym_freq_cnt_9 = []\n",
    "    sym_freq_cnt_8 = []\n",
    "    sym_freq_cnt_7 = []\n",
    "    sym_freq_cnt_6 = []\n",
    "    sym_freq_cnt_5 = []\n",
    "    sym_freq_cnt_4 = []\n",
    "    sym_freq_cnt_3 = []\n",
    "    sym_freq_cnt_2 = []\n",
    "\n",
    "    for sym_n_freq in top_set_syms_n_freq:\n",
    "        _sym = sym_n_freq[0]\n",
    "        _freq = sym_n_freq[1]\n",
    "        if _freq == 15:\n",
    "            sym_freq_cnt_15.append(_sym)\n",
    "        elif _freq == 14:\n",
    "            sym_freq_cnt_14.append(_sym)\n",
    "        elif _freq == 13:\n",
    "            sym_freq_cnt_13.append(_sym)\n",
    "        elif _freq == 12:\n",
    "            sym_freq_cnt_12.append(_sym)                        \n",
    "        elif _freq == 11:\n",
    "            sym_freq_cnt_11.append(_sym)\n",
    "        elif _freq == 10:\n",
    "            sym_freq_cnt_10.append(_sym)            \n",
    "        elif _freq == 9:\n",
    "            sym_freq_cnt_9.append(_sym)\n",
    "        elif _freq == 8:\n",
    "            sym_freq_cnt_8.append(_sym)\n",
    "        elif _freq == 7:\n",
    "            sym_freq_cnt_7.append(_sym)  \n",
    "        elif _freq == 6:\n",
    "            sym_freq_cnt_6.append(_sym)\n",
    "        elif _freq == 5:\n",
    "            sym_freq_cnt_5.append(_sym)\n",
    "        elif _freq == 4:\n",
    "            sym_freq_cnt_4.append(_sym)\n",
    "        elif _freq == 3:\n",
    "            sym_freq_cnt_3.append(_sym)          \n",
    "        else:\n",
    "            sym_freq_cnt_2.append(_sym)\n",
    "\n",
    "    l_sym_freq_cnt = []\n",
    "\n",
    "    l_sym_freq_cnt.append(sym_freq_cnt_15)\n",
    "    l_sym_freq_cnt.append(sym_freq_cnt_14)\n",
    "    l_sym_freq_cnt.append(sym_freq_cnt_13)\n",
    "    l_sym_freq_cnt.append(sym_freq_cnt_12)    \n",
    "    l_sym_freq_cnt.append(sym_freq_cnt_11)   \n",
    "    l_sym_freq_cnt.append(sym_freq_cnt_10)\n",
    "    l_sym_freq_cnt.append(sym_freq_cnt_9)\n",
    "    l_sym_freq_cnt.append(sym_freq_cnt_8)\n",
    "    l_sym_freq_cnt.append(sym_freq_cnt_7)    \n",
    "    l_sym_freq_cnt.append(sym_freq_cnt_6)\n",
    "    l_sym_freq_cnt.append(sym_freq_cnt_5)\n",
    "    l_sym_freq_cnt.append(sym_freq_cnt_4)\n",
    "    l_sym_freq_cnt.append(sym_freq_cnt_3)    \n",
    "    l_sym_freq_cnt.append(sym_freq_cnt_2)    \n",
    "\n",
    "    return l_sym_freq_cnt    "
   ]
  },
  {
   "cell_type": "code",
   "execution_count": 2,
   "id": "69ed2c96",
   "metadata": {
    "execution": {
     "iopub.execute_input": "2023-03-25T03:28:05.507751Z",
     "iopub.status.busy": "2023-03-25T03:28:05.507751Z",
     "iopub.status.idle": "2023-03-25T03:28:06.113778Z",
     "shell.execute_reply": "2023-03-25T03:28:06.112778Z"
    },
    "papermill": {
     "duration": 0.621029,
     "end_time": "2023-03-25T03:28:06.116777",
     "exception": false,
     "start_time": "2023-03-25T03:28:05.495748",
     "status": "completed"
    },
    "tags": []
   },
   "outputs": [],
   "source": [
    "import pandas as pd\n",
    "# import numpy as np\n",
    "import datetime\n",
    "# from IPython.display import display, HTML\n",
    "from yf_utils import _2_split_train_val_test, _3_random_slices, _4_lookback_slices\n",
    "from yf_utils import _5_perf_ranks, _6_grp_tuples_sort_sum\n",
    "from myUtils import pickle_load, pickle_dump\n",
    "\n",
    "pd.set_option('display.max_rows', 500)\n",
    "pd.set_option('display.max_columns', 30)\n",
    "pd.set_option('display.max_colwidth', 16)\n",
    "pd.set_option('display.width', 790)\n",
    "\n",
    "path_dir = \"C:/Users/ping/MyDrive/stocks/yfinance/\"\n",
    "path_data_dump = path_dir + \"VSCode_dump/\"\n",
    "\n",
    "fp_df_close_clean = 'df_close_clean'"
   ]
  },
  {
   "attachments": {},
   "cell_type": "markdown",
   "id": "3c530e93",
   "metadata": {
    "papermill": {
     "duration": 0.009002,
     "end_time": "2023-03-25T03:28:06.132781",
     "exception": false,
     "start_time": "2023-03-25T03:28:06.123779",
     "status": "completed"
    },
    "tags": []
   },
   "source": [
    "#### Check run results"
   ]
  },
  {
   "cell_type": "code",
   "execution_count": 3,
   "id": "5ad0cba3",
   "metadata": {
    "execution": {
     "iopub.execute_input": "2023-03-25T03:28:06.148782Z",
     "iopub.status.busy": "2023-03-25T03:28:06.147780Z",
     "iopub.status.idle": "2023-03-25T03:28:06.159777Z",
     "shell.execute_reply": "2023-03-25T03:28:06.158778Z"
    },
    "papermill": {
     "duration": 0.022,
     "end_time": "2023-03-25T03:28:06.161776",
     "exception": false,
     "start_time": "2023-03-25T03:28:06.139776",
     "status": "completed"
    },
    "tags": []
   },
   "outputs": [],
   "source": [
    "# df = pickle_load(path_data_dump, fp_df_eval_sym_freq_results_train)\n",
    "# df = pickle_load(path_data_dump, fp_df_eval_sym_freq_results_validate)\n",
    "# df = pickle_load(path_data_dump, fp_df_eval_results)\n",
    "# df = pickle_load(path_data_dump, fp_df_picks)\n",
    "# df"
   ]
  },
  {
   "attachments": {},
   "cell_type": "markdown",
   "id": "58f81ed6",
   "metadata": {
    "papermill": {
     "duration": 0.007005,
     "end_time": "2023-03-25T03:28:06.176784",
     "exception": false,
     "start_time": "2023-03-25T03:28:06.169779",
     "status": "completed"
    },
    "tags": []
   },
   "source": [
    "#### Select run parameters. Parameters can also be passed using papermill by running yf_7_freq_cnt_pm_.ipynb"
   ]
  },
  {
   "cell_type": "code",
   "execution_count": 4,
   "id": "b55c775b",
   "metadata": {
    "execution": {
     "iopub.execute_input": "2023-03-25T03:28:06.192778Z",
     "iopub.status.busy": "2023-03-25T03:28:06.191779Z",
     "iopub.status.idle": "2023-03-25T03:28:06.207779Z",
     "shell.execute_reply": "2023-03-25T03:28:06.206778Z"
    },
    "papermill": {
     "duration": 0.026002,
     "end_time": "2023-03-25T03:28:06.209778",
     "exception": false,
     "start_time": "2023-03-25T03:28:06.183776",
     "status": "completed"
    },
    "tags": [
     "parameters"
    ]
   },
   "outputs": [
    {
     "name": "stdout",
     "output_type": "stream",
     "text": [
      "verbose : True\n",
      "store_results: True\n",
      "run_type: current\n",
      "n_samples: 1\n",
      "days_lookbacks: [15, 30, 60, 120]\n",
      "days_eval: 0\n",
      "n_top_syms: 20\n",
      "syms_start: 0\n",
      "syms_end: 10\n",
      "fp_df_eval_results: df_eval_results_current\n",
      "fp_df_picks: df_picks\n"
     ]
    }
   ],
   "source": [
    "# SELECT RUN PARAMETERS.async Parameters can also be passed using papermill by running yf_7_freq_cnt_pm_.ipynb\n",
    "verbose = True  # True prints more output\n",
    "# verbose = False  # True prints more output\n",
    "\n",
    "# write run results to df_eval_results\n",
    "# store_results = False\n",
    "store_results = True\n",
    "\n",
    "# select run type\n",
    "# run_type = 'train'\n",
    "# run_type = 'validate'\n",
    "# run_type = 'test'\n",
    "run_type = 'current'\n",
    "\n",
    "# number of max lookback tuples to create for iloc iloc_start_train:iloc_end_train:iloc_end_eval\n",
    "# i.e. number of grp_top_set_syms_n_freq and grp_top_set_syms \n",
    "# n_samples = 400  \n",
    "n_samples = 20\n",
    "\n",
    "# for training, the number of days to lookback from iloc max-lookback iloc_end_train\n",
    "# days_lookbacks = [30, 60, 120]\n",
    "days_lookbacks = [15, 30, 60, 120]\n",
    "days_lookbacks.sort()\n",
    "\n",
    "# number of days from iloc_end_train are used to evaluate effectiveness of the training\n",
    "days_eval = 4\n",
    "# days_eval = 5\n",
    "\n",
    "# number of the most-common symbols from days_lookbacks' performance rankings to keep\n",
    "n_top_syms = 20  \n",
    "\n",
    "# slice starts and ends for selecting the best performing symbols\n",
    "syms_start = 0\n",
    "syms_end = 10\n",
    "\n",
    "# get picks of previous days by dropping the last n rows from df_current\n",
    "#  drop_last_n_rows = 1 drops the last row from df_current\n",
    "drop_last_n_rows = 0\n",
    "\n",
    "# over-ride parameters for run_type 'current'\n",
    "if run_type == 'current':\n",
    "  days_eval = 0  # no need to eval, df_eval will be empty\n",
    "  n_samples = 1  # no need to repeat sample the current result, repeat sample will yield the same tuple\n",
    "\n",
    "\n",
    "fp_df_eval_results = f'df_eval_results_{run_type}'\n",
    "fp_df_picks = f'df_picks'\n",
    "\n",
    "print(f'verbose : {verbose }')\n",
    "print(f'store_results: {store_results}')\n",
    "print(f'run_type: {run_type}')\n",
    "print(f'n_samples: {n_samples}')\n",
    "print(f'days_lookbacks: {days_lookbacks}')\n",
    "print(f'days_eval: {days_eval}')\n",
    "print(f'n_top_syms: {n_top_syms}')\n",
    "print(f'syms_start: {syms_start}')\n",
    "print(f'syms_end: {syms_end}')\n",
    "print(f'fp_df_eval_results: {fp_df_eval_results}')\n",
    "print(f'fp_df_picks: {fp_df_picks}')"
   ]
  },
  {
   "cell_type": "code",
   "execution_count": 5,
   "id": "67bbca58",
   "metadata": {
    "execution": {
     "iopub.execute_input": "2023-03-25T03:28:06.226778Z",
     "iopub.status.busy": "2023-03-25T03:28:06.225778Z",
     "iopub.status.idle": "2023-03-25T03:28:06.239779Z",
     "shell.execute_reply": "2023-03-25T03:28:06.238778Z"
    },
    "papermill": {
     "duration": 0.023999,
     "end_time": "2023-03-25T03:28:06.241778",
     "exception": false,
     "start_time": "2023-03-25T03:28:06.217779",
     "status": "completed"
    },
    "tags": [
     "injected-parameters"
    ]
   },
   "outputs": [],
   "source": [
    "# Parameters\n",
    "verbose = True\n",
    "store_results = True\n",
    "n_top_syms = 20\n",
    "syms_start = 0\n",
    "syms_end = 10\n",
    "run_type = \"train\"\n",
    "fp_df_eval_results = \"df_eval_results_train\"\n",
    "n_samples = 400\n",
    "days_eval = 4\n",
    "days_lookbacks = [30]\n"
   ]
  },
  {
   "attachments": {},
   "cell_type": "markdown",
   "id": "a442b233",
   "metadata": {
    "papermill": {
     "duration": 0.008998,
     "end_time": "2023-03-25T03:28:06.259781",
     "exception": false,
     "start_time": "2023-03-25T03:28:06.250783",
     "status": "completed"
    },
    "tags": []
   },
   "source": [
    "#### Load previous run results"
   ]
  },
  {
   "cell_type": "code",
   "execution_count": 6,
   "id": "3c7667cd",
   "metadata": {
    "execution": {
     "iopub.execute_input": "2023-03-25T03:28:06.276779Z",
     "iopub.status.busy": "2023-03-25T03:28:06.275779Z",
     "iopub.status.idle": "2023-03-25T03:28:06.301778Z",
     "shell.execute_reply": "2023-03-25T03:28:06.300781Z"
    },
    "papermill": {
     "duration": 0.035996,
     "end_time": "2023-03-25T03:28:06.303778",
     "exception": false,
     "start_time": "2023-03-25T03:28:06.267782",
     "status": "completed"
    },
    "tags": []
   },
   "outputs": [],
   "source": [
    "if run_type != 'current':\n",
    "  df_eval_results = pickle_load(path_data_dump, fp_df_eval_results)\n",
    "\n",
    "df_picks = pickle_load(path_data_dump, fp_df_picks)\n",
    "df_close_clean = pickle_load(path_data_dump, fp_df_close_clean)"
   ]
  },
  {
   "cell_type": "markdown",
   "id": "65615a2c",
   "metadata": {
    "papermill": {
     "duration": 0.006999,
     "end_time": "2023-03-25T03:28:06.317779",
     "exception": false,
     "start_time": "2023-03-25T03:28:06.310780",
     "status": "completed"
    },
    "tags": []
   },
   "source": [
    "#### Drop the last n row in df_close_clean to get previous picks"
   ]
  },
  {
   "cell_type": "code",
   "execution_count": 7,
   "id": "c4fc0cb5",
   "metadata": {
    "execution": {
     "iopub.execute_input": "2023-03-25T03:28:06.334781Z",
     "iopub.status.busy": "2023-03-25T03:28:06.333780Z",
     "iopub.status.idle": "2023-03-25T03:28:06.349781Z",
     "shell.execute_reply": "2023-03-25T03:28:06.348779Z"
    },
    "papermill": {
     "duration": 0.027002,
     "end_time": "2023-03-25T03:28:06.351780",
     "exception": false,
     "start_time": "2023-03-25T03:28:06.324778",
     "status": "completed"
    },
    "tags": []
   },
   "outputs": [],
   "source": [
    "# # drop the last n row(s)\n",
    "# n = 1\n",
    "# df_close_clean = df_close_clean[:-n]\n",
    "# df_close_clean.tail(2)"
   ]
  },
  {
   "attachments": {},
   "cell_type": "markdown",
   "id": "00576bc5",
   "metadata": {
    "papermill": {
     "duration": 0.008999,
     "end_time": "2023-03-25T03:28:06.368780",
     "exception": false,
     "start_time": "2023-03-25T03:28:06.359781",
     "status": "completed"
    },
    "tags": []
   },
   "source": [
    "#### Split dataframe into Train, Validate and Test"
   ]
  },
  {
   "cell_type": "code",
   "execution_count": 8,
   "id": "6dbe31b3",
   "metadata": {
    "execution": {
     "iopub.execute_input": "2023-03-25T03:28:06.388779Z",
     "iopub.status.busy": "2023-03-25T03:28:06.388779Z",
     "iopub.status.idle": "2023-03-25T03:28:06.397787Z",
     "shell.execute_reply": "2023-03-25T03:28:06.396778Z"
    },
    "papermill": {
     "duration": 0.022,
     "end_time": "2023-03-25T03:28:06.400778",
     "exception": false,
     "start_time": "2023-03-25T03:28:06.378778",
     "status": "completed"
    },
    "tags": []
   },
   "outputs": [],
   "source": [
    "# Split df_close_clean into training (df_train), validation (df_val) and test (df_test) set.\n",
    "# The default split is 0.7, 0.2, 0.1 respectively.\n",
    "df_train, df_val, df_test = _2_split_train_val_test(df_close_clean)"
   ]
  },
  {
   "attachments": {},
   "cell_type": "markdown",
   "id": "028e6867",
   "metadata": {
    "papermill": {
     "duration": 0.008003,
     "end_time": "2023-03-25T03:28:06.414780",
     "exception": false,
     "start_time": "2023-03-25T03:28:06.406777",
     "status": "completed"
    },
    "tags": []
   },
   "source": [
    "#### Create df_current, a df with the latest data"
   ]
  },
  {
   "cell_type": "code",
   "execution_count": 9,
   "id": "62d409df",
   "metadata": {
    "execution": {
     "iopub.execute_input": "2023-03-25T03:28:06.430779Z",
     "iopub.status.busy": "2023-03-25T03:28:06.430779Z",
     "iopub.status.idle": "2023-03-25T03:28:06.445778Z",
     "shell.execute_reply": "2023-03-25T03:28:06.444778Z"
    },
    "papermill": {
     "duration": 0.026005,
     "end_time": "2023-03-25T03:28:06.447781",
     "exception": false,
     "start_time": "2023-03-25T03:28:06.421776",
     "status": "completed"
    },
    "tags": []
   },
   "outputs": [
    {
     "name": "stdout",
     "output_type": "stream",
     "text": [
      "max_days_lookbacks: 30\n"
     ]
    }
   ],
   "source": [
    "max_days_lookbacks = max(days_lookbacks)\n",
    "print(f'max_days_lookbacks: {max_days_lookbacks}')\n",
    "\n",
    "\n",
    "# df_current = df_test.tail(max_days_lookbacks)  \n",
    "df_current = df_test.copy()\n",
    "\n",
    "# df_current.tail(3)"
   ]
  },
  {
   "attachments": {},
   "cell_type": "markdown",
   "id": "e075872a",
   "metadata": {
    "papermill": {
     "duration": 0.007999,
     "end_time": "2023-03-25T03:28:06.463778",
     "exception": false,
     "start_time": "2023-03-25T03:28:06.455779",
     "status": "completed"
    },
    "tags": []
   },
   "source": [
    "#### Load df according to run_type"
   ]
  },
  {
   "cell_type": "code",
   "execution_count": 10,
   "id": "ee50c959",
   "metadata": {
    "execution": {
     "iopub.execute_input": "2023-03-25T03:28:06.496779Z",
     "iopub.status.busy": "2023-03-25T03:28:06.496779Z",
     "iopub.status.idle": "2023-03-25T03:28:06.509778Z",
     "shell.execute_reply": "2023-03-25T03:28:06.508778Z"
    },
    "papermill": {
     "duration": 0.031997,
     "end_time": "2023-03-25T03:28:06.511778",
     "exception": false,
     "start_time": "2023-03-25T03:28:06.479781",
     "status": "completed"
    },
    "tags": []
   },
   "outputs": [],
   "source": [
    "if run_type == 'train':\n",
    "  df = df_train.copy()    \n",
    "elif run_type == 'validate':\n",
    "  df = df_val.copy()\n",
    "elif run_type == 'test':\n",
    "  df = df_test.copy()\n",
    "elif run_type == 'current':  # get the current picks\n",
    "  print(f'run_type: current')\n",
    "  slice_start = -(max_days_lookbacks + drop_last_n_rows)  \n",
    "  slice_end = -drop_last_n_rows\n",
    "  if drop_last_n_rows == 0:  # return df with all rows\n",
    "    df = df_current[slice_start:].copy()\n",
    "  else:  # return df with dropped drop_last_n_rows rows  \n",
    "    df = df_current[slice_start:slice_end].copy()            \n",
    "  print(f'dropped last {drop_last_n_rows} row(s) from df')          \n",
    "  print(f'df.tail():\\n{df.tail()}\\n')\n",
    "else:\n",
    "  msg_stop = f\"ERROR run_type must be 'train', 'validate', 'test' or 'current', run_type is: {run_type}\"\n",
    "  raise SystemExit(msg_stop )  "
   ]
  },
  {
   "attachments": {},
   "cell_type": "markdown",
   "id": "18c6a021",
   "metadata": {
    "papermill": {
     "duration": 0.006999,
     "end_time": "2023-03-25T03:28:06.527778",
     "exception": false,
     "start_time": "2023-03-25T03:28:06.520779",
     "status": "completed"
    },
    "tags": []
   },
   "source": [
    "#### Print dataframe for the run, and lengths of other dataframes"
   ]
  },
  {
   "cell_type": "code",
   "execution_count": 11,
   "id": "c7a16774",
   "metadata": {
    "execution": {
     "iopub.execute_input": "2023-03-25T03:28:06.545780Z",
     "iopub.status.busy": "2023-03-25T03:28:06.544780Z",
     "iopub.status.idle": "2023-03-25T03:28:06.573779Z",
     "shell.execute_reply": "2023-03-25T03:28:06.572776Z"
    },
    "papermill": {
     "duration": 0.04,
     "end_time": "2023-03-25T03:28:06.575778",
     "exception": false,
     "start_time": "2023-03-25T03:28:06.535778",
     "status": "completed"
    },
    "tags": []
   },
   "outputs": [
    {
     "name": "stdout",
     "output_type": "stream",
     "text": [
      "run_type: train, df.tail(3):\n",
      "                     A         AA        AAL         AAP        AAPL         AB        ABB        ABBV         ABC        ABM        ABR         ABT       ACGL       ACHC       ACIW  ...       XRAY        XRX         XYL       YELP       YUMC         YY         ZBH        ZBRA          ZD          ZG       ZION        ZTO         ZTS       ZUMZ        ZWS\n",
      "Date                                                                                                                                                                                   ...                                                                                                                                                                           \n",
      "2021-06-08  137.310074  38.183731  24.219999  188.311432  125.445267  40.062176  34.132233  104.659348  115.232056  47.417473  16.309099  104.835541  39.570000  66.779999  39.139999  ...  64.431053  22.543987  117.357002  42.279999  68.195450  65.902901  150.938263  505.570007  112.295654  115.190002  55.107944  31.694317  172.003479  49.160000  50.964218\n",
      "2021-06-09  138.675766  37.550961  23.850000  187.512024  125.831284  40.367924  33.839924  106.205856  114.743355  47.039524  16.343113  105.952881  39.060001  66.169998  38.820000  ...  64.401649  22.852810  116.073257  41.090000  67.487129  66.873276  151.589752  505.350006  110.947823  113.800003  53.982903  31.248756  174.562286  47.910000  50.559273\n",
      "2021-06-10  141.575333  36.997288  23.459999  186.389023  124.821701  39.747681  33.742489  108.292709  118.203255  46.147964  16.241076  107.021629  39.009998  67.110001  38.540001  ...  64.774193  22.789228  115.857689  39.459999  68.008530  67.468323  152.586166  508.630005  110.904350  112.540001  52.514637  31.298264  179.907150  46.439999  50.045689\n",
      "\n",
      "[3 rows x 1322 columns]\n",
      "\n",
      "run_type: train, len(df): 1050\n",
      "len_df_train: 1050, len_df_val: 300, len_df_test: 150, len_df_current: 150 \n"
     ]
    }
   ],
   "source": [
    "print(f'run_type: {run_type}, df.tail(3):\\n{df.tail(3)}\\n')\n",
    "len_df = len(df)\n",
    "len_df_train = len(df_train)\n",
    "len_df_val = len(df_val)\n",
    "len_df_test = len(df_test)\n",
    "len_df_current = len(df_current)\n",
    "print(f'run_type: {run_type}, len(df): {len(df)}')\n",
    "print(f'len_df_train: {len_df_train}, len_df_val: {len_df_val}, len_df_test: {len_df_test}, len_df_current: {len_df_current} ')\n"
   ]
  },
  {
   "attachments": {},
   "cell_type": "markdown",
   "id": "4903d542",
   "metadata": {
    "papermill": {
     "duration": 0.008008,
     "end_time": "2023-03-25T03:28:06.591787",
     "exception": false,
     "start_time": "2023-03-25T03:28:06.583779",
     "status": "completed"
    },
    "tags": []
   },
   "source": [
    "#### Create a sets of iloc lookback slices (iloc_start_train:iloc_end_train:iloc_end_eval), where:  \n",
    "* iloc_end_train - iloc_start_train = days_lookback\n",
    "* iloc_end_eval - iloc_end_train = days_eval  \n",
    "#### for example, if given:  \n",
    "* n_samples = 2  \n",
    "* days_lookbacks = [10, 20, 30]  \n",
    "* days_eval = 5  \n",
    "#### a possible result is:  \n",
    "  - max_lookback_slices: [(417, 447, 452), (265, 295, 300)], where:\n",
    "    - len(max_lookback_slices) = n_samples = 2\n",
    "    - middle number in the tuples, 447 and 295, is the iloc of the \"pivot day\" for the days in \"days_lookbacks\" to lookback\n",
    "    - 447 - 417 = middle number - first number = max(days_lookbacks) = 30\n",
    "    - 295 - 265 = middle number - first number = max(days_lookbacks) = 30      \n",
    "    - 452 - 447 = last number - middle number = days_eval = 5\n",
    "    - 300 - 295 = last number - middle number = days_eval = 5    \n",
    "  - sets_lookback_slices: [[(437, 447, 452), (427, 447, 452), (417, 447, 452)], [(285, 295, 300), (275, 295, 300), (265, 295, 300)]], where:\n",
    "    - len(sets_lookback_slices) = n_samples = 2\n",
    "    - last tuple in each list, i.e. (417, 447, 452) and (265, 295, 300), is a tuple from max_lookback_slices\n",
    "    - where a set, e.g. [(437, 447, 452), (427, 447, 452), (417, 447, 452)]:\n",
    "      - middle number, 447, iloc of the \"pivot day\" is constant for that set\n",
    "      - middle number - first number, is the training period specified in days_lookbacks\n",
    "        - 447 - 437 = middle number - first number = days_lookbacks[0] = 10\n",
    "        - 447 - 427 = middle number - first number = days_lookbacks[1] = 20\n",
    "        - 447 - 417 = middle number - first number = days_lookbacks[2] = 30\n",
    "      - last number, 452, iloc of the end of the evaluation period is constant\n",
    "        - 452 - 447 = last number - middle number = days_eval = 5"
   ]
  },
  {
   "cell_type": "code",
   "execution_count": 12,
   "id": "f4ed8ec1",
   "metadata": {
    "execution": {
     "iopub.execute_input": "2023-03-25T03:28:06.610780Z",
     "iopub.status.busy": "2023-03-25T03:28:06.609781Z",
     "iopub.status.idle": "2023-03-25T03:28:06.634778Z",
     "shell.execute_reply": "2023-03-25T03:28:06.633781Z"
    },
    "papermill": {
     "duration": 0.035999,
     "end_time": "2023-03-25T03:28:06.636778",
     "exception": false,
     "start_time": "2023-03-25T03:28:06.600779",
     "status": "completed"
    },
    "tags": []
   },
   "outputs": [
    {
     "name": "stdout",
     "output_type": "stream",
     "text": [
      "number of max_lookback_slices is equal to n_samples = 400\n",
      "max_lookback_slices:\n",
      "[(379, 409, 413), (91, 121, 125), (471, 501, 505), (408, 438, 442), (725, 755, 759), (989, 1019, 1023), (75, 105, 109), (137, 167, 171), (478, 508, 512), (721, 751, 755), (494, 524, 528), (51, 81, 85), (600, 630, 634), (715, 745, 749), (457, 487, 491), (324, 354, 358), (983, 1013, 1017), (518, 548, 552), (199, 229, 233), (1015, 1045, 1049), (682, 712, 716), (817, 847, 851), (231, 261, 265), (994, 1024, 1028), (605, 635, 639), (892, 922, 926), (370, 400, 404), (203, 233, 237), (543, 573, 577), (1, 31, 35), (639, 669, 673), (185, 215, 219), (449, 479, 483), (543, 573, 577), (36, 66, 70), (2, 32, 36), (775, 805, 809), (461, 491, 495), (1013, 1043, 1047), (499, 529, 533), (948, 978, 982), (567, 597, 601), (689, 719, 723), (964, 994, 998), (52, 82, 86), (849, 879, 883), (5, 35, 39), (782, 812, 816), (474, 504, 508), (63, 93, 97), (108, 138, 142), (456, 486, 490), (52, 82, 86), (213, 243, 247), (810, 840, 844), (663, 693, 697), (552, 582, 586), (286, 316, 320), (210, 240, 244), (1004, 1034, 1038), (227, 257, 261), (895, 925, 929), (43, 73, 77), (943, 973, 977), (191, 221, 225), (191, 221, 225), (420, 450, 454), (788, 818, 822), (898, 928, 932), (603, 633, 637), (20, 50, 54), (326, 356, 360), (251, 281, 285), (611, 641, 645), (588, 618, 622), (245, 275, 279), (734, 764, 768), (559, 589, 593), (344, 374, 378), (524, 554, 558), (24, 54, 58), (533, 563, 567), (779, 809, 813), (768, 798, 802), (767, 797, 801), (422, 452, 456), (1005, 1035, 1039), (847, 877, 881), (24, 54, 58), (117, 147, 151), (3, 33, 37), (200, 230, 234), (5, 35, 39), (209, 239, 243), (365, 395, 399), (463, 493, 497), (630, 660, 664), (977, 1007, 1011), (42, 72, 76), (316, 346, 350), (960, 990, 994), (600, 630, 634), (176, 206, 210), (307, 337, 341), (778, 808, 812), (65, 95, 99), (981, 1011, 1015), (842, 872, 876), (926, 956, 960), (341, 371, 375), (385, 415, 419), (315, 345, 349), (617, 647, 651), (73, 103, 107), (302, 332, 336), (692, 722, 726), (363, 393, 397), (83, 113, 117), (699, 729, 733), (271, 301, 305), (482, 512, 516), (161, 191, 195), (1004, 1034, 1038), (794, 824, 828), (335, 365, 369), (566, 596, 600), (578, 608, 612), (136, 166, 170), (403, 433, 437), (143, 173, 177), (248, 278, 282), (151, 181, 185), (551, 581, 585), (355, 385, 389), (194, 224, 228), (919, 949, 953), (365, 395, 399), (974, 1004, 1008), (174, 204, 208), (650, 680, 684), (576, 606, 610), (332, 362, 366), (345, 375, 379), (776, 806, 810), (789, 819, 823), (215, 245, 249), (29, 59, 63), (657, 687, 691), (333, 363, 367), (457, 487, 491), (770, 800, 804), (334, 364, 368), (523, 553, 557), (566, 596, 600), (124, 154, 158), (813, 843, 847), (204, 234, 238), (762, 792, 796), (272, 302, 306), (379, 409, 413), (491, 521, 525), (121, 151, 155), (748, 778, 782), (238, 268, 272), (322, 352, 356), (304, 334, 338), (722, 752, 756), (737, 767, 771), (2, 32, 36), (467, 497, 501), (697, 727, 731), (455, 485, 489), (16, 46, 50), (377, 407, 411), (88, 118, 122), (313, 343, 347), (566, 596, 600), (559, 589, 593), (556, 586, 590), (274, 304, 308), (929, 959, 963), (976, 1006, 1010), (1, 31, 35), (1004, 1034, 1038), (709, 739, 743), (539, 569, 573), (199, 229, 233), (69, 99, 103), (63, 93, 97), (753, 783, 787), (326, 356, 360), (995, 1025, 1029), (33, 63, 67), (756, 786, 790), (640, 670, 674), (724, 754, 758), (91, 121, 125), (732, 762, 766), (376, 406, 410), (286, 316, 320), (799, 829, 833), (361, 391, 395), (466, 496, 500), (150, 180, 184), (453, 483, 487), (576, 606, 610), (342, 372, 376), (372, 402, 406), (578, 608, 612), (259, 289, 293), (920, 950, 954), (609, 639, 643), (183, 213, 217), (419, 449, 453), (775, 805, 809), (604, 634, 638), (850, 880, 884), (144, 174, 178), (557, 587, 591), (234, 264, 268), (1010, 1040, 1044), (612, 642, 646), (606, 636, 640), (760, 790, 794), (283, 313, 317), (33, 63, 67), (30, 60, 64), (311, 341, 345), (949, 979, 983), (644, 674, 678), (262, 292, 296), (701, 731, 735), (149, 179, 183), (467, 497, 501), (514, 544, 548), (864, 894, 898), (478, 508, 512), (349, 379, 383), (1005, 1035, 1039), (349, 379, 383), (108, 138, 142), (697, 727, 731), (578, 608, 612), (525, 555, 559), (500, 530, 534), (254, 284, 288), (603, 633, 637), (458, 488, 492), (670, 700, 704), (158, 188, 192), (191, 221, 225), (149, 179, 183), (17, 47, 51), (548, 578, 582), (699, 729, 733), (48, 78, 82), (547, 577, 581), (140, 170, 174), (375, 405, 409), (694, 724, 728), (599, 629, 633), (290, 320, 324), (655, 685, 689), (959, 989, 993), (351, 381, 385), (845, 875, 879), (226, 256, 260), (868, 898, 902), (549, 579, 583), (531, 561, 565), (290, 320, 324), (548, 578, 582), (1015, 1045, 1049), (447, 477, 481), (330, 360, 364), (680, 710, 714), (289, 319, 323), (961, 991, 995), (754, 784, 788), (56, 86, 90), (382, 412, 416), (740, 770, 774), (626, 656, 660), (924, 954, 958), (926, 956, 960), (281, 311, 315), (608, 638, 642), (482, 512, 516), (642, 672, 676), (714, 744, 748), (923, 953, 957), (411, 441, 445), (770, 800, 804), (40, 70, 74), (278, 308, 312), (961, 991, 995), (446, 476, 480), (951, 981, 985), (940, 970, 974), (278, 308, 312), (301, 331, 335), (485, 515, 519), (103, 133, 137), (99, 129, 133), (371, 401, 405), (741, 771, 775), (211, 241, 245), (802, 832, 836), (790, 820, 824), (715, 745, 749), (446, 476, 480), (1006, 1036, 1040), (293, 323, 327), (910, 940, 944), (469, 499, 503), (117, 147, 151), (287, 317, 321), (301, 331, 335), (655, 685, 689), (42, 72, 76), (703, 733, 737), (248, 278, 282), (448, 478, 482), (230, 260, 264), (111, 141, 145), (127, 157, 161), (999, 1029, 1033), (641, 671, 675), (718, 748, 752), (85, 115, 119), (672, 702, 706), (343, 373, 377), (162, 192, 196), (346, 376, 380), (192, 222, 226), (673, 703, 707), (659, 689, 693), (834, 864, 868), (60, 90, 94), (754, 784, 788), (528, 558, 562), (149, 179, 183), (550, 580, 584), (873, 903, 907), (225, 255, 259), (377, 407, 411), (433, 463, 467), (570, 600, 604), (67, 97, 101), (498, 528, 532), (563, 593, 597), (121, 151, 155), (395, 425, 429), (216, 246, 250), (247, 277, 281), (178, 208, 212), (578, 608, 612), (574, 604, 608), (262, 292, 296), (927, 957, 961), (26, 56, 60), (630, 660, 664), (251, 281, 285), (801, 831, 835), (107, 137, 141), (233, 263, 267), (73, 103, 107), (48, 78, 82), (725, 755, 759), (109, 139, 143), (548, 578, 582), (836, 866, 870), (861, 891, 895), (611, 641, 645), (56, 86, 90), (968, 998, 1002), (170, 200, 204), (75, 105, 109), (138, 168, 172), (581, 611, 615), (851, 881, 885), (382, 412, 416), (369, 399, 403), (449, 479, 483), (920, 950, 954), (60, 90, 94), (329, 359, 363), (370, 400, 404), (222, 252, 256), (801, 831, 835), (915, 945, 949), (55, 85, 89), (22, 52, 56), (106, 136, 140), (337, 367, 371), (69, 99, 103), (699, 729, 733), (528, 558, 562), (573, 603, 607), (723, 753, 757)]\n",
      "\n",
      "days_lookbacks: [30]\n",
      "sets_lookback_slices:\n",
      "[[(379, 409, 413)], [(91, 121, 125)], [(471, 501, 505)], [(408, 438, 442)], [(725, 755, 759)], [(989, 1019, 1023)], [(75, 105, 109)], [(137, 167, 171)], [(478, 508, 512)], [(721, 751, 755)], [(494, 524, 528)], [(51, 81, 85)], [(600, 630, 634)], [(715, 745, 749)], [(457, 487, 491)], [(324, 354, 358)], [(983, 1013, 1017)], [(518, 548, 552)], [(199, 229, 233)], [(1015, 1045, 1049)], [(682, 712, 716)], [(817, 847, 851)], [(231, 261, 265)], [(994, 1024, 1028)], [(605, 635, 639)], [(892, 922, 926)], [(370, 400, 404)], [(203, 233, 237)], [(543, 573, 577)], [(1, 31, 35)], [(639, 669, 673)], [(185, 215, 219)], [(449, 479, 483)], [(543, 573, 577)], [(36, 66, 70)], [(2, 32, 36)], [(775, 805, 809)], [(461, 491, 495)], [(1013, 1043, 1047)], [(499, 529, 533)], [(948, 978, 982)], [(567, 597, 601)], [(689, 719, 723)], [(964, 994, 998)], [(52, 82, 86)], [(849, 879, 883)], [(5, 35, 39)], [(782, 812, 816)], [(474, 504, 508)], [(63, 93, 97)], [(108, 138, 142)], [(456, 486, 490)], [(52, 82, 86)], [(213, 243, 247)], [(810, 840, 844)], [(663, 693, 697)], [(552, 582, 586)], [(286, 316, 320)], [(210, 240, 244)], [(1004, 1034, 1038)], [(227, 257, 261)], [(895, 925, 929)], [(43, 73, 77)], [(943, 973, 977)], [(191, 221, 225)], [(191, 221, 225)], [(420, 450, 454)], [(788, 818, 822)], [(898, 928, 932)], [(603, 633, 637)], [(20, 50, 54)], [(326, 356, 360)], [(251, 281, 285)], [(611, 641, 645)], [(588, 618, 622)], [(245, 275, 279)], [(734, 764, 768)], [(559, 589, 593)], [(344, 374, 378)], [(524, 554, 558)], [(24, 54, 58)], [(533, 563, 567)], [(779, 809, 813)], [(768, 798, 802)], [(767, 797, 801)], [(422, 452, 456)], [(1005, 1035, 1039)], [(847, 877, 881)], [(24, 54, 58)], [(117, 147, 151)], [(3, 33, 37)], [(200, 230, 234)], [(5, 35, 39)], [(209, 239, 243)], [(365, 395, 399)], [(463, 493, 497)], [(630, 660, 664)], [(977, 1007, 1011)], [(42, 72, 76)], [(316, 346, 350)], [(960, 990, 994)], [(600, 630, 634)], [(176, 206, 210)], [(307, 337, 341)], [(778, 808, 812)], [(65, 95, 99)], [(981, 1011, 1015)], [(842, 872, 876)], [(926, 956, 960)], [(341, 371, 375)], [(385, 415, 419)], [(315, 345, 349)], [(617, 647, 651)], [(73, 103, 107)], [(302, 332, 336)], [(692, 722, 726)], [(363, 393, 397)], [(83, 113, 117)], [(699, 729, 733)], [(271, 301, 305)], [(482, 512, 516)], [(161, 191, 195)], [(1004, 1034, 1038)], [(794, 824, 828)], [(335, 365, 369)], [(566, 596, 600)], [(578, 608, 612)], [(136, 166, 170)], [(403, 433, 437)], [(143, 173, 177)], [(248, 278, 282)], [(151, 181, 185)], [(551, 581, 585)], [(355, 385, 389)], [(194, 224, 228)], [(919, 949, 953)], [(365, 395, 399)], [(974, 1004, 1008)], [(174, 204, 208)], [(650, 680, 684)], [(576, 606, 610)], [(332, 362, 366)], [(345, 375, 379)], [(776, 806, 810)], [(789, 819, 823)], [(215, 245, 249)], [(29, 59, 63)], [(657, 687, 691)], [(333, 363, 367)], [(457, 487, 491)], [(770, 800, 804)], [(334, 364, 368)], [(523, 553, 557)], [(566, 596, 600)], [(124, 154, 158)], [(813, 843, 847)], [(204, 234, 238)], [(762, 792, 796)], [(272, 302, 306)], [(379, 409, 413)], [(491, 521, 525)], [(121, 151, 155)], [(748, 778, 782)], [(238, 268, 272)], [(322, 352, 356)], [(304, 334, 338)], [(722, 752, 756)], [(737, 767, 771)], [(2, 32, 36)], [(467, 497, 501)], [(697, 727, 731)], [(455, 485, 489)], [(16, 46, 50)], [(377, 407, 411)], [(88, 118, 122)], [(313, 343, 347)], [(566, 596, 600)], [(559, 589, 593)], [(556, 586, 590)], [(274, 304, 308)], [(929, 959, 963)], [(976, 1006, 1010)], [(1, 31, 35)], [(1004, 1034, 1038)], [(709, 739, 743)], [(539, 569, 573)], [(199, 229, 233)], [(69, 99, 103)], [(63, 93, 97)], [(753, 783, 787)], [(326, 356, 360)], [(995, 1025, 1029)], [(33, 63, 67)], [(756, 786, 790)], [(640, 670, 674)], [(724, 754, 758)], [(91, 121, 125)], [(732, 762, 766)], [(376, 406, 410)], [(286, 316, 320)], [(799, 829, 833)], [(361, 391, 395)], [(466, 496, 500)], [(150, 180, 184)], [(453, 483, 487)], [(576, 606, 610)], [(342, 372, 376)], [(372, 402, 406)], [(578, 608, 612)], [(259, 289, 293)], [(920, 950, 954)], [(609, 639, 643)], [(183, 213, 217)], [(419, 449, 453)], [(775, 805, 809)], [(604, 634, 638)], [(850, 880, 884)], [(144, 174, 178)], [(557, 587, 591)], [(234, 264, 268)], [(1010, 1040, 1044)], [(612, 642, 646)], [(606, 636, 640)], [(760, 790, 794)], [(283, 313, 317)], [(33, 63, 67)], [(30, 60, 64)], [(311, 341, 345)], [(949, 979, 983)], [(644, 674, 678)], [(262, 292, 296)], [(701, 731, 735)], [(149, 179, 183)], [(467, 497, 501)], [(514, 544, 548)], [(864, 894, 898)], [(478, 508, 512)], [(349, 379, 383)], [(1005, 1035, 1039)], [(349, 379, 383)], [(108, 138, 142)], [(697, 727, 731)], [(578, 608, 612)], [(525, 555, 559)], [(500, 530, 534)], [(254, 284, 288)], [(603, 633, 637)], [(458, 488, 492)], [(670, 700, 704)], [(158, 188, 192)], [(191, 221, 225)], [(149, 179, 183)], [(17, 47, 51)], [(548, 578, 582)], [(699, 729, 733)], [(48, 78, 82)], [(547, 577, 581)], [(140, 170, 174)], [(375, 405, 409)], [(694, 724, 728)], [(599, 629, 633)], [(290, 320, 324)], [(655, 685, 689)], [(959, 989, 993)], [(351, 381, 385)], [(845, 875, 879)], [(226, 256, 260)], [(868, 898, 902)], [(549, 579, 583)], [(531, 561, 565)], [(290, 320, 324)], [(548, 578, 582)], [(1015, 1045, 1049)], [(447, 477, 481)], [(330, 360, 364)], [(680, 710, 714)], [(289, 319, 323)], [(961, 991, 995)], [(754, 784, 788)], [(56, 86, 90)], [(382, 412, 416)], [(740, 770, 774)], [(626, 656, 660)], [(924, 954, 958)], [(926, 956, 960)], [(281, 311, 315)], [(608, 638, 642)], [(482, 512, 516)], [(642, 672, 676)], [(714, 744, 748)], [(923, 953, 957)], [(411, 441, 445)], [(770, 800, 804)], [(40, 70, 74)], [(278, 308, 312)], [(961, 991, 995)], [(446, 476, 480)], [(951, 981, 985)], [(940, 970, 974)], [(278, 308, 312)], [(301, 331, 335)], [(485, 515, 519)], [(103, 133, 137)], [(99, 129, 133)], [(371, 401, 405)], [(741, 771, 775)], [(211, 241, 245)], [(802, 832, 836)], [(790, 820, 824)], [(715, 745, 749)], [(446, 476, 480)], [(1006, 1036, 1040)], [(293, 323, 327)], [(910, 940, 944)], [(469, 499, 503)], [(117, 147, 151)], [(287, 317, 321)], [(301, 331, 335)], [(655, 685, 689)], [(42, 72, 76)], [(703, 733, 737)], [(248, 278, 282)], [(448, 478, 482)], [(230, 260, 264)], [(111, 141, 145)], [(127, 157, 161)], [(999, 1029, 1033)], [(641, 671, 675)], [(718, 748, 752)], [(85, 115, 119)], [(672, 702, 706)], [(343, 373, 377)], [(162, 192, 196)], [(346, 376, 380)], [(192, 222, 226)], [(673, 703, 707)], [(659, 689, 693)], [(834, 864, 868)], [(60, 90, 94)], [(754, 784, 788)], [(528, 558, 562)], [(149, 179, 183)], [(550, 580, 584)], [(873, 903, 907)], [(225, 255, 259)], [(377, 407, 411)], [(433, 463, 467)], [(570, 600, 604)], [(67, 97, 101)], [(498, 528, 532)], [(563, 593, 597)], [(121, 151, 155)], [(395, 425, 429)], [(216, 246, 250)], [(247, 277, 281)], [(178, 208, 212)], [(578, 608, 612)], [(574, 604, 608)], [(262, 292, 296)], [(927, 957, 961)], [(26, 56, 60)], [(630, 660, 664)], [(251, 281, 285)], [(801, 831, 835)], [(107, 137, 141)], [(233, 263, 267)], [(73, 103, 107)], [(48, 78, 82)], [(725, 755, 759)], [(109, 139, 143)], [(548, 578, 582)], [(836, 866, 870)], [(861, 891, 895)], [(611, 641, 645)], [(56, 86, 90)], [(968, 998, 1002)], [(170, 200, 204)], [(75, 105, 109)], [(138, 168, 172)], [(581, 611, 615)], [(851, 881, 885)], [(382, 412, 416)], [(369, 399, 403)], [(449, 479, 483)], [(920, 950, 954)], [(60, 90, 94)], [(329, 359, 363)], [(370, 400, 404)], [(222, 252, 256)], [(801, 831, 835)], [(915, 945, 949)], [(55, 85, 89)], [(22, 52, 56)], [(106, 136, 140)], [(337, 367, 371)], [(69, 99, 103)], [(699, 729, 733)], [(528, 558, 562)], [(573, 603, 607)], [(723, 753, 757)]]\n",
      "\n",
      "number of sets in sets_lookback_slices is equal to n_samples = 400\n",
      "number of tuples in each \"set of lookback slices\" is equal to len(days_lookbacks): 1\n"
     ]
    }
   ],
   "source": [
    "# return n_samples slices\n",
    "max_lookback_slices = _3_random_slices(len_df, n_samples=n_samples, days_lookback=max(days_lookbacks), days_eval=days_eval, verbose=False)\n",
    "# return n_samples * len(days_lookbacks) slices\n",
    "sets_lookback_slices = _4_lookback_slices(max_slices=max_lookback_slices, days_lookbacks=days_lookbacks, verbose=False)\n",
    "\n",
    "if verbose:\n",
    "  print(f'number of max_lookback_slices is equal to n_samples = {n_samples}')\n",
    "  print(f'max_lookback_slices:\\n{max_lookback_slices}\\n')\n",
    "  print(f'days_lookbacks: {days_lookbacks}')  \n",
    "  print(f'sets_lookback_slices:\\n{sets_lookback_slices}\\n')\n",
    "  print(f'number of sets in sets_lookback_slices is equal to n_samples = {n_samples}')\n",
    "  print(f'number of tuples in each \"set of lookback slices\" is equal to len(days_lookbacks): {len(days_lookbacks)}')    "
   ]
  },
  {
   "attachments": {},
   "cell_type": "markdown",
   "id": "ac52e62f",
   "metadata": {
    "papermill": {
     "duration": 0.008999,
     "end_time": "2023-03-25T03:28:06.653777",
     "exception": false,
     "start_time": "2023-03-25T03:28:06.644778",
     "status": "completed"
    },
    "tags": []
   },
   "source": [
    "#### Generate grp_top_set_syms_n_freq. It is a list of sub-lists, e.g.:\n",
    " - [[('AGY', 7), ('PCG', 7), ('KDN', 6), ..., ('CYT', 3)], ..., [('FCN', 9), ('HIG', 9), ('SJR', 8), ..., ('BFH', 2)]]\n",
    "#### grp_top_set_syms_n_freq has n_samples sub-lists. Each sub-list corresponds to a tuple in the max_lookback_slices. Each sub-list has n_top_syms tuples of (symbol, frequency) pairs, and is sorted in descending order of frequency. The frequency is the number of times the symbol appears in the top n_top_syms performance rankings of CAGR/UI, CAGR/retnStd and retnStd/UI.\n",
    "#### Therefore, symbols in the sub-list are the best performing symbols for the periods in days_lookbacks. Each sub-list corresponds to a tuple in max_lookback_slices. There are as many sub-lists as there are tuples in max_lookback_slices."
   ]
  },
  {
   "cell_type": "code",
   "execution_count": null,
   "id": "cf0103fb",
   "metadata": {
    "papermill": {
     "duration": null,
     "end_time": null,
     "exception": false,
     "start_time": "2023-03-25T03:28:06.662780",
     "status": "running"
    },
    "tags": []
   },
   "outputs": [],
   "source": [
    "# grp_top_set_syms_n_freq is a list of lists of top_set_syms_n_freq, e.g.\n",
    "#   [[('AGY', 7), ('PCG', 7), ('KDN', 6), ..., ('CYT', 3)],\n",
    "#    [('FCN', 9), ('HIG', 9), ('SJR', 8), ..., ('BFH', 2)]]\n",
    "#   where each list is the best performing symbols from a lb_slices, e.g.\n",
    "#     [(483, 513, 523), (453, 513, 523), (393, 513, 523)]  \n",
    "grp_top_set_syms_n_freq = []  # list of lists of top_set_symbols_n_freq, there are n_samples lists in list\n",
    "grp_top_set_syms = []  # grp_top_set_syms_n_freq without the frequency count\n",
    "\n",
    "# lb_slices, e.g  [(483, 513, 523), (453, 513, 523), (393, 513, 523)],\n",
    "#  is one max_lookback_slice, e.g. (393, 513, 523), along with\n",
    "#  the remaining slices of the days_lookbacks, e.g. (483, 513, 523), (453, 513, 523)  \n",
    "for i, lb_slices in enumerate(sets_lookback_slices):\n",
    "  print(f'\\n########## {i + 1} of {len(sets_lookback_slices)} lb_slices in sets_lookcak_slices ##########')\n",
    "  # unsorted list of the most frequent symbols in performance metrics of the lb_slices  \n",
    "  grp_most_freq_syms = []\n",
    "  for j, lb_slice in enumerate(lb_slices):  # lb_slice, e.g. (246, 276, 286)\n",
    "    iloc_start_train = lb_slice[0]     # iloc of start of training period\n",
    "    iloc_end_train   = lb_slice[1]     # iloc of end of training period\n",
    "    iloc_start_eval  = iloc_end_train  # iloc of start of evaluation period\n",
    "    iloc_end_eval    = lb_slice[2]     # iloc of end of evaluation period\n",
    "    lookback         = iloc_end_train - iloc_start_train\n",
    "    d_eval           = iloc_end_eval - iloc_start_eval\n",
    "\n",
    "    _df = df.iloc[iloc_start_train:iloc_end_train]\n",
    "    date_start_df_train = _df.index[0].strftime('%Y-%m-%d')\n",
    "    date_end_df_train = _df.index[-1].strftime('%Y-%m-%d')\n",
    "\n",
    "    if verbose:\n",
    "      print(f'days lookback:       {lookback},  {j + 1} of {len(days_lookbacks)} days_lookbacks: {days_lookbacks}')\n",
    "      print(f'lb_slices:           {lb_slices}')\n",
    "      print(f'lb_slice:            {lb_slice}')\n",
    "      print(f'days eval:           {d_eval}')    \n",
    "      print(f'iloc_start_train:    {iloc_start_train}')\n",
    "      print(f'iloc_end_train:      {iloc_end_train}')\n",
    "      print(f'date_start_df_train: {date_start_df_train}')\n",
    "      print(f'date_end_df_train:   {date_end_df_train}')\n",
    "\n",
    "\n",
    "    perf_ranks, most_freq_syms = _5_perf_ranks(_df, n_top_syms=n_top_syms)\n",
    "    # unsorted list of the most frequent symbols in performance metrics of the lb_slices  \n",
    "    grp_most_freq_syms.append(most_freq_syms)  \n",
    "    if verbose:    \n",
    "      # 1 lookback of r_CAGR/UI, r_CAGR/retnStd, r_retnStd/UI\n",
    "      print(f'perf_ranks: {perf_ranks}')  \n",
    "      # most common symbols of perf_ranks \n",
    "      print(f'most_freq_syms: {most_freq_syms}')     \n",
    "      # grp_perf_ranks[lookback] = perf_ranks\n",
    "      print(f'+++ finish lookback slice {lookback} +++\\n')\n",
    "\n",
    "  if verbose:\n",
    "    print(f'grp_most_freq_syms: {grp_most_freq_syms}')\n",
    "    # grp_most_freq_syms a is list of lists of tuples of \n",
    "    #  the most-common-symbols symbol:frequency cumulated from\n",
    "    #  each days_lookback  \n",
    "    print(f'**** finish lookback slices {lb_slices} ****\\n')\n",
    "\n",
    "  # flatten list of lists of (symbol:frequency)\n",
    "  flat_grp_most_freq_syms = [val for sublist in grp_most_freq_syms for val in sublist]\n",
    "  # return \"symbol, frequency\" pairs of the most frequent symbols, i.e. best performing symbols,\n",
    "  #  in flat_grp_most_freq_syms. The paris are sorted in descending frequency.   \n",
    "  set_most_freq_syms = _6_grp_tuples_sort_sum(flat_grp_most_freq_syms, reverse=True)\n",
    "  # get the top n_top_syms of the most frequent \"symbol, frequency\" pairs\n",
    "  top_set_syms_n_freq = set_most_freq_syms[0:n_top_syms]\n",
    "  # get symbols from top_set_syms_n_freq, i[0] = symbol, i[1]=symbol's frequency count\n",
    "  top_set_syms = [i[0] for i in top_set_syms_n_freq[syms_start:syms_end]]  \n",
    "\n",
    "  # grp_top_set_syms_n_freq is a list of lists of top_set_syms_n_freq, e.g.\n",
    "  #   [[('AGY', 7), ('PCG', 7), ('KDN', 6), ..., ('CYT', 3)],\n",
    "  #    [('FCN', 9), ('HIG', 9), ('SJR', 8), ..., ('BFH', 2)]]\n",
    "  #   where each list is the best performing symbols from a lb_slices, e.g.\n",
    "  #     [(483, 513, 523), (453, 513, 523), (393, 513, 523)]    \n",
    "  grp_top_set_syms_n_freq.append(top_set_syms_n_freq)\n",
    "  grp_top_set_syms.append(top_set_syms)\n",
    "\n",
    "  if verbose:  \n",
    "    print(f'top {n_top_syms} ranked symbols and frequency from set {lb_slices}:\\n{top_set_syms_n_freq}')\n",
    "    print(f'top {n_top_syms} ranked symbols from set {lb_slices}:\\n{top_set_syms}')  \n",
    "    print(f'===== finish top {n_top_syms} ranked symbols from days_lookback set {lb_slices} =====\\n\\n')"
   ]
  },
  {
   "attachments": {},
   "cell_type": "markdown",
   "id": "50025c82",
   "metadata": {
    "papermill": {
     "duration": null,
     "end_time": null,
     "exception": null,
     "start_time": null,
     "status": "pending"
    },
    "tags": []
   },
   "source": [
    "#### Output the best performing symbols for each set in sets_lookback_slices"
   ]
  },
  {
   "cell_type": "code",
   "execution_count": null,
   "id": "0f20be77",
   "metadata": {
    "papermill": {
     "duration": null,
     "end_time": null,
     "exception": null,
     "start_time": null,
     "status": "pending"
    },
    "tags": []
   },
   "outputs": [],
   "source": [
    "for i, top_set_syms_n_freq in enumerate(grp_top_set_syms_n_freq):\n",
    "  l_sym_freq_cnt = top_set_sym_freq_cnt(top_set_syms_n_freq)\n",
    "  if verbose:\n",
    "    print(f'set_lookback_slices: {sets_lookback_slices[i]}')\n",
    "    print(f'max_lookback_slices: {max_lookback_slices}\\n')\n",
    "\n",
    "    if run_type == 'current':\n",
    "      print(f'data below will be added to {fp_df_picks}')\n",
    " \n",
    "    print(f'date_end_df_train:   {date_end_df_train}')    \n",
    "    print(f'max_days_lookbacks:  {max_days_lookbacks}')   \n",
    "    print(f'days_lookbacks:      {days_lookbacks}')\n",
    "    print(f'sym_freq_15:         {l_sym_freq_cnt[0]}')\n",
    "    print(f'sym_freq_14:         {l_sym_freq_cnt[1]}')\n",
    "    print(f'sym_freq_13:         {l_sym_freq_cnt[2]}')\n",
    "    print(f'sym_freq_12:         {l_sym_freq_cnt[3]}')\n",
    "    print(f'sym_freq_11:         {l_sym_freq_cnt[4]}')\n",
    "    print(f'sym_freq_10:         {l_sym_freq_cnt[5]}')\n",
    "    print(f'sym_freq_9:          {l_sym_freq_cnt[6]}')\n",
    "    print(f'sym_freq_8:          {l_sym_freq_cnt[7]}')\n",
    "    print(f'sym_freq_7:          {l_sym_freq_cnt[8]}')\n",
    "    print(f'sym_freq_6:          {l_sym_freq_cnt[9]}')\n",
    "    print(f'sym_freq_5:          {l_sym_freq_cnt[10]}')\n",
    "    print(f'sym_freq_4:          {l_sym_freq_cnt[11]}')\n",
    "    print(f'sym_freq_3:          {l_sym_freq_cnt[12]}')\n",
    "    print(f'sym_freq_2:          {l_sym_freq_cnt[13]}\\n')\n",
    "\n",
    "if run_type == 'current':  # record results to df\n",
    "  row_picks0      = [date_end_df_train, max_days_lookbacks, str(days_lookbacks)]\n",
    "  row_picks1      = [str(l_sym_freq_cnt[0]),  str(l_sym_freq_cnt[1]), str(l_sym_freq_cnt[2]),  str(l_sym_freq_cnt[3])]\n",
    "  row_picks2      = [str(l_sym_freq_cnt[4]),  str(l_sym_freq_cnt[5]), str(l_sym_freq_cnt[6]),  str(l_sym_freq_cnt[7])]\n",
    "  row_picks3      = [str(l_sym_freq_cnt[8]),  str(l_sym_freq_cnt[9]), str(l_sym_freq_cnt[10]), str(l_sym_freq_cnt[11])]\n",
    "  row_picks4      = [str(l_sym_freq_cnt[12]), str(l_sym_freq_cnt[13])]\n",
    "  row_picks_total = row_picks0 + row_picks1 + row_picks2 + row_picks3 + row_picks4\n",
    "  print(f'row_picks_total: {row_picks_total}')\n",
    "\n",
    "  df_picks.loc[len(df_picks)] = row_picks_total\n",
    "  pickle_dump(df_picks, path_data_dump, fp_df_picks)\n",
    "  print(f'appended row_picks_total to df_picks:\\n{row_picks_total}\\n')"
   ]
  },
  {
   "attachments": {},
   "cell_type": "markdown",
   "id": "72132b83",
   "metadata": {
    "papermill": {
     "duration": null,
     "end_time": null,
     "exception": null,
     "start_time": null,
     "status": "pending"
    },
    "tags": []
   },
   "source": [
    "#### Evaluate performance of symbols in set_lookback_slices versus SPY"
   ]
  },
  {
   "cell_type": "code",
   "execution_count": null,
   "id": "c6382b45",
   "metadata": {
    "papermill": {
     "duration": null,
     "end_time": null,
     "exception": null,
     "start_time": null,
     "status": "pending"
    },
    "tags": []
   },
   "outputs": [],
   "source": [
    "from myUtils import symb_perf_stats_vectorized_v8\n",
    "\n",
    "print('z_grp_top_set_syms_n_freq:')\n",
    "# zip max_lookback_slices with top performing symbols:freq pairs\n",
    "z_grp_top_set_syms_n_freq = zip(max_lookback_slices, grp_top_set_syms_n_freq)\n",
    "\n",
    "idx_train = pd.Index([])\n",
    "idx_eval = pd.Index([])\n",
    "for i, (_lookback_slice, _top_set_syms_n_freq) in enumerate(z_grp_top_set_syms_n_freq):\n",
    "  iloc_start_train = _lookback_slice[0]\n",
    "  iloc_end_train = _lookback_slice[1]\n",
    "  iloc_start_eval = iloc_end_train\n",
    "  iloc_end_eval = _lookback_slice[2]\n",
    "\n",
    "  print(f'{i + 1 } of {n_samples} max_lookback_slice: {_lookback_slice}\\n')\n",
    "  # print(f'max_lookback_slice: {_lookback_slice}\\n')\n",
    "  # dates correspond to max_lookback_slice\n",
    "  idx_train = df.index[iloc_start_train:iloc_end_train]\n",
    "  date_start_df_train = idx_train[0].strftime('%Y-%m-%d')\n",
    "  date_end_df_train = idx_train[-1].strftime('%Y-%m-%d')\n",
    "  print(f'len(idx_train): {len(idx_train)}')\n",
    "  print(f'idx_train: {idx_train}')\n",
    "  print(f'df_train_dates (inclusive): {date_start_df_train} - {date_end_df_train}\\n')     \n",
    "\n",
    "  if run_type != 'current':\n",
    "    idx_eval = df.index[iloc_start_eval:iloc_end_eval]\n",
    "    date_start_df_eval = idx_eval[0].strftime('%Y-%m-%d')\n",
    "    date_end_df_eval = idx_eval[-1].strftime('%Y-%m-%d')\n",
    "    print(f'len(idx_eval): {len(idx_eval)}')\n",
    "    print(f'idx_eval: {idx_eval}')\n",
    "    print(f'df_eval dates (inclusive): {date_start_df_eval} - {date_end_df_eval}\\n')\n",
    "  else: # run_type == \"current'\n",
    "    print(f'run_type: {run_type}, idx_eval is empty: {idx_eval.empty}')\n",
    "\n",
    "  print(f'top_set_syms_n_freq: {_top_set_syms_n_freq}\\n')   \n",
    "\n",
    "  l_sym_freq_cnt = top_set_sym_freq_cnt(_top_set_syms_n_freq)\n",
    "  if verbose:\n",
    "    print(f'set_lookback_slices: {sets_lookback_slices[i]}')    \n",
    "    print(f'max_lookback_slice:  {_lookback_slice}')\n",
    "    print(f'days_lookbacks:      {days_lookbacks}')\n",
    "    print(f'date_end_df_train:   {date_end_df_train}')\n",
    "    print(f'sym_freq_15:         {l_sym_freq_cnt[0]}')\n",
    "    print(f'sym_freq_14:         {l_sym_freq_cnt[1]}')\n",
    "    print(f'sym_freq_13:         {l_sym_freq_cnt[2]}')\n",
    "    print(f'sym_freq_12:         {l_sym_freq_cnt[4]}')\n",
    "    print(f'sym_freq_10:         {l_sym_freq_cnt[5]}')\n",
    "    print(f'sym_freq_9:          {l_sym_freq_cnt[6]}')\n",
    "    print(f'sym_freq_8:          {l_sym_freq_cnt[7]}')\n",
    "    print(f'sym_freq_7:          {l_sym_freq_cnt[8]}')\n",
    "    print(f'sym_freq_6:          {l_sym_freq_cnt[9]}')\n",
    "    print(f'sym_freq_5:          {l_sym_freq_cnt[10]}')\n",
    "    print(f'sym_freq_4:          {l_sym_freq_cnt[11]}')\n",
    "    print(f'sym_freq_3:          {l_sym_freq_cnt[12]}')\n",
    "    print(f'sym_freq_2:          {l_sym_freq_cnt[13]}\\n') \n",
    "\n",
    "  if idx_eval.empty:\n",
    "    if run_type == 'current':\n",
    "      msg_stop = f'\\n\\n**** Normal termination for run_type \"{run_type}\". Wrote current picks to df_picks ****'\n",
    "      print(f'df_picks:\\n{df_picks}')\n",
    "      raise SystemExit(msg_stop)\n",
    "    else:\n",
    "      msg_stop = f'\\n\\n**** STOPPED df_eval is empty but run_type != \"current\", the run_type is \"{run_type}\" ****'\n",
    "      raise SystemExit(msg_stop)    \n",
    "\n",
    "  _sym_idx = ['SPY']\n",
    "  df_SPY = df[iloc_start_eval:iloc_end_eval][_sym_idx]\n",
    "\n",
    "  (\n",
    "    _symbols,\n",
    "    _period_yr,\n",
    "    _retn,\n",
    "    _DD,\n",
    "    _UI,\n",
    "    _MDD,\n",
    "    _retnMean,\n",
    "    _retnStd,\n",
    "    _retnStd_div_UI,\n",
    "    _CAGR,\n",
    "    _CAGR_div_retnStd,\n",
    "    _CAGR_div_UI,\n",
    "    SPY_retnStd_d_UI,     \n",
    "    SPY_CAGR,\n",
    "    SPY_CAGR_d_retnStd,\n",
    "    SPY_CAGR_d_UI,\n",
    "  ) = symb_perf_stats_vectorized_v8(df_SPY)  \n",
    "\n",
    "  print(f'\\nSPY: retnStd/UI, CAGR/retnStd, CAGR/UI, CAGR: {SPY_retnStd_d_UI[0]:>17,.1f}, {SPY_CAGR_d_retnStd[0]:>17,.1f}, {SPY_CAGR_d_UI[0]:>17.1f}, {SPY_CAGR[0]:>17.1f}')\n",
    "\n",
    "  # drop list with frequency count 2 or less, in l_sym_freq_cnt from zip\n",
    "  zip_cnt_n_syms = zip([15,14,13,12,11,10,9,8,7,6,5,4,3], l_sym_freq_cnt[:-1])\n",
    "  for item in zip_cnt_n_syms:\n",
    "    sym_freq_cnt = item[0]\n",
    "    syms = item[1]\n",
    "    if syms:  # iterate ONLY if there are symbols in syms\n",
    "      df_eval = df[iloc_start_eval:iloc_end_eval][syms]      \n",
    "\n",
    "      if verbose:\n",
    "        print(f'iloc_start_eval: {iloc_start_eval:>6},  df_eval first date: {date_start_df_eval:>10}') \n",
    "        print(f'iloc_end_eval:   {iloc_end_eval:>6},  df_eval last date:  {date_end_df_eval:>10}')        \n",
    "        print(f'frequency count of symbol(s): {sym_freq_cnt}')      \n",
    "\n",
    "        syms_n_SPY = syms + ['SPY']\n",
    "        df_eval_n_SPY = df[iloc_start_eval:iloc_end_eval][syms_n_SPY]   \n",
    "        print(f'\\ndf_eval_n_SPY:\\n{df_eval_n_SPY}\\n')\n",
    "\n",
    "      (\n",
    "        _symbols,\n",
    "        _period_yr,\n",
    "        _retn,\n",
    "        _DD,\n",
    "        _UI,\n",
    "        _MDD,\n",
    "        _retnMean,\n",
    "        _retnStd,\n",
    "        _retnStd_div_UI,\n",
    "        _CAGR,\n",
    "        _CAGR_div_retnStd,\n",
    "        _CAGR_div_UI,\n",
    "        grp_retnStd_d_UI,     \n",
    "        grp_CAGR,\n",
    "        grp_CAGR_d_retnStd,\n",
    "        grp_CAGR_d_UI,\n",
    "      ) = symb_perf_stats_vectorized_v8(df_eval)  \n",
    "      print(f'grp(retnStd/UI):   mean, std, mean/std: {grp_retnStd_d_UI[0]  :>17,.1f}, {grp_retnStd_d_UI[1]  :>17,.1f}, {grp_retnStd_d_UI[2]  :>17,.1f}')\n",
    "      print(f'grp(CAGR/retnStd): mean, std, mean/std: {grp_CAGR_d_retnStd[0]:>17,.1f}, {grp_CAGR_d_retnStd[1]:>17,.1f}, {grp_CAGR_d_retnStd[2]:>17,.1f}')\n",
    "      print(f'grp(CAGR/UI):      mean, std, mean/std: {grp_CAGR_d_UI[0]     :>17,.1f}, {grp_CAGR_d_UI[1]     :>17,.1f}, {grp_CAGR_d_UI[2]     :>17,.1f}')\n",
    "      print(f'grp(CAGR):         mean, std, mean/std: {grp_CAGR[0]          :>17,.1f}, {grp_CAGR[1]          :>17,.1f}, {grp_CAGR[2]          :>17,.1f}\\n')\n",
    "\n",
    "      if store_results:  # record results to df\n",
    "        row_add0      = [n_samples, str(days_lookbacks), days_eval, n_top_syms, syms_start, syms_end, sym_freq_cnt]\n",
    "        row_add1      = [grp_CAGR[0],           grp_CAGR[1],           grp_CAGR[2]]\n",
    "        row_add2      = [grp_CAGR_d_UI[0],      grp_CAGR_d_UI[1],      grp_CAGR_d_UI[2]]\n",
    "        row_add3      = [grp_CAGR_d_retnStd[0], grp_CAGR_d_retnStd[1], grp_CAGR_d_retnStd[2]]\n",
    "        row_add4      = [grp_retnStd_d_UI[0],   grp_retnStd_d_UI[1],   grp_retnStd_d_UI[2]]\n",
    "        row_add5      = [SPY_CAGR[0], SPY_CAGR_d_UI[0], SPY_CAGR_d_retnStd[0], SPY_retnStd_d_UI[0]]\n",
    "        row_add_total = row_add0 + row_add1 + row_add2 + row_add3 + row_add4 + row_add5\n",
    "        print(f'row_add_total: {row_add_total}')\n",
    "        df_eval_results.loc[len(df_eval_results)] = row_add_total\n",
    "        print(f'appended row_add to df_eval_results:\\n{row_add_total}\\n')\n",
    "  \n",
    "  print('='*50, '\\n')  "
   ]
  },
  {
   "cell_type": "code",
   "execution_count": null,
   "id": "7559c141",
   "metadata": {
    "papermill": {
     "duration": null,
     "end_time": null,
     "exception": null,
     "start_time": null,
     "status": "pending"
    },
    "tags": []
   },
   "outputs": [],
   "source": [
    "if store_results:  # record results to df\n",
    "  pickle_dump(df_eval_results, path_data_dump, fp_df_eval_results)\n",
    "  print(f'Save results to: {fp_df_eval_results}')\n",
    "\n",
    "df = pickle_load(path_data_dump, fp_df_eval_results)\n",
    "df.tail()"
   ]
  },
  {
   "cell_type": "code",
   "execution_count": null,
   "id": "ce8f48ba",
   "metadata": {
    "papermill": {
     "duration": null,
     "end_time": null,
     "exception": null,
     "start_time": null,
     "status": "pending"
    },
    "tags": []
   },
   "outputs": [],
   "source": [
    "# df = pickle_load(path_data_dump, fp_df_picks)\n",
    "# df.tail()"
   ]
  }
 ],
 "metadata": {
  "kernelspec": {
   "display_name": ".venv",
   "language": "python",
   "name": "python3"
  },
  "language_info": {
   "codemirror_mode": {
    "name": "ipython",
    "version": 3
   },
   "file_extension": ".py",
   "mimetype": "text/x-python",
   "name": "python",
   "nbconvert_exporter": "python",
   "pygments_lexer": "ipython3",
   "version": "3.8.10"
  },
  "papermill": {
   "default_parameters": {},
   "duration": null,
   "end_time": null,
   "environment_variables": {},
   "exception": null,
   "input_path": "yf_7a.ipynb",
   "output_path": "yf_7aPM_out.ipynb",
   "parameters": {
    "days_eval": 4,
    "days_lookbacks": [
     30
    ],
    "fp_df_eval_results": "df_eval_results_train",
    "n_samples": 400,
    "n_top_syms": 20,
    "run_type": "train",
    "store_results": true,
    "syms_end": 10,
    "syms_start": 0,
    "verbose": true
   },
   "start_time": "2023-03-25T03:28:03.098752",
   "version": "2.4.0"
  },
  "vscode": {
   "interpreter": {
    "hash": "16adeade2e4c2fe5a5c8fae29fa6e6b24d9301998b78edb3420e7dd402ae68a8"
   }
  }
 },
 "nbformat": 4,
 "nbformat_minor": 5
}