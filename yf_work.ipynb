{
 "cells": [
  {
   "cell_type": "code",
   "execution_count": 179,
   "metadata": {},
   "outputs": [],
   "source": [
    "import pandas as pd\n",
    "import numpy as np\n",
    "import datetime\n",
    "# from IPython.display import display, HTML\n",
    "from yf_utils import _2_split_train_val_test, _3_random_slices, _4_lookback_slices\n",
    "from yf_utils import _5_perf_ranks, _6_grp_tuples_sort_sum\n",
    "from myUtils import pickle_load, pickle_dump\n",
    "\n",
    "pd.set_option('display.max_rows', 500)\n",
    "pd.set_option('display.max_columns', 30)\n",
    "pd.set_option('display.max_colwidth', 16)\n",
    "pd.set_option('display.width', 790)\n",
    "\n",
    "path_dir = \"C:/Users/ping/MyDrive/stocks/yfinance/\"\n",
    "path_data_dump = path_dir + \"VSCode_dump/\"\n",
    "\n",
    "fp_df_close_clean = 'df_close_clean'"
   ]
  },
  {
   "cell_type": "code",
   "execution_count": 180,
   "metadata": {},
   "outputs": [
    {
     "data": {
      "text/html": [
       "<div>\n",
       "<style scoped>\n",
       "    .dataframe tbody tr th:only-of-type {\n",
       "        vertical-align: middle;\n",
       "    }\n",
       "\n",
       "    .dataframe tbody tr th {\n",
       "        vertical-align: top;\n",
       "    }\n",
       "\n",
       "    .dataframe thead th {\n",
       "        text-align: right;\n",
       "    }\n",
       "</style>\n",
       "<table border=\"1\" class=\"dataframe\">\n",
       "  <thead>\n",
       "    <tr style=\"text-align: right;\">\n",
       "      <th></th>\n",
       "      <th>col</th>\n",
       "    </tr>\n",
       "  </thead>\n",
       "  <tbody>\n",
       "    <tr>\n",
       "      <th>0</th>\n",
       "      <td>0</td>\n",
       "    </tr>\n",
       "    <tr>\n",
       "      <th>1</th>\n",
       "      <td>1</td>\n",
       "    </tr>\n",
       "    <tr>\n",
       "      <th>2</th>\n",
       "      <td>2</td>\n",
       "    </tr>\n",
       "    <tr>\n",
       "      <th>3</th>\n",
       "      <td>3</td>\n",
       "    </tr>\n",
       "    <tr>\n",
       "      <th>4</th>\n",
       "      <td>4</td>\n",
       "    </tr>\n",
       "    <tr>\n",
       "      <th>5</th>\n",
       "      <td>5</td>\n",
       "    </tr>\n",
       "    <tr>\n",
       "      <th>6</th>\n",
       "      <td>6</td>\n",
       "    </tr>\n",
       "    <tr>\n",
       "      <th>7</th>\n",
       "      <td>7</td>\n",
       "    </tr>\n",
       "    <tr>\n",
       "      <th>8</th>\n",
       "      <td>8</td>\n",
       "    </tr>\n",
       "    <tr>\n",
       "      <th>9</th>\n",
       "      <td>9</td>\n",
       "    </tr>\n",
       "  </tbody>\n",
       "</table>\n",
       "</div>"
      ],
      "text/plain": [
       "   col\n",
       "0    0\n",
       "1    1\n",
       "2    2\n",
       "3    3\n",
       "4    4\n",
       "5    5\n",
       "6    6\n",
       "7    7\n",
       "8    8\n",
       "9    9"
      ]
     },
     "execution_count": 180,
     "metadata": {},
     "output_type": "execute_result"
    }
   ],
   "source": [
    "d =  {'col':np.arange(0, 10, 1, dtype=int)}\n",
    "df = pd.DataFrame(data=d)\n",
    "df\n"
   ]
  },
  {
   "cell_type": "code",
   "execution_count": 181,
   "metadata": {},
   "outputs": [
    {
     "name": "stdout",
     "output_type": "stream",
     "text": [
      "len(df): 10\n"
     ]
    }
   ],
   "source": [
    "print(f'len(df): {len(df)}')\n",
    "# df.iloc[10].empty\n",
    "# df.iloc[len(df)-1:len(df)]\n",
    "# df.iloc[0:len(df)]"
   ]
  },
  {
   "cell_type": "code",
   "execution_count": 182,
   "metadata": {},
   "outputs": [],
   "source": [
    "\n",
    "def _3_random_slices(\n",
    "    len_df, n_samples, days_lookback, days_eval, verbose=False\n",
    "):\n",
    "    \"\"\"Returns a list of random tuples of start_train, end_train, end_eval, where\n",
    "    iloc[start_train:end_train] is used for training,\n",
    "    and iloc[end_train:end_eval] is used for evaluation.  The length of the\n",
    "    list is equal to n_samples.\n",
    "    i.e. [(248, 368, 388), (199, 319, 339), ... (45, 165, 185)]\n",
    "\n",
    "    Args:\n",
    "        len_df(int): length of dataframe\n",
    "        n_samples(int): number of slices to return\n",
    "        days_lookback(int):  number of days to lookback for training\n",
    "        days_eval(int): number of days forward for evaluation\n",
    "\n",
    "    Return:\n",
    "        r_slices(list of tuples): list of random tuples of start_train,\n",
    "        end_train, end_eval, where iloc[start_train:end_train] is used for\n",
    "        training, and iloc[end_train:end_eval] is used for evaluation.\n",
    "          i.e. [(248, 368, 388), (199, 319, 339), ... (45, 165, 185)]\n",
    "    \"\"\"\n",
    "    # v1 correct out-of-bound end_eval\n",
    "    # v2 2023-03-11 check df generated from the random slices \n",
    "\n",
    "    # import random\n",
    "    from random import randint\n",
    "\n",
    "    # random.seed(0)\n",
    "    n_sample = 0\n",
    "    days_total = days_lookback + days_eval\n",
    "    if verbose:\n",
    "        print(\n",
    "            f\"days_lookback: {days_lookback}, days_eval: {days_eval}, days_total: {days_total}, len_df: {len_df}\"\n",
    "        )\n",
    "\n",
    "    if days_total > len_df:    \n",
    "        msg_err = f\"days_total: {days_total} must be less or equal to len_df: {len_df}\"\n",
    "        raise SystemExit(msg_err)\n",
    "\n",
    "    # random slices of iloc for train and eval that fits the constraints:\n",
    "    #  days_lookback + days_eval > len_df\n",
    "    #  start_train >= 0\n",
    "    #  end_train - start_train = days_lookback\n",
    "    #  end_eval - end_train = days_eval\n",
    "    #  end_eval <= len_df\n",
    "    r_slices = []\n",
    "    while n_sample < n_samples:\n",
    "        n_rand = randint(0, len_df)\n",
    "        start_train = n_rand - days_lookback\n",
    "        end_train = n_rand\n",
    "        # start_eval = n_rand\n",
    "        end_eval = n_rand + days_eval\n",
    "        if 0 <= start_train and end_eval <= len_df:              \n",
    "            r_slices.append((start_train, end_train, end_eval))\n",
    "            n_sample += 1\n",
    "\n",
    "    return r_slices\n",
    "\n"
   ]
  },
  {
   "cell_type": "code",
   "execution_count": 198,
   "metadata": {},
   "outputs": [
    {
     "name": "stdout",
     "output_type": "stream",
     "text": [
      "len_df: 10\n",
      "n_samples: 20\n",
      "days_lookbacks: [5]\n",
      "days_eval: 0\n",
      "verbose : True\n"
     ]
    }
   ],
   "source": [
    "len_df = len(df)\n",
    "verbose = True  # True prints more output\n",
    "n_samples = 20\n",
    "# days_lookbacks = [1, 2, 3]\n",
    "days_lookbacks = [5]\n",
    "days_lookbacks.sort()\n",
    "days_eval = 0\n",
    "print(f\"len_df: {len_df}\")\n",
    "print(f'n_samples: {n_samples}')\n",
    "print(f'days_lookbacks: {days_lookbacks}')\n",
    "print(f'days_eval: {days_eval}')\n",
    "print(f'verbose : {verbose }')"
   ]
  },
  {
   "cell_type": "code",
   "execution_count": 199,
   "metadata": {},
   "outputs": [
    {
     "name": "stdout",
     "output_type": "stream",
     "text": [
      "days_lookback: 5, days_eval: 0, days_total: 5, len_df: 10\n"
     ]
    }
   ],
   "source": [
    "max_lookback_slices = _3_random_slices(len_df, n_samples=n_samples, days_lookback=max(days_lookbacks), days_eval=days_eval, verbose=True)"
   ]
  },
  {
   "cell_type": "code",
   "execution_count": 200,
   "metadata": {},
   "outputs": [
    {
     "data": {
      "text/plain": [
       "[(3, 8, 8),\n",
       " (5, 10, 10),\n",
       " (2, 7, 7),\n",
       " (4, 9, 9),\n",
       " (2, 7, 7),\n",
       " (1, 6, 6),\n",
       " (0, 5, 5),\n",
       " (4, 9, 9),\n",
       " (2, 7, 7),\n",
       " (3, 8, 8),\n",
       " (4, 9, 9),\n",
       " (1, 6, 6),\n",
       " (2, 7, 7),\n",
       " (1, 6, 6),\n",
       " (5, 10, 10),\n",
       " (0, 5, 5),\n",
       " (4, 9, 9),\n",
       " (0, 5, 5),\n",
       " (3, 8, 8),\n",
       " (0, 5, 5)]"
      ]
     },
     "execution_count": 200,
     "metadata": {},
     "output_type": "execute_result"
    }
   ],
   "source": [
    "max_lookback_slices "
   ]
  },
  {
   "cell_type": "code",
   "execution_count": 202,
   "metadata": {},
   "outputs": [
    {
     "name": "stdout",
     "output_type": "stream",
     "text": [
      "df[0:5]:    col\n",
      "0    0\n",
      "1    1\n",
      "2    2\n",
      "3    3\n",
      "4    4\n",
      "\n",
      "df[9:9]: Empty DataFrame\n",
      "Columns: [col]\n",
      "Index: []\n",
      "\n",
      "df[7:10]:    col\n",
      "7    7\n",
      "8    8\n",
      "9    9\n",
      "\n"
     ]
    }
   ],
   "source": [
    "print(f'df[0:5]: {df[0:5]}\\n')\n",
    "# print(f'df[6:10]: {df[6:10]}')\n",
    "# print(f'df[10:10]: {df[10:10]}')\n",
    "print(f'df[9:9]: {df[9:9]}\\n')\n",
    "print(f'df[7:10]: {df[7:10]}\\n')"
   ]
  }
 ],
 "metadata": {
  "kernelspec": {
   "display_name": ".venv",
   "language": "python",
   "name": "python3"
  },
  "language_info": {
   "codemirror_mode": {
    "name": "ipython",
    "version": 3
   },
   "file_extension": ".py",
   "mimetype": "text/x-python",
   "name": "python",
   "nbconvert_exporter": "python",
   "pygments_lexer": "ipython3",
   "version": "3.8.10"
  },
  "orig_nbformat": 4
 },
 "nbformat": 4,
 "nbformat_minor": 2
}
