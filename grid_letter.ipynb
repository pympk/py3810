{
 "cells": [
  {
   "cell_type": "code",
   "execution_count": 7,
   "metadata": {},
   "outputs": [
    {
     "name": "stdout",
     "output_type": "stream",
     "text": [
      "grid spacing, pixels: 10\n",
      "grid spacing, inches: 0.1388888888888889\n",
      "PDF file with grid lines created successfully!\n"
     ]
    }
   ],
   "source": [
    "from reportlab.pdfgen import canvas\n",
    "\n",
    "# Define page dimensions for North American \"letter\" size\n",
    "page_width = 612  # Width in pixels (8.5 inches * 72 pixels/inch)\n",
    "page_height = 792  # Height in pixels (11 inches * 72 pixels/inch)\n",
    "\n",
    "# Define grid parameters\n",
    "grid_spacing = 10  # Distance between grid lines in pixels\n",
    "grid_spacing_in = grid_spacing / 72\n",
    "print(f'grid spacing, pixels: {grid_spacing}')\n",
    "print(f'grid spacing, inches: {grid_spacing_in}')\n",
    "\n",
    "# Create a PDF canvas\n",
    "c = canvas.Canvas(\"grid_letter.pdf\")\n",
    "\n",
    "# Draw horizontal grid lines\n",
    "for y in range(0, page_height + grid_spacing, grid_spacing):\n",
    "    c.line(0, y, page_width, y)\n",
    "\n",
    "# Draw vertical grid lines\n",
    "for x in range(0, page_width + grid_spacing, grid_spacing):\n",
    "    c.line(x, 0, x, page_height)\n",
    "\n",
    "# Save the PDF document\n",
    "c.save()\n",
    "\n",
    "print(\"PDF file with grid lines created successfully!\")\n"
   ]
  }
 ],
 "metadata": {
  "kernelspec": {
   "display_name": ".venv",
   "language": "python",
   "name": "python3"
  },
  "language_info": {
   "codemirror_mode": {
    "name": "ipython",
    "version": 3
   },
   "file_extension": ".py",
   "mimetype": "text/x-python",
   "name": "python",
   "nbconvert_exporter": "python",
   "pygments_lexer": "ipython3",
   "version": "3.8.10"
  },
  "orig_nbformat": 4
 },
 "nbformat": 4,
 "nbformat_minor": 2
}
