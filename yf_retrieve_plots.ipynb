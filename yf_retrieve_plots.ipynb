{
 "cells": [
  {
   "cell_type": "code",
   "execution_count": 1,
   "metadata": {},
   "outputs": [],
   "source": [
    "# retrieve existing plots\n",
    "import webbrowser\n",
    "new = 2 # open in a new tab, if possible\n",
    "path_plot = 'C:/Users/ping/Desktop/plotly/'\n",
    "\n",
    "symbols = ['CRT', 'EQNR', 'ARLP']\n",
    "\n",
    "# retrieve existing plots\n",
    "for symbol in symbols:  \n",
    "  fname = path_plot + symbol + '.html'\n",
    "  url = \"file://\" + fname\n",
    "  webbrowser.open(url,new=new)"
   ]
  }
 ],
 "metadata": {
  "kernelspec": {
   "display_name": "Python 3.7.9 ('.venv': poetry)",
   "language": "python",
   "name": "python3"
  },
  "language_info": {
   "codemirror_mode": {
    "name": "ipython",
    "version": 3
   },
   "file_extension": ".py",
   "mimetype": "text/x-python",
   "name": "python",
   "nbconvert_exporter": "python",
   "pygments_lexer": "ipython3",
   "version": "3.7.9"
  },
  "orig_nbformat": 4,
  "vscode": {
   "interpreter": {
    "hash": "55a3812d65f91e7e7447da6b5cfc60716e82f91e6a92533fb27b46796ad1962a"
   }
  }
 },
 "nbformat": 4,
 "nbformat_minor": 2
}
