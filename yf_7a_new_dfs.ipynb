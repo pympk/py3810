{
 "cells": [
  {
   "cell_type": "code",
   "execution_count": null,
   "metadata": {},
   "outputs": [],
   "source": [
    "import pandas as pd\n",
    "from myUtils import pickle_dump, pickle_load\n",
    "\n",
    "path_dir = \"C:/Users/ping/MyDrive/stocks/yfinance/\"\n",
    "path_data_dump = path_dir + \"VSCode_dump/\"\n",
    "\n",
    "fp_df_eval_results_train    = f'df_eval_results_train'\n",
    "fp_df_eval_results_validate = f'df_eval_results_validate'\n",
    "fp_df_eval_results_test     = f'df_eval_results_test'\n",
    "fp_df_picks  = f'df_picks'"
   ]
  },
  {
   "attachments": {},
   "cell_type": "markdown",
   "metadata": {},
   "source": [
    "#### DANGER: Create a new Dataframe to store current Picks will destroy previous stored Picks."
   ]
  },
  {
   "cell_type": "code",
   "execution_count": null,
   "metadata": {},
   "outputs": [],
   "source": [
    "# columns for current picks\n",
    "col_picks0 = ['date_end_df_train', 'max_days_lookbacks', 'days_lookbacks']\n",
    "col_picks1 = ['sym_freq_15', 'sym_freq_14', 'sym_freq_13', 'sym_freq_12', 'sym_freq_11', 'sym_freq_10', 'sym_freq_9']\n",
    "col_picks2 = ['sym_freq_8',  'sym_freq_7',  'sym_freq_6',  'sym_freq_5',  'sym_freq_4',  'sym_freq_3',  'sym_freq_2']\n",
    "col_picks_total = col_picks0 + col_picks1 + col_picks2\n",
    "print(f'col_picks_total:\\n{col_picks_total}, total columns: {len(col_picks_total)}')\n",
    "\n",
    "# # Creating Empty DataFrame and save it to file\n",
    "df = pd.DataFrame(columns=col_picks_total)\n",
    "pickle_dump(df, path_data_dump, fp_df_picks)\n",
    "df"
   ]
  },
  {
   "attachments": {},
   "cell_type": "markdown",
   "metadata": {},
   "source": [
    "#### DANGER: Create a new Dataframes to store run results will destroy previous stored data."
   ]
  },
  {
   "cell_type": "code",
   "execution_count": null,
   "metadata": {},
   "outputs": [],
   "source": [
    "col_add0 = ['n_samples', 'days_lookbacks', 'days_eval', 'n_top_syms', 'syms_start', 'syms_end', 'sym_freq_cnt']\n",
    "col_add1 = ['grp(CAGR)_mean',         'grp(CAGR)_std',         'grp(CAGR)_mean/std']\n",
    "col_add2 = ['grp(CAGR/UI)_mean',      'grp(CAGR/UI)_std',      'grp(CAGR/UI)_mean/std']\n",
    "col_add3 = ['grp(CAGR/retnStd)_mean', 'grp(CAGR/retnStd)_std', 'grp(CAGR/retnStd)_mean/std']\n",
    "col_add4 = ['grp(retnStd/UI)_mean',   'grp(retnStd/UI)_std',   'grp(retnStd/UI)_mean/std']\n",
    "col_add5 = ['SPY_CAGR', 'SPY_CAGR/UI', 'SPY_CAGR/retnStd', 'SPY_retnStd/UI']\n",
    "\n",
    "col_add_total = col_add0 + col_add1 + col_add2 + col_add3 + col_add4 + col_add5\n",
    "print(f'col_add_total:\\n{col_add_total}, total columns: {len(col_add_total)}')\n",
    "\n",
    "# # Creating Empty DataFrame and save it to file\n",
    "df = pd.DataFrame(columns=col_add_total)\n",
    "pickle_dump(df, path_data_dump, fp_df_eval_results_train)\n",
    "df\n",
    "\n",
    "# # Creating Empty DataFrame and save it to file\n",
    "df = pd.DataFrame(columns=col_add_total)\n",
    "pickle_dump(df, path_data_dump, fp_df_eval_results_validate)\n",
    "df\n",
    "\n",
    "# # Creating Empty DataFrame and save it to file\n",
    "df = pd.DataFrame(columns=col_add_total)\n",
    "pickle_dump(df, path_data_dump, fp_df_eval_results_test)\n",
    "df"
   ]
  },
  {
   "cell_type": "markdown",
   "metadata": {},
   "source": [
    "#### Check run results"
   ]
  },
  {
   "cell_type": "code",
   "execution_count": null,
   "metadata": {},
   "outputs": [],
   "source": [
    "# df = pickle_load(path_data_dump, fp_df_eval_results_train)\n",
    "# df\n",
    "# df = pickle_load(path_data_dump, fp_df_eval_results_validate)\n",
    "# df\n",
    "# df = pickle_load(path_data_dump, fp_df_eval_results_test)\n",
    "# df\n",
    "# df = pickle_load(path_data_dump, fp_df_picks)\n",
    "# df"
   ]
  }
 ],
 "metadata": {
  "kernelspec": {
   "display_name": ".venv",
   "language": "python",
   "name": "python3"
  },
  "language_info": {
   "codemirror_mode": {
    "name": "ipython",
    "version": 3
   },
   "file_extension": ".py",
   "mimetype": "text/x-python",
   "name": "python",
   "nbconvert_exporter": "python",
   "pygments_lexer": "ipython3",
   "version": "3.8.10"
  },
  "orig_nbformat": 4,
  "vscode": {
   "interpreter": {
    "hash": "16adeade2e4c2fe5a5c8fae29fa6e6b24d9301998b78edb3420e7dd402ae68a8"
   }
  }
 },
 "nbformat": 4,
 "nbformat_minor": 2
}
