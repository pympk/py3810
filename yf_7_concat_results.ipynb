{
 "cells": [
  {
   "cell_type": "code",
   "execution_count": null,
   "metadata": {},
   "outputs": [],
   "source": [
    "# https://towardsdatascience.com/pandas-groupby-a-simple-but-detailed-tutorial-314b8f37005d\n",
    "# https://towardsdatascience.com/accessing-data-in-a-multiindex-dataframe-in-pandas-569e8767201d\n",
    "# https://towardsdatascience.com/summarizing-data-with-pandas-crosstab-efc8b9abecf\n",
    "# https://towardsdatascience.com/how-to-flatten-multiindex-columns-and-rows-in-pandas-f5406c50e569\n",
    "# https://datascientyst.com/list-aggregation-functions-aggfunc-groupby-pandas/"
   ]
  },
  {
   "cell_type": "code",
   "execution_count": null,
   "metadata": {},
   "outputs": [],
   "source": [
    "import pandas as pd\n",
    "import numpy as np\n",
    "from IPython.display import display, HTML\n",
    "from yf_utils import _2_split_train_val_test, _3_random_slices, _4_lookback_slices\n",
    "from yf_utils import _5_perf_ranks, _6_grp_tuples_sort_sum\n",
    "from myUtils import pickle_load, pickle_dump\n",
    "\n",
    "pd.set_option('display.max_rows', 500)\n",
    "pd.set_option('display.max_columns', 30)\n",
    "pd.set_option('display.max_colwidth', 18)\n",
    "pd.set_option('display.width', 790)\n",
    "\n",
    "path_dir = \"C:/Users/ping/MyDrive/stocks/yfinance/\"\n",
    "path_data_dump = path_dir + \"VSCode_dump/\"\n",
    "\n",
    "fp_df_eval_sym_freq_results = 'df_eval_sym_freq_results'\n",
    "fp_df_eval_sym_freq_results_validate = 'df_eval_sym_freq_results_validate'\n",
    "fp_df_eval_sym_freq_results_test = 'df_eval_sym_freq_results_test'"
   ]
  },
  {
   "attachments": {},
   "cell_type": "markdown",
   "metadata": {},
   "source": [
    "START: Concatenate and pickle Train, Validate and Test results"
   ]
  },
  {
   "cell_type": "code",
   "execution_count": null,
   "metadata": {},
   "outputs": [],
   "source": [
    "df = pickle_load(path_data_dump, fp_df_eval_sym_freq_results)\n",
    "run_type = 'train'\n",
    "name_table = 'tbl_train'\n",
    "\n",
    "# df = pickle_load(path_data_dump, fp_df_eval_sym_freq_results_validate)\n",
    "# run_type = 'validate'\n",
    "# name_table = 'tbl_val'\n",
    "\n",
    "# df = pickle_load(path_data_dump, fp_df_eval_sym_freq_results_test)\n",
    "# run_type = 'test'\n",
    "# name_table = 'tbl_test'"
   ]
  },
  {
   "cell_type": "code",
   "execution_count": null,
   "metadata": {},
   "outputs": [],
   "source": [
    "# pd.crosstab(df['days_lookbacks'], df['grp(CAGR/UI)_mean'])\n",
    "tbl = df.groupby(['days_lookbacks', 'days_eval', 'sym_freq_cnt'])\\\n",
    "        .agg({'grp(CAGR)_mean':          ['count', 'mean', 'std',],\n",
    "              'grp(CAGR/UI)_mean':       ['mean', 'std',],\n",
    "              'grp(CAGR/retnStd)_mean':  ['mean', 'std',],\n",
    "              'SPY_CAGR':                ['mean', 'std',],\n",
    "              'SPY_CAGR/UI':             ['mean', 'std',],\n",
    "              'SPY_CAGR/retnStd':        ['mean', 'std',],                           \n",
    "              })\n",
    "# tbl"
   ]
  },
  {
   "cell_type": "code",
   "execution_count": null,
   "metadata": {},
   "outputs": [],
   "source": [
    "tbl['dif_CAGR_mean'] = tbl['grp(CAGR)_mean', 'mean'] - tbl['SPY_CAGR', 'mean']\n",
    "tbl['dif_CAGR/UI_mean'] = tbl['grp(CAGR/UI)_mean', 'mean'] - tbl['SPY_CAGR/UI', 'mean'] \n",
    "tbl['dif_CAGR/retnStd_mean'] = tbl['grp(CAGR/retnStd)_mean', 'mean'] - tbl['SPY_CAGR/retnStd', 'mean'] \n",
    "tbl['grp_CAGR/UI_mean/std'] = tbl['grp(CAGR/UI)_mean', 'mean'] / tbl['grp(CAGR/UI)_mean', 'std']  \n",
    "tbl['SPY_CAGR/UI_mean/std'] = tbl['SPY_CAGR/UI', 'mean'] / tbl['SPY_CAGR/UI', 'std'] \n",
    "tbl['dif_CAGR/UI_mean/std'] = tbl['grp_CAGR/UI_mean/std']  - tbl['SPY_CAGR/UI_mean/std'] \n",
    "# tbl.sort_values(by='dif_CAGR/UI_mean', ascending=False, inplace=True)\n",
    "# tbl.sort_values(by='dif_CAGR/UI_mean/std', ascending=False, inplace=True)\n",
    "# tbl"
   ]
  },
  {
   "cell_type": "code",
   "execution_count": null,
   "metadata": {},
   "outputs": [],
   "source": [
    "tbl.sort_values(by='dif_CAGR/UI_mean/std', ascending=False, inplace=True)\n",
    "tbl['pct_rank_d_CAGR/UI_m/s'] = tbl['dif_CAGR/UI_mean/std'].rank(pct=True)\n",
    "tbl.head()\n",
    "# len(tbl)"
   ]
  },
  {
   "cell_type": "code",
   "execution_count": null,
   "metadata": {},
   "outputs": [],
   "source": [
    "tbl['run_type'] = run_type"
   ]
  },
  {
   "cell_type": "code",
   "execution_count": null,
   "metadata": {},
   "outputs": [],
   "source": [
    "pickle_dump(tbl, path_data_dump, name_table)\n",
    "# pickle_dump(tbl, path_data_dump, 'tbl.validate')\n",
    "# pickle_dump(tbl, path_data_dump, 'tbl.test')"
   ]
  },
  {
   "attachments": {},
   "cell_type": "markdown",
   "metadata": {},
   "source": [
    "End: Concatenate and pickle Train, Validate and Test results"
   ]
  },
  {
   "cell_type": "code",
   "execution_count": null,
   "metadata": {},
   "outputs": [],
   "source": []
  },
  {
   "cell_type": "code",
   "execution_count": null,
   "metadata": {},
   "outputs": [],
   "source": []
  },
  {
   "cell_type": "code",
   "execution_count": null,
   "metadata": {},
   "outputs": [],
   "source": [
    "# tbl_train = pickle_load(path_data_dump, 'tbl.train')\n",
    "# # tbl_train.head()\n",
    "# tbl_val = pickle_load(path_data_dump, 'tbl.validate')\n",
    "# # tbl_val.head()\n",
    "# tbl_test = pickle_load(path_data_dump, 'tbl.test')\n",
    "# # tbl_test.head()\n"
   ]
  },
  {
   "cell_type": "code",
   "execution_count": null,
   "metadata": {},
   "outputs": [],
   "source": [
    "# print(f'len(tbl_train): {len(tbl_train)}')\n",
    "# print(f'len(tbl_val): {len(tbl_val)}')\n",
    "# print(f'len(tbl_test): {len(tbl_test)}')"
   ]
  },
  {
   "cell_type": "code",
   "execution_count": null,
   "metadata": {},
   "outputs": [],
   "source": [
    "tbl_concat = pd.concat([tbl_train, tbl_val, tbl_test])\n",
    "tbl_concat.sort_values(by=[\"days_lookbacks\", \"days_eval\", \"sym_freq_cnt\"])\n",
    "# tbl_concat.head()"
   ]
  },
  {
   "cell_type": "code",
   "execution_count": null,
   "metadata": {},
   "outputs": [],
   "source": [
    "tbl_concat.groupby(level=[0,1,2]).sum().sort_values('pct_rank_d_CAGR/UI_m/s', ascending=False)\n",
    "tbl_concat.head()"
   ]
  }
 ],
 "metadata": {
  "kernelspec": {
   "display_name": ".venv",
   "language": "python",
   "name": "python3"
  },
  "language_info": {
   "codemirror_mode": {
    "name": "ipython",
    "version": 3
   },
   "file_extension": ".py",
   "mimetype": "text/x-python",
   "name": "python",
   "nbconvert_exporter": "python",
   "pygments_lexer": "ipython3",
   "version": "3.8.10"
  },
  "orig_nbformat": 4,
  "vscode": {
   "interpreter": {
    "hash": "16adeade2e4c2fe5a5c8fae29fa6e6b24d9301998b78edb3420e7dd402ae68a8"
   }
  }
 },
 "nbformat": 4,
 "nbformat_minor": 2
}
