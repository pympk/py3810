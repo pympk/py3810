{
 "cells": [
  {
   "cell_type": "code",
   "execution_count": 13,
   "metadata": {},
   "outputs": [],
   "source": [
    "# https://www.wrighters.io/parameters-jupyter-notebooks-with-papermill/\n",
    "import papermill as pm\n",
    "from itertools import product"
   ]
  },
  {
   "cell_type": "code",
   "execution_count": 14,
   "metadata": {},
   "outputs": [],
   "source": [
    "verbose = True  # True prints more output\n",
    "# verbose = False  # True prints more output\n",
    "\n",
    "# write run results to df_eval_results\n",
    "# store_results = False\n",
    "store_results = True\n",
    "\n",
    "# number of max lookback tuples to create for iloc start_train:end_train:end_eval\n",
    "# i.e. number of grp_top_set_syms_n_freq and grp_top_set_syms \n",
    "# n_samples = 400  # train\n",
    "# n_samples = 114    # validate\n",
    "n_samples = 57     # test  \n",
    "# n_samples = 2      # debug\n",
    "\n",
    "# number of the most-common symbols from days_lookbacks' performance rankings to keep\n",
    "n_top_syms = 20  \n",
    "\n",
    "syms_start = 0  #  start index of n_top_syms for evaluation\n",
    "syms_end = 10  #  end index of n_top_syms for evaluation"
   ]
  },
  {
   "cell_type": "code",
   "execution_count": 15,
   "metadata": {},
   "outputs": [],
   "source": [
    "l_days_eval = [4, 5, 6] \n",
    "l_days_lookbacks = [\n",
    "    [15],\n",
    "    [30],\n",
    "    [60],\n",
    "    [120],\n",
    "    [15, 30],\n",
    "    [30, 60],\n",
    "    [60, 120],\n",
    "    [15, 30, 60],\n",
    "    [30, 60, 120],\n",
    "    [15, 30, 60, 120],\n",
    "    ]"
   ]
  },
  {
   "cell_type": "code",
   "execution_count": 16,
   "metadata": {},
   "outputs": [
    {
     "name": "stdout",
     "output_type": "stream",
     "text": [
      "days_eval: 4     days_lookbacks: [15]\n",
      "days_eval: 4     days_lookbacks: [30]\n",
      "days_eval: 4     days_lookbacks: [60]\n",
      "days_eval: 4     days_lookbacks: [120]\n",
      "days_eval: 4     days_lookbacks: [15, 30]\n",
      "days_eval: 4     days_lookbacks: [30, 60]\n",
      "days_eval: 4     days_lookbacks: [60, 120]\n",
      "days_eval: 4     days_lookbacks: [15, 30, 60]\n",
      "days_eval: 4     days_lookbacks: [30, 60, 120]\n",
      "days_eval: 4     days_lookbacks: [15, 30, 60, 120]\n",
      "days_eval: 5     days_lookbacks: [15]\n",
      "days_eval: 5     days_lookbacks: [30]\n",
      "days_eval: 5     days_lookbacks: [60]\n",
      "days_eval: 5     days_lookbacks: [120]\n",
      "days_eval: 5     days_lookbacks: [15, 30]\n",
      "days_eval: 5     days_lookbacks: [30, 60]\n",
      "days_eval: 5     days_lookbacks: [60, 120]\n",
      "days_eval: 5     days_lookbacks: [15, 30, 60]\n",
      "days_eval: 5     days_lookbacks: [30, 60, 120]\n",
      "days_eval: 5     days_lookbacks: [15, 30, 60, 120]\n",
      "days_eval: 6     days_lookbacks: [15]\n",
      "days_eval: 6     days_lookbacks: [30]\n",
      "days_eval: 6     days_lookbacks: [60]\n",
      "days_eval: 6     days_lookbacks: [120]\n",
      "days_eval: 6     days_lookbacks: [15, 30]\n",
      "days_eval: 6     days_lookbacks: [30, 60]\n",
      "days_eval: 6     days_lookbacks: [60, 120]\n",
      "days_eval: 6     days_lookbacks: [15, 30, 60]\n",
      "days_eval: 6     days_lookbacks: [30, 60, 120]\n",
      "days_eval: 6     days_lookbacks: [15, 30, 60, 120]\n"
     ]
    }
   ],
   "source": [
    "\n",
    "for days_eval, days_lookbacks in list(product(l_days_eval, l_days_lookbacks)):\n",
    "  print(f'days_eval: {days_eval}     days_lookbacks: {days_lookbacks}')"
   ]
  },
  {
   "cell_type": "code",
   "execution_count": 17,
   "metadata": {},
   "outputs": [
    {
     "data": {
      "text/plain": [
       "{'verbose': True,\n",
       " 'store_results': True,\n",
       " 'n_samples': 57,\n",
       " 'n_top_syms': 20,\n",
       " 'syms_start': 0,\n",
       " 'syms_end': 10}"
      ]
     },
     "execution_count": 17,
     "metadata": {},
     "output_type": "execute_result"
    }
   ],
   "source": [
    "run_params = dict(\n",
    "                  # days_eval=days_eval,\n",
    "                  # days_lookbacks=days_lookbacks,\n",
    "                  verbose=verbose,\n",
    "                  store_results=store_results, \n",
    "                  n_samples=n_samples,\n",
    "                  n_top_syms=n_top_syms,\n",
    "                  syms_start=syms_start,\n",
    "                  syms_end=syms_end,\n",
    "                  )\n",
    "\n",
    "run_params"
   ]
  },
  {
   "cell_type": "code",
   "execution_count": 18,
   "metadata": {},
   "outputs": [
    {
     "name": "stdout",
     "output_type": "stream",
     "text": [
      "days_eval: 4\n",
      "days_lookbacks: [15]\n",
      "run_params: {'verbose': True, 'store_results': True, 'n_samples': 57, 'n_top_syms': 20, 'syms_start': 0, 'syms_end': 10, 'days_eval': 4, 'days_lookbacks': [15]}\n",
      "\n"
     ]
    },
    {
     "data": {
      "application/vnd.jupyter.widget-view+json": {
       "model_id": "785eb07fd54a4159880ac76a37a10fbd",
       "version_major": 2,
       "version_minor": 0
      },
      "text/plain": [
       "Executing:   0%|          | 0/33 [00:00<?, ?cell/s]"
      ]
     },
     "metadata": {},
     "output_type": "display_data"
    },
    {
     "name": "stdout",
     "output_type": "stream",
     "text": [
      "days_eval: 4\n",
      "days_lookbacks: [30]\n",
      "run_params: {'verbose': True, 'store_results': True, 'n_samples': 57, 'n_top_syms': 20, 'syms_start': 0, 'syms_end': 10, 'days_eval': 4, 'days_lookbacks': [30]}\n",
      "\n"
     ]
    },
    {
     "data": {
      "application/vnd.jupyter.widget-view+json": {
       "model_id": "394fb96f3192474cb3c11d5b8d74eb29",
       "version_major": 2,
       "version_minor": 0
      },
      "text/plain": [
       "Executing:   0%|          | 0/33 [00:00<?, ?cell/s]"
      ]
     },
     "metadata": {},
     "output_type": "display_data"
    },
    {
     "name": "stdout",
     "output_type": "stream",
     "text": [
      "days_eval: 4\n",
      "days_lookbacks: [60]\n",
      "run_params: {'verbose': True, 'store_results': True, 'n_samples': 57, 'n_top_syms': 20, 'syms_start': 0, 'syms_end': 10, 'days_eval': 4, 'days_lookbacks': [60]}\n",
      "\n"
     ]
    },
    {
     "data": {
      "application/vnd.jupyter.widget-view+json": {
       "model_id": "55e587ca912c45cf94a2c634a9e2b88c",
       "version_major": 2,
       "version_minor": 0
      },
      "text/plain": [
       "Executing:   0%|          | 0/33 [00:00<?, ?cell/s]"
      ]
     },
     "metadata": {},
     "output_type": "display_data"
    },
    {
     "name": "stdout",
     "output_type": "stream",
     "text": [
      "days_eval: 4\n",
      "days_lookbacks: [120]\n",
      "run_params: {'verbose': True, 'store_results': True, 'n_samples': 57, 'n_top_syms': 20, 'syms_start': 0, 'syms_end': 10, 'days_eval': 4, 'days_lookbacks': [120]}\n",
      "\n"
     ]
    },
    {
     "data": {
      "application/vnd.jupyter.widget-view+json": {
       "model_id": "a27bfb9fe247404a8eacadf4e655663b",
       "version_major": 2,
       "version_minor": 0
      },
      "text/plain": [
       "Executing:   0%|          | 0/33 [00:00<?, ?cell/s]"
      ]
     },
     "metadata": {},
     "output_type": "display_data"
    },
    {
     "name": "stdout",
     "output_type": "stream",
     "text": [
      "days_eval: 4\n",
      "days_lookbacks: [15, 30]\n",
      "run_params: {'verbose': True, 'store_results': True, 'n_samples': 57, 'n_top_syms': 20, 'syms_start': 0, 'syms_end': 10, 'days_eval': 4, 'days_lookbacks': [15, 30]}\n",
      "\n"
     ]
    },
    {
     "data": {
      "application/vnd.jupyter.widget-view+json": {
       "model_id": "7828d2bb50494253b4516c270c3e2997",
       "version_major": 2,
       "version_minor": 0
      },
      "text/plain": [
       "Executing:   0%|          | 0/33 [00:00<?, ?cell/s]"
      ]
     },
     "metadata": {},
     "output_type": "display_data"
    },
    {
     "name": "stdout",
     "output_type": "stream",
     "text": [
      "days_eval: 4\n",
      "days_lookbacks: [30, 60]\n",
      "run_params: {'verbose': True, 'store_results': True, 'n_samples': 57, 'n_top_syms': 20, 'syms_start': 0, 'syms_end': 10, 'days_eval': 4, 'days_lookbacks': [30, 60]}\n",
      "\n"
     ]
    },
    {
     "data": {
      "application/vnd.jupyter.widget-view+json": {
       "model_id": "ead23e2927234aef883db4d623c9075c",
       "version_major": 2,
       "version_minor": 0
      },
      "text/plain": [
       "Executing:   0%|          | 0/33 [00:00<?, ?cell/s]"
      ]
     },
     "metadata": {},
     "output_type": "display_data"
    },
    {
     "name": "stdout",
     "output_type": "stream",
     "text": [
      "days_eval: 4\n",
      "days_lookbacks: [60, 120]\n",
      "run_params: {'verbose': True, 'store_results': True, 'n_samples': 57, 'n_top_syms': 20, 'syms_start': 0, 'syms_end': 10, 'days_eval': 4, 'days_lookbacks': [60, 120]}\n",
      "\n"
     ]
    },
    {
     "data": {
      "application/vnd.jupyter.widget-view+json": {
       "model_id": "dedc76ba21984f0bb0784b5eff818bef",
       "version_major": 2,
       "version_minor": 0
      },
      "text/plain": [
       "Executing:   0%|          | 0/33 [00:00<?, ?cell/s]"
      ]
     },
     "metadata": {},
     "output_type": "display_data"
    },
    {
     "name": "stdout",
     "output_type": "stream",
     "text": [
      "days_eval: 4\n",
      "days_lookbacks: [15, 30, 60]\n",
      "run_params: {'verbose': True, 'store_results': True, 'n_samples': 57, 'n_top_syms': 20, 'syms_start': 0, 'syms_end': 10, 'days_eval': 4, 'days_lookbacks': [15, 30, 60]}\n",
      "\n"
     ]
    },
    {
     "data": {
      "application/vnd.jupyter.widget-view+json": {
       "model_id": "2da183d444984992b6ba1a16da1cd76c",
       "version_major": 2,
       "version_minor": 0
      },
      "text/plain": [
       "Executing:   0%|          | 0/33 [00:00<?, ?cell/s]"
      ]
     },
     "metadata": {},
     "output_type": "display_data"
    },
    {
     "name": "stdout",
     "output_type": "stream",
     "text": [
      "days_eval: 4\n",
      "days_lookbacks: [30, 60, 120]\n",
      "run_params: {'verbose': True, 'store_results': True, 'n_samples': 57, 'n_top_syms': 20, 'syms_start': 0, 'syms_end': 10, 'days_eval': 4, 'days_lookbacks': [30, 60, 120]}\n",
      "\n"
     ]
    },
    {
     "data": {
      "application/vnd.jupyter.widget-view+json": {
       "model_id": "7b85def8c84f4388be8a7a9caeb5ab1c",
       "version_major": 2,
       "version_minor": 0
      },
      "text/plain": [
       "Executing:   0%|          | 0/33 [00:00<?, ?cell/s]"
      ]
     },
     "metadata": {},
     "output_type": "display_data"
    },
    {
     "name": "stdout",
     "output_type": "stream",
     "text": [
      "days_eval: 4\n",
      "days_lookbacks: [15, 30, 60, 120]\n",
      "run_params: {'verbose': True, 'store_results': True, 'n_samples': 57, 'n_top_syms': 20, 'syms_start': 0, 'syms_end': 10, 'days_eval': 4, 'days_lookbacks': [15, 30, 60, 120]}\n",
      "\n"
     ]
    },
    {
     "data": {
      "application/vnd.jupyter.widget-view+json": {
       "model_id": "315327365d2e4968a4e47cf41475c989",
       "version_major": 2,
       "version_minor": 0
      },
      "text/plain": [
       "Executing:   0%|          | 0/33 [00:00<?, ?cell/s]"
      ]
     },
     "metadata": {},
     "output_type": "display_data"
    },
    {
     "name": "stdout",
     "output_type": "stream",
     "text": [
      "days_eval: 5\n",
      "days_lookbacks: [15]\n",
      "run_params: {'verbose': True, 'store_results': True, 'n_samples': 57, 'n_top_syms': 20, 'syms_start': 0, 'syms_end': 10, 'days_eval': 5, 'days_lookbacks': [15]}\n",
      "\n"
     ]
    },
    {
     "data": {
      "application/vnd.jupyter.widget-view+json": {
       "model_id": "85b5a63ea8e247619ef5b6b02ba5b196",
       "version_major": 2,
       "version_minor": 0
      },
      "text/plain": [
       "Executing:   0%|          | 0/33 [00:00<?, ?cell/s]"
      ]
     },
     "metadata": {},
     "output_type": "display_data"
    },
    {
     "name": "stdout",
     "output_type": "stream",
     "text": [
      "days_eval: 5\n",
      "days_lookbacks: [30]\n",
      "run_params: {'verbose': True, 'store_results': True, 'n_samples': 57, 'n_top_syms': 20, 'syms_start': 0, 'syms_end': 10, 'days_eval': 5, 'days_lookbacks': [30]}\n",
      "\n"
     ]
    },
    {
     "data": {
      "application/vnd.jupyter.widget-view+json": {
       "model_id": "c17a37817e1747ed9282a3f357615759",
       "version_major": 2,
       "version_minor": 0
      },
      "text/plain": [
       "Executing:   0%|          | 0/33 [00:00<?, ?cell/s]"
      ]
     },
     "metadata": {},
     "output_type": "display_data"
    },
    {
     "name": "stdout",
     "output_type": "stream",
     "text": [
      "days_eval: 5\n",
      "days_lookbacks: [60]\n",
      "run_params: {'verbose': True, 'store_results': True, 'n_samples': 57, 'n_top_syms': 20, 'syms_start': 0, 'syms_end': 10, 'days_eval': 5, 'days_lookbacks': [60]}\n",
      "\n"
     ]
    },
    {
     "data": {
      "application/vnd.jupyter.widget-view+json": {
       "model_id": "5959de1754da4a329d072d8dd96b993e",
       "version_major": 2,
       "version_minor": 0
      },
      "text/plain": [
       "Executing:   0%|          | 0/33 [00:00<?, ?cell/s]"
      ]
     },
     "metadata": {},
     "output_type": "display_data"
    },
    {
     "name": "stdout",
     "output_type": "stream",
     "text": [
      "days_eval: 5\n",
      "days_lookbacks: [120]\n",
      "run_params: {'verbose': True, 'store_results': True, 'n_samples': 57, 'n_top_syms': 20, 'syms_start': 0, 'syms_end': 10, 'days_eval': 5, 'days_lookbacks': [120]}\n",
      "\n"
     ]
    },
    {
     "data": {
      "application/vnd.jupyter.widget-view+json": {
       "model_id": "9fb2ed8acc3b402ba3b85558954507ea",
       "version_major": 2,
       "version_minor": 0
      },
      "text/plain": [
       "Executing:   0%|          | 0/33 [00:00<?, ?cell/s]"
      ]
     },
     "metadata": {},
     "output_type": "display_data"
    },
    {
     "name": "stdout",
     "output_type": "stream",
     "text": [
      "days_eval: 5\n",
      "days_lookbacks: [15, 30]\n",
      "run_params: {'verbose': True, 'store_results': True, 'n_samples': 57, 'n_top_syms': 20, 'syms_start': 0, 'syms_end': 10, 'days_eval': 5, 'days_lookbacks': [15, 30]}\n",
      "\n"
     ]
    },
    {
     "data": {
      "application/vnd.jupyter.widget-view+json": {
       "model_id": "5433dc24e3c143a0b835b59f64a3728a",
       "version_major": 2,
       "version_minor": 0
      },
      "text/plain": [
       "Executing:   0%|          | 0/33 [00:00<?, ?cell/s]"
      ]
     },
     "metadata": {},
     "output_type": "display_data"
    },
    {
     "name": "stdout",
     "output_type": "stream",
     "text": [
      "days_eval: 5\n",
      "days_lookbacks: [30, 60]\n",
      "run_params: {'verbose': True, 'store_results': True, 'n_samples': 57, 'n_top_syms': 20, 'syms_start': 0, 'syms_end': 10, 'days_eval': 5, 'days_lookbacks': [30, 60]}\n",
      "\n"
     ]
    },
    {
     "data": {
      "application/vnd.jupyter.widget-view+json": {
       "model_id": "2e343a6f8640436c8e63b14ddb630e92",
       "version_major": 2,
       "version_minor": 0
      },
      "text/plain": [
       "Executing:   0%|          | 0/33 [00:00<?, ?cell/s]"
      ]
     },
     "metadata": {},
     "output_type": "display_data"
    },
    {
     "name": "stdout",
     "output_type": "stream",
     "text": [
      "days_eval: 5\n",
      "days_lookbacks: [60, 120]\n",
      "run_params: {'verbose': True, 'store_results': True, 'n_samples': 57, 'n_top_syms': 20, 'syms_start': 0, 'syms_end': 10, 'days_eval': 5, 'days_lookbacks': [60, 120]}\n",
      "\n"
     ]
    },
    {
     "data": {
      "application/vnd.jupyter.widget-view+json": {
       "model_id": "1a1e0d14d1944d7fa1c3ab8c26b5e21d",
       "version_major": 2,
       "version_minor": 0
      },
      "text/plain": [
       "Executing:   0%|          | 0/33 [00:00<?, ?cell/s]"
      ]
     },
     "metadata": {},
     "output_type": "display_data"
    },
    {
     "name": "stdout",
     "output_type": "stream",
     "text": [
      "days_eval: 5\n",
      "days_lookbacks: [15, 30, 60]\n",
      "run_params: {'verbose': True, 'store_results': True, 'n_samples': 57, 'n_top_syms': 20, 'syms_start': 0, 'syms_end': 10, 'days_eval': 5, 'days_lookbacks': [15, 30, 60]}\n",
      "\n"
     ]
    },
    {
     "data": {
      "application/vnd.jupyter.widget-view+json": {
       "model_id": "e91540294b3742efadcdd7de34599ea3",
       "version_major": 2,
       "version_minor": 0
      },
      "text/plain": [
       "Executing:   0%|          | 0/33 [00:00<?, ?cell/s]"
      ]
     },
     "metadata": {},
     "output_type": "display_data"
    },
    {
     "name": "stdout",
     "output_type": "stream",
     "text": [
      "days_eval: 5\n",
      "days_lookbacks: [30, 60, 120]\n",
      "run_params: {'verbose': True, 'store_results': True, 'n_samples': 57, 'n_top_syms': 20, 'syms_start': 0, 'syms_end': 10, 'days_eval': 5, 'days_lookbacks': [30, 60, 120]}\n",
      "\n"
     ]
    },
    {
     "data": {
      "application/vnd.jupyter.widget-view+json": {
       "model_id": "a9bdf1ba381c4f6ba3fea6465cd1ec6a",
       "version_major": 2,
       "version_minor": 0
      },
      "text/plain": [
       "Executing:   0%|          | 0/33 [00:00<?, ?cell/s]"
      ]
     },
     "metadata": {},
     "output_type": "display_data"
    },
    {
     "name": "stdout",
     "output_type": "stream",
     "text": [
      "days_eval: 5\n",
      "days_lookbacks: [15, 30, 60, 120]\n",
      "run_params: {'verbose': True, 'store_results': True, 'n_samples': 57, 'n_top_syms': 20, 'syms_start': 0, 'syms_end': 10, 'days_eval': 5, 'days_lookbacks': [15, 30, 60, 120]}\n",
      "\n"
     ]
    },
    {
     "data": {
      "application/vnd.jupyter.widget-view+json": {
       "model_id": "06638a5638a24cdd94f11485d1cffb93",
       "version_major": 2,
       "version_minor": 0
      },
      "text/plain": [
       "Executing:   0%|          | 0/33 [00:00<?, ?cell/s]"
      ]
     },
     "metadata": {},
     "output_type": "display_data"
    },
    {
     "name": "stdout",
     "output_type": "stream",
     "text": [
      "days_eval: 6\n",
      "days_lookbacks: [15]\n",
      "run_params: {'verbose': True, 'store_results': True, 'n_samples': 57, 'n_top_syms': 20, 'syms_start': 0, 'syms_end': 10, 'days_eval': 6, 'days_lookbacks': [15]}\n",
      "\n"
     ]
    },
    {
     "data": {
      "application/vnd.jupyter.widget-view+json": {
       "model_id": "0c66f1f578c042e8b1c3bedebedf4359",
       "version_major": 2,
       "version_minor": 0
      },
      "text/plain": [
       "Executing:   0%|          | 0/33 [00:00<?, ?cell/s]"
      ]
     },
     "metadata": {},
     "output_type": "display_data"
    },
    {
     "name": "stdout",
     "output_type": "stream",
     "text": [
      "days_eval: 6\n",
      "days_lookbacks: [30]\n",
      "run_params: {'verbose': True, 'store_results': True, 'n_samples': 57, 'n_top_syms': 20, 'syms_start': 0, 'syms_end': 10, 'days_eval': 6, 'days_lookbacks': [30]}\n",
      "\n"
     ]
    },
    {
     "data": {
      "application/vnd.jupyter.widget-view+json": {
       "model_id": "a1e2484f183d401d9739203619cfc1ff",
       "version_major": 2,
       "version_minor": 0
      },
      "text/plain": [
       "Executing:   0%|          | 0/33 [00:00<?, ?cell/s]"
      ]
     },
     "metadata": {},
     "output_type": "display_data"
    },
    {
     "name": "stdout",
     "output_type": "stream",
     "text": [
      "days_eval: 6\n",
      "days_lookbacks: [60]\n",
      "run_params: {'verbose': True, 'store_results': True, 'n_samples': 57, 'n_top_syms': 20, 'syms_start': 0, 'syms_end': 10, 'days_eval': 6, 'days_lookbacks': [60]}\n",
      "\n"
     ]
    },
    {
     "data": {
      "application/vnd.jupyter.widget-view+json": {
       "model_id": "dd6ecf2386e0418280c84f54defbffde",
       "version_major": 2,
       "version_minor": 0
      },
      "text/plain": [
       "Executing:   0%|          | 0/33 [00:00<?, ?cell/s]"
      ]
     },
     "metadata": {},
     "output_type": "display_data"
    },
    {
     "name": "stdout",
     "output_type": "stream",
     "text": [
      "days_eval: 6\n",
      "days_lookbacks: [120]\n",
      "run_params: {'verbose': True, 'store_results': True, 'n_samples': 57, 'n_top_syms': 20, 'syms_start': 0, 'syms_end': 10, 'days_eval': 6, 'days_lookbacks': [120]}\n",
      "\n"
     ]
    },
    {
     "data": {
      "application/vnd.jupyter.widget-view+json": {
       "model_id": "def84d1bd1434c938d1014f17d075e56",
       "version_major": 2,
       "version_minor": 0
      },
      "text/plain": [
       "Executing:   0%|          | 0/33 [00:00<?, ?cell/s]"
      ]
     },
     "metadata": {},
     "output_type": "display_data"
    },
    {
     "name": "stdout",
     "output_type": "stream",
     "text": [
      "days_eval: 6\n",
      "days_lookbacks: [15, 30]\n",
      "run_params: {'verbose': True, 'store_results': True, 'n_samples': 57, 'n_top_syms': 20, 'syms_start': 0, 'syms_end': 10, 'days_eval': 6, 'days_lookbacks': [15, 30]}\n",
      "\n"
     ]
    },
    {
     "data": {
      "application/vnd.jupyter.widget-view+json": {
       "model_id": "7da548f5f4ee479fa2d3421f3650e7e5",
       "version_major": 2,
       "version_minor": 0
      },
      "text/plain": [
       "Executing:   0%|          | 0/33 [00:00<?, ?cell/s]"
      ]
     },
     "metadata": {},
     "output_type": "display_data"
    },
    {
     "name": "stdout",
     "output_type": "stream",
     "text": [
      "days_eval: 6\n",
      "days_lookbacks: [30, 60]\n",
      "run_params: {'verbose': True, 'store_results': True, 'n_samples': 57, 'n_top_syms': 20, 'syms_start': 0, 'syms_end': 10, 'days_eval': 6, 'days_lookbacks': [30, 60]}\n",
      "\n"
     ]
    },
    {
     "data": {
      "application/vnd.jupyter.widget-view+json": {
       "model_id": "88ae36e5952148a6b50533dc7205d3c9",
       "version_major": 2,
       "version_minor": 0
      },
      "text/plain": [
       "Executing:   0%|          | 0/33 [00:00<?, ?cell/s]"
      ]
     },
     "metadata": {},
     "output_type": "display_data"
    },
    {
     "name": "stdout",
     "output_type": "stream",
     "text": [
      "days_eval: 6\n",
      "days_lookbacks: [60, 120]\n",
      "run_params: {'verbose': True, 'store_results': True, 'n_samples': 57, 'n_top_syms': 20, 'syms_start': 0, 'syms_end': 10, 'days_eval': 6, 'days_lookbacks': [60, 120]}\n",
      "\n"
     ]
    },
    {
     "data": {
      "application/vnd.jupyter.widget-view+json": {
       "model_id": "6285d88da4b34b1ba6f34de2f2d1ad70",
       "version_major": 2,
       "version_minor": 0
      },
      "text/plain": [
       "Executing:   0%|          | 0/33 [00:00<?, ?cell/s]"
      ]
     },
     "metadata": {},
     "output_type": "display_data"
    },
    {
     "name": "stdout",
     "output_type": "stream",
     "text": [
      "days_eval: 6\n",
      "days_lookbacks: [15, 30, 60]\n",
      "run_params: {'verbose': True, 'store_results': True, 'n_samples': 57, 'n_top_syms': 20, 'syms_start': 0, 'syms_end': 10, 'days_eval': 6, 'days_lookbacks': [15, 30, 60]}\n",
      "\n"
     ]
    },
    {
     "data": {
      "application/vnd.jupyter.widget-view+json": {
       "model_id": "23e086c83c5343a0aebbb4e05aa7968f",
       "version_major": 2,
       "version_minor": 0
      },
      "text/plain": [
       "Executing:   0%|          | 0/33 [00:00<?, ?cell/s]"
      ]
     },
     "metadata": {},
     "output_type": "display_data"
    },
    {
     "name": "stdout",
     "output_type": "stream",
     "text": [
      "days_eval: 6\n",
      "days_lookbacks: [30, 60, 120]\n",
      "run_params: {'verbose': True, 'store_results': True, 'n_samples': 57, 'n_top_syms': 20, 'syms_start': 0, 'syms_end': 10, 'days_eval': 6, 'days_lookbacks': [30, 60, 120]}\n",
      "\n"
     ]
    },
    {
     "data": {
      "application/vnd.jupyter.widget-view+json": {
       "model_id": "a5620c873b1740f6967940fd1a5fb6cc",
       "version_major": 2,
       "version_minor": 0
      },
      "text/plain": [
       "Executing:   0%|          | 0/33 [00:00<?, ?cell/s]"
      ]
     },
     "metadata": {},
     "output_type": "display_data"
    },
    {
     "name": "stdout",
     "output_type": "stream",
     "text": [
      "days_eval: 6\n",
      "days_lookbacks: [15, 30, 60, 120]\n",
      "run_params: {'verbose': True, 'store_results': True, 'n_samples': 57, 'n_top_syms': 20, 'syms_start': 0, 'syms_end': 10, 'days_eval': 6, 'days_lookbacks': [15, 30, 60, 120]}\n",
      "\n"
     ]
    },
    {
     "data": {
      "application/vnd.jupyter.widget-view+json": {
       "model_id": "e3dc3726e950422c9bca3230b6633712",
       "version_major": 2,
       "version_minor": 0
      },
      "text/plain": [
       "Executing:   0%|          | 0/33 [00:00<?, ?cell/s]"
      ]
     },
     "metadata": {},
     "output_type": "display_data"
    }
   ],
   "source": [
    "for days_eval, days_lookbacks in list(product(l_days_eval, l_days_lookbacks)):\n",
    "  run_params['days_eval'] = days_eval\n",
    "  run_params['days_lookbacks'] = days_lookbacks\n",
    "  print(f'days_eval: {days_eval}')\n",
    "  print(f'days_lookbacks: {days_lookbacks}')  \n",
    "  print(f'run_params: {run_params}\\n')\n",
    "  res = pm.execute_notebook(\n",
    "    'yf_7_freq_cnt.ipynb',\n",
    "    # 'pm_{name}.ipynb',\n",
    "    'yf_pm_output.ipynb',    \n",
    "    # parameters = dict(days_eval=days_eval, days_lookbacks=days_lookbacks)\n",
    "    parameters = run_params \n",
    "  )"
   ]
  }
 ],
 "metadata": {
  "kernelspec": {
   "display_name": ".venv",
   "language": "python",
   "name": "python3"
  },
  "language_info": {
   "codemirror_mode": {
    "name": "ipython",
    "version": 3
   },
   "file_extension": ".py",
   "mimetype": "text/x-python",
   "name": "python",
   "nbconvert_exporter": "python",
   "pygments_lexer": "ipython3",
   "version": "3.8.10"
  },
  "orig_nbformat": 4,
  "vscode": {
   "interpreter": {
    "hash": "16adeade2e4c2fe5a5c8fae29fa6e6b24d9301998b78edb3420e7dd402ae68a8"
   }
  }
 },
 "nbformat": 4,
 "nbformat_minor": 2
}
