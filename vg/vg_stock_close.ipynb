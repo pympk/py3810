{
 "cells": [
  {
   "cell_type": "code",
   "execution_count": 22,
   "metadata": {},
   "outputs": [],
   "source": [
    "import sys\n",
    "import pandas as pd\n",
    "sys.path.append(\"C:/Users/ping/MyDrive/py_files/python/py379/\")\n",
    "from myUtils import pickle_load, pickle_dump, list_dump"
   ]
  },
  {
   "cell_type": "code",
   "execution_count": 23,
   "metadata": {},
   "outputs": [],
   "source": [
    "pd.set_option('max_colwidth', 12, 'display.max_columns', 18, 'display.width', 1200, 'display.max_rows', 100)\n",
    "INPUT_DIR = \"C:/Users/ping/MyDrive/stocks/yfinance\"\n",
    "path_data_dump = f'{INPUT_DIR}' + \"/VSCode_dump/\""
   ]
  },
  {
   "cell_type": "code",
   "execution_count": 24,
   "metadata": {},
   "outputs": [
    {
     "data": {
      "text/html": [
       "<div>\n",
       "<style scoped>\n",
       "    .dataframe tbody tr th:only-of-type {\n",
       "        vertical-align: middle;\n",
       "    }\n",
       "\n",
       "    .dataframe tbody tr th {\n",
       "        vertical-align: top;\n",
       "    }\n",
       "\n",
       "    .dataframe thead th {\n",
       "        text-align: right;\n",
       "    }\n",
       "</style>\n",
       "<table border=\"1\" class=\"dataframe\">\n",
       "  <thead>\n",
       "    <tr style=\"text-align: right;\">\n",
       "      <th></th>\n",
       "      <th>Company name</th>\n",
       "      <th>Exchange</th>\n",
       "      <th>Number of employees</th>\n",
       "      <th>Market cap</th>\n",
       "      <th>Shares outstanding</th>\n",
       "      <th>Closing price</th>\n",
       "      <th>Sector</th>\n",
       "      <th>Industry</th>\n",
       "      <th>Percent change vs S&amp;P 500</th>\n",
       "      <th>...</th>\n",
       "      <th>EPS estimate current qtr</th>\n",
       "      <th>EPS estimate current fiscal year</th>\n",
       "      <th>P/E ratio</th>\n",
       "      <th>Price/Book ratio</th>\n",
       "      <th>Price/Cash flow ratio</th>\n",
       "      <th>Quick ratio</th>\n",
       "      <th>Debt/Equity ratio</th>\n",
       "      <th>Price/Sales ratio</th>\n",
       "      <th>Percent change</th>\n",
       "    </tr>\n",
       "    <tr>\n",
       "      <th>Symbol</th>\n",
       "      <th></th>\n",
       "      <th></th>\n",
       "      <th></th>\n",
       "      <th></th>\n",
       "      <th></th>\n",
       "      <th></th>\n",
       "      <th></th>\n",
       "      <th></th>\n",
       "      <th></th>\n",
       "      <th></th>\n",
       "      <th></th>\n",
       "      <th></th>\n",
       "      <th></th>\n",
       "      <th></th>\n",
       "      <th></th>\n",
       "      <th></th>\n",
       "      <th></th>\n",
       "      <th></th>\n",
       "      <th></th>\n",
       "    </tr>\n",
       "  </thead>\n",
       "  <tbody>\n",
       "    <tr>\n",
       "      <th>A</th>\n",
       "      <td>AGILENT ...</td>\n",
       "      <td>N.A.</td>\n",
       "      <td>N.A.</td>\n",
       "      <td>N.A.</td>\n",
       "      <td>296,040,560</td>\n",
       "      <td>134.50</td>\n",
       "      <td>Health T...</td>\n",
       "      <td>Medical ...</td>\n",
       "      <td>N.A.</td>\n",
       "      <td>...</td>\n",
       "      <td>N.A.</td>\n",
       "      <td>N.A.</td>\n",
       "      <td>30.60</td>\n",
       "      <td>135.10</td>\n",
       "      <td>30.80</td>\n",
       "      <td>1.4</td>\n",
       "      <td>0.60</td>\n",
       "      <td>6.04</td>\n",
       "      <td>8.9</td>\n",
       "    </tr>\n",
       "    <tr>\n",
       "      <th>AA</th>\n",
       "      <td>ALCOA CORP.</td>\n",
       "      <td>N.A.</td>\n",
       "      <td>N.A.</td>\n",
       "      <td>N.A.</td>\n",
       "      <td>179,925,190</td>\n",
       "      <td>41.49</td>\n",
       "      <td>Non-Ener...</td>\n",
       "      <td>Aluminum</td>\n",
       "      <td>N.A.</td>\n",
       "      <td>...</td>\n",
       "      <td>N.A.</td>\n",
       "      <td>N.A.</td>\n",
       "      <td>0.00</td>\n",
       "      <td>1.11</td>\n",
       "      <td>5.90</td>\n",
       "      <td>1.0</td>\n",
       "      <td>0.32</td>\n",
       "      <td>0.55</td>\n",
       "      <td>16.8</td>\n",
       "    </tr>\n",
       "    <tr>\n",
       "      <th>AADI</th>\n",
       "      <td>AADI BIO...</td>\n",
       "      <td>N.A.</td>\n",
       "      <td>N.A.</td>\n",
       "      <td>N.A.</td>\n",
       "      <td>21,016,832</td>\n",
       "      <td>12.75</td>\n",
       "      <td>Health T...</td>\n",
       "      <td>Biotechn...</td>\n",
       "      <td>N.A.</td>\n",
       "      <td>...</td>\n",
       "      <td>N.A.</td>\n",
       "      <td>N.A.</td>\n",
       "      <td>0.00</td>\n",
       "      <td>2.38</td>\n",
       "      <td>0.00</td>\n",
       "      <td>9.80</td>\n",
       "      <td>0.07</td>\n",
       "      <td>39.65</td>\n",
       "      <td>-4.0</td>\n",
       "    </tr>\n",
       "    <tr>\n",
       "      <th>AAIN</th>\n",
       "      <td>ARLINGTO...</td>\n",
       "      <td>N.A.</td>\n",
       "      <td>N.A.</td>\n",
       "      <td>N.A.</td>\n",
       "      <td>1,512,000</td>\n",
       "      <td>23.24</td>\n",
       "      <td>Finance</td>\n",
       "      <td>Real Est...</td>\n",
       "      <td>N.A.</td>\n",
       "      <td>...</td>\n",
       "      <td>N.A.</td>\n",
       "      <td>N.A.</td>\n",
       "      <td>0.00</td>\n",
       "      <td>0.00</td>\n",
       "      <td>0.00</td>\n",
       "      <td>0.0</td>\n",
       "      <td>0.00</td>\n",
       "      <td>0.00</td>\n",
       "      <td>-1.5</td>\n",
       "    </tr>\n",
       "    <tr>\n",
       "      <th>AAL</th>\n",
       "      <td>AMERICAN...</td>\n",
       "      <td>N.A.</td>\n",
       "      <td>N.A.</td>\n",
       "      <td>N.A.</td>\n",
       "      <td>649,900,900</td>\n",
       "      <td>14.29</td>\n",
       "      <td>Transpor...</td>\n",
       "      <td>Airlines</td>\n",
       "      <td>N.A.</td>\n",
       "      <td>...</td>\n",
       "      <td>N.A.</td>\n",
       "      <td>N.A.</td>\n",
       "      <td>0.00</td>\n",
       "      <td>0.0</td>\n",
       "      <td>9.10</td>\n",
       "      <td>0.70</td>\n",
       "      <td>0.00</td>\n",
       "      <td>0.23</td>\n",
       "      <td>17.0</td>\n",
       "    </tr>\n",
       "    <tr>\n",
       "      <th>...</th>\n",
       "      <td>...</td>\n",
       "      <td>...</td>\n",
       "      <td>...</td>\n",
       "      <td>...</td>\n",
       "      <td>...</td>\n",
       "      <td>...</td>\n",
       "      <td>...</td>\n",
       "      <td>...</td>\n",
       "      <td>...</td>\n",
       "      <td>...</td>\n",
       "      <td>...</td>\n",
       "      <td>...</td>\n",
       "      <td>...</td>\n",
       "      <td>...</td>\n",
       "      <td>...</td>\n",
       "      <td>...</td>\n",
       "      <td>...</td>\n",
       "      <td>...</td>\n",
       "      <td>...</td>\n",
       "    </tr>\n",
       "    <tr>\n",
       "      <th>ZS</th>\n",
       "      <td>ZSCALER,...</td>\n",
       "      <td>N.A.</td>\n",
       "      <td>N.A.</td>\n",
       "      <td>N.A.</td>\n",
       "      <td>143,052,490</td>\n",
       "      <td>157.09</td>\n",
       "      <td>Technolo...</td>\n",
       "      <td>Data Pro...</td>\n",
       "      <td>N.A.</td>\n",
       "      <td>...</td>\n",
       "      <td>N.A.</td>\n",
       "      <td>N.A.</td>\n",
       "      <td>0.00</td>\n",
       "      <td>48.50</td>\n",
       "      <td>63.30</td>\n",
       "      <td>1.9</td>\n",
       "      <td>1.82</td>\n",
       "      <td>20.29</td>\n",
       "      <td>-1.0</td>\n",
       "    </tr>\n",
       "    <tr>\n",
       "      <th>ZTO</th>\n",
       "      <td>ZTO EXPR...</td>\n",
       "      <td>N.A.</td>\n",
       "      <td>N.A.</td>\n",
       "      <td>N.A.</td>\n",
       "      <td>620,843,300</td>\n",
       "      <td>17.62</td>\n",
       "      <td>Transpor...</td>\n",
       "      <td>Air Frei...</td>\n",
       "      <td>N.A.</td>\n",
       "      <td>...</td>\n",
       "      <td>N.A.</td>\n",
       "      <td>N.A.</td>\n",
       "      <td>16.40</td>\n",
       "      <td>2.41</td>\n",
       "      <td>9.60</td>\n",
       "      <td>1.20</td>\n",
       "      <td>0.16</td>\n",
       "      <td>2.77</td>\n",
       "      <td>-27.2</td>\n",
       "    </tr>\n",
       "    <tr>\n",
       "      <th>ZTS</th>\n",
       "      <td>ZOETIS, ...</td>\n",
       "      <td>N.A.</td>\n",
       "      <td>N.A.</td>\n",
       "      <td>N.A.</td>\n",
       "      <td>468,138,580</td>\n",
       "      <td>152.30</td>\n",
       "      <td>Health T...</td>\n",
       "      <td>Pharmace...</td>\n",
       "      <td>N.A.</td>\n",
       "      <td>...</td>\n",
       "      <td>N.A.</td>\n",
       "      <td>N.A.</td>\n",
       "      <td>34.60</td>\n",
       "      <td>171.38</td>\n",
       "      <td>36.30</td>\n",
       "      <td>1.5</td>\n",
       "      <td>1.47</td>\n",
       "      <td>8.98</td>\n",
       "      <td>1.5</td>\n",
       "    </tr>\n",
       "    <tr>\n",
       "      <th>ZUMZ</th>\n",
       "      <td>ZUMIEZ, ...</td>\n",
       "      <td>N.A.</td>\n",
       "      <td>N.A.</td>\n",
       "      <td>N.A.</td>\n",
       "      <td>19,470,366</td>\n",
       "      <td>22.57</td>\n",
       "      <td>Retail T...</td>\n",
       "      <td>Apparel/...</td>\n",
       "      <td>N.A.</td>\n",
       "      <td>...</td>\n",
       "      <td>N.A.</td>\n",
       "      <td>N.A.</td>\n",
       "      <td>7.30</td>\n",
       "      <td>1.63</td>\n",
       "      <td>3.30</td>\n",
       "      <td>1.1</td>\n",
       "      <td>0.70</td>\n",
       "      <td>0.40</td>\n",
       "      <td>3.2</td>\n",
       "    </tr>\n",
       "    <tr>\n",
       "      <th>ZWS</th>\n",
       "      <td>ZURN ELK...</td>\n",
       "      <td>N.A.</td>\n",
       "      <td>N.A.</td>\n",
       "      <td>N.A.</td>\n",
       "      <td>177,746,960</td>\n",
       "      <td>25.11</td>\n",
       "      <td>Producer...</td>\n",
       "      <td>Industri...</td>\n",
       "      <td>N.A.</td>\n",
       "      <td>...</td>\n",
       "      <td>N.A.</td>\n",
       "      <td>N.A.</td>\n",
       "      <td>23.80</td>\n",
       "      <td>0.00</td>\n",
       "      <td>48.40</td>\n",
       "      <td>1.4</td>\n",
       "      <td>2.39</td>\n",
       "      <td>2.45</td>\n",
       "      <td>0.9</td>\n",
       "    </tr>\n",
       "  </tbody>\n",
       "</table>\n",
       "<p>3653 rows × 27 columns</p>\n",
       "</div>"
      ],
      "text/plain": [
       "       Company name Exchange Number of employees Market cap Shares outstanding Closing price       Sector     Industry Percent change vs S&P 500  ... EPS estimate current qtr  EPS estimate current fiscal year  P/E ratio Price/Book ratio  Price/Cash flow ratio Quick ratio Debt/Equity ratio  Price/Sales ratio Percent change\n",
       "Symbol                                                                                                                                            ...                                                                                                                                                                              \n",
       "A       AGILENT ...     N.A.         N.A.              N.A.  296,040,560             134.50   Health T...  Medical ...         N.A.               ...         N.A.                     N.A.                           30.60       135.10            30.80                   1.4         0.60              6.04                8.9  \n",
       "AA      ALCOA CORP.     N.A.         N.A.              N.A.  179,925,190              41.49   Non-Ener...     Aluminum         N.A.               ...         N.A.                     N.A.                            0.00         1.11             5.90                   1.0         0.32              0.55               16.8  \n",
       "AADI    AADI BIO...     N.A.         N.A.              N.A.   21,016,832              12.75   Health T...  Biotechn...         N.A.               ...         N.A.                     N.A.                            0.00         2.38             0.00                  9.80         0.07             39.65               -4.0  \n",
       "AAIN    ARLINGTO...     N.A.         N.A.              N.A.    1,512,000              23.24       Finance  Real Est...         N.A.               ...         N.A.                     N.A.                            0.00         0.00             0.00                   0.0         0.00              0.00               -1.5  \n",
       "AAL     AMERICAN...     N.A.         N.A.              N.A.  649,900,900              14.29   Transpor...     Airlines         N.A.               ...         N.A.                     N.A.                            0.00          0.0             9.10                  0.70         0.00              0.23               17.0  \n",
       "...             ...      ...          ...               ...          ...                ...           ...          ...          ...               ...          ...                      ...                             ...          ...              ...                   ...          ...               ...                ...  \n",
       "ZS      ZSCALER,...     N.A.         N.A.              N.A.  143,052,490             157.09   Technolo...  Data Pro...         N.A.               ...         N.A.                     N.A.                            0.00        48.50            63.30                   1.9         1.82             20.29               -1.0  \n",
       "ZTO     ZTO EXPR...     N.A.         N.A.              N.A.  620,843,300              17.62   Transpor...  Air Frei...         N.A.               ...         N.A.                     N.A.                           16.40         2.41             9.60                  1.20         0.16              2.77              -27.2  \n",
       "ZTS     ZOETIS, ...     N.A.         N.A.              N.A.  468,138,580             152.30   Health T...  Pharmace...         N.A.               ...         N.A.                     N.A.                           34.60       171.38            36.30                   1.5         1.47              8.98                1.5  \n",
       "ZUMZ    ZUMIEZ, ...     N.A.         N.A.              N.A.   19,470,366              22.57   Retail T...  Apparel/...         N.A.               ...         N.A.                     N.A.                            7.30         1.63             3.30                   1.1         0.70              0.40                3.2  \n",
       "ZWS     ZURN ELK...     N.A.         N.A.              N.A.  177,746,960              25.11   Producer...  Industri...         N.A.               ...         N.A.                     N.A.                           23.80         0.00            48.40                   1.4         2.39              2.45                0.9  \n",
       "\n",
       "[3653 rows x 27 columns]"
      ]
     },
     "execution_count": 24,
     "metadata": {},
     "output_type": "execute_result"
    }
   ],
   "source": [
    "df_info = pickle_load(path_data_dump, 'df_vg_stock_info_sym_4chars_max')\n",
    "df_info"
   ]
  },
  {
   "cell_type": "code",
   "execution_count": 25,
   "metadata": {},
   "outputs": [
    {
     "data": {
      "text/plain": [
       "Index(['A', 'AA', 'AADI', 'AAIN', 'AAL', 'AAMC', 'AAN', 'AAON', 'AAP', 'AAPL',\n",
       "       ...\n",
       "       'ZIP', 'ZLAB', 'ZM', 'ZNH', 'ZNTL', 'ZS', 'ZTO', 'ZTS', 'ZUMZ', 'ZWS'], dtype='object', name='Symbol', length=3653)"
      ]
     },
     "execution_count": 25,
     "metadata": {},
     "output_type": "execute_result"
    }
   ],
   "source": [
    "df_info.index"
   ]
  },
  {
   "cell_type": "code",
   "execution_count": 26,
   "metadata": {},
   "outputs": [
    {
     "data": {
      "text/plain": [
       "Index(['A', 'AA', 'AADI', 'AAIN', 'AAL', 'AAMC', 'AAN', 'AAON', 'AAP', 'AAPL',\n",
       "       ...\n",
       "       'ZIP', 'ZLAB', 'ZM', 'ZNH', 'ZNTL', 'ZS', 'ZTO', 'ZTS', 'ZUMZ', 'ZWS'], dtype='object', length=3653)"
      ]
     },
     "execution_count": 26,
     "metadata": {},
     "output_type": "execute_result"
    }
   ],
   "source": [
    "df_close = pickle_load(path_data_dump, 'df_symbols_close')\n",
    "df_close.columns"
   ]
  },
  {
   "cell_type": "code",
   "execution_count": null,
   "metadata": {},
   "outputs": [],
   "source": []
  },
  {
   "cell_type": "code",
   "execution_count": 27,
   "metadata": {},
   "outputs": [
    {
     "data": {
      "text/plain": [
       "set()"
      ]
     },
     "execution_count": 27,
     "metadata": {},
     "output_type": "execute_result"
    }
   ],
   "source": [
    "set(df_info.index) - set(df_close)"
   ]
  },
  {
   "cell_type": "code",
   "execution_count": null,
   "metadata": {},
   "outputs": [],
   "source": []
  },
  {
   "cell_type": "code",
   "execution_count": null,
   "metadata": {},
   "outputs": [],
   "source": [
    "df_OHLCV.columns"
   ]
  },
  {
   "cell_type": "code",
   "execution_count": null,
   "metadata": {},
   "outputs": [],
   "source": []
  },
  {
   "cell_type": "code",
   "execution_count": null,
   "metadata": {},
   "outputs": [],
   "source": []
  },
  {
   "cell_type": "code",
   "execution_count": null,
   "metadata": {},
   "outputs": [],
   "source": []
  },
  {
   "cell_type": "code",
   "execution_count": null,
   "metadata": {},
   "outputs": [],
   "source": [
    "sectors = df['Sector'].unique()\n",
    "print(f'{len(sectors)} sectors:\\n{sectors}\\n')\n",
    "\n",
    "industries = df['Industry'].unique()\n",
    "print(f'{len(industries)} industries:\\n{industries}')\n"
   ]
  },
  {
   "cell_type": "code",
   "execution_count": null,
   "metadata": {},
   "outputs": [],
   "source": [
    "# +++++++++ FILTER +++++++++ selecting rows based on condition \n",
    "df_f = df[(df['Industry'] == 'Aerospace & Defense')] \n",
    "df_f = df_f.sort_values(['1 month % return', 'EPS growth estimate'])\n",
    "df_f.columns"
   ]
  },
  {
   "cell_type": "code",
   "execution_count": null,
   "metadata": {},
   "outputs": [],
   "source": [
    "_cols = ['Symbol', 'Company name', 'Shares outstanding', 'Closing price', '1 month % return', '3 month % return', 'YTD % return', 'Return on equity', 'Return on assets', 'P/E ratio', 'Price/Book ratio', 'Price/Cash flow ratio', 'Quick ratio', 'Debt/Equity ratio', 'Price/Sales ratio']\n",
    "df_f = df_f[_cols]\n",
    "# df_f.info()\n",
    "df_f = df_f.sort_values(['YTD % return'], ascending=False)\n",
    "df_f.head(9)"
   ]
  },
  {
   "cell_type": "code",
   "execution_count": null,
   "metadata": {},
   "outputs": [],
   "source": [
    "df_f.Symbol.head(10).values"
   ]
  },
  {
   "cell_type": "code",
   "execution_count": null,
   "metadata": {},
   "outputs": [],
   "source": [
    "buy_list = ['NOC', 'HII', 'AVAV', 'LMT', 'CW', 'HEI']"
   ]
  },
  {
   "cell_type": "code",
   "execution_count": null,
   "metadata": {},
   "outputs": [],
   "source": [
    "l_symbols = list(df.Symbol.values)\n",
    "l_symbols\n",
    "# ========== excel replace \".\"\" with \"_______\", add column len(a1), delete len(a1)>5  ============\n",
    "list_dump(l_symbols, path_data_dump, 'vg_symbols.csv')"
   ]
  },
  {
   "cell_type": "code",
   "execution_count": null,
   "metadata": {},
   "outputs": [],
   "source": [
    "import pandas as pd\n",
    "f_name = path_data_dump + 'vg_symbols_4chars_max.csv'\n",
    "# df = pd.read_csv(f_name, delimiter=',')\n",
    "_df = pd.read_csv(f_name)\n",
    "ser1 = _df.iloc[:,0]\n",
    "l_symbols = list(ser1)\n",
    "l_symbols"
   ]
  },
  {
   "cell_type": "code",
   "execution_count": null,
   "metadata": {},
   "outputs": [],
   "source": [
    "df = df.set_index(['Symbol'])\n",
    "df"
   ]
  },
  {
   "cell_type": "code",
   "execution_count": null,
   "metadata": {},
   "outputs": [],
   "source": [
    "_df = df.loc[l_symbols]\n",
    "_df\n",
    "pickle_dump(_df, path_data_dump, 'df_vg_stock_info_sym_4chars_max')"
   ]
  }
 ],
 "metadata": {
  "kernelspec": {
   "display_name": "Python 3.7.9 ('.venv': poetry)",
   "language": "python",
   "name": "python3"
  },
  "language_info": {
   "codemirror_mode": {
    "name": "ipython",
    "version": 3
   },
   "file_extension": ".py",
   "mimetype": "text/x-python",
   "name": "python",
   "nbconvert_exporter": "python",
   "pygments_lexer": "ipython3",
   "version": "3.7.9"
  },
  "orig_nbformat": 4,
  "vscode": {
   "interpreter": {
    "hash": "d848e2535a99fe7c7346179acd9000b04da131f0f89ee41d962201c665cb28e1"
   }
  }
 },
 "nbformat": 4,
 "nbformat_minor": 2
}
