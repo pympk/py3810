{
 "cells": [
  {
   "cell_type": "code",
   "execution_count": 1,
   "metadata": {},
   "outputs": [],
   "source": [
    "# https://towardsdatascience.com/pandas-groupby-a-simple-but-detailed-tutorial-314b8f37005d\n",
    "# https://towardsdatascience.com/accessing-data-in-a-multiindex-dataframe-in-pandas-569e8767201d\n",
    "# https://towardsdatascience.com/summarizing-data-with-pandas-crosstab-efc8b9abecf\n",
    "# https://towardsdatascience.com/how-to-flatten-multiindex-columns-and-rows-in-pandas-f5406c50e569\n",
    "# https://datascientyst.com/list-aggregation-functions-aggfunc-groupby-pandas/\n",
    "# https://stackoverflow.com/questions/25929319/how-to-iterate-over-pandas-multiindex-dataframe-using-index\n",
    "# https://stackoverflow.com/questions/24495695/pandas-get-unique-multiindex-level-values-by-label\n",
    "# https://stackoverflow.com/questions/55706391/pandas-crosstab-on-multiple-columns-then-groupby\n",
    "\n",
    "# https://matplotlib.org/stable/gallery/pyplots/pyplot_text.html#sphx-glr-gallery-pyplots-pyplot-text-py"
   ]
  },
  {
   "cell_type": "code",
   "execution_count": 2,
   "metadata": {},
   "outputs": [],
   "source": [
    "import pandas as pd\n",
    "import numpy as np\n",
    "# from myUtils import pickle_load, pickle_dump, symb_perf_stats_vectorized\n",
    "from myUtils import pickle_load, pickle_dump\n",
    "\n",
    "path_dir = \"C:/Users/ping/MyDrive/stocks/yfinance/\"\n",
    "path_data_dump = path_dir + \"VSCode_dump/\"\n",
    "\n",
    "f_pickled_perf_ranks_dict = 'perf_ranks_dict'  # dic of performance ranks\n",
    "f_pickled_ranked_perf_ranks_dict = 'ranked_perf_ranks_dict'  # key: periods, value: ranked_perf_ranks\n",
    "\n",
    "start_slice, end_slice = 0, 110"
   ]
  },
  {
   "cell_type": "code",
   "execution_count": 3,
   "metadata": {},
   "outputs": [],
   "source": [
    "perf_ranks_dict = pickle_load(path_data_dump, f_pickled_perf_ranks_dict)\n",
    "ranked_perf_ranks_dict = pickle_load(path_data_dump, f_pickled_ranked_perf_ranks_dict)"
   ]
  },
  {
   "cell_type": "code",
   "execution_count": 8,
   "metadata": {},
   "outputs": [
    {
     "data": {
      "text/plain": [
       "{'period-15': {'r_CAGR/UI': array(['HZNP', 'BBW', 'ENR', 'CTRN', 'BMRN', 'VRDN', 'BURL', 'ROST',\n",
       "         'GIS', 'EVI', 'CLFD', 'AZN', 'UHAL', 'SRPT', 'AEO', 'SPB', 'AEL',\n",
       "         'ANF', 'MRK', 'MRTX', 'BTI', 'SAGE', 'GSK', 'BERY', 'DE', 'RYI',\n",
       "         'MATW', 'AZTA', 'CPA', 'PMF', 'TGLS', 'FLO', 'CCRN', 'ABC', 'AMPH',\n",
       "         'BIDU', 'KHC', 'PM', 'BMY', 'GL', 'RDNT', 'JJSF', 'CELH', 'MNP',\n",
       "         'IPAR', 'AXSM', 'WLFC', 'NBH', 'NVO', 'CPB', 'UL', 'ZTO', 'LMT',\n",
       "         'ATKR', 'MYE', 'DEO', 'WM', 'FDS', 'GPS', 'ASC', 'AGO', 'K', 'HHC',\n",
       "         'ISEE', 'DMB', 'NUO', 'CSCO', 'BABA', 'FL', 'WMC', 'ESGR', 'CIR',\n",
       "         'HI', 'NVG', 'GILD', 'GENC', 'MGI', 'POST', 'BYM', 'FTSM', 'UNVR',\n",
       "         'CAG', 'JNJ', 'FIVE', 'HURN', 'MMS', 'PINC', 'TIPT', 'IMAX', 'B',\n",
       "         'IGI', 'URBN', 'ABBV', 'CSL', 'CACI', 'HLIT', 'GDO', 'MSI', 'PBH',\n",
       "         'CB'], dtype=object),\n",
       "  'r_CAGR/Std': array(['BBW', 'CTRN', 'HZNP', 'VRDN', 'BMRN', 'EVI', 'CLFD', 'BURL',\n",
       "         'UHAL', 'MRTX', 'TGLS', 'AEO', 'SPB', 'BIDU', 'ROST', 'BABA',\n",
       "         'AEL', 'ANF', 'SAGE', 'CELH', 'RDNT', 'CIR', 'SRPT', 'AXSM',\n",
       "         'AZTA', 'CCRN', 'ENR', 'CPA', 'BERY', 'ETSY', 'ZTO', 'NVO', 'WLFC',\n",
       "         'ATKR', 'GPS', 'RYI', 'BTI', 'ABC', 'UNVR', 'GSK', 'MRK', 'GDS',\n",
       "         'IMAX', 'GIS', 'PMF', 'MATW', 'ASC', 'GL', 'FL', 'WMC', 'NBH',\n",
       "         'UL', 'FDS', 'ISEE', 'CHN', 'FLO', 'NVG', 'IPAR', 'DEO', 'PM',\n",
       "         'DMB', 'AGO', 'TR', 'PVH', 'SLGN', 'JJSF', 'JD', 'ZEUS', 'KHC',\n",
       "         'HHC', 'WM', 'HI', 'MNP', 'ESGR', 'HURN', 'BBWI', 'URBN', 'AZN',\n",
       "         'PBH', 'GILD', 'BYM', 'HLIT', 'STLD', 'AMBA', 'TIPT', 'X', 'SAR',\n",
       "         'NUO', 'OPY', 'ABBV', 'FIVE', 'BUD', 'PTCT', 'CARA', 'POST', 'ENV',\n",
       "         'PINC', 'CPB', 'CCU', 'CPRX'], dtype=object),\n",
       "  'r_Std/UI': array(['ENR', 'HZNP', 'AZN', 'GIS', 'DE', 'AMPH', 'BMY', 'ROST', 'LMT',\n",
       "         'MGI', 'FTSM', 'BMRN', 'BBW', 'KHC', 'CPB', 'MRK', 'SRPT', 'MNP',\n",
       "         'MYE', 'VRDN', 'FLO', 'JJSF', 'PM', 'BTI', 'GSK', 'MATW', 'CSCO',\n",
       "         'BURL', 'GHY', 'AEL', 'K', 'IPAR', 'RYI', 'NVS', 'PMF', 'PG',\n",
       "         'TBNK', 'JNJ', 'GL', 'NID', 'BERY', 'WM', 'CTRN', 'NUO', 'MMS',\n",
       "         'RICK', 'NBH', 'AMBC', 'MSGS', 'GDO', 'WCN', 'UL', 'MYI', 'GENC',\n",
       "         'LCNB', 'ABC', 'HHC', 'DEO', 'CACI', 'IGI', 'PWOD', 'SPB', 'MSI',\n",
       "         'AEO', 'RZB', 'CALM', 'CB', 'AGO', 'ANF', 'NQP', 'TITN', 'CPA',\n",
       "         'HPE', 'POST', 'YUM', 'CAG', 'HSBC', 'SBUX', 'WMT', 'ARMK', 'ESGR',\n",
       "         'B', 'CSL', 'ULTA', 'GILD', 'BFZ', 'SAGE', 'AZTA', 'FDS', 'HI',\n",
       "         'JHS', 'NOC', 'FIVE', 'ED', 'LDOS', 'BYM', 'CTAS', 'DOX', 'CLFD',\n",
       "         'HSY'], dtype=object)},\n",
       " 'period-30': {'r_CAGR/UI': array(['WNC', 'BBW', 'HZNP', 'BURL', 'VCYT', 'AXSM', 'NRIM', 'GILD',\n",
       "         'ABMD', 'SPB', 'PRG', 'RUN', 'SPWR', 'AEO', 'OPY', 'UNVR', 'MYE',\n",
       "         'PVH', 'NEOG', 'AAON', 'RCKY', 'GBX', 'OII', 'AIMC', 'SEIC',\n",
       "         'SEDG', 'NOMD', 'UFPT', 'AXON', 'ACLS', 'ROST', 'APAM', 'UHS',\n",
       "         'HEES', 'TGLS', 'APD', 'GDO', 'LOPE', 'WYNN', 'ITGR', 'BUD',\n",
       "         'WLFC', 'AVNS', 'AMG', 'RNR', 'GPS', 'GVA', 'CNK', 'B', 'TRN',\n",
       "         'NGG', 'FOXF', 'AU', 'LSCC', 'CNHI', 'CIR', 'AMKR', 'BVH', 'CTRN',\n",
       "         'WPP', 'IPAR', 'TEX', 'KLAC', 'MOD', 'PFGC', 'PDFS', 'RMBS',\n",
       "         'OSIS', 'FICO', 'ELF', 'MDLZ', 'GNL', 'ENR', 'CHGG', 'HHC', 'HI',\n",
       "         'JCI', 'HOG', 'UVV', 'KRG', 'MLAB', 'KMB', 'ASC', 'DD', 'AZN',\n",
       "         'MRTX', 'PLNT', 'BERY', 'PRDO', 'STRA', 'APO', 'TSBK', 'PBH',\n",
       "         'CRAI', 'TBNK', 'EQIX', 'AORT', 'TT', 'YUM', 'FSLR'], dtype=object),\n",
       "  'r_CAGR/Std': array(['VCYT', 'AXSM', 'WNC', 'BURL', 'BBW', 'PRG', 'HZNP', 'OPY', 'OII',\n",
       "         'NEOG', 'SPWR', 'AEO', 'UNVR', 'SPB', 'RUN', 'CIR', 'SEDG', 'NRIM',\n",
       "         'MLAB', 'AXON', 'PVH', 'AMKR', 'RCKY', 'MRTX', 'TGLS', 'GBX',\n",
       "         'UHS', 'WYNN', 'AAON', 'FOXF', 'ROST', 'GPS', 'ACLS', 'CTRN',\n",
       "         'HEES', 'NOMD', 'FICO', 'RMBS', 'LOGI', 'LSCC', 'XPO', 'CNK',\n",
       "         'BUD', 'CNHI', 'AZTA', 'TRN', 'MYE', 'SEIC', 'AU', 'RNR', 'PLNT',\n",
       "         'AVNS', 'APO', 'FSLR', 'APD', 'UFPT', 'TEX', 'AIMC', 'HASI',\n",
       "         'APAM', 'KLAC', 'ITGR', 'HI', 'EVI', 'ASC', 'IPAR', 'PFGC', 'GVA',\n",
       "         'AMG', 'MOD', 'THRM', 'IART', 'B', 'DD', 'SAR', 'SHOP', 'MEI',\n",
       "         'AORT', 'ANF', 'EXAS', 'ATNI', 'GILD', 'EXTR', 'ZEUS', 'WLFC',\n",
       "         'DMRC', 'AMBA', 'ATKR', 'VRDN', 'MDRX', 'JCI', 'PRDO', 'BBY',\n",
       "         'SRCL', 'KMB', 'BZH', 'ENR', 'HOG', 'KN', 'BERY'], dtype=object),\n",
       "  'r_Std/UI': array(['MYOV', 'ABMD', 'GILD', 'BVH', 'LOPE', 'GDO', 'FTSM', 'NRIM',\n",
       "         'TBNK', 'AIMC', 'MYE', 'SEIC', 'UFPT', 'QNST', 'UVV', 'CRAI',\n",
       "         'HZNP', 'NGG', 'BBW', 'WLFC', 'APAM', 'ELF', 'WNC', 'GNL', 'APD',\n",
       "         'AIG', 'CHGG', 'TAK', 'NOMD', 'ITGR', 'AMG', 'YUM', 'SPB', 'TSBK',\n",
       "         'KRG', 'WPP', 'JHS', 'B', 'STRA', 'TITN', 'FIVE', 'OSIS', 'AAON',\n",
       "         'MDLZ', 'PDFS', 'CDW', 'MGU', 'PSF', 'INCY', 'RUN', 'GVA', 'PWOD',\n",
       "         'EIG', 'SNA', 'IGI', 'TT', 'AVNS', 'BTO', 'HHC', 'GBX', 'PVH',\n",
       "         'MSA', 'ATCO', 'AER', 'SKT', 'WTW', 'PAI', 'ITW', 'MFIC', 'RCKY',\n",
       "         'WMT', 'HON', 'PBH', 'AEO', 'SITC', 'ODC', 'ENR', 'PPG', 'BUD',\n",
       "         'CAT', 'SPWR', 'HPE', 'NEP', 'PG', 'OSBC', 'FHI', 'PMT', 'JEF',\n",
       "         'PLOW', 'AZN', 'EQIX', 'RCI', 'EME', 'FN', 'INGR', 'GGZ', 'IT',\n",
       "         'PNW', 'FRT', 'NSC'], dtype=object)}}"
      ]
     },
     "execution_count": 8,
     "metadata": {},
     "output_type": "execute_result"
    }
   ],
   "source": [
    "perf_ranks_dict"
   ]
  },
  {
   "cell_type": "code",
   "execution_count": 4,
   "metadata": {},
   "outputs": [
    {
     "data": {
      "text/plain": [
       "dict_keys(['period-15', 'period-30'])"
      ]
     },
     "execution_count": 4,
     "metadata": {},
     "output_type": "execute_result"
    }
   ],
   "source": [
    "perf_ranks_dict.keys()"
   ]
  },
  {
   "cell_type": "code",
   "execution_count": 5,
   "metadata": {},
   "outputs": [
    {
     "name": "stdout",
     "output_type": "stream",
     "text": [
      "key0: period-15\n",
      "key1: r_CAGR/UI\n",
      "perf_ranks_dict[period-15][r_CAGR/UI][0:110]:\n",
      "['HZNP' 'BBW' 'ENR' 'CTRN' 'BMRN' 'VRDN' 'BURL' 'ROST' 'GIS' 'EVI' 'CLFD'\n",
      " 'AZN' 'UHAL' 'SRPT' 'AEO' 'SPB' 'AEL' 'ANF' 'MRK' 'MRTX' 'BTI' 'SAGE'\n",
      " 'GSK' 'BERY' 'DE' 'RYI' 'MATW' 'AZTA' 'CPA' 'PMF' 'TGLS' 'FLO' 'CCRN'\n",
      " 'ABC' 'AMPH' 'BIDU' 'KHC' 'PM' 'BMY' 'GL' 'RDNT' 'JJSF' 'CELH' 'MNP'\n",
      " 'IPAR' 'AXSM' 'WLFC' 'NBH' 'NVO' 'CPB' 'UL' 'ZTO' 'LMT' 'ATKR' 'MYE'\n",
      " 'DEO' 'WM' 'FDS' 'GPS' 'ASC' 'AGO' 'K' 'HHC' 'ISEE' 'DMB' 'NUO' 'CSCO'\n",
      " 'BABA' 'FL' 'WMC' 'ESGR' 'CIR' 'HI' 'NVG' 'GILD' 'GENC' 'MGI' 'POST'\n",
      " 'BYM' 'FTSM' 'UNVR' 'CAG' 'JNJ' 'FIVE' 'HURN' 'MMS' 'PINC' 'TIPT' 'IMAX'\n",
      " 'B' 'IGI' 'URBN' 'ABBV' 'CSL' 'CACI' 'HLIT' 'GDO' 'MSI' 'PBH' 'CB']\n",
      "len(perf_ranks_dict[period-15][r_CAGR/UI][0:110]): 100\n",
      "key1: r_CAGR/Std\n",
      "perf_ranks_dict[period-15][r_CAGR/Std][0:110]:\n",
      "['BBW' 'CTRN' 'HZNP' 'VRDN' 'BMRN' 'EVI' 'CLFD' 'BURL' 'UHAL' 'MRTX'\n",
      " 'TGLS' 'AEO' 'SPB' 'BIDU' 'ROST' 'BABA' 'AEL' 'ANF' 'SAGE' 'CELH' 'RDNT'\n",
      " 'CIR' 'SRPT' 'AXSM' 'AZTA' 'CCRN' 'ENR' 'CPA' 'BERY' 'ETSY' 'ZTO' 'NVO'\n",
      " 'WLFC' 'ATKR' 'GPS' 'RYI' 'BTI' 'ABC' 'UNVR' 'GSK' 'MRK' 'GDS' 'IMAX'\n",
      " 'GIS' 'PMF' 'MATW' 'ASC' 'GL' 'FL' 'WMC' 'NBH' 'UL' 'FDS' 'ISEE' 'CHN'\n",
      " 'FLO' 'NVG' 'IPAR' 'DEO' 'PM' 'DMB' 'AGO' 'TR' 'PVH' 'SLGN' 'JJSF' 'JD'\n",
      " 'ZEUS' 'KHC' 'HHC' 'WM' 'HI' 'MNP' 'ESGR' 'HURN' 'BBWI' 'URBN' 'AZN'\n",
      " 'PBH' 'GILD' 'BYM' 'HLIT' 'STLD' 'AMBA' 'TIPT' 'X' 'SAR' 'NUO' 'OPY'\n",
      " 'ABBV' 'FIVE' 'BUD' 'PTCT' 'CARA' 'POST' 'ENV' 'PINC' 'CPB' 'CCU' 'CPRX']\n",
      "len(perf_ranks_dict[period-15][r_CAGR/Std][0:110]): 100\n",
      "key1: r_Std/UI\n",
      "perf_ranks_dict[period-15][r_Std/UI][0:110]:\n",
      "['ENR' 'HZNP' 'AZN' 'GIS' 'DE' 'AMPH' 'BMY' 'ROST' 'LMT' 'MGI' 'FTSM'\n",
      " 'BMRN' 'BBW' 'KHC' 'CPB' 'MRK' 'SRPT' 'MNP' 'MYE' 'VRDN' 'FLO' 'JJSF'\n",
      " 'PM' 'BTI' 'GSK' 'MATW' 'CSCO' 'BURL' 'GHY' 'AEL' 'K' 'IPAR' 'RYI' 'NVS'\n",
      " 'PMF' 'PG' 'TBNK' 'JNJ' 'GL' 'NID' 'BERY' 'WM' 'CTRN' 'NUO' 'MMS' 'RICK'\n",
      " 'NBH' 'AMBC' 'MSGS' 'GDO' 'WCN' 'UL' 'MYI' 'GENC' 'LCNB' 'ABC' 'HHC'\n",
      " 'DEO' 'CACI' 'IGI' 'PWOD' 'SPB' 'MSI' 'AEO' 'RZB' 'CALM' 'CB' 'AGO' 'ANF'\n",
      " 'NQP' 'TITN' 'CPA' 'HPE' 'POST' 'YUM' 'CAG' 'HSBC' 'SBUX' 'WMT' 'ARMK'\n",
      " 'ESGR' 'B' 'CSL' 'ULTA' 'GILD' 'BFZ' 'SAGE' 'AZTA' 'FDS' 'HI' 'JHS' 'NOC'\n",
      " 'FIVE' 'ED' 'LDOS' 'BYM' 'CTAS' 'DOX' 'CLFD' 'HSY']\n",
      "len(perf_ranks_dict[period-15][r_Std/UI][0:110]): 100\n",
      " \n",
      "key0: period-30\n",
      "key1: r_CAGR/UI\n",
      "perf_ranks_dict[period-30][r_CAGR/UI][0:110]:\n",
      "['WNC' 'BBW' 'HZNP' 'BURL' 'VCYT' 'AXSM' 'NRIM' 'GILD' 'ABMD' 'SPB' 'PRG'\n",
      " 'RUN' 'SPWR' 'AEO' 'OPY' 'UNVR' 'MYE' 'PVH' 'NEOG' 'AAON' 'RCKY' 'GBX'\n",
      " 'OII' 'AIMC' 'SEIC' 'SEDG' 'NOMD' 'UFPT' 'AXON' 'ACLS' 'ROST' 'APAM'\n",
      " 'UHS' 'HEES' 'TGLS' 'APD' 'GDO' 'LOPE' 'WYNN' 'ITGR' 'BUD' 'WLFC' 'AVNS'\n",
      " 'AMG' 'RNR' 'GPS' 'GVA' 'CNK' 'B' 'TRN' 'NGG' 'FOXF' 'AU' 'LSCC' 'CNHI'\n",
      " 'CIR' 'AMKR' 'BVH' 'CTRN' 'WPP' 'IPAR' 'TEX' 'KLAC' 'MOD' 'PFGC' 'PDFS'\n",
      " 'RMBS' 'OSIS' 'FICO' 'ELF' 'MDLZ' 'GNL' 'ENR' 'CHGG' 'HHC' 'HI' 'JCI'\n",
      " 'HOG' 'UVV' 'KRG' 'MLAB' 'KMB' 'ASC' 'DD' 'AZN' 'MRTX' 'PLNT' 'BERY'\n",
      " 'PRDO' 'STRA' 'APO' 'TSBK' 'PBH' 'CRAI' 'TBNK' 'EQIX' 'AORT' 'TT' 'YUM'\n",
      " 'FSLR']\n",
      "len(perf_ranks_dict[period-30][r_CAGR/UI][0:110]): 100\n",
      "key1: r_CAGR/Std\n",
      "perf_ranks_dict[period-30][r_CAGR/Std][0:110]:\n",
      "['VCYT' 'AXSM' 'WNC' 'BURL' 'BBW' 'PRG' 'HZNP' 'OPY' 'OII' 'NEOG' 'SPWR'\n",
      " 'AEO' 'UNVR' 'SPB' 'RUN' 'CIR' 'SEDG' 'NRIM' 'MLAB' 'AXON' 'PVH' 'AMKR'\n",
      " 'RCKY' 'MRTX' 'TGLS' 'GBX' 'UHS' 'WYNN' 'AAON' 'FOXF' 'ROST' 'GPS' 'ACLS'\n",
      " 'CTRN' 'HEES' 'NOMD' 'FICO' 'RMBS' 'LOGI' 'LSCC' 'XPO' 'CNK' 'BUD' 'CNHI'\n",
      " 'AZTA' 'TRN' 'MYE' 'SEIC' 'AU' 'RNR' 'PLNT' 'AVNS' 'APO' 'FSLR' 'APD'\n",
      " 'UFPT' 'TEX' 'AIMC' 'HASI' 'APAM' 'KLAC' 'ITGR' 'HI' 'EVI' 'ASC' 'IPAR'\n",
      " 'PFGC' 'GVA' 'AMG' 'MOD' 'THRM' 'IART' 'B' 'DD' 'SAR' 'SHOP' 'MEI' 'AORT'\n",
      " 'ANF' 'EXAS' 'ATNI' 'GILD' 'EXTR' 'ZEUS' 'WLFC' 'DMRC' 'AMBA' 'ATKR'\n",
      " 'VRDN' 'MDRX' 'JCI' 'PRDO' 'BBY' 'SRCL' 'KMB' 'BZH' 'ENR' 'HOG' 'KN'\n",
      " 'BERY']\n",
      "len(perf_ranks_dict[period-30][r_CAGR/Std][0:110]): 100\n",
      "key1: r_Std/UI\n",
      "perf_ranks_dict[period-30][r_Std/UI][0:110]:\n",
      "['MYOV' 'ABMD' 'GILD' 'BVH' 'LOPE' 'GDO' 'FTSM' 'NRIM' 'TBNK' 'AIMC' 'MYE'\n",
      " 'SEIC' 'UFPT' 'QNST' 'UVV' 'CRAI' 'HZNP' 'NGG' 'BBW' 'WLFC' 'APAM' 'ELF'\n",
      " 'WNC' 'GNL' 'APD' 'AIG' 'CHGG' 'TAK' 'NOMD' 'ITGR' 'AMG' 'YUM' 'SPB'\n",
      " 'TSBK' 'KRG' 'WPP' 'JHS' 'B' 'STRA' 'TITN' 'FIVE' 'OSIS' 'AAON' 'MDLZ'\n",
      " 'PDFS' 'CDW' 'MGU' 'PSF' 'INCY' 'RUN' 'GVA' 'PWOD' 'EIG' 'SNA' 'IGI' 'TT'\n",
      " 'AVNS' 'BTO' 'HHC' 'GBX' 'PVH' 'MSA' 'ATCO' 'AER' 'SKT' 'WTW' 'PAI' 'ITW'\n",
      " 'MFIC' 'RCKY' 'WMT' 'HON' 'PBH' 'AEO' 'SITC' 'ODC' 'ENR' 'PPG' 'BUD'\n",
      " 'CAT' 'SPWR' 'HPE' 'NEP' 'PG' 'OSBC' 'FHI' 'PMT' 'JEF' 'PLOW' 'AZN'\n",
      " 'EQIX' 'RCI' 'EME' 'FN' 'INGR' 'GGZ' 'IT' 'PNW' 'FRT' 'NSC']\n",
      "len(perf_ranks_dict[period-30][r_Std/UI][0:110]): 100\n",
      " \n"
     ]
    }
   ],
   "source": [
    "for key0 in perf_ranks_dict.keys():\n",
    "  print(f'key0: {key0}')\n",
    "  for key1 in perf_ranks_dict[key0].keys():\n",
    "    print(f'key1: {key1}')\n",
    "    print(f'perf_ranks_dict[{key0}][{key1}][{start_slice}:{end_slice}]:\\n{perf_ranks_dict[key0][key1][start_slice:end_slice]}')    \n",
    "    print(f'len(perf_ranks_dict[{key0}][{key1}][{start_slice}:{end_slice}]): {len(perf_ranks_dict[key0][key1][start_slice:end_slice])}')\n",
    "  print(' ')\n"
   ]
  },
  {
   "cell_type": "code",
   "execution_count": 6,
   "metadata": {},
   "outputs": [
    {
     "data": {
      "text/plain": [
       "dict_keys(['ranked_perf_ranks_period[-15, -30]'])"
      ]
     },
     "execution_count": 6,
     "metadata": {},
     "output_type": "execute_result"
    }
   ],
   "source": [
    "ranked_perf_ranks_dict.keys()"
   ]
  },
  {
   "cell_type": "code",
   "execution_count": 7,
   "metadata": {},
   "outputs": [
    {
     "name": "stdout",
     "output_type": "stream",
     "text": [
      "key0: ranked_perf_ranks_period[-15, -30]\n",
      "ranked_perf_ranks_dict[ranked_perf_ranks_period[-15, -30]][0:110]:\n",
      "['HZNP', 'BBW', 'ENR', 'AEO', 'SPB', 'GILD', 'CTRN', 'BURL', 'ROST', 'AZN', 'BERY', 'IPAR', 'WLFC', 'MYE', 'HHC', 'HI', 'B', 'VRDN', 'ANF', 'MRTX', 'AZTA', 'TGLS', 'AXSM', 'GPS', 'ASC', 'CIR', 'UNVR', 'FIVE', 'GDO', 'PBH', 'PVH', 'BUD', 'BMRN', 'GIS', 'EVI', 'CLFD', 'SRPT', 'AEL', 'MRK', 'BTI', 'SAGE', 'GSK', 'RYI', 'MATW', 'CPA', 'PMF', 'FLO', 'ABC', 'KHC', 'PM', 'GL', 'JJSF', 'MNP', 'NBH', 'CPB', 'UL', 'ATKR', 'DEO', 'WM', 'FDS', 'AGO', 'NUO', 'ESGR', 'POST', 'BYM', 'FTSM', 'IGI', 'OPY', 'TBNK', 'YUM', 'WNC', 'NRIM', 'RUN', 'SPWR', 'AAON', 'RCKY', 'GBX', 'AIMC', 'SEIC', 'NOMD', 'UFPT', 'APAM', 'APD', 'ITGR', 'AVNS', 'AMG', 'GVA', 'UHAL', 'DE', 'CCRN', 'AMPH', 'BIDU', 'BMY', 'RDNT', 'CELH', 'NVO', 'ZTO', 'LMT', 'K', 'ISEE', 'DMB', 'CSCO', 'BABA', 'FL', 'WMC', 'NVG', 'GENC', 'MGI', 'CAG', 'JNJ']\n",
      "len(ranked_perf_ranks_dict[ranked_perf_ranks_period[-15, -30]][0:110]): 110\n"
     ]
    }
   ],
   "source": [
    "for key0 in ranked_perf_ranks_dict.keys():\n",
    "  print(f'key0: {key0}')\n",
    "  # print(ranked_perf_ranks_dict[key0][start_slice:end_slice])\n",
    "  print(f'ranked_perf_ranks_dict[{key0}][{start_slice}:{end_slice}]:\\n{ranked_perf_ranks_dict[key0][start_slice:end_slice]}')\n",
    "  print(f'len(ranked_perf_ranks_dict[{key0}][{start_slice}:{end_slice}]): {len(ranked_perf_ranks_dict[key0][start_slice:end_slice])}')          "
   ]
  },
  {
   "cell_type": "code",
   "execution_count": null,
   "metadata": {},
   "outputs": [],
   "source": []
  }
 ],
 "metadata": {
  "kernelspec": {
   "display_name": "Python 3.7.9 ('.venv': poetry)",
   "language": "python",
   "name": "python3"
  },
  "language_info": {
   "codemirror_mode": {
    "name": "ipython",
    "version": 3
   },
   "file_extension": ".py",
   "mimetype": "text/x-python",
   "name": "python",
   "nbconvert_exporter": "python",
   "pygments_lexer": "ipython3",
   "version": "3.7.9 (tags/v3.7.9:13c94747c7, Aug 17 2020, 18:58:18) [MSC v.1900 64 bit (AMD64)]"
  },
  "orig_nbformat": 4,
  "vscode": {
   "interpreter": {
    "hash": "55a3812d65f91e7e7447da6b5cfc60716e82f91e6a92533fb27b46796ad1962a"
   }
  }
 },
 "nbformat": 4,
 "nbformat_minor": 2
}
