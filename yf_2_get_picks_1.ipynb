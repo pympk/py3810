{
 "cells": [
  {
   "cell_type": "code",
   "execution_count": 18,
   "metadata": {},
   "outputs": [],
   "source": [
    "import pandas as pd\n",
    "from yf_utils import random_slices, lookback_slices\n",
    "from yf_utils import rank_perf, grp_tuples_sort_sum, top_set_sym_freq_cnt\n",
    "from myUtils import pickle_load, pickle_dump\n",
    "\n",
    "pd.set_option(\"display.max_rows\", 20)\n",
    "pd.set_option(\"display.max_columns\", 11)\n",
    "pd.set_option(\"display.max_colwidth\", 26)\n",
    "# pd.set_option(\"display.width\", 145)\n",
    "pd.set_option(\"display.width\", 280)\n",
    "\n",
    "path_dir = \"C:/Users/ping/MyDrive/stocks/yfinance/\"\n",
    "path_data_dump = path_dir + \"VSCode_dump/\"\n",
    "\n",
    "fp_df_close_clean = \"df_close_clean\"\n",
    "fp_df_picks = \"df_picks\"\n",
    "fp_l_days_to_drop = \"l_days_to_drop\"\n",
    "# pickle file of dates missing from df_picks\n",
    "fp_dates_missing_in_df_picks = 'dates_missing_in_df_picks'"
   ]
  },
  {
   "cell_type": "code",
   "execution_count": 19,
   "metadata": {},
   "outputs": [
    {
     "name": "stdout",
     "output_type": "stream",
     "text": [
      "df_picks:\n",
      "    date_end_df_train  max_days_lookbacks     days_lookbacks sym_freq_15 sym_freq_14  ...                 sym_freq_6                 sym_freq_5                 sym_freq_4                 sym_freq_3 sym_freq_2\n",
      "0          2023-11-13                 120      [30, 60, 120]          []          []  ...  ['ANF', 'CAH', 'LRN', ...  ['BTC-USD', 'EDU', 'US...      ['ALL', 'GPS', 'TGH']  ['CHE', 'CLS', 'DELL',...         []\n",
      "1          2023-11-13                 120  [15, 30, 60, 120]          []          []  ...      ['ANF', 'CAH', 'NRG']  ['BTC-USD', 'EDU', 'US...  ['ALL', 'AMBC', 'CHE',...                         []         []\n",
      "2          2023-11-10                 120      [30, 60, 120]          []          []  ...  ['ANF', 'CAH', 'LRN', ...        ['BTC-USD', 'ICPT']             ['EDU', 'GPS']  ['AGYS', 'ALL', 'CLS',...         []\n",
      "3          2023-11-10                 120  [15, 30, 60, 120]          []          []  ...     ['ANF', 'CAH', 'USAC']  ['AGYS', 'BTC-USD', 'I...  ['AMBC', 'DECK', 'EDU'...                         []         []\n",
      "4          2023-11-09                 120      [30, 60, 120]          []          []  ...      ['ANF', 'CAH', 'LRN']  ['BTC-USD', 'EDU', 'GP...       ['PGR', 'TGH', 'YY']  ['AGYS', 'ALL', 'CLS',...         []\n",
      "..                ...                 ...                ...         ...         ...  ...                        ...                        ...                        ...                        ...        ...\n",
      "281        2023-03-17                 120  [15, 30, 60, 120]          []          []  ...  ['ANET', 'FCN', 'GBTC'...  ['ACLS', 'FSLR', 'HY',...     ['AMD', 'ATCO', 'MLR']                   ['AJRD']         []\n",
      "282        2023-03-16                 120      [30, 60, 120]          []          []  ...    ['LNTH', 'SGEN', 'WST']  ['ACLS', 'AMPH', 'CTLT...       ['HY', 'MLR', 'OEC']  ['ANET', 'ATCO', 'ATKR...         []\n",
      "283        2023-03-16                 120  [15, 30, 60, 120]          []          []  ...  ['ANET', 'FCN', 'FSLR'...  ['ACLS', 'AMPH', 'CTLT...                         []                         []         []\n",
      "284        2023-03-15                 120      [30, 60, 120]          []          []  ...  ['CTLT', 'ELF', 'SGEN'...  ['ACLS', 'AMPH', 'FCN'...  ['ATCO', 'HY', 'LNTH',...  ['ATKR', 'BURL', 'FIZZ...         []\n",
      "285        2023-03-15                 120  [15, 30, 60, 120]          []          []  ...  ['CTLT', 'ELF', 'FIZZ'...   ['ACLS', 'ANET', 'SRPT']           ['ATCO', 'LNTH']                         []         []\n",
      "\n",
      "[286 rows x 17 columns]\n"
     ]
    }
   ],
   "source": [
    "df_picks = pickle_load(path_data_dump, fp_df_picks)\n",
    "print(f'df_picks:\\n{df_picks}')"
   ]
  },
  {
   "cell_type": "code",
   "execution_count": 20,
   "metadata": {},
   "outputs": [
    {
     "name": "stdout",
     "output_type": "stream",
     "text": [
      "df_current:\n",
      "                     A         AA        AAL        AAP        AAPL  ...       ZION        ZTO         ZTS       ZUMZ        ZWS\n",
      "Date                                                                 ...                                                        \n",
      "2017-11-29   65.633354  40.366665  48.002308  91.965721   40.065674  ...  41.108860  14.851051   68.809448  20.850000  23.835058\n",
      "2017-11-30   66.158897  40.630943  49.210892  92.931862   40.625946  ...  41.158691  14.991067   69.462852  21.799999  24.145109\n",
      "2017-12-01   65.633354  40.758194  47.758636  91.349251   40.436832  ...  41.598953  14.935060   69.472473  19.950001  23.747854\n",
      "2017-12-04   63.292377  40.905018  48.665073  95.710609   40.141315  ...  42.977825  14.776375   68.242531  21.350000  24.145109\n",
      "2017-12-05   62.900620  40.307930  48.216740  93.069862   40.103497  ...  42.263470  14.571016   68.079170  20.650000  24.154795\n",
      "...                ...        ...        ...        ...         ...  ...        ...        ...         ...        ...        ...\n",
      "2023-11-08  109.389999  25.530001  12.010000  57.639999  182.649368  ...  33.759998  24.049999  170.869995  15.910000  28.299999\n",
      "2023-11-09  107.739998  24.580000  11.750000  56.139999  182.169998  ...  32.549999  23.690001  170.630005  15.340000  28.049999\n",
      "2023-11-10  108.470001  24.639999  11.800000  56.130001  186.399994  ...  32.919998  24.120001  169.320007  15.740000  28.799999\n",
      "2023-11-13  107.459999  24.600000  11.780000  55.939999  184.800003  ...  32.709999  24.020000  168.830002  15.730000  28.600000\n",
      "2023-11-14  111.610001  26.170000  12.250000  58.400002  187.440002  ...  35.369999  24.389999  172.649994  17.709999  29.950001\n",
      "\n",
      "[1500 rows x 1276 columns]\n"
     ]
    }
   ],
   "source": [
    "df_close_clean = pickle_load(path_data_dump, fp_df_close_clean)\n",
    "df_current = df_close_clean.copy()\n",
    "print(f'df_current:\\n{df_current}')"
   ]
  },
  {
   "cell_type": "code",
   "execution_count": 23,
   "metadata": {},
   "outputs": [
    {
     "name": "stdout",
     "output_type": "stream",
     "text": [
      "dates_missing_in_df_picks, len(26):\n",
      "['2023-07-17', '2023-07-19', '2023-07-24', '2023-07-28', '2023-07-31', '2023-08-16', '2023-08-21', '2023-08-22', '2023-08-23', '2023-08-24', '2023-08-28', '2023-08-29', '2023-08-30', '2023-08-31', '2023-09-06', '2023-09-07', '2023-09-19', '2023-09-26', '2023-09-27', '2023-10-03', '2023-10-09', '2023-10-10', '2023-10-11', '2023-10-13', '2023-10-16', '2023-10-18']\n"
     ]
    }
   ],
   "source": [
    "dates_missing_in_df_picks = pickle_load(path_data_dump, fp_dates_missing_in_df_picks)\n",
    "print(f'dates_missing_in_df_picks, len({len(dates_missing_in_df_picks)}):\\n{dates_missing_in_df_picks}')"
   ]
  },
  {
   "cell_type": "code",
   "execution_count": 24,
   "metadata": {},
   "outputs": [
    {
     "name": "stdout",
     "output_type": "stream",
     "text": [
      "l_days_to_drop, len(26):\n",
      "[85, 83, 80, 76, 75, 63, 60, 59, 58, 57, 55, 54, 53, 52, 49, 48, 40, 35, 34, 30, 26, 25, 24, 22, 21, 19]\n"
     ]
    }
   ],
   "source": [
    "l_days_to_drop = pickle_load(path_data_dump, fp_l_days_to_drop)\n",
    "print(f'l_days_to_drop, len({len(l_days_to_drop)}):\\n{l_days_to_drop}') "
   ]
  }
 ],
 "metadata": {
  "kernelspec": {
   "display_name": ".venv",
   "language": "python",
   "name": "python3"
  },
  "language_info": {
   "codemirror_mode": {
    "name": "ipython",
    "version": 3
   },
   "file_extension": ".py",
   "mimetype": "text/x-python",
   "name": "python",
   "nbconvert_exporter": "python",
   "pygments_lexer": "ipython3",
   "version": "3.8.10"
  },
  "orig_nbformat": 4
 },
 "nbformat": 4,
 "nbformat_minor": 2
}
