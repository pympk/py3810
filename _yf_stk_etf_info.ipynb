{
 "cells": [
  {
   "cell_type": "code",
   "execution_count": null,
   "metadata": {},
   "outputs": [],
   "source": [
    "# https://www.geeksforgeeks.org/get-financial-data-from-yahoo-finance-with-python/\n",
    "# https://analyzingalpha.com/yfinance-python\n",
    "# https://towardsdatascience.com/financial-data-from-yahoo-finance-with-python-b5399743bcc6\n",
    "# https://stackoverflow.com/questions/63253364/accessing-yfinance-ticker-objects-for-multiple-tickers-results-in-attributeerror\n",
    "# dir(obj) shows list of methods in obj \n",
    "# obj.info shows list of dicts in obj"
   ]
  },
  {
   "cell_type": "code",
   "execution_count": null,
   "metadata": {},
   "outputs": [],
   "source": [
    "import yfinance as yf\n",
    "from datetime import datetime\n",
    "# symbols = ['AAPL', 'VGT', 'BNDX', 'BTC-USD', 'MSFT', 'ETH-USD']\n",
    "symbols = ['AAPL', 'VGT', 'BCI', 'HYG']\n",
    "# symbols = ['BCI']\n",
    "data = yf.Tickers(','.join(symbols))\n",
    "for key in data.tickers.keys():\n",
    "  print(key)"
   ]
  },
  {
   "cell_type": "code",
   "execution_count": null,
   "metadata": {},
   "outputs": [],
   "source": [
    "# stock/equity dict keys \n",
    "eqKeys = ['symbol', 'quoteType', 'longName', 'industry', 'sector', 'marketCap', 'revenueGrowth',\n",
    "    'earningsGrowth', 'previousClose', 'revenuePerShare', 'forwardEps', 'trailingEps', 'longBusinessSummary']\n",
    "# ETF dict keys\n",
    "etfKeys = ['symbol', 'quoteType',  'longName', 'category', 'totalAssets', 'beta3Year', 'navPrice', 'previousClose',\n",
    "           'holdings',  'sectorWeightings', 'longBusinessSummary']\n",
    "# cryto dict keys\n",
    "crytoKeys = ['symbol', 'quoteType', 'name',  'regularMarketPrice', 'volume', 'marketCap', 'circulatingSupply', 'startDate']\n",
    "\n",
    "for symbol in symbols:\n",
    "  print('='*60)  \n",
    "  obj = yf.Ticker(symbol)  # dir(obj) lists methods in obj\n",
    "  # obj.info is a dict (e.g {'exchange': 'PCX', ... ,  'logo_url': ''}) \n",
    "  if obj.info['quoteType'] == 'EQUITY':  # its a stock\n",
    "      for key in eqKeys:\n",
    "            value = obj.info[key]\n",
    "            if key == 'marketCap':\n",
    "                print(f'{key:20}{value/1e9:>10,.3f}B')  # reformat to billions  \n",
    "            elif key == 'longBusinessSummary':\n",
    "                print(f'\\n{key:19}: {value}')\n",
    "            else:\n",
    "                if type(value) == str:  # its a string\n",
    "                    print(f'{key:20}{value}')\n",
    "                else:  # format as a number    \n",
    "                    print(f'{key:20}{value:>10.3f}')\n",
    "      print('')\n",
    "  elif obj.info['quoteType'] == 'ETF':  # its an ETF\n",
    "      for key in etfKeys:\n",
    "        value = obj.info[key]\n",
    "        # obj.info['holding'] is a list of of dict\n",
    "        #   e.g. [{'symbol': 'AAPL', 'holdingName': 'Apple Inc', 'holdingPercent': 0.2006}, ...]\n",
    "        if key == 'holdings':  # print ETF stock holdings \n",
    "            keyItems = (len(value))\n",
    "            hd_heading = f\"\\n{'symbol':10}{'holding-percent':20}{'name'}\"\n",
    "            print(hd_heading)\n",
    "            for i in range(keyItems):\n",
    "                hd_symbol = value[i]['symbol']\n",
    "                hd_pct = value[i]['holdingPercent']\n",
    "                hd_name = value[i]['holdingName']\n",
    "                hd_info = f'{hd_symbol:<10}{hd_pct:<20.3f}{hd_name}'\n",
    "                print(hd_info)\n",
    "        # obj.info['sectorWeightings'] is a list of of dict, similar to obj.info['holding']               \n",
    "        elif key == 'sectorWeightings':# print ETF sector weightings\n",
    "            keyItems = (len(value))\n",
    "            hd_heading = f\"\\n{'sector':30}{'holding-percent':20}\"\n",
    "            print(hd_heading)\n",
    "            sectors_list = value\n",
    "            for sector_dict in sectors_list:\n",
    "                for k, v in sector_dict.items():\n",
    "                    print (f'{k:30}{v:<20.3f}')\n",
    "        elif key == 'totalAssets':\n",
    "            print(f'{key:20}{value/1e9:<.3f}B')  # reformat to billions   \n",
    "        elif key == 'longBusinessSummary':\n",
    "            print(f'\\n{key:19}: {value}')\n",
    "        else:    \n",
    "          print(f'{key:20}{value}')\n",
    "      print('')\n",
    "  elif obj.info['quoteType'] == 'CRYPTOCURRENCY':\n",
    "      for key in crytoKeys:\n",
    "        value = obj.info[key]\n",
    "        if key == 'marketCap' or key == 'volume':\n",
    "            print(f'{key:20}{value/1e9:<,.3f}B')  # reformat to billions\n",
    "        elif key == 'circulatingSupply':\n",
    "            print(f'{key:20}{value/1e6:<,.3f}M')  # reformat to billions\n",
    "        elif key == 'startDate':\n",
    "            UTC_timestamp_sec = obj.info['startDate']  # Unix time stamp (i.e. seconds since 1970-01-01)\n",
    "            # convert Unix UTC_timestamp_sec in sec. to yyyy-mm-dd,  'startDate': 1367107200\n",
    "            startDate = datetime.fromtimestamp(UTC_timestamp_sec).strftime(\"%Y-%m-%d\")\n",
    "            print(f'{key:20}{startDate}')  # reformat to billions    \n",
    "        else:\n",
    "            if type(value) == str:\n",
    "                print(f'{key:20}{value}')\n",
    "            else:    \n",
    "                print(f'{key:20}{value:<10,.0f}')\n",
    "      print('')\n",
    "  else:\n",
    "      print(f'{symbol} is {obj.info[\"quoteType\"]}')\n",
    "      print('')"
   ]
  },
  {
   "cell_type": "code",
   "execution_count": null,
   "metadata": {},
   "outputs": [],
   "source": [
    "obj.info"
   ]
  }
 ],
 "metadata": {
  "kernelspec": {
   "display_name": "Python 3.7.9 ('.venv': poetry)",
   "language": "python",
   "name": "python3"
  },
  "language_info": {
   "codemirror_mode": {
    "name": "ipython",
    "version": 3
   },
   "file_extension": ".py",
   "mimetype": "text/x-python",
   "name": "python",
   "nbconvert_exporter": "python",
   "pygments_lexer": "ipython3",
   "version": "3.7.9"
  },
  "orig_nbformat": 4,
  "vscode": {
   "interpreter": {
    "hash": "55a3812d65f91e7e7447da6b5cfc60716e82f91e6a92533fb27b46796ad1962a"
   }
  }
 },
 "nbformat": 4,
 "nbformat_minor": 2
}
