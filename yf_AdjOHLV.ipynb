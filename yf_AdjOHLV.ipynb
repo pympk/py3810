{
 "cells": [
  {
   "cell_type": "code",
   "execution_count": 1,
   "metadata": {},
   "outputs": [],
   "source": [
    "# df_OHLCV has data only for NYSE trading days, no weekend data\n",
    "# df_OHLCV_all_dates includes data for weekends when BTC trades\n",
    "# read symbols in file to list syms_in_file\n",
    "# download OHLCV data for symbols in syms_in_file\n",
    "# drop symbols with all NaN in OHLCV columns from df\n",
    "# rename column names from ['Open', ..., 'Volume'] to ['open', ..., 'volume']\n",
    "# drop weekend data by reindex to date index of index_symbol\n",
    "# pickled df_OHLCV_all_dates\n",
    "# pickled df_OHLCV\n",
    "# pickled symbols_df_OHLCV\n",
    "# create df_symbols_close, sort df by symbols\n",
    "# pickled df_symbols_close"
   ]
  },
  {
   "cell_type": "code",
   "execution_count": 2,
   "metadata": {},
   "outputs": [],
   "source": [
    "# TODO set auto_adj = False and use ratio close/Adj_close to adj, i.e. adj_open = open / ratio  \n",
    "# YUM adjusted_close is wrong, df['YUM'].tail(252)\n",
    "# Date\t\t\t\topen\t      high\t      low\t        close\t      volume\n",
    "# 2021-08-31\t129.889530\t130.623206\t129.334321\t129.909363\t2297300.0 something after download screwed up\n",
    "#             128.618392\t129.3448883\t128.068617\t128.638031  <= download is correct\n"
   ]
  },
  {
   "cell_type": "code",
   "execution_count": 3,
   "metadata": {},
   "outputs": [],
   "source": [
    "import yfinance as yf\n",
    "from datetime import date, timedelta\n",
    "from myUtils import yf_download_AdjOHLCV, pickle_dump, pickle_load, read_symbols_file, drop_symbols_all_NaN, yf_symbols_close # NOQA\n",
    "verbose = False  # True prints more output\n",
    "# verbose = True  # True prints more output\n",
    "\n",
    "path_dir = \"C:/Users/ping/MyDrive/stocks/yfinance/\"\n",
    "path_data_dump = path_dir + \"VSCode_dump/\"\n",
    "filename_symbols = path_data_dump + 'symbols_mktCap_2b.csv'  # symbols text file\n",
    "filename_pickled_df_OHLCV_all_dates = 'df_OHLCV_all_dates'  # pickled filename\n",
    "filename_pickled_df_OHLCV = 'df_OHLCV'  # pickled filename reindexed to NYSE dates\n",
    "filename_pickled_df_symbols_close = \"df_symbols_close\"  # pickled filename\n",
    "filename_pickled_symbols_df_OHLCV =  'symbols_df_OHLCV'  # pickled filename"
   ]
  },
  {
   "cell_type": "code",
   "execution_count": 4,
   "metadata": {},
   "outputs": [],
   "source": [
    "# # Stop if Yahoo has not updated OHLCV data\n",
    "# index_symbol = \"XOM\"  \n",
    "# df_XOM = yf.download(index_symbol)\n",
    "# df_last_date = df_XOM.index[-1].strftime('%Y-%m-%d')\n",
    "# yesterday = str(date.today() - timedelta(days = 1))\n",
    "# if yesterday == df_last_date:\n",
    "#   msg_stop = f'Yahoo has not updated OHLCV data, today: {str(date.today())}, Yahoo download last date: {df_last_date}'\n",
    "#   # print(f'Yahoo has not updated OHLCV data, today: {str(date.today())}, Yahoo download last date: {df_last_date}')\n",
    "#   raise SystemExit(msg_stop)"
   ]
  },
  {
   "cell_type": "code",
   "execution_count": 5,
   "metadata": {},
   "outputs": [
    {
     "name": "stdout",
     "output_type": "stream",
     "text": [
      "Full path to pickled df_OHLCV:  C:/Users/ping/MyDrive/stocks/yfinance/VSCode_dump/df_OHLCV\n"
     ]
    }
   ],
   "source": [
    "# Stop if df_OHLCV is up to date\n",
    "print(f\"Full path to pickled df_OHLCV:  {path_data_dump}{filename_pickled_df_OHLCV}\")\n",
    "df = pickle_load(path_data_dump, filename_pickled_df_OHLCV, verbose=verbose)\n",
    "df_OHLCV_last_date = df.index[-1].strftime('%Y-%m-%d')\n",
    "today = str(date.today())\n",
    "if today == df_OHLCV_last_date:\n",
    "  msg_stop = f'df_OHLCV is up to date, today: {today}, df_OHLCV last date: {df_OHLCV_last_date}'\n",
    "  raise SystemExit(msg_stop)"
   ]
  },
  {
   "cell_type": "code",
   "execution_count": 6,
   "metadata": {},
   "outputs": [
    {
     "name": "stdout",
     "output_type": "stream",
     "text": [
      "[*********************100%***********************]  1917 of 1917 completed\n",
      "\n",
      "9 Failed downloads:\n",
      "- EPD: CircuitBreaker 'redis' is OPEN and does not permit further calls\n",
      "- GATX: CircuitBreaker 'redis' is OPEN and does not permit further calls\n",
      "- CPA: CircuitBreaker 'redis' is OPEN and does not permit further calls\n",
      "- ACIW: CircuitBreaker 'redis' is OPEN and does not permit further calls\n",
      "- AGO: CircuitBreaker 'redis' is OPEN and does not permit further calls\n",
      "- EQR: CircuitBreaker 'redis' is OPEN and does not permit further calls\n",
      "- RTX: CircuitBreaker 'redis' is OPEN and does not permit further calls\n",
      "- ARMK: CircuitBreaker 'redis' is OPEN and does not permit further calls\n",
      "- MTB: CircuitBreaker 'redis' is OPEN and does not permit further calls\n"
     ]
    }
   ],
   "source": [
    "# read symbols in file to a list\n",
    "symbols_in_file = read_symbols_file(filename_symbols)\n",
    "# download OHLCV data for symbols in syms_in_file\n",
    "df_OHLCV_all_dates = yf_download_AdjOHLCV(symbols_in_file, verbose=verbose)"
   ]
  },
  {
   "cell_type": "code",
   "execution_count": 7,
   "metadata": {},
   "outputs": [
    {
     "name": "stdout",
     "output_type": "stream",
     "text": [
      "A:\n",
      "                  Open        High         Low       Close     Volume\n",
      "Date                                                                 \n",
      "2021-10-07  154.073264  156.477862  153.973910  154.331619  1002800.0\n",
      "2021-10-08  155.186139  155.921435  151.132115  151.499756   904100.0\n",
      "2021-10-11  150.526000  151.390459  148.926245  149.065353  1106300.0\n",
      "2021-10-12  150.217940  150.217940  145.369005  147.008499  1809900.0\n",
      "2021-10-13  148.131324  149.919872  147.793491  149.264069  1509100.0\n",
      "...                ...         ...         ...         ...        ...\n",
      "2022-09-30  122.807458  124.913813  121.170292  121.340004  1624200.0\n",
      "2022-10-03  122.730003  127.300003  121.680000  126.379997  1343200.0\n",
      "2022-10-04  128.789993  131.559998  128.570007  131.410004  1647800.0\n",
      "2022-10-05  129.990005  133.529999  129.500000  132.639999  1567700.0\n",
      "2022-10-06  132.300003  133.820007  131.600006  132.179993  1218400.0\n",
      "\n",
      "[252 rows x 5 columns]\n",
      "YUM:\n",
      "                  Open        High         Low       Close     Volume\n",
      "Date                                                                 \n",
      "2021-10-07  123.633506  125.120677  123.425303  124.149063  1535400.0\n",
      "2021-10-08  124.109401  124.595208  122.285134  122.334709   918000.0\n",
      "2021-10-11  122.295049  122.840348  120.867370  120.956596  1010600.0\n",
      "2021-10-12  121.799330  122.215736  120.470793  121.313522  1146300.0\n",
      "2021-10-13  121.224283  122.523085  120.797960  122.463593  1350500.0\n",
      "...                ...         ...         ...         ...        ...\n",
      "2022-09-30  107.290001  108.599998  106.339996  106.339996  1797400.0\n",
      "2022-10-03  107.480003  109.980003  106.160004  109.110001  1858900.0\n",
      "2022-10-04  110.620003  112.099998  110.209999  111.410004  1684900.0\n",
      "2022-10-05  110.730003  113.059998  110.519997  112.330002  1189200.0\n",
      "2022-10-06  112.139999  112.620003  110.040001  110.120003  1135200.0\n",
      "\n",
      "[252 rows x 5 columns]\n"
     ]
    }
   ],
   "source": [
    "df1 = df_OHLCV_all_dates['A'].tail(252)\n",
    "df2 = df_OHLCV_all_dates['YUM'].tail(252)\n",
    "print(f'A:\\n{df1}')\n",
    "print(f'YUM:\\n{df2}')"
   ]
  },
  {
   "cell_type": "code",
   "execution_count": 8,
   "metadata": {},
   "outputs": [
    {
     "name": "stdout",
     "output_type": "stream",
     "text": [
      "Full path to pickled df_OHLCV_all_dates:  C:/Users/ping/MyDrive/stocks/yfinance/VSCode_dump/df_AdjOHLCV_as_download\n"
     ]
    }
   ],
   "source": [
    "filename_pickled_df_OHLCV_all_dates = 'df_AdjOHLCV_as_download'  # pickled filename\n",
    "print(f\"Full path to pickled df_OHLCV_all_dates:  {path_data_dump}{filename_pickled_df_OHLCV_all_dates}\")\n",
    "pickle_dump(df_OHLCV_all_dates, path_data_dump, filename_pickled_df_OHLCV_all_dates, verbose=verbose)"
   ]
  },
  {
   "cell_type": "code",
   "execution_count": 9,
   "metadata": {},
   "outputs": [],
   "source": [
    "# sort df by symbol\n",
    "df_OHLCV_all_dates = df_OHLCV_all_dates.sort_index(axis=1,level=0,sort_remaining=False)"
   ]
  },
  {
   "cell_type": "code",
   "execution_count": 10,
   "metadata": {},
   "outputs": [
    {
     "name": "stdout",
     "output_type": "stream",
     "text": [
      "Dataframe for ACIW is all NaN\n",
      "Dataframe for AGO is all NaN\n",
      "Dataframe for ARMK is all NaN\n",
      "Dataframe for CPA is all NaN\n",
      "Dataframe for EPD is all NaN\n",
      "Dataframe for EQR is all NaN\n",
      "Dataframe for GATX is all NaN\n",
      "Dataframe for MTB is all NaN\n",
      "Dataframe for RTX is all NaN\n",
      "Symbol's OHLCV are all NaN: ['ACIW', 'AGO', 'ARMK', 'CPA', 'EPD', 'EQR', 'GATX', 'MTB', 'RTX']\n",
      "symbols with all NaN dropped from df_OHLCV_all_dates: ['ACIW', 'EQR', 'RTX', 'EPD', 'ARMK', 'GATX', 'CPA', 'AGO', 'MTB']\n"
     ]
    }
   ],
   "source": [
    "# drop symbols with all NaN in OHLCV columns from df\n",
    "df_OHLCV_all_dates, symbols_OHLCV, symbols_dropped = drop_symbols_all_NaN(df_OHLCV_all_dates, verbose)\n",
    "# print(f'symbols_OHLCV: {symbols_OHLCV}')\n",
    "print(f'symbols with all NaN dropped from df_OHLCV_all_dates: {symbols_dropped}')"
   ]
  },
  {
   "cell_type": "code",
   "execution_count": 11,
   "metadata": {},
   "outputs": [],
   "source": [
    "# rename columns OHLCV *ONLY AFTER* dropping symbols with all NaN from df,\n",
    "#   symbols with all NaN has an added AdjClose column and will cause errors  \n",
    "#  rename column names from ['Open', ..., 'Volume'] to ['open', ..., 'volume']\n",
    "#  .remove_unused_levels() prevents ValueError\n",
    "#   e.g ValueError: On level 1, code max (5) >= length of level (5). NOTE: this index is in an inconsistent state\n",
    "# The error may be caused by removing symbols from the dataframe with all NaN in OHLCV columns\n",
    "df_OHLCV_all_dates.columns = df_OHLCV_all_dates.columns.remove_unused_levels()\n",
    "# set_levels reorders df columns in alphabetical order, so the list of column names also needs to be in alphabetical order\n",
    "df_OHLCV_all_dates.columns = df_OHLCV_all_dates.columns.set_levels(['close', 'high', 'low', 'open', 'volume'], level=1)"
   ]
  },
  {
   "cell_type": "code",
   "execution_count": 12,
   "metadata": {},
   "outputs": [
    {
     "ename": "NameError",
     "evalue": "name 'df_XOM' is not defined",
     "output_type": "error",
     "traceback": [
      "\u001b[1;31m---------------------------------------------------------------------------\u001b[0m",
      "\u001b[1;31mNameError\u001b[0m                                 Traceback (most recent call last)",
      "\u001b[1;32m~\\AppData\\Local\\Temp\\ipykernel_16772\\2480569107.py\u001b[0m in \u001b[0;36m<module>\u001b[1;34m\u001b[0m\n\u001b[0;32m      2\u001b[0m \u001b[0mmyNaN\u001b[0m \u001b[1;33m=\u001b[0m \u001b[0mfloat\u001b[0m\u001b[1;33m(\u001b[0m\u001b[1;34m'nan'\u001b[0m\u001b[1;33m)\u001b[0m\u001b[1;33m\u001b[0m\u001b[1;33m\u001b[0m\u001b[0m\n\u001b[0;32m      3\u001b[0m \u001b[1;31m# use Exxon's date as proxy for NYSE trading dates\u001b[0m\u001b[1;33m\u001b[0m\u001b[1;33m\u001b[0m\u001b[1;33m\u001b[0m\u001b[0m\n\u001b[1;32m----> 4\u001b[1;33m \u001b[0mdf_OHLCV\u001b[0m \u001b[1;33m=\u001b[0m \u001b[0mdf_OHLCV_all_dates\u001b[0m\u001b[1;33m.\u001b[0m\u001b[0mreindex\u001b[0m\u001b[1;33m(\u001b[0m\u001b[0mdf_XOM\u001b[0m\u001b[1;33m.\u001b[0m\u001b[0mindex\u001b[0m\u001b[1;33m,\u001b[0m \u001b[0mfill_value\u001b[0m\u001b[1;33m=\u001b[0m\u001b[0mmyNaN\u001b[0m\u001b[1;33m)\u001b[0m\u001b[1;33m\u001b[0m\u001b[1;33m\u001b[0m\u001b[0m\n\u001b[0m",
      "\u001b[1;31mNameError\u001b[0m: name 'df_XOM' is not defined"
     ]
    }
   ],
   "source": [
    "# drop weekend data by re-indexing to date-index of index_symbol\n",
    "myNaN = float('nan')\n",
    "# use Exxon's date as proxy for NYSE trading dates\n",
    "df_OHLCV = df_OHLCV_all_dates.reindex(df_XOM.index, fill_value=myNaN)"
   ]
  },
  {
   "cell_type": "code",
   "execution_count": null,
   "metadata": {},
   "outputs": [],
   "source": [
    "# pickle df_OHLCV and symbols\n",
    "print(f\"Full path to pickled df_OHLCV_all_dates:  {path_data_dump}{filename_pickled_df_OHLCV_all_dates}\")\n",
    "pickle_dump(df_OHLCV_all_dates, path_data_dump, filename_pickled_df_OHLCV_all_dates, verbose=verbose)\n",
    "print(f\"Full path to pickled df_OHLCV:  {path_data_dump}{filename_pickled_df_OHLCV}\")\n",
    "pickle_dump(df_OHLCV, path_data_dump, filename_pickled_df_OHLCV, verbose=verbose)\n",
    "print(f\"Full path to pickled symbols_df_OHLCV:  {path_data_dump}{filename_pickled_symbols_df_OHLCV}\")\n",
    "pickle_dump(symbols_OHLCV, path_data_dump, filename_pickled_symbols_df_OHLCV, verbose=verbose)"
   ]
  },
  {
   "cell_type": "code",
   "execution_count": null,
   "metadata": {},
   "outputs": [],
   "source": [
    "# create df of symbols' Close, sort df by symbols, pickled df\n",
    "df_symbols_close, dates_dropped, symbols_OHLCV, symbols_dropped = yf_symbols_close(\n",
    "    path_dir,\n",
    "    path_data_dump,\n",
    "    filename_pickled_df_OHLCV,\n",
    "    verbose=verbose,\n",
    ")\n",
    "# multi-index sort df by symbol\n",
    "df_symbols_close = df_symbols_close.sort_index(axis=1,level=0,sort_remaining=False)\n",
    "print(f\"Full path to pickled df_symbols_close:  {path_data_dump}{filename_pickled_df_symbols_close}\")\n",
    "pickle_dump(df_symbols_close, path_data_dump, filename_pickled_df_symbols_close, verbose=verbose)"
   ]
  },
  {
   "cell_type": "code",
   "execution_count": null,
   "metadata": {},
   "outputs": [],
   "source": [
    "# retrieve pickled files\n",
    "print(f\"Full path to pickled df_OHLCV_all_dates:  {path_data_dump}{filename_pickled_df_OHLCV_all_dates}\")\n",
    "df_all_dates = pickle_load(path_data_dump, filename_pickled_df_OHLCV_all_dates, verbose=verbose)\n",
    "print(f\"Full path to pickled df_OHLCV:  {path_data_dump}{filename_pickled_df_OHLCV}\")\n",
    "df = pickle_load(path_data_dump, filename_pickled_df_OHLCV, verbose=verbose)\n",
    "print(f\"Full path to pickled symbols_df_OHLCV:  {path_data_dump}{filename_pickled_symbols_df_OHLCV}\")\n",
    "df_close = pickle_load(path_data_dump, filename_pickled_df_symbols_close, verbose=verbose)\n",
    "print(f\"Full path to pickled df_symbols_close:  {path_data_dump}{filename_pickled_df_symbols_close}\")\n",
    "symbols_df = pickle_load(path_data_dump, filename_pickled_symbols_df_OHLCV, verbose=verbose)"
   ]
  },
  {
   "cell_type": "code",
   "execution_count": null,
   "metadata": {},
   "outputs": [],
   "source": [
    "df1 = df_OHLCV_all_dates['A'].tail(252)\n",
    "df2 = df_OHLCV_all_dates['YUM'].tail(252)\n",
    "print(f'A:\\n{df1}')\n",
    "print(f'YUM:\\n{df2}')"
   ]
  },
  {
   "cell_type": "code",
   "execution_count": null,
   "metadata": {},
   "outputs": [],
   "source": [
    "df1 = df['A'].tail(252)\n",
    "df2 = df['YUM'].tail(252)\n",
    "print(f'A:\\n{df1}')\n",
    "print(f'YUM:\\n{df2}')"
   ]
  }
 ],
 "metadata": {
  "kernelspec": {
   "display_name": "Python 3.7.9 ('.venv': poetry)",
   "language": "python",
   "name": "python3"
  },
  "language_info": {
   "codemirror_mode": {
    "name": "ipython",
    "version": 3
   },
   "file_extension": ".py",
   "mimetype": "text/x-python",
   "name": "python",
   "nbconvert_exporter": "python",
   "pygments_lexer": "ipython3",
   "version": "3.7.9"
  },
  "orig_nbformat": 4,
  "vscode": {
   "interpreter": {
    "hash": "55a3812d65f91e7e7447da6b5cfc60716e82f91e6a92533fb27b46796ad1962a"
   }
  }
 },
 "nbformat": 4,
 "nbformat_minor": 2
}
