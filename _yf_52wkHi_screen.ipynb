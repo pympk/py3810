{
 "cells": [
  {
   "cell_type": "code",
   "execution_count": null,
   "metadata": {},
   "outputs": [],
   "source": [
    "# # selected keys to yfinance yf.Ticker(symbol).info\n",
    "# # selected keys for stocks\n",
    "# eqKeys = [\n",
    "#         \"symbol\",\n",
    "#         \"quoteType\",\n",
    "#         \"longName\",\n",
    "#         \"industry\",\n",
    "#         \"sector\",\n",
    "#         \"marketCap\",\n",
    "#         \"revenueGrowth\",\n",
    "#         \"earningsGrowth\",\n",
    "#         \"earningsQuarterlyGrowth\",\n",
    "#         \"ebitdaMargins\",\n",
    "#         \"previousClose\",\n",
    "#         \"fiftyTwoWeekHigh\",\n",
    "#         \"52WeekChange\",\n",
    "#         \"revenuePerShare\",\n",
    "#         \"forwardEps\",\n",
    "#         \"trailingEps\",\n",
    "#         \"sharesOutstanding\",\n",
    "#         \"longBusinessSummary\",\n",
    "#     ]\n",
    "# # selected ETF keys\n",
    "# etfKeys = [\n",
    "#         \"symbol\",\n",
    "#         \"quoteType\",\n",
    "#         \"longName\",\n",
    "#         \"category\",\n",
    "#         \"totalAssets\",\n",
    "#         \"beta3Year\",\n",
    "#         \"navPrice\",\n",
    "#         \"previousClose\",\n",
    "#         \"holdings\",\n",
    "#         \"sectorWeightings\",\n",
    "#         \"longBusinessSummary\",\n",
    "#     ]\n",
    "# # selected keys for cryto\n",
    "# crytoKeys = [\n",
    "        \"symbol\",\n",
    "        \"quoteType\",\n",
    "        \"name\",\n",
    "        \"regularMarketPrice\",\n",
    "        \"volume\",\n",
    "        \"marketCap\",\n",
    "        \"circulatingSupply\",\n",
    "        \"startDate\",\n",
    "    ]"
   ]
  },
  {
   "cell_type": "code",
   "execution_count": null,
   "metadata": {},
   "outputs": [],
   "source": [
    "# # unique keys from combining eqKeys, etfKeys and crytoKeys\n",
    "# from collections import OrderedDict\n",
    "# combinedKeys = list(OrderedDict.fromkeys(eqKeys +etfKeys + crytoKeys))\n",
    "# combinedKeys "
   ]
  },
  {
   "cell_type": "code",
   "execution_count": 13,
   "metadata": {},
   "outputs": [],
   "source": [
    "# columns for df_52wkHi\n",
    "myCols = ['symbol',\n",
    " 'quoteType',\n",
    " 'longName',\n",
    "  'sector',\n",
    " 'industry',\n",
    " 'marketCap',\n",
    " 'revenueGrowth',\n",
    " 'ebitdaMargins',\n",
    " 'earningsGrowth',\n",
    " 'earningsQuarterlyGrowth',\n",
    "  'previousClose',\n",
    "  'volume',\n",
    " 'fiftyTwoWeekHigh',\n",
    " '52WeekChange',\n",
    " 'revenuePerShare',\n",
    " 'forwardEps',\n",
    " 'trailingEps',\n",
    " 'sharesOutstanding']"
   ]
  },
  {
   "cell_type": "code",
   "execution_count": 14,
   "metadata": {},
   "outputs": [],
   "source": [
    "import yfinance as yf\n",
    "import pandas as pd\n",
    "from datetime import date\n",
    "from myUtils import read_symbols_file, pickle_dump, pickle_load, yf_candlestick\n",
    "path_dir = \"C:/Users/ping/Desktop/my_yfinance/\"\n",
    "path_data_dump = path_dir + \"VSCode_dump/\"\n",
    "path_symbols_file = path_dir + \"source/\""
   ]
  },
  {
   "cell_type": "code",
   "execution_count": null,
   "metadata": {},
   "outputs": [],
   "source": [
    "# get symbols text file from Barchart 52wkHi screen, >$10/share, price*vol>$10mil\n",
    "filename_symbols = path_data_dump + \"symbols_52wkHi.txt\"  \n",
    "symbols = read_symbols_file(filename_symbols)"
   ]
  },
  {
   "cell_type": "code",
   "execution_count": null,
   "metadata": {},
   "outputs": [],
   "source": [
    "# get yf.Ticker(symbol).info for keys in myCols for 52wkHi symbols \n",
    "df_list = []\n",
    "for symbol in symbols:\n",
    "    df_list.append(pd.DataFrame([yf.Ticker(symbol).info]))\n",
    "df = pd.concat(df_list)\n",
    "df = df[myCols].copy()"
   ]
  },
  {
   "cell_type": "code",
   "execution_count": null,
   "metadata": {},
   "outputs": [],
   "source": [
    "# put today's date in the date column\n",
    "today = str(date.today())\n",
    "df['date'] = today"
   ]
  },
  {
   "cell_type": "code",
   "execution_count": null,
   "metadata": {},
   "outputs": [],
   "source": [
    "# sort df_52wkHi with highest revenueGrowth on the 1st row\n",
    "df_52wkHi = df.sort_values(by=['revenueGrowth', 'ebitdaMargins', 'earningsQuarterlyGrowth', 'earningsGrowth' ], ascending=False)\n",
    "pickle_dump(df_52wkHi, path_data_dump, 'df_52wkHi')"
   ]
  },
  {
   "cell_type": "code",
   "execution_count": null,
   "metadata": {},
   "outputs": [],
   "source": []
  },
  {
   "cell_type": "code",
   "execution_count": null,
   "metadata": {},
   "outputs": [],
   "source": [
    "# apply filter revenueGrowth > .50, symbol with highest revenueGrowth is last in list\n",
    "df_52wkHi = pickle_load(path_data_dump, 'df_52wkHi')\n",
    "df = df_52wkHi[df_52wkHi.revenueGrowth > .50]\n",
    "symbols_52wkHi = df['symbol'].tolist()  # convert pd.Series to list\n",
    "symbols_52wkHi.reverse()  # symbol with highest revenueGrowth is last in list\n",
    "pickle_dump(symbols_52wkHi, path_data_dump, 'symbols_52wkHi')"
   ]
  },
  {
   "cell_type": "code",
   "execution_count": null,
   "metadata": {},
   "outputs": [],
   "source": [
    "df.columns"
   ]
  },
  {
   "cell_type": "code",
   "execution_count": null,
   "metadata": {},
   "outputs": [],
   "source": [
    "df.sort_values(by=['industry', 'revenueGrowth'])"
   ]
  },
  {
   "cell_type": "markdown",
   "metadata": {},
   "source": []
  },
  {
   "cell_type": "code",
   "execution_count": null,
   "metadata": {},
   "outputs": [],
   "source": []
  },
  {
   "cell_type": "code",
   "execution_count": null,
   "metadata": {},
   "outputs": [],
   "source": [
    "# plt_syms = df['symbol']\n",
    "# plot_days = '252d'\n",
    "# for plt_sym in plt_syms.iloc[::-1]:\n",
    "#   df = yf.Ticker(plt_sym).history(period=plot_days)\n",
    "#   df.drop(['Dividends', 'Stock Splits'], axis=1, inplace=True)  # drop Div. and Stock Splits columns\n",
    "#   df.columns = ['open', 'high', 'low', 'close', 'volume']  # rename columns Open ... Volume to open ... volume\n",
    "#   cache_plot = yf_candlestick(plt_sym, df, plot_chart=True) "
   ]
  }
 ],
 "metadata": {
  "kernelspec": {
   "display_name": "Python 3.7.9 ('.venv': poetry)",
   "language": "python",
   "name": "python3"
  },
  "language_info": {
   "codemirror_mode": {
    "name": "ipython",
    "version": 3
   },
   "file_extension": ".py",
   "mimetype": "text/x-python",
   "name": "python",
   "nbconvert_exporter": "python",
   "pygments_lexer": "ipython3",
   "version": "3.7.9"
  },
  "orig_nbformat": 4,
  "vscode": {
   "interpreter": {
    "hash": "55a3812d65f91e7e7447da6b5cfc60716e82f91e6a92533fb27b46796ad1962a"
   }
  }
 },
 "nbformat": 4,
 "nbformat_minor": 2
}
