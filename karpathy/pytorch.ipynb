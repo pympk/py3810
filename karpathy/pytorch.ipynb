{
 "cells": [
  {
   "cell_type": "markdown",
   "metadata": {},
   "source": [
    "## [Understanding PyTorch with an example: a step-by-step tutorial](https://towardsdatascience.com/understanding-pytorch-with-an-example-a-step-by-step-tutorial-81fc5f8c4e8e)"
   ]
  },
  {
   "cell_type": "code",
   "execution_count": 51,
   "metadata": {},
   "outputs": [],
   "source": [
    "import numpy as np"
   ]
  },
  {
   "cell_type": "code",
   "execution_count": 52,
   "metadata": {},
   "outputs": [],
   "source": [
    "# Data Generation, random data around the line y = 2x + 1\n",
    "np.random.seed(42)\n",
    "x = np.random.rand(100, 1)  # uniform distribution [0, 1]\n",
    "y = 1 + 2*x + 0.1*np.random.randn(100, 1)  # normal distribution, mean 0 and variance 1\n",
    "\n",
    "# Shuffles the indices\n",
    "idx = np.arange(100)\n",
    "np.random.shuffle(idx)\n",
    "\n",
    "# Use first 80 random indices for training\n",
    "train_idx = idx[:80]\n",
    "# Use remaining indices for validation\n",
    "val_idx = idx[80:]\n",
    "\n",
    "# Generate train and validation sets\n",
    "x_train, y_train = x[train_idx], y[train_idx]\n",
    "x_val, y_val = x[val_idx], y[val_idx]"
   ]
  },
  {
   "cell_type": "code",
   "execution_count": 53,
   "metadata": {},
   "outputs": [
    {
     "data": {
      "image/png": "[encoded data removed]",
      "text/plain": [
       "<Figure size 1000x500 with 2 Axes>"
      ]
     },
     "metadata": {},
     "output_type": "display_data"
    }
   ],
   "source": [
    "import matplotlib.pyplot as plt\n",
    "\n",
    "# Define the x and y values for the first plot\n",
    "x1 = x_train\n",
    "y1 = y_train\n",
    "\n",
    "# Define the x and y values for the second plot\n",
    "x2 = x_val\n",
    "y2 = y_val\n",
    "\n",
    "# Create subplots\n",
    "fig, (ax1, ax2) = plt.subplots(1, 2, figsize=(10, 5))\n",
    "\n",
    "# Space the plots further apart\n",
    "plt.subplots_adjust(wspace=0.4)\n",
    "\n",
    "# Plot the first plot\n",
    "ax1.plot(x1, y1, marker=\"o\", color=\"blue\", linestyle=\"None\")\n",
    "ax1.set_title(\"Generated Data - Train\")\n",
    "\n",
    "# Plot the second plot\n",
    "ax2.plot(x2, y2, marker=\"o\", color=\"red\", linestyle=\"None\")\n",
    "ax2.set_title(\"Generated Data - Validation\")\n",
    "\n",
    "# Add a title to the figure\n",
    "# fig.suptitle(\"Two Plots Side by Side\")\n",
    "\n",
    "# Show the plot\n",
    "plt.show()\n",
    "\n",
    "\n",
    "# n_epochs: 1000\n",
    "# len(losses): 5000\n",
    "# len(val_losses): 2000\n",
    "# i: 0  len(items): 2\n",
    "# j: 0  len(item): 16\n",
    "# j: 1  len(item): 16\n",
    "# ===\n",
    "# i: 1  len(items): 2\n",
    "# j: 0  len(item): 16\n",
    "# j: 1  len(item): 16\n",
    "# ===\n",
    "# i: 2  len(items): 2\n",
    "# j: 0  len(item): 16\n",
    "# j: 1  len(item): 16\n",
    "# ===\n",
    "# i: 3  len(items): 2\n",
    "# j: 0  len(item): 16\n",
    "# j: 1  len(item): 16\n",
    "# ===\n",
    "# i: 4  len(items): 2\n",
    "# j: 0  len(item): 16\n",
    "# j: 1  len(item): 16\n",
    "# ===\n",
    "# i: 5  len(items): 2\n",
    "# j: 0  len(item): 10\n",
    "# j: 1  len(item): 10\n",
    "# ===\n"
   ]
  },
  {
   "cell_type": "code",
   "execution_count": 55,
   "metadata": {},
   "outputs": [
    {
     "data": {
      "text/plain": [
       "OrderedDict([('a', tensor([1.0076])), ('b', tensor([1.9877]))])"
      ]
     },
     "execution_count": 55,
     "metadata": {},
     "output_type": "execute_result"
    }
   ],
   "source": [
    "model.state_dict()"
   ]
  },
  {
   "cell_type": "code",
   "execution_count": 56,
   "metadata": {},
   "outputs": [
    {
     "name": "stdout",
     "output_type": "stream",
     "text": [
      "a and b after initialization\n",
      "a: [0.49671415], b: [-0.1382643]\n",
      "\n",
      "a and b after our gradient descent\n",
      "a: [1.02354094], b: [1.96896411]\n"
     ]
    }
   ],
   "source": [
    "# Initialize parameters \"a\" and \"b\" randomly\n",
    "np.random.seed(42)\n",
    "a = np.random.randn(1)\n",
    "b = np.random.randn(1)\n",
    "print('a and b after initialization')\n",
    "print(f'a: {a}, b: {b}\\n')\n",
    "\n",
    "# Set learning rate\n",
    "lr = 1e-1\n",
    "\n",
    "# Define number of epochs\n",
    "n_epochs = 1000\n",
    "\n",
    "for epoch in range(n_epochs):\n",
    "  # Compute predicted output\n",
    "  yhat = a + b*x_train\n",
    "\n",
    "  # Calculate error\n",
    "  error = (y_train - yhat)\n",
    "\n",
    "  # Calcualte loss\n",
    "  loss = (error**2).mean()\n",
    "\n",
    "  # Calculate gradients for \"a\" (a constant) and \"b\" (the slope)\n",
    "  a_grad = -2*error.mean()\n",
    "  b_grad = -2*(x_train*error).mean()\n",
    "\n",
    "  # Update parameters a and b using gradients and learning rate\n",
    "  a += -lr*a_grad\n",
    "  b += -lr*b_grad\n",
    "\n",
    "print('a and b after our gradient descent')\n",
    "print(f'a: {a}, b: {b}')"
   ]
  },
  {
   "cell_type": "code",
   "execution_count": null,
   "metadata": {},
   "outputs": [],
   "source": [
    "# Sanity check: do we get the same results as our model\n",
    "from sklearn.linear_model import LinearRegression\n",
    "linr = LinearRegression()\n",
    "linr.fit(x_train, y_train)\n",
    "print('intercept and coef. from  Scikit-Learn')\n",
    "print(f'linr.intercept_: {linr.intercept_},  linr.coef_[0]: {linr.coef_[0]}')"
   ]
  },
  {
   "cell_type": "code",
   "execution_count": null,
   "metadata": {},
   "outputs": [],
   "source": [
    "import torch\n",
    "import torch.optim as optim\n",
    "import torch.nn as nn\n",
    "from torchviz import make_dot\n",
    "\n",
    "device = 'cuda' if torch.cuda.is_available() else 'cpu'\n",
    "\n",
    "# Transform data from numpy arrays to pytorch tensors\n",
    "# and send them to chosen device\n",
    "x_train_tensor = torch.from_numpy(x_train).float().to(device)\n",
    "y_train_tensor = torch.from_numpy(y_train).float().to(device)\n",
    "\n",
    "print(f'type(x_train):         {type(x_train)}')\n",
    "print(f'type(x_train_tensor):  {type(x_train_tensor)}')\n",
    "print(f'x_train_tensor.type(): {x_train_tensor.type()}')"
   ]
  },
  {
   "cell_type": "code",
   "execution_count": null,
   "metadata": {},
   "outputs": [],
   "source": [
    "a = torch.randn(1, requires_grad=True, dtype=torch.float)\n",
    "b = torch.randn(1, requires_grad=True, dtype=torch.float)\n",
    "print(f'a: {a}\\nb: {b}')"
   ]
  },
  {
   "cell_type": "code",
   "execution_count": null,
   "metadata": {},
   "outputs": [],
   "source": [
    "# this won't work if device is GPU\n",
    "a = torch.randn(1, requires_grad=True, dtype=torch.float).to(device)\n",
    "b = torch.randn(1, requires_grad=True, dtype=torch.float).to(device)\n",
    "print(f'a: {a}\\nb: {b}')"
   ]
  },
  {
   "cell_type": "code",
   "execution_count": null,
   "metadata": {},
   "outputs": [],
   "source": [
    "# this works if device is GPU\n",
    "a = torch.randn(1, dtype=torch.float).to(device)\n",
    "b = torch.randn(1, dtype=torch.float).to(device)\n",
    "a.requires_grad_()  # _ makes changes in-place\n",
    "b.requires_grad_()  # _ makes changes in-place\n",
    "print(f'a: {a}\\nb: {b}')\n"
   ]
  },
  {
   "cell_type": "code",
   "execution_count": null,
   "metadata": {},
   "outputs": [],
   "source": [
    "# Pytorch recommends specifying device at creation\n",
    "torch.manual_seed(42)\n",
    "a = torch.randn(1, requires_grad=True, dtype=torch.float, device=device)\n",
    "b = torch.randn(1, requires_grad=True, dtype=torch.float, device=device)\n",
    "print(f'a: {a}\\nb: {b}')"
   ]
  },
  {
   "cell_type": "code",
   "execution_count": null,
   "metadata": {},
   "outputs": [],
   "source": [
    "lr = 1e-1\n",
    "n_epochs = 1000\n",
    "torch.manual_seed(42)\n",
    "a = torch.randn(1, requires_grad=True, dtype=torch.float, device=device)\n",
    "b = torch.randn(1, requires_grad=True, dtype=torch.float, device=device)\n",
    "\n",
    "for epach in range(n_epochs):\n",
    "  yhat = a + b*x_train_tensor\n",
    "  error = y_train_tensor - yhat\n",
    "  loss = (error**2).mean()\n",
    "  loss.backward()  # no more manual computation of gradients\n",
    "  print(f'a.grad: {a.grad},  b.grad: {b.grad}')\n",
    "\n",
    "  # Use no_grad to keep the update out of the gradient computation\n",
    "  with torch.no_grad():\n",
    "    a += -lr*a.grad\n",
    "    b += -lr*b.grad\n",
    "\n",
    "  a.grad.zero_()\n",
    "  b.grad.zero_()\n",
    "\n",
    "print(f'a: {a},  b: {b}')"
   ]
  },
  {
   "cell_type": "code",
   "execution_count": null,
   "metadata": {},
   "outputs": [],
   "source": [
    "torch.manual_seed(42)\n",
    "a = torch.randn(1, requires_grad=True, dtype=torch.float, device=device)\n",
    "b = torch.randn(1, requires_grad=True, dtype=torch.float, device=device)\n",
    "yhat = a + b*x_train_tensor\n",
    "error = y_train_tensor - yhat\n",
    "loss = (error**2).mean()"
   ]
  },
  {
   "cell_type": "code",
   "execution_count": null,
   "metadata": {},
   "outputs": [],
   "source": [
    "make_dot(yhat)"
   ]
  },
  {
   "cell_type": "code",
   "execution_count": null,
   "metadata": {},
   "outputs": [],
   "source": [
    "make_dot(error)"
   ]
  },
  {
   "cell_type": "code",
   "execution_count": null,
   "metadata": {},
   "outputs": [],
   "source": [
    "make_dot(loss)"
   ]
  },
  {
   "cell_type": "code",
   "execution_count": null,
   "metadata": {},
   "outputs": [],
   "source": [
    "a_nograd = torch.randn(1, requires_grad=False, dtype=torch.float, device=device)\n",
    "b = torch.randn(1, requires_grad=True, dtype=torch.float, device=device)\n",
    "yhat = a_nograd + b*x_train_tensor\n",
    "print(f'a_nograd: no gradients, no graph')\n",
    "make_dot(yhat)"
   ]
  },
  {
   "cell_type": "code",
   "execution_count": null,
   "metadata": {},
   "outputs": [],
   "source": [
    "# non-sense code to demo control flow statements\n",
    "yhat = a + b*x_train_tensor\n",
    "error = y_train_tensor - yhat\n",
    "loss = (error**2).mean()\n",
    "if loss > 0:\n",
    "  yhat2 = b*x_train_tensor\n",
    "  error2 = y_train_tensor - yhat2\n",
    "loss += error2.mean()\n",
    "make_dot(loss)  "
   ]
  },
  {
   "cell_type": "code",
   "execution_count": null,
   "metadata": {},
   "outputs": [],
   "source": [
    "torch.manual_seed(42)\n",
    "a = torch.randn(1, requires_grad=True, dtype=torch.float, device=device)\n",
    "b = torch.randn(1, requires_grad=True, dtype=torch.float, device=device)\n",
    "print('a and b before optimizing')\n",
    "print(f'a: {a},  b: {b}\\n')\n",
    "\n",
    "lr = 1e-1\n",
    "n_epochs = 1000\n",
    "\n",
    "# Use SGD optimizer to update parameters\n",
    "optimizer = optim.SGD([a, b], lr=lr)\n",
    "\n",
    "print('Peform batch gradient descent since x_train_tensor has all the data')\n",
    "print(f'len(x_train_tensor): {len(x_train_tensor)}\\n')\n",
    "\n",
    "for epoch in range(n_epochs):\n",
    "  yhat = a + b*x_train_tensor\n",
    "  error = y_train_tensor - yhat\n",
    "  loss = (error**2).mean()\n",
    "\n",
    "  loss.backward()  # calculate gradients\n",
    "  optimizer.step()  # update parameters\n",
    "  optimizer.zero_grad()  # zero out gradients\n",
    "\n",
    "print('a and b after optimizing')\n",
    "print(f'a: {a},  b: {b}')"
   ]
  },
  {
   "cell_type": "code",
   "execution_count": null,
   "metadata": {},
   "outputs": [],
   "source": [
    "# Use pytorch loss functions\n",
    "torch.manual_seed(42)\n",
    "a = torch.randn(1, requires_grad=True, dtype=torch.float, device=device)\n",
    "b = torch.randn(1, requires_grad=True, dtype=torch.float, device=device)\n",
    "print('a and b before optimizing')\n",
    "print(f'a: {a},  b: {b}\\n')\n",
    "\n",
    "lr = 1e-1\n",
    "n_epochs = 1000\n",
    "\n",
    "# Use MSE loss function\n",
    "loss_fn = nn.MSELoss(reduction='mean')\n",
    "\n",
    "# Use SGD optimizer to update parameters\n",
    "optimizer = optim.SGD([a, b], lr=lr)\n",
    "\n",
    "print('Peform batch gradient descent, matrix multiplication with x_train_tensor process all the data at onnce')\n",
    "print(f'len(x_train_tensor): {len(x_train_tensor)}\\n')\n",
    "\n",
    "for epoch in range(n_epochs):  # all training data is processed in an epoch\n",
    "  yhat = a + b*x_train_tensor\n",
    "  error = y_train_tensor - yhat\n",
    "\n",
    "  # loss = (error**2).mean()\n",
    "  loss = loss_fn(y_train_tensor, yhat)\n",
    "\n",
    "  loss.backward()  # calculate gradients\n",
    "  optimizer.step()  # update parameters\n",
    "  optimizer.zero_grad()  # zero out gradients\n",
    "\n",
    "print('a and b after optimizing')\n",
    "print(f'a: {a},  b: {b}')"
   ]
  },
  {
   "cell_type": "code",
   "execution_count": null,
   "metadata": {},
   "outputs": [],
   "source": [
    "# Build a simple model\n",
    "class ManualLinearRegression(nn.Module):\n",
    "  def __init__(self):\n",
    "    super().__init__()\n",
    "    # Wrap \"a\" and \"b\" in nn.Parameter to make them model parameters\n",
    "    # Allow model's parameters() method to retrieve an iterator for model's parameters\n",
    "    # Get current values for all parameters with state_dict() method \n",
    "    self.a = nn.Parameter(torch.randn(1, requires_grad=True, dtype=torch.float))\n",
    "    self.b = nn.Parameter(torch.randn(1, requires_grad=True, dtype=torch.float))\n",
    "\n",
    "  def forward(self, x):\n",
    "    # Compute predictions\n",
    "    return self.a + self.b*x       "
   ]
  },
  {
   "cell_type": "code",
   "execution_count": null,
   "metadata": {},
   "outputs": [],
   "source": [
    "# Use our model\n",
    "torch.manual_seed(42)\n",
    "\n",
    "# Create model and send it to device\n",
    "model = ManualLinearRegression().to(device=device)\n",
    "# Alternate model using pytorch vs writing our own class\n",
    "# model = nn.Sequential(nn.Linear(in_features=1, out_features=1)).to(device=device)\n",
    "\n",
    "# Print parameters\n",
    "print(f'model.state_dict():\\n {model.state_dict()}\\n')\n",
    "\n",
    "\n",
    "# a = torch.randn(1, requires_grad=True, dtype=torch.float, device=device)\n",
    "# b = torch.randn(1, requires_grad=True, dtype=torch.float, device=device)\n",
    "# print('a and b before optimizing')\n",
    "# print(f'a: {a},  b: {b}\\n')\n",
    "\n",
    "lr = 1e-1\n",
    "n_epochs = 1000\n",
    "\n",
    "# Use MSE loss function\n",
    "loss_fn = nn.MSELoss(reduction='mean')\n",
    "\n",
    "# Use SGD optimizer to update parameters\n",
    "# optimizer = optim.SGD([a, b], lr=lr)\n",
    "optimizer = optim.SGD(model.parameters(), lr=lr)\n",
    "\n",
    "print('Peform batch gradient descent, matrix multiplication with x_train_tensor process all the data at onnce')\n",
    "print(f'len(x_train_tensor): {len(x_train_tensor)}\\n')\n",
    "\n",
    "for epoch in range(n_epochs):  # all training data is processed in an epoch\n",
    "  # yhat = a + b*x_train_tensor\n",
    "  # error = y_train_tensor - yhat\n",
    "  model.train()  # set model to training mode vs other mode like Dropout\n",
    "\n",
    "  # No more manual predictions!\n",
    "  # yhat = a + b*x_train_tensor\n",
    "  yhat = model(x_train_tensor)\n",
    "\n",
    "  # loss = (error**2).mean()\n",
    "  loss = loss_fn(y_train_tensor, yhat)\n",
    "\n",
    "  loss.backward()  # calculate gradients\n",
    "  optimizer.step()  # update parameters\n",
    "  optimizer.zero_grad()  # zero out gradients\n",
    "\n",
    "# print('a and b after optimizing')\n",
    "# print(f'a: {a},  b: {b}')\n",
    "print(f'model.state_dict():\\n{model.state_dict()}')"
   ]
  },
  {
   "cell_type": "code",
   "execution_count": null,
   "metadata": {},
   "outputs": [],
   "source": [
    "# Build a nested model\n",
    "class LayerLinearRegression(nn.Module):\n",
    "  def __init__(self):\n",
    "    super().__init__()\n",
    "    # Wrap \"a\" and \"b\" in nn.Parameter to make them model parameters\n",
    "    # Allow model's parameters() method to retrieve an iterator for model's parameters\n",
    "    # Get current values for all parameters with state_dict() method \n",
    "    self.a = nn.Parameter(torch.randn(1, requires_grad=True, dtype=torch.float))\n",
    "    self.b = nn.Parameter(torch.randn(1, requires_grad=True, dtype=torch.float))\n",
    "\n",
    "  def forward(self, x):\n",
    "    # Compute predictions\n",
    "    # return self.a + self.b*x\n",
    "    #\n",
    "    # Change to taking a call to the layer to make predictions      \n",
    "    return self.linear(x)   "
   ]
  },
  {
   "cell_type": "code",
   "execution_count": null,
   "metadata": {},
   "outputs": [],
   "source": [
    "def make_train_step(model, loss_fn, optimizer):\n",
    "  # Build function that performs a step in the training loop\n",
    "  def train_step(x, y):\n",
    "    # Set model to TRAIN mode\n",
    "    model.train()\n",
    "    # Make predictions\n",
    "    yhat = model(x)\n",
    "    # Compute loss\n",
    "    loss = loss_fn(y, yhat)\n",
    "    # Compute gradients\n",
    "    loss.backward()\n",
    "    # Update parameters and zeroes gradients\n",
    "    optimizer.step()\n",
    "    optimizer.zero_grad()\n",
    "    # Return the loss\n",
    "    return loss.item()\n",
    "\n",
    "  # Return the function that will be called inside the training loop\n",
    "  return train_step"
   ]
  },
  {
   "cell_type": "code",
   "execution_count": null,
   "metadata": {},
   "outputs": [],
   "source": [
    "# Create train_step function for our model, loss function and optimizer\n",
    "train_step = make_train_step(model, loss_fn, optimizer)\n",
    "losses = []\n",
    "\n",
    "for epoch in range(n_epochs):\n",
    "  # Perform one train step and return loss\n",
    "  loss = train_step(x_train_tensor, y_train_tensor)\n",
    "  losses.append(loss)\n",
    "\n",
    "# Check model's parameters\n",
    "print(f'model.state_dict():\\n{model.state_dict()}')"
   ]
  },
  {
   "cell_type": "code",
   "execution_count": null,
   "metadata": {},
   "outputs": [],
   "source": [
    "# Build a simple dataset\n",
    "from torch.utils.data import Dataset, TensorDataset\n",
    "\n",
    "class CustomerDataset(Dataset):\n",
    "  def __init__(self, x_tensor, y_tensor):\n",
    "    self.x = x_tensor\n",
    "    self.y = y_tensor\n",
    "\n",
    "  def __getitem__(self, index):\n",
    "    return (self.x[index], self.y[index])\n",
    "\n",
    "  def __len__(self):\n",
    "    return len(self.x)  "
   ]
  },
  {
   "cell_type": "code",
   "execution_count": null,
   "metadata": {},
   "outputs": [],
   "source": [
    "# Is this a CPU tensor? Where is .to(device)?\n",
    "x_train_tensor = torch.from_numpy(x_train).float()\n",
    "y_train_tensor = torch.from_numpy(y_train).float()\n",
    "\n",
    "train_data = CustomerDataset(x_train_tensor, y_train_tensor)\n",
    "print(f'train_data[0]: {train_data[0]}')\n",
    "\n",
    "train_data = TensorDataset(x_train_tensor, y_train_tensor)\n",
    "print(f'train_data[0]: {train_data[0]}')"
   ]
  },
  {
   "cell_type": "code",
   "execution_count": null,
   "metadata": {},
   "outputs": [],
   "source": [
    "from torch.utils.data import DataLoader\n",
    "# train_loader = DataLoader(dataset=train_data, batch_size=16, shuffle=True)\n",
    "train_loader = DataLoader(dataset=train_data, batch_size=16, shuffle=False)"
   ]
  },
  {
   "cell_type": "code",
   "execution_count": null,
   "metadata": {},
   "outputs": [],
   "source": []
  },
  {
   "cell_type": "code",
   "execution_count": null,
   "metadata": {},
   "outputs": [],
   "source": [
    "for item in train_data:\n",
    "  print(item)"
   ]
  },
  {
   "cell_type": "code",
   "execution_count": null,
   "metadata": {},
   "outputs": [],
   "source": [
    "# Retrieve a sample mini-batch\n",
    "next(iter(train_loader))"
   ]
  },
  {
   "cell_type": "code",
   "execution_count": null,
   "metadata": {},
   "outputs": [],
   "source": [
    "# Use dataloader to load mini-batch\n",
    "train_step = make_train_step(model, loss_fn, optimizer)\n",
    "losses = []\n",
    "\n",
    "for epoch in range(n_epochs):\n",
    "  # # Perform one train step and return loss\n",
    "  # loss = train_step(x_train_tensor, y_train_tensor)\n",
    "  # losses.append(loss)\n",
    "\n",
    "  # For bigger datasets, loading data sample by sample (into a CPU tensor)\n",
    "  # using Dataset’s __get_item__ and then sending all samples that belong\n",
    "  # to the same mini-batch at once to your GPU (device) is the way to go\n",
    "  # in order to make the best use of your graphics card’s RAM.\n",
    "\n",
    "  for x_batch, y_batch in train_loader:\n",
    "    # the dataset \"lives\" in the CPU, so do out mini-batches\n",
    "    # we need to send those mini-batches to the device where\n",
    "    # the model \"lives\"\n",
    "    x_batch = x_batch.to(device)\n",
    "    y_batch = y_batch.to(device)    \n",
    "    loss = train_step(x_batch, y_batch)\n",
    "    losses.append(loss)\n",
    "\n",
    "# Check model's parameters\n",
    "print(f'model.state_dict():\\n{model.state_dict()}')"
   ]
  },
  {
   "cell_type": "code",
   "execution_count": null,
   "metadata": {},
   "outputs": [],
   "source": [
    "# Random split\n",
    "from torch.utils.data.dataset import random_split\n",
    "x_tensor = torch.from_numpy(x).float()\n",
    "y_tensor = torch.from_numpy(y).float()\n",
    "\n",
    "dataset = TensorDataset(x_tensor, y_tensor)\n",
    "\n",
    "train_data, val_data = random_split(dataset, [80, 20])\n",
    "\n",
    "# val_loader results\n",
    "# dataset items = 2, => returns 2 tensors\n",
    "# val_data = 10      => each tensor has 10 values total\n",
    "# batch_size = 3     => returns 2 tensors, each with 3 values (last batch with 1 values)\n",
    "# [tensor([[0.1987], [0.7722], [0.5248]]),\n",
    "#  tensor([[1.2654], [2.4208], [2.0167]])]\n",
    "# [tensor([[0.1818], [0.1834], [0.7069]]),\n",
    "#  tensor([[1.3734], [1.4637], [2.4388]])]\n",
    "# [tensor([[0.8155], [0.0977], [0.1079]]),\n",
    "#  tensor([[2.6606], [1.4417], [1.2985]])]\n",
    "# [tensor([[0.5201]]), tensor([[1.9000]])]\n",
    "\n",
    "train_loader = DataLoader(dataset=train_data, batch_size=16)\n",
    "val_loader = DataLoader(dataset=val_data, batch_size=16)"
   ]
  },
  {
   "cell_type": "code",
   "execution_count": null,
   "metadata": {},
   "outputs": [],
   "source": [
    "for j, batch in enumerate(val_loader):\n",
    "  print(f'batch: {j}')  \n",
    "  for i, tensor in enumerate(batch):\n",
    "    print(f'tensor: {i}, tensor.shape: {tensor.shape}')"
   ]
  },
  {
   "cell_type": "code",
   "execution_count": null,
   "metadata": {},
   "outputs": [],
   "source": [
    "for item in val_loader:\n",
    "  print(f'{item}\\n')  "
   ]
  },
  {
   "cell_type": "code",
   "execution_count": null,
   "metadata": {},
   "outputs": [],
   "source": [
    "# Create a tensor with shape (4, 3, 2) and all elements set to 0\n",
    "tensor = torch.zeros((4, 3, 2))\n",
    "# Print the tensor\n",
    "print(tensor.shape)\n",
    "# (4,3,2) tenssor: 4 x 3 matrix, each cell with 2 values\n",
    "# [[[0., 0.], [0., 0.], [0., 0.]],\n",
    "#  [[0., 0.], [0., 0.], [0., 0.]],\n",
    "#  [[0., 0.], [0., 0.], [0., 0.]],\n",
    "#  [[0., 0.], [0., 0.], [0., 0.]]]"
   ]
  },
  {
   "cell_type": "code",
   "execution_count": null,
   "metadata": {},
   "outputs": [],
   "source": [
    "# Evaluate the model\n",
    "losses = []\n",
    "val_losses = []\n",
    "train_step = make_train_step(model, loss_fn, optimizer)\n",
    "\n",
    "\n",
    "for epoch in range(n_epochs):\n",
    "  for x_batch, y_batch in train_loader:\n",
    "    x_batch = x_batch.to(device)\n",
    "    y_batch = y_batch.to(device)\n",
    "\n",
    "    loss = train_step(x_batch, y_batch)\n",
    "    losses.append(loss)\n",
    "\n",
    "  with torch.no_grad():\n",
    "    for x_val, y_val in val_loader:\n",
    "      x_val = x_val.to(device)\n",
    "      y_val = y_val.to(device)\n",
    "\n",
    "      model.eval()\n",
    "\n",
    "      yhat = model(x_val)\n",
    "      val_loss = loss_fn(y_val, yhat)\n",
    "      val_losses.append(val_loss)\n",
    "\n",
    "# Check model's parameters\n",
    "print(f'model.state_dict():\\n{model.state_dict()}')"
   ]
  },
  {
   "cell_type": "code",
   "execution_count": null,
   "metadata": {},
   "outputs": [],
   "source": [
    "print(f'len(train_data): {len(train_data)}')\n",
    "print(f'len(train_loader): {len(train_loader)}')\n",
    "print(f'n_epochs: {n_epochs}')\n",
    "print(f'len(losses): {len(losses)}')\n",
    "print(f'len(val_losses): {len(val_losses)}')"
   ]
  },
  {
   "cell_type": "code",
   "execution_count": null,
   "metadata": {},
   "outputs": [],
   "source": [
    "for i, items in enumerate(train_loader):\n",
    "  print(f'i: {i}  len(items): {len(items)}')\n",
    "  for j, item in enumerate(items):\n",
    "    print(f'j: {j}  len(item): {len(item)}')\n",
    "  print('===')  "
   ]
  }
 ],
 "metadata": {
  "kernelspec": {
   "display_name": ".venv",
   "language": "python",
   "name": "python3"
  },
  "language_info": {
   "codemirror_mode": {
    "name": "ipython",
    "version": 3
   },
   "file_extension": ".py",
   "mimetype": "text/x-python",
   "name": "python",
   "nbconvert_exporter": "python",
   "pygments_lexer": "ipython3",
   "version": "3.8.10"
  },
  "orig_nbformat": 4
 },
 "nbformat": 4,
 "nbformat_minor": 2
}
