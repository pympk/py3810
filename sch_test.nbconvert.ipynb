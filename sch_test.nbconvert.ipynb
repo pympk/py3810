{
 "cells": [
  {
   "cell_type": "code",
   "execution_count": 1,
   "metadata": {
    "execution": {
     "iopub.execute_input": "2023-04-05T00:00:08.174265Z",
     "iopub.status.busy": "2023-04-05T00:00:08.174265Z",
     "iopub.status.idle": "2023-04-05T00:00:08.212265Z",
     "shell.execute_reply": "2023-04-05T00:00:08.211266Z"
    }
   },
   "outputs": [
    {
     "name": "stdout",
     "output_type": "stream",
     "text": [
      "2023-04-04 17:00:08\n"
     ]
    }
   ],
   "source": [
    "import os\n",
    "import datetime\n",
    "\n",
    "filename = \"_scheduled_task.txt\"\n",
    "filepath = os.path.join(os.path.join(os.environ['USERPROFILE']), 'Desktop', filename)\n",
    "\n",
    "current_datetime = datetime.datetime.now()\n",
    "date_string = current_datetime.strftime(\"%Y-%m-%d %H:%M:%S\")\n",
    "\n",
    "print(date_string)\n",
    "with open(filepath, \"w\") as f:\n",
    "    f.write(date_string)"
   ]
  }
 ],
 "metadata": {
  "kernelspec": {
   "display_name": ".venv",
   "language": "python",
   "name": "python3"
  },
  "language_info": {
   "codemirror_mode": {
    "name": "ipython",
    "version": 3
   },
   "file_extension": ".py",
   "mimetype": "text/x-python",
   "name": "python",
   "nbconvert_exporter": "python",
   "pygments_lexer": "ipython3",
   "version": "3.8.10"
  }
 },
 "nbformat": 4,
 "nbformat_minor": 2
}
